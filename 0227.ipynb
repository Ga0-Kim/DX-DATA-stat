{
 "cells": [
  {
   "cell_type": "code",
   "execution_count": 1,
   "id": "b9a1b4e7",
   "metadata": {},
   "outputs": [],
   "source": [
    "import numpy as np\n",
    "import pandas as pd\n",
    "import seaborn as sns\n",
    "# 통계량 계산이나 기본적인 데이터분석을 위한 패키지\n",
    "import scipy as sp\n",
    "import scipy.stats\n",
    "\n",
    "#시각화 패키지\n",
    "import matplotlib.pyplot as plt\n",
    "\n",
    "#시각화에서 한글을 사용하기 위한 설정\n",
    "import platform\n",
    "from matplotlib import font_manager, rc\n",
    "\n",
    "if platform.system() == 'Darwin':\n",
    "    rc('font', family='AppleGothic')\n",
    "    \n",
    "#윈도우의 경우\n",
    "elif platform.system() == 'Windows':\n",
    "    font_name = font_manager.FontProperties(fname=\"c:/Windows/Fonts/malgun.ttf\").get_name()\n",
    "    rc('font', family=font_name)\n",
    "\n",
    "#시각화에서 음수를 표현하기 위한 설정\n",
    "import matplotlib\n",
    "\n",
    "matplotlib.rcParams['axes.unicode_minus'] = False \n",
    "\n",
    "# Jupyter Notebook의 출력을 소수점 이하 3자리로 제한 \n",
    "%precision 3\n",
    "\n",
    "# precision은 소수점은 과학적 표기법으로 변환할 자릿수를 설정\n",
    "# 아래와 같이 하면 소수점 셋째 자리 밑으로는 과학적 표기법으로 표시\n",
    "pd.options.display.precision = 3\n",
    "\n",
    "# 경고창 지우기\n",
    "import warnings\n",
    "warnings.filterwarnings('ignore')"
   ]
  },
  {
   "cell_type": "markdown",
   "id": "b1814217",
   "metadata": {},
   "source": [
    "## 추론"
   ]
  },
  {
   "cell_type": "markdown",
   "id": "8c4bffad",
   "metadata": {},
   "source": [
    "###  카이제곱검정"
   ]
  },
  {
   "cell_type": "code",
   "execution_count": 2,
   "id": "671a8b11",
   "metadata": {},
   "outputs": [
    {
     "name": "stdout",
     "output_type": "stream",
     "text": [
      "Help on function chi2_contingency in module scipy.stats.contingency:\n",
      "\n",
      "chi2_contingency(observed, correction=True, lambda_=None)\n",
      "    Chi-square test of independence of variables in a contingency table.\n",
      "    \n",
      "    This function computes the chi-square statistic and p-value for the\n",
      "    hypothesis test of independence of the observed frequencies in the\n",
      "    contingency table [1]_ `observed`.  The expected frequencies are computed\n",
      "    based on the marginal sums under the assumption of independence; see\n",
      "    `scipy.stats.contingency.expected_freq`.  The number of degrees of\n",
      "    freedom is (expressed using numpy functions and attributes)::\n",
      "    \n",
      "        dof = observed.size - sum(observed.shape) + observed.ndim - 1\n",
      "    \n",
      "    \n",
      "    Parameters\n",
      "    ----------\n",
      "    observed : array_like\n",
      "        The contingency table. The table contains the observed frequencies\n",
      "        (i.e. number of occurrences) in each category.  In the two-dimensional\n",
      "        case, the table is often described as an \"R x C table\".\n",
      "    correction : bool, optional\n",
      "        If True, *and* the degrees of freedom is 1, apply Yates' correction\n",
      "        for continuity.  The effect of the correction is to adjust each\n",
      "        observed value by 0.5 towards the corresponding expected value.\n",
      "    lambda_ : float or str, optional\n",
      "        By default, the statistic computed in this test is Pearson's\n",
      "        chi-squared statistic [2]_.  `lambda_` allows a statistic from the\n",
      "        Cressie-Read power divergence family [3]_ to be used instead.  See\n",
      "        `scipy.stats.power_divergence` for details.\n",
      "    \n",
      "    Returns\n",
      "    -------\n",
      "    res : Chi2ContingencyResult\n",
      "        An object containing attributes:\n",
      "    \n",
      "        statistic : float\n",
      "            The test statistic.\n",
      "        pvalue : float\n",
      "            The p-value of the test.\n",
      "        dof : int\n",
      "            The degrees of freedom.\n",
      "        expected_freq : ndarray, same shape as `observed`\n",
      "            The expected frequencies, based on the marginal sums of the table.\n",
      "    \n",
      "    See Also\n",
      "    --------\n",
      "    scipy.stats.contingency.expected_freq\n",
      "    scipy.stats.fisher_exact\n",
      "    scipy.stats.chisquare\n",
      "    scipy.stats.power_divergence\n",
      "    scipy.stats.barnard_exact\n",
      "    scipy.stats.boschloo_exact\n",
      "    \n",
      "    Notes\n",
      "    -----\n",
      "    An often quoted guideline for the validity of this calculation is that\n",
      "    the test should be used only if the observed and expected frequencies\n",
      "    in each cell are at least 5.\n",
      "    \n",
      "    This is a test for the independence of different categories of a\n",
      "    population. The test is only meaningful when the dimension of\n",
      "    `observed` is two or more.  Applying the test to a one-dimensional\n",
      "    table will always result in `expected` equal to `observed` and a\n",
      "    chi-square statistic equal to 0.\n",
      "    \n",
      "    This function does not handle masked arrays, because the calculation\n",
      "    does not make sense with missing values.\n",
      "    \n",
      "    Like `scipy.stats.chisquare`, this function computes a chi-square\n",
      "    statistic; the convenience this function provides is to figure out the\n",
      "    expected frequencies and degrees of freedom from the given contingency\n",
      "    table. If these were already known, and if the Yates' correction was not\n",
      "    required, one could use `scipy.stats.chisquare`.  That is, if one calls::\n",
      "    \n",
      "        res = chi2_contingency(obs, correction=False)\n",
      "    \n",
      "    then the following is true::\n",
      "    \n",
      "        (res.statistic, res.pvalue) == stats.chisquare(obs.ravel(),\n",
      "                                                       f_exp=ex.ravel(),\n",
      "                                                       ddof=obs.size - 1 - dof)\n",
      "    \n",
      "    The `lambda_` argument was added in version 0.13.0 of scipy.\n",
      "    \n",
      "    References\n",
      "    ----------\n",
      "    .. [1] \"Contingency table\",\n",
      "           https://en.wikipedia.org/wiki/Contingency_table\n",
      "    .. [2] \"Pearson's chi-squared test\",\n",
      "           https://en.wikipedia.org/wiki/Pearson%27s_chi-squared_test\n",
      "    .. [3] Cressie, N. and Read, T. R. C., \"Multinomial Goodness-of-Fit\n",
      "           Tests\", J. Royal Stat. Soc. Series B, Vol. 46, No. 3 (1984),\n",
      "           pp. 440-464.\n",
      "    .. [4] Berger, Jeffrey S. et al. \"Aspirin for the Primary Prevention of\n",
      "           Cardiovascular Events in Women and Men: A Sex-Specific\n",
      "           Meta-analysis of Randomized Controlled Trials.\"\n",
      "           JAMA, 295(3):306-313, :doi:`10.1001/jama.295.3.306`, 2006.\n",
      "    \n",
      "    Examples\n",
      "    --------\n",
      "    In [4]_, the use of aspirin to prevent cardiovascular events in women\n",
      "    and men was investigated. The study notably concluded:\n",
      "    \n",
      "        ...aspirin therapy reduced the risk of a composite of\n",
      "        cardiovascular events due to its effect on reducing the risk of\n",
      "        ischemic stroke in women [...]\n",
      "    \n",
      "    The article lists studies of various cardiovascular events. Let's\n",
      "    focus on the ischemic stoke in women.\n",
      "    \n",
      "    The following table summarizes the results of the experiment in which\n",
      "    participants took aspirin or a placebo on a regular basis for several\n",
      "    years. Cases of ischemic stroke were recorded::\n",
      "    \n",
      "                          Aspirin   Control/Placebo\n",
      "        Ischemic stroke     176           230\n",
      "        No stroke         21035         21018\n",
      "    \n",
      "    Is there evidence that the aspirin reduces the risk of ischemic stroke?\n",
      "    We begin by formulating a null hypothesis :math:`H_0`:\n",
      "    \n",
      "        The effect of aspirin is equivalent to that of placebo.\n",
      "    \n",
      "    Let's assess the plausibility of this hypothesis with\n",
      "    a chi-square test.\n",
      "    \n",
      "    >>> import numpy as np\n",
      "    >>> from scipy.stats import chi2_contingency\n",
      "    >>> table = np.array([[176, 230], [21035, 21018]])\n",
      "    >>> res = chi2_contingency(table)\n",
      "    >>> res.statistic\n",
      "    6.892569132546561\n",
      "    >>> res.pvalue\n",
      "    0.008655478161175739\n",
      "    \n",
      "    Using a significance level of 5%, we would reject the null hypothesis in\n",
      "    favor of the alternative hypothesis: \"the effect of aspirin\n",
      "    is not equivalent to the effect of placebo\".\n",
      "    Because `scipy.stats.contingency.chi2_contingency` performs a two-sided\n",
      "    test, the alternative hypothesis does not indicate the direction of the\n",
      "    effect. We can use `stats.contingency.odds_ratio` to support the\n",
      "    conclusion that aspirin *reduces* the risk of ischemic stroke.\n",
      "    \n",
      "    Below are further examples showing how larger contingency tables can be\n",
      "    tested.\n",
      "    \n",
      "    A two-way example (2 x 3):\n",
      "    \n",
      "    >>> obs = np.array([[10, 10, 20], [20, 20, 20]])\n",
      "    >>> res = chi2_contingency(obs)\n",
      "    >>> res.statistic\n",
      "    2.7777777777777777\n",
      "    >>> res.pvalue\n",
      "    0.24935220877729619\n",
      "    >>> res.dof\n",
      "    2\n",
      "    >>> res.expected_freq\n",
      "    array([[ 12.,  12.,  16.],\n",
      "           [ 18.,  18.,  24.]])\n",
      "    \n",
      "    Perform the test using the log-likelihood ratio (i.e. the \"G-test\")\n",
      "    instead of Pearson's chi-squared statistic.\n",
      "    \n",
      "    >>> res = chi2_contingency(obs, lambda_=\"log-likelihood\")\n",
      "    >>> res.statistic\n",
      "    2.7688587616781319\n",
      "    >>> res.pvalue\n",
      "    0.25046668010954165\n",
      "    \n",
      "    A four-way example (2 x 2 x 2 x 2):\n",
      "    \n",
      "    >>> obs = np.array(\n",
      "    ...     [[[[12, 17],\n",
      "    ...        [11, 16]],\n",
      "    ...       [[11, 12],\n",
      "    ...        [15, 16]]],\n",
      "    ...      [[[23, 15],\n",
      "    ...        [30, 22]],\n",
      "    ...       [[14, 17],\n",
      "    ...        [15, 16]]]])\n",
      "    >>> res = chi2_contingency(obs)\n",
      "    >>> res.statistic\n",
      "    8.7584514426741897\n",
      "    >>> res.pvalue\n",
      "    0.64417725029295503\n",
      "\n"
     ]
    }
   ],
   "source": [
    "# help(sp.stats.chi2_contingency)"
   ]
  },
  {
   "cell_type": "markdown",
   "id": "bfbda7b2",
   "metadata": {},
   "source": [
    "### 웹 전환률 차이에 대한 카이 제곱 검정 - 유의 수준을 5%으로 결정"
   ]
  },
  {
   "cell_type": "code",
   "execution_count": 12,
   "id": "959cf918",
   "metadata": {},
   "outputs": [
    {
     "name": "stdout",
     "output_type": "stream",
     "text": [
      "귀무 가설을 기각할 수 없음 - 전환율의 차이가 없음\n"
     ]
    }
   ],
   "source": [
    "# 데이터 가져오기\n",
    "click_rate = pd.read_csv('python_statistics/data/click_rates.csv')\n",
    "# print(click_rate)\n",
    "clicks = click_rate.pivot(index = \"Click\", columns = 'Headline',\n",
    "                          values = 'Rate')\n",
    "# print(clicks)\n",
    "# 전환율을 검정할 때는 각 컬럼의 이름은 페이지가 되고\n",
    "# 첫 행이 클릭한 수가 되고 두 번째 행이 클릭하지 않은 수가 됩니다.\n",
    "# 무료 유튜브 유저 같은 경우는 광고를 선택할 권한이 없기 때문에\n",
    "# 직접 전환율 측정이 안되서 광고 후 설문 조사를 합니다.\n",
    "\n",
    "result = sp.stats.chi2_contingency(clicks)\n",
    "# print(result)\n",
    "# print(result.pvalue)\n",
    "\n",
    "if result.pvalue > 0.05 :\n",
    "    print('귀무 가설을 기각할 수 없음 - 전환율의 차이가 없음')\n",
    "    \n",
    "else :\n",
    "    print('귀무 가설을 기각할 수 있음 - 전환율의 차이가 있음')"
   ]
  },
  {
   "cell_type": "markdown",
   "id": "d216d15d",
   "metadata": {},
   "source": [
    "### 일원 카이 제곱 검정"
   ]
  },
  {
   "cell_type": "code",
   "execution_count": 16,
   "id": "004c0e3e",
   "metadata": {},
   "outputs": [
    {
     "name": "stdout",
     "output_type": "stream",
     "text": [
      "0.00039991784008227264\n",
      "Reject H0 - there is difference between preference\n"
     ]
    }
   ],
   "source": [
    "data = np.array([41, 30, 51, 71, 61])\n",
    "result = sp.stats.chisquare(data)\n",
    "print(result.pvalue)\n",
    "\n",
    "if result.pvalue > 0.01 :\n",
    "    print(\"Can not reject H0 - there is no difference between preference\")\n",
    "else :\n",
    "    print(\"Reject H0 - there is difference between preference\")"
   ]
  },
  {
   "cell_type": "markdown",
   "id": "f0d1e8b1",
   "metadata": {},
   "source": [
    "### 이원 카이 제곱 검정"
   ]
  },
  {
   "cell_type": "code",
   "execution_count": 17,
   "id": "7a9d6d95",
   "metadata": {},
   "outputs": [
    {
     "name": "stdout",
     "output_type": "stream",
     "text": [
      "Chi2ContingencyResult(statistic=0.0, pvalue=1.0, dof=1, expected_freq=array([[2., 3.],\n",
      "       [4., 6.]]))\n"
     ]
    }
   ],
   "source": [
    "# H_0 : 독립적이다\n",
    "\n",
    "objs = np.array([np.array([2, 3]), np.array([4, 6])])\n",
    "result = sp.stats.chi2_contingency(objs)\n",
    "print(result)"
   ]
  },
  {
   "cell_type": "markdown",
   "id": "6b5b7f33",
   "metadata": {},
   "source": [
    "## Z 검정"
   ]
  },
  {
   "cell_type": "markdown",
   "id": "3b7de75b",
   "metadata": {},
   "source": [
    "### 단일 표본 Z 검정"
   ]
  },
  {
   "cell_type": "code",
   "execution_count": 49,
   "id": "135c244d",
   "metadata": {},
   "outputs": [
    {
     "name": "stdout",
     "output_type": "stream",
     "text": [
      "(-0.04289365478932552, 0.9657863068417173)\n"
     ]
    }
   ],
   "source": [
    "# 실제로는 거의 수행하지 않아서 API는 없고 직접 구현해야함\n",
    "\n",
    "# 샘플 데이터 추출\n",
    "N = 1000\n",
    "mu_0 = 0\n",
    "np.random.seed(123710564)\n",
    "\n",
    "# X~(0, 1) 10개 추출\n",
    "x = sp.stats.norm(mu_0).rvs(N)\n",
    "# print(x)\n",
    "\n",
    "# z 통계량과 유의 확률을 리턴해주는 함수 구현\n",
    "\n",
    "def ztest_1samp(x, sigma2 =1, mu =0) :\n",
    "    z = (x.mean()- mu) / np.sqrt(sigma2/len(x))\n",
    "    return z , 2 * sp.stats.norm().sf(np.abs(z))\n",
    "\n",
    "result = ztest_1samp(x)\n",
    "print(result)\n"
   ]
  },
  {
   "cell_type": "markdown",
   "id": "fa26f666",
   "metadata": {},
   "source": [
    "## 비율 검정"
   ]
  },
  {
   "cell_type": "code",
   "execution_count": 28,
   "id": "314d0e70",
   "metadata": {},
   "outputs": [
    {
     "name": "stdout",
     "output_type": "stream",
     "text": [
      "(6.80413817439772, 1.0165593635824276e-11)\n"
     ]
    }
   ],
   "source": [
    "from statsmodels.stats.proportion import proportions_ztest\n",
    "\n",
    "r = proportions_ztest(count = 135, nobs = 150, value = 110/150)\n",
    "print(r)"
   ]
  },
  {
   "cell_type": "markdown",
   "id": "3dc73cc6",
   "metadata": {},
   "source": [
    "## 정규성 검정"
   ]
  },
  {
   "cell_type": "code",
   "execution_count": 53,
   "id": "2024f245",
   "metadata": {},
   "outputs": [
    {
     "name": "stdout",
     "output_type": "stream",
     "text": [
      "ShapiroResult(statistic=0.9981880187988281, pvalue=0.37048768997192383)\n",
      "KstestResult(statistic=0.041, pvalue=0.37012017606173, statistic_location=-0.943562770960075, statistic_sign=1)\n"
     ]
    }
   ],
   "source": [
    "np.random.seed(1014)\n",
    "\n",
    "N1 = 1000\n",
    "x1 = sp.stats.norm(0, 1).rvs(N1)\n",
    "# 정규분포를 따르는지 확인\n",
    "print(sp.stats.shapiro(x1))\n",
    "\n",
    "x2 = sp.stats.norm(0, 1).rvs(N1)\n",
    "# 2개의 분포가 같은지 확인\n",
    "print(sp.stats.ks_2samp(x1, x2))"
   ]
  },
  {
   "cell_type": "markdown",
   "id": "d1d76099",
   "metadata": {},
   "source": [
    "## 머신러닝을 위한 numpy기본"
   ]
  },
  {
   "cell_type": "markdown",
   "id": "0b852b12",
   "metadata": {},
   "source": [
    "### 데이터 유형"
   ]
  },
  {
   "cell_type": "code",
   "execution_count": 55,
   "id": "1acb71a3",
   "metadata": {},
   "outputs": [
    {
     "name": "stdout",
     "output_type": "stream",
     "text": [
      "(150, 4)\n",
      "[5.1 3.5 1.4 0.2]\n"
     ]
    }
   ],
   "source": [
    "from sklearn.datasets import load_iris\n",
    "\n",
    "iris = load_iris()\n",
    "\n",
    "# 이차원 배열이라서  iris.data 는 Matrix\n",
    "print(iris.data.shape)\n",
    "# 첫 번째 행의 붓꽃 데이터 - 배열이므로 Vector\n",
    "print(iris.data[0, :])"
   ]
  },
  {
   "cell_type": "code",
   "execution_count": 56,
   "id": "c8f46c13",
   "metadata": {},
   "outputs": [
    {
     "name": "stdout",
     "output_type": "stream",
     "text": [
      "(768, 1024, 3)\n"
     ]
    }
   ],
   "source": [
    "# 컬러 이미지 배열이 Tensor\n",
    "from scipy import misc\n",
    "img_rgb = misc.face()\n",
    "print(img_rgb.shape) # 차원이 3개 - Tensor"
   ]
  },
  {
   "cell_type": "code",
   "execution_count": 72,
   "id": "6d4bae8a",
   "metadata": {},
   "outputs": [
    {
     "name": "stdout",
     "output_type": "stream",
     "text": [
      "(150, 4)\n",
      "(150, 4, 1)\n",
      "(600,)\n"
     ]
    }
   ],
   "source": [
    "# 2차원을 3차원으로 늘리기\n",
    "iris = load_iris()\n",
    "print(iris.data.shape) # 현재 2차원\n",
    "# 3번째 값으로 -1 또는 1을 넣어도 됌\n",
    "# -1은 음수가 아니라 남은 부분을 다 배정..?\n",
    "print(iris.data.reshape(iris.data.shape[0], iris.data.shape[1], -1).shape)\n",
    "\n",
    "# 1차원으로 만들 때는 flatten이라는 메서드를 이용해도 되고reshape를 이용해도 가능\n",
    "print(iris.data.reshape(iris.data.shape[0], iris.data.shape[1], -1).flatten().shape)"
   ]
  },
  {
   "cell_type": "code",
   "execution_count": 71,
   "id": "0c27bc10",
   "metadata": {},
   "outputs": [
    {
     "name": "stdout",
     "output_type": "stream",
     "text": [
      "[[1 2 3]\n",
      " [4 5 6]]\n",
      "[[1 4]\n",
      " [2 5]\n",
      " [3 6]]\n",
      "[[ 1  5  6  7]\n",
      " [ 5  2  8  9]\n",
      " [ 6  8  3  4]\n",
      " [ 7  9 10  4]]\n",
      "[[ 1  5  6  7]\n",
      " [ 5  2  8  9]\n",
      " [ 6  8  3 10]\n",
      " [ 7  9  4  4]]\n"
     ]
    }
   ],
   "source": [
    "ar = np.array([[1, 2, 3],[4, 5, 6]])\n",
    "print(ar)\n",
    "print(ar.T)\n",
    "\n",
    "# 대칭 행렬 - 전치를 해도 동일한 모양이 나오는 행렬\n",
    "# 정방 행렬 - 행과 열의 개수가 같은 행렬\n",
    "# 대칭 행렬은 정방 행렬에서만 가능\n",
    "br = np.array([[1, 5, 6, 7], [5, 2, 8, 9], [6, 8, 3, 4],[7, 9, 10, 4]])\n",
    "print(br)\n",
    "print(br.T)"
   ]
  },
  {
   "cell_type": "markdown",
   "id": "472ec598",
   "metadata": {},
   "source": [
    "## 벡터 사이의 산술 연산"
   ]
  },
  {
   "cell_type": "code",
   "execution_count": 74,
   "id": "3eb3894f",
   "metadata": {},
   "outputs": [
    {
     "name": "stdout",
     "output_type": "stream",
     "text": [
      "[5 7 9]\n"
     ]
    },
    {
     "ename": "ValueError",
     "evalue": "operands could not be broadcast together with shapes (3,) (4,) ",
     "output_type": "error",
     "traceback": [
      "\u001b[1;31m---------------------------------------------------------------------------\u001b[0m",
      "\u001b[1;31mValueError\u001b[0m                                Traceback (most recent call last)",
      "Cell \u001b[1;32mIn[74], line 7\u001b[0m\n\u001b[0;32m      5\u001b[0m \u001b[38;5;28mprint\u001b[39m(ar \u001b[38;5;241m+\u001b[39m br)\n\u001b[0;32m      6\u001b[0m \u001b[38;5;66;03m# 벡터의 차원이 1차원이므로 동일하지만 원소의 개수가 3개 와 4개로 달라서 에러\u001b[39;00m\n\u001b[1;32m----> 7\u001b[0m \u001b[38;5;28mprint\u001b[39m(ar \u001b[38;5;241m+\u001b[39m cr)\n",
      "\u001b[1;31mValueError\u001b[0m: operands could not be broadcast together with shapes (3,) (4,) "
     ]
    }
   ],
   "source": [
    "ar = np.array([1, 2, 3])\n",
    "br = np.array([4, 5, 6])\n",
    "cr = np.array([7, 8, 9, 10])\n",
    "\n",
    "print(ar + br)\n",
    "# 벡터의 차원이 1차원이므로 동일하지만 원소의 개수가 3개 와 4개로 달라서 에러\n",
    "# print(ar + cr)"
   ]
  },
  {
   "cell_type": "code",
   "execution_count": 75,
   "id": "90c370ab",
   "metadata": {},
   "outputs": [
    {
     "name": "stdout",
     "output_type": "stream",
     "text": [
      "[11 12 13]\n"
     ]
    }
   ],
   "source": [
    "x = 10 \n",
    "# 이 연산은 x를 ar의 차원으로 복제를 해서 수행\n",
    "# [1, 2, 3] + [10, 10, 10]\n",
    "\n",
    "print(ar + x)"
   ]
  },
  {
   "cell_type": "markdown",
   "id": "f09b3459",
   "metadata": {},
   "source": [
    "### 선형 가중 결합"
   ]
  },
  {
   "cell_type": "code",
   "execution_count": 77,
   "id": "17fecaa7",
   "metadata": {},
   "outputs": [
    {
     "name": "stdout",
     "output_type": "stream",
     "text": [
      "[-9. -7.]\n"
     ]
    }
   ],
   "source": [
    "l1 = 1\n",
    "l2 = 2\n",
    "l3 = -3\n",
    "\n",
    "v1 = np.array([4.5, 1])\n",
    "v2 = np.array([-4.5, -1])\n",
    "v3 = np.array([1.5, 2])\n",
    "\n",
    "print(l1 * v1 + l2 * v2 + l3 * v3)"
   ]
  },
  {
   "cell_type": "markdown",
   "id": "aa4b8720",
   "metadata": {},
   "source": [
    "### 벡터의 내적"
   ]
  },
  {
   "cell_type": "code",
   "execution_count": 81,
   "id": "1d8f388c",
   "metadata": {},
   "outputs": [
    {
     "name": "stdout",
     "output_type": "stream",
     "text": [
      "32\n",
      "32\n",
      "[[32]]\n",
      "[[32]]\n"
     ]
    }
   ],
   "source": [
    "# 일차원 벡터의 내적\n",
    "x = np.array([1, 2, 3])\n",
    "y = np.array([4, 5, 6])\n",
    "\n",
    "# 내적 구하기 - 일차원 벡터의 경우는 데이터의 개수만 같으면 알아서 수행\n",
    "print(np.dot(x, y))\n",
    "print(x @ y)\n",
    "\n",
    "# 이 경우는 이차원 배열이라서 첫번째 데이터의 개수와 두번째 데이터의 행의 개수가 \n",
    "# 맞아야만 수행이 됩니다.\n",
    "x = np.array([[1], [2], [3]])\n",
    "y = np.array([[4], [5], [6]])\n",
    "\n",
    "print(np.dot(x.T, y))\n",
    "print(x.T @ y)"
   ]
  },
  {
   "cell_type": "markdown",
   "id": "68f8b7d7",
   "metadata": {},
   "source": [
    "### 이미지 유사도 출력"
   ]
  },
  {
   "cell_type": "code",
   "execution_count": 86,
   "id": "8174802d",
   "metadata": {},
   "outputs": [
    {
     "data": {
      "image/png": "[encoded data removed]",
      "text/plain": [
       "<Figure size 900x900 with 4 Axes>"
      ]
     },
     "metadata": {},
     "output_type": "display_data"
    }
   ],
   "source": [
    "# 이미지 가져오기\n",
    "from sklearn.datasets import load_digits\n",
    "import matplotlib.gridspec as gridspec\n",
    "\n",
    "digits = load_digits()\n",
    "# print(digits)\n",
    "\n",
    "# 0번 이미지 가져오기\n",
    "d1 = digits.images[0]\n",
    "d2 = digits.images[10]\n",
    "\n",
    "# 1번 이미지 가져오기\n",
    "d3 = digits.images[1]\n",
    "d4 = digits.images[11]\n",
    "\n",
    "# 유사도 계산을 위해서 이미지의 shape를 조정\n",
    "v1 = d1.reshape(64, 1)\n",
    "v2 = d2.reshape(64, 1)\n",
    "v3 = d3.reshape(64, 1)\n",
    "v4 = d4.reshape(64, 1)\n",
    "\n",
    "# 이미지를 출력\n",
    "plt.figure(figsize = (9, 9))\n",
    "\n",
    "# 이미지를 동일한 크기로 출력하기 위해서 영역을 설정\n",
    "gs = gridspec.GridSpec(1, 4, height_ratios = [1], width_ratios=[9, 9, 9, 9])\n",
    "\n",
    "for i in range(4) :\n",
    "    plt.subplot(gs[i])\n",
    "    plt.imshow(eval('d'+str(i+1)), aspect = 1,\n",
    "              cmap = plt.cm.bone_r, interpolation = 'nearest')\n",
    "    plt.grid(False)\n",
    "    plt.title('image {}'.format(i+1))\n",
    "    \n",
    "plt.show()"
   ]
  },
  {
   "cell_type": "code",
   "execution_count": null,
   "id": "42a0eddb",
   "metadata": {},
   "outputs": [],
   "source": [
    "# 코사인 유사도 계산\n",
    "\n",
    "# 동일한 이미지\n",
    "print(v1.T @ v2)\n",
    "print(v3.T @ v4)\n",
    "\n",
    "# 다른 이미지\n",
    "print(v1.T @ v3)\n",
    "print(v2.T @ v4)\n",
    "# 드라마틱하게 크지는 않네..? ㅎㅎ"
   ]
  },
  {
   "cell_type": "markdown",
   "id": "9c386d9b",
   "metadata": {},
   "source": [
    "## 머신러닝 프로젝트"
   ]
  },
  {
   "cell_type": "markdown",
   "id": "c542dcf2",
   "metadata": {},
   "source": [
    "### 데이터 표현 방식"
   ]
  },
  {
   "cell_type": "code",
   "execution_count": 97,
   "id": "2951199d",
   "metadata": {},
   "outputs": [],
   "source": [
    "# 데이터 가져오기\n",
    "import seaborn as sns\n",
    "iris = sns.load_dataset('iris')\n",
    "# iris.head()\n",
    "\n",
    "# 이 데이터는 sepal_length, sepal_width, petal_length, petal_width 를 가지고\n",
    "# species 를 분류하기 위한 데이터\n",
    "# species는 타겟 데이터이고 나머지 데이터는 특징 행렬\n",
    "\n",
    "X_iris = iris.drop(\"species\", axis=1)\n",
    "y_iris = iris['species']"
   ]
  },
  {
   "cell_type": "markdown",
   "id": "6a868268",
   "metadata": {},
   "source": [
    "### Sklearn 의 추정기 사용"
   ]
  },
  {
   "cell_type": "code",
   "execution_count": 104,
   "id": "d6e3b173",
   "metadata": {},
   "outputs": [
    {
     "name": "stdout",
     "output_type": "stream",
     "text": [
      "(50,)\n",
      "(50, 1)\n",
      "LinearRegression()\n",
      "회귀 계수 : [1.978]\n",
      "절편 : -0.9033107255311164\n"
     ]
    },
    {
     "data": {
      "text/plain": [
       "[<matplotlib.lines.Line2D at 0x2a3d5a4af90>]"
      ]
     },
     "execution_count": 104,
     "metadata": {},
     "output_type": "execute_result"
    },
    {
     "data": {
      "image/png": "[encoded data removed]",
      "text/plain": [
       "<Figure size 640x480 with 1 Axes>"
      ]
     },
     "metadata": {},
     "output_type": "display_data"
    }
   ],
   "source": [
    "# 샘플 데이터 생성\n",
    "rng = np.random.RandomState(42)\n",
    "\n",
    "#데이터를 50개 생성\n",
    "x = 10 * rng.rand(50)\n",
    "# 데이터를 이용해서 타겟 데이터를 생성 - rng.randn(50)은 잡음\n",
    "y = 2 * x - 1 + rng.randn(50)\n",
    "\n",
    "# x 데이터를 특징 행렬로 변환\n",
    "print(x.shape) # 1차원 배열 - 특성 배열은 2차원 배열, DataFrame, 희소 행렬\n",
    "X = x.reshape(x.shape[0], -1) # x[:, np.newaxis] 로도 가능\n",
    "print(X.shape) # X 는 특성 배열이 된 것\n",
    "\n",
    "# 추정기 인스턴스를 생성\n",
    "from sklearn.linear_model import LinearRegression\n",
    "model = LinearRegression (fit_intercept = True)\n",
    "print(model)\n",
    "\n",
    "# 기존 데이터를 가지고 훈련\n",
    "model.fit(X, y)\n",
    "\n",
    "# 훈련 결과를 확인 - 스스로 만든 파라미터나 결과에는 _가 붙습니다.\n",
    "# 하이퍼 파라미터에는 _가 붙지 않습니다.\n",
    "print('회귀 계수 :', model.coef_)\n",
    "print('절편 :', model.intercept_)\n",
    "\n",
    "# 회귀는 지도 학습 : predict 함수로 예측\n",
    "xfit = np.linspace(-1, 11)\n",
    "Xfit = xfit[:, np.newaxis]\n",
    "yfit = model.predict(Xfit)\n",
    "\n",
    "# 시각화\n",
    "plt.scatter(x, y)\n",
    "plt.plot(xfit, yfit)\n"
   ]
  },
  {
   "cell_type": "code",
   "execution_count": null,
   "id": "11228347",
   "metadata": {},
   "outputs": [],
   "source": []
  },
  {
   "cell_type": "markdown",
   "id": "b9d2c7cf",
   "metadata": {},
   "source": [
    "## 캘리포니아 주택 데이터셋 이용한 가격 탐지..??"
   ]
  },
  {
   "cell_type": "code",
   "execution_count": 106,
   "id": "0e1ad52d",
   "metadata": {},
   "outputs": [
    {
     "name": "stdout",
     "output_type": "stream",
     "text": [
      "<class 'pandas.core.frame.DataFrame'>\n",
      "RangeIndex: 20640 entries, 0 to 20639\n",
      "Data columns (total 10 columns):\n",
      " #   Column              Non-Null Count  Dtype  \n",
      "---  ------              --------------  -----  \n",
      " 0   longitude           20640 non-null  float64\n",
      " 1   latitude            20640 non-null  float64\n",
      " 2   housing_median_age  20640 non-null  float64\n",
      " 3   total_rooms         20640 non-null  float64\n",
      " 4   total_bedrooms      20433 non-null  float64\n",
      " 5   population          20640 non-null  float64\n",
      " 6   households          20640 non-null  float64\n",
      " 7   median_income       20640 non-null  float64\n",
      " 8   median_house_value  20640 non-null  float64\n",
      " 9   ocean_proximity     20640 non-null  object \n",
      "dtypes: float64(9), object(1)\n",
      "memory usage: 1.6+ MB\n"
     ]
    }
   ],
   "source": [
    "# 데이터 가져오기\n",
    "housing = pd.read_csv('data_ML/housing.csv')\n",
    "# housing.head()\n",
    "housing.info() \n",
    "# total_bedrooms 결측치 존재\n",
    "# ocean_proximity은 자료형이 객체 - 문자열"
   ]
  },
  {
   "cell_type": "code",
   "execution_count": 107,
   "id": "3c693187",
   "metadata": {},
   "outputs": [
    {
     "data": {
      "text/plain": [
       "ocean_proximity\n",
       "<1H OCEAN     9136\n",
       "INLAND        6551\n",
       "NEAR OCEAN    2658\n",
       "NEAR BAY      2290\n",
       "ISLAND           5\n",
       "Name: count, dtype: int64"
      ]
     },
     "execution_count": 107,
     "metadata": {},
     "output_type": "execute_result"
    }
   ],
   "source": [
    "# 문자열 컬럼은 범주형인이 확인 - value_counts이용\n",
    "housing['ocean_proximity'].value_counts()\n",
    "# 5개 종류인 걸로 봐서 범주형"
   ]
  },
  {
   "cell_type": "code",
   "execution_count": 108,
   "id": "74195f46",
   "metadata": {},
   "outputs": [
    {
     "data": {
      "text/html": [
       "<div>\n",
       "<style scoped>\n",
       "    .dataframe tbody tr th:only-of-type {\n",
       "        vertical-align: middle;\n",
       "    }\n",
       "\n",
       "    .dataframe tbody tr th {\n",
       "        vertical-align: top;\n",
       "    }\n",
       "\n",
       "    .dataframe thead th {\n",
       "        text-align: right;\n",
       "    }\n",
       "</style>\n",
       "<table border=\"1\" class=\"dataframe\">\n",
       "  <thead>\n",
       "    <tr style=\"text-align: right;\">\n",
       "      <th></th>\n",
       "      <th>longitude</th>\n",
       "      <th>latitude</th>\n",
       "      <th>housing_median_age</th>\n",
       "      <th>total_rooms</th>\n",
       "      <th>total_bedrooms</th>\n",
       "      <th>population</th>\n",
       "      <th>households</th>\n",
       "      <th>median_income</th>\n",
       "      <th>median_house_value</th>\n",
       "    </tr>\n",
       "  </thead>\n",
       "  <tbody>\n",
       "    <tr>\n",
       "      <th>count</th>\n",
       "      <td>20640.000</td>\n",
       "      <td>20640.000</td>\n",
       "      <td>20640.000</td>\n",
       "      <td>20640.000</td>\n",
       "      <td>20433.000</td>\n",
       "      <td>20640.000</td>\n",
       "      <td>20640.00</td>\n",
       "      <td>20640.000</td>\n",
       "      <td>20640.000</td>\n",
       "    </tr>\n",
       "    <tr>\n",
       "      <th>mean</th>\n",
       "      <td>-119.570</td>\n",
       "      <td>35.632</td>\n",
       "      <td>28.639</td>\n",
       "      <td>2635.763</td>\n",
       "      <td>537.871</td>\n",
       "      <td>1425.477</td>\n",
       "      <td>499.54</td>\n",
       "      <td>3.871</td>\n",
       "      <td>206855.817</td>\n",
       "    </tr>\n",
       "    <tr>\n",
       "      <th>std</th>\n",
       "      <td>2.004</td>\n",
       "      <td>2.136</td>\n",
       "      <td>12.586</td>\n",
       "      <td>2181.615</td>\n",
       "      <td>421.385</td>\n",
       "      <td>1132.462</td>\n",
       "      <td>382.33</td>\n",
       "      <td>1.900</td>\n",
       "      <td>115395.616</td>\n",
       "    </tr>\n",
       "    <tr>\n",
       "      <th>min</th>\n",
       "      <td>-124.350</td>\n",
       "      <td>32.540</td>\n",
       "      <td>1.000</td>\n",
       "      <td>2.000</td>\n",
       "      <td>1.000</td>\n",
       "      <td>3.000</td>\n",
       "      <td>1.00</td>\n",
       "      <td>0.500</td>\n",
       "      <td>14999.000</td>\n",
       "    </tr>\n",
       "    <tr>\n",
       "      <th>25%</th>\n",
       "      <td>-121.800</td>\n",
       "      <td>33.930</td>\n",
       "      <td>18.000</td>\n",
       "      <td>1447.750</td>\n",
       "      <td>296.000</td>\n",
       "      <td>787.000</td>\n",
       "      <td>280.00</td>\n",
       "      <td>2.563</td>\n",
       "      <td>119600.000</td>\n",
       "    </tr>\n",
       "    <tr>\n",
       "      <th>50%</th>\n",
       "      <td>-118.490</td>\n",
       "      <td>34.260</td>\n",
       "      <td>29.000</td>\n",
       "      <td>2127.000</td>\n",
       "      <td>435.000</td>\n",
       "      <td>1166.000</td>\n",
       "      <td>409.00</td>\n",
       "      <td>3.535</td>\n",
       "      <td>179700.000</td>\n",
       "    </tr>\n",
       "    <tr>\n",
       "      <th>75%</th>\n",
       "      <td>-118.010</td>\n",
       "      <td>37.710</td>\n",
       "      <td>37.000</td>\n",
       "      <td>3148.000</td>\n",
       "      <td>647.000</td>\n",
       "      <td>1725.000</td>\n",
       "      <td>605.00</td>\n",
       "      <td>4.743</td>\n",
       "      <td>264725.000</td>\n",
       "    </tr>\n",
       "    <tr>\n",
       "      <th>max</th>\n",
       "      <td>-114.310</td>\n",
       "      <td>41.950</td>\n",
       "      <td>52.000</td>\n",
       "      <td>39320.000</td>\n",
       "      <td>6445.000</td>\n",
       "      <td>35682.000</td>\n",
       "      <td>6082.00</td>\n",
       "      <td>15.000</td>\n",
       "      <td>500001.000</td>\n",
       "    </tr>\n",
       "  </tbody>\n",
       "</table>\n",
       "</div>"
      ],
      "text/plain": [
       "       longitude   latitude  housing_median_age  total_rooms  total_bedrooms  \\\n",
       "count  20640.000  20640.000           20640.000    20640.000       20433.000   \n",
       "mean    -119.570     35.632              28.639     2635.763         537.871   \n",
       "std        2.004      2.136              12.586     2181.615         421.385   \n",
       "min     -124.350     32.540               1.000        2.000           1.000   \n",
       "25%     -121.800     33.930              18.000     1447.750         296.000   \n",
       "50%     -118.490     34.260              29.000     2127.000         435.000   \n",
       "75%     -118.010     37.710              37.000     3148.000         647.000   \n",
       "max     -114.310     41.950              52.000    39320.000        6445.000   \n",
       "\n",
       "       population  households  median_income  median_house_value  \n",
       "count   20640.000    20640.00      20640.000           20640.000  \n",
       "mean     1425.477      499.54          3.871          206855.817  \n",
       "std      1132.462      382.33          1.900          115395.616  \n",
       "min         3.000        1.00          0.500           14999.000  \n",
       "25%       787.000      280.00          2.563          119600.000  \n",
       "50%      1166.000      409.00          3.535          179700.000  \n",
       "75%      1725.000      605.00          4.743          264725.000  \n",
       "max     35682.000     6082.00         15.000          500001.000  "
      ]
     },
     "execution_count": 108,
     "metadata": {},
     "output_type": "execute_result"
    }
   ],
   "source": [
    "# 숫자 데이터의 범위 확인 - describe()을 이용\n",
    "housing.describe()"
   ]
  },
  {
   "cell_type": "code",
   "execution_count": 109,
   "id": "ed4000c1",
   "metadata": {},
   "outputs": [
    {
     "data": {
      "image/png": "[encoded data removed]",
      "text/plain": [
       "<Figure size 2000x1500 with 9 Axes>"
      ]
     },
     "metadata": {},
     "output_type": "display_data"
    }
   ],
   "source": [
    "# 숫자 데이터의 경우는 분포를 확인 -히스토그램 생성\n",
    "housing.hist(bins = 50, figsize = (20, 15))\n",
    "plt.show()\n",
    "\n",
    "# 데이터의 분포가 한쪽으로 몰린 경우에는 데이터 분포를 조금 더 중앙에 많이\n",
    "# 몰리도록 수정을 할 필요가 있음\n",
    "# 로그 변환등을 이용\n",
    "# 좌우로 너무 넓게 펄쳐져있는 경우 극단치를 제거하는 것에 대해 고려\n",
    "# 각 숫자 데이터의 범위를 비교해서 범위 차이가 크면 스케일링 고려"
   ]
  },
  {
   "cell_type": "markdown",
   "id": "ea718551",
   "metadata": {},
   "source": [
    "### 데이터 분리"
   ]
  },
  {
   "cell_type": "code",
   "execution_count": 1,
   "id": "0fdeb5a6",
   "metadata": {},
   "outputs": [
    {
     "ename": "AttributeError",
     "evalue": "module 'sklearn' has no attribute 'model_selection'",
     "output_type": "error",
     "traceback": [
      "\u001b[1;31m---------------------------------------------------------------------------\u001b[0m",
      "\u001b[1;31mAttributeError\u001b[0m                            Traceback (most recent call last)",
      "Cell \u001b[1;32mIn[1], line 2\u001b[0m\n\u001b[0;32m      1\u001b[0m \u001b[38;5;28;01mimport\u001b[39;00m \u001b[38;5;21;01msklearn\u001b[39;00m\n\u001b[1;32m----> 2\u001b[0m help(sklearn\u001b[38;5;241m.\u001b[39mmodel_selection\u001b[38;5;241m.\u001b[39mtrain_test_split)\n",
      "\u001b[1;31mAttributeError\u001b[0m: module 'sklearn' has no attribute 'model_selection'"
     ]
    }
   ],
   "source": [
    "import sklearn\n",
    "help(sklearn.model_selection.train_test_split)\n",
    "# arrays 는데이터의 비율\n",
    "# test_size는 테스트 데이터의 비율\n",
    "# train_size는 훈련 데이터의 비율로 test_size를 설정하면 설정하지 않습니다.\n",
    "# 데이터가 아주 많으면 훈련하는데 시간이 너무 많이 걸릴 수 있어서 설정하기도 합니다.\n",
    "# random_state 는 시드 번호로 설정하느 것을 권장\n",
    "# shuffle 은 데이터를 섞을 지 여부로 random_state 를 설정하면 무의미\n",
    "# stratify 는 층화추출을 하고자 할떄 데이터의 비율"
   ]
  },
  {
   "cell_type": "code",
   "execution_count": 113,
   "id": "3fc1d341",
   "metadata": {},
   "outputs": [
    {
     "name": "stdout",
     "output_type": "stream",
     "text": [
      "(16512, 10)\n",
      "(4128, 10)\n"
     ]
    }
   ],
   "source": [
    "# 8:2로 train, test 분할\n",
    "train_set, test_set = sklearn.model_selection.train_test_split(housing,\n",
    "                                                              test_size = .2,\n",
    "                                                              random_state = 42)\n",
    "# 분할된 데이터의 차원 확인\n",
    "print(train_set.shape)\n",
    "print(test_set.shape)"
   ]
  },
  {
   "cell_type": "code",
   "execution_count": 119,
   "id": "a6b39361",
   "metadata": {},
   "outputs": [],
   "source": [
    "# 타겟과 특성 행렬을 분리\n",
    "X = housing.drop('median_house_value', axis =1)\n",
    "y = housing['median_house_value']\n",
    "\n",
    "result = sklearn.model_selection.train_test_split(X, y, test_size = 0.2, random_state = 42)\n",
    "# print(len(result[0])) # X의 train\n",
    "# print(len(result[1])) # X의 test\n",
    "# print(len(result[2])) # y의 train\n",
    "# print(len(result[3])) # y의 test"
   ]
  },
  {
   "cell_type": "code",
   "execution_count": 122,
   "id": "d82a3078",
   "metadata": {},
   "outputs": [
    {
     "name": "stdout",
     "output_type": "stream",
     "text": [
      "(16512, 9)\n",
      "(4128, 9)\n",
      "(16512,)\n",
      "(4128, 9)\n"
     ]
    }
   ],
   "source": [
    "# 이렇게 받아오쟈\n",
    "X_train, X_test, y_train, y_test = sklearn.model_selection.train_test_split(X, y,\n",
    "                                                                            test_size = 0.2,\n",
    "                                                                            random_state = 42)\n",
    "print(X_train.shape)\n",
    "print(X_test.shape)\n",
    "print(y_train.shape)\n",
    "print(X_test.shape)"
   ]
  },
  {
   "cell_type": "code",
   "execution_count": null,
   "id": "e6952438",
   "metadata": {},
   "outputs": [],
   "source": []
  },
  {
   "cell_type": "code",
   "execution_count": null,
   "id": "b9b7ec7c",
   "metadata": {},
   "outputs": [],
   "source": []
  },
  {
   "cell_type": "code",
   "execution_count": null,
   "id": "bd7f95a5",
   "metadata": {},
   "outputs": [],
   "source": []
  },
  {
   "cell_type": "code",
   "execution_count": null,
   "id": "68655eee",
   "metadata": {},
   "outputs": [],
   "source": []
  },
  {
   "cell_type": "code",
   "execution_count": null,
   "id": "44403fc4",
   "metadata": {},
   "outputs": [],
   "source": []
  },
  {
   "cell_type": "code",
   "execution_count": null,
   "id": "38ff1baf",
   "metadata": {},
   "outputs": [],
   "source": []
  },
  {
   "cell_type": "code",
   "execution_count": null,
   "id": "c3d99430",
   "metadata": {},
   "outputs": [],
   "source": []
  },
  {
   "cell_type": "code",
   "execution_count": null,
   "id": "26d2aaa0",
   "metadata": {},
   "outputs": [],
   "source": []
  },
  {
   "cell_type": "code",
   "execution_count": null,
   "id": "bca4415e",
   "metadata": {},
   "outputs": [],
   "source": []
  },
  {
   "cell_type": "code",
   "execution_count": null,
   "id": "db0aa4c9",
   "metadata": {},
   "outputs": [],
   "source": []
  },
  {
   "cell_type": "code",
   "execution_count": null,
   "id": "d258b1aa",
   "metadata": {},
   "outputs": [],
   "source": []
  },
  {
   "cell_type": "code",
   "execution_count": null,
   "id": "a4d9c480",
   "metadata": {},
   "outputs": [],
   "source": []
  },
  {
   "cell_type": "code",
   "execution_count": null,
   "id": "3daffa89",
   "metadata": {},
   "outputs": [],
   "source": []
  },
  {
   "cell_type": "code",
   "execution_count": null,
   "id": "bee3514b",
   "metadata": {},
   "outputs": [],
   "source": []
  },
  {
   "cell_type": "code",
   "execution_count": null,
   "id": "fee8dad1",
   "metadata": {},
   "outputs": [],
   "source": []
  },
  {
   "cell_type": "code",
   "execution_count": null,
   "id": "f0d84e2b",
   "metadata": {},
   "outputs": [],
   "source": []
  },
  {
   "cell_type": "code",
   "execution_count": null,
   "id": "46b89a9d",
   "metadata": {},
   "outputs": [],
   "source": []
  },
  {
   "cell_type": "code",
   "execution_count": null,
   "id": "437358d6",
   "metadata": {},
   "outputs": [],
   "source": []
  },
  {
   "cell_type": "code",
   "execution_count": null,
   "id": "74aa4465",
   "metadata": {},
   "outputs": [],
   "source": []
  },
  {
   "cell_type": "code",
   "execution_count": null,
   "id": "1a2813c3",
   "metadata": {},
   "outputs": [],
   "source": []
  },
  {
   "cell_type": "code",
   "execution_count": null,
   "id": "feb1c152",
   "metadata": {},
   "outputs": [],
   "source": []
  },
  {
   "cell_type": "code",
   "execution_count": null,
   "id": "bbdbd3b2",
   "metadata": {},
   "outputs": [],
   "source": []
  },
  {
   "cell_type": "code",
   "execution_count": null,
   "id": "aef74ba3",
   "metadata": {},
   "outputs": [],
   "source": []
  }
 ],
 "metadata": {
  "kernelspec": {
   "display_name": "Python 3 (ipykernel)",
   "language": "python",
   "name": "python3"
  },
  "language_info": {
   "codemirror_mode": {
    "name": "ipython",
    "version": 3
   },
   "file_extension": ".py",
   "mimetype": "text/x-python",
   "name": "python",
   "nbconvert_exporter": "python",
   "pygments_lexer": "ipython3",
   "version": "3.11.5"
  }
 },
 "nbformat": 4,
 "nbformat_minor": 5
}
