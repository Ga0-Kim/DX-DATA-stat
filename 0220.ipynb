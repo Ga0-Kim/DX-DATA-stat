{
 "cells": [
  {
   "cell_type": "markdown",
   "id": "33c22959",
   "metadata": {},
   "source": [
    "## 데이터 전처리"
   ]
  },
  {
   "cell_type": "markdown",
   "id": "be0b74c6",
   "metadata": {},
   "source": [
    "### 한글 형태소 분석"
   ]
  },
  {
   "cell_type": "code",
   "execution_count": 5,
   "id": "4e83b2e4",
   "metadata": {},
   "outputs": [
    {
     "name": "stdout",
     "output_type": "stream",
     "text": [
      "Collecting konlpy\n",
      "  Downloading konlpy-0.6.0-py2.py3-none-any.whl (19.4 MB)\n",
      "     ---------------------------------------- 0.0/19.4 MB ? eta -:--:--\n",
      "     ---------------------------------------- 0.0/19.4 MB ? eta -:--:--\n",
      "     ---------------------------------------- 0.2/19.4 MB 4.1 MB/s eta 0:00:05\n",
      "     -- ------------------------------------- 1.1/19.4 MB 9.7 MB/s eta 0:00:02\n",
      "     ----- ---------------------------------- 2.7/19.4 MB 17.3 MB/s eta 0:00:01\n",
      "     ----------- ---------------------------- 5.6/19.4 MB 25.4 MB/s eta 0:00:01\n",
      "     -------------------- ------------------ 10.4/19.4 MB 46.7 MB/s eta 0:00:01\n",
      "     ------------------------------- ------- 15.7/19.4 MB 93.0 MB/s eta 0:00:01\n",
      "     -------------------------------------  19.4/19.4 MB 108.8 MB/s eta 0:00:01\n",
      "     --------------------------------------- 19.4/19.4 MB 65.5 MB/s eta 0:00:00\n",
      "Collecting JPype1>=0.7.0 (from konlpy)\n",
      "  Obtaining dependency information for JPype1>=0.7.0 from https://files.pythonhosted.org/packages/1f/19/144f3a767b563ba5c6d4aa534ea1f3fad9a5067c3917df4458a6e1afe0ef/JPype1-1.5.0-cp311-cp311-win_amd64.whl.metadata\n",
      "  Downloading JPype1-1.5.0-cp311-cp311-win_amd64.whl.metadata (5.0 kB)\n",
      "Requirement already satisfied: lxml>=4.1.0 in c:\\users\\user\\anaconda3\\lib\\site-packages (from konlpy) (4.9.3)\n",
      "Requirement already satisfied: numpy>=1.6 in c:\\users\\user\\anaconda3\\lib\\site-packages (from konlpy) (1.24.3)\n",
      "Requirement already satisfied: packaging in c:\\users\\user\\anaconda3\\lib\\site-packages (from JPype1>=0.7.0->konlpy) (23.1)\n",
      "Downloading JPype1-1.5.0-cp311-cp311-win_amd64.whl (351 kB)\n",
      "   ---------------------------------------- 0.0/351.5 kB ? eta -:--:--\n",
      "   --------------------------------------- 351.5/351.5 kB 21.3 MB/s eta 0:00:00\n",
      "Installing collected packages: JPype1, konlpy\n",
      "Successfully installed JPype1-1.5.0 konlpy-0.6.0\n"
     ]
    }
   ],
   "source": [
    "!pip install konlpy"
   ]
  },
  {
   "cell_type": "code",
   "execution_count": 2,
   "id": "581c6cf2",
   "metadata": {},
   "outputs": [
    {
     "name": "stdout",
     "output_type": "stream",
     "text": [
      "['가영이는', '오늘', '아침에', '알람을', '듣지', '않고도', '눈이', '번쩍', '떠졌지만', '이내', '다시', '깊은', '잠에', '빠져들었다']\n"
     ]
    }
   ],
   "source": [
    "#형태소 분석할 문장\n",
    "text = '가영이는 오늘 아침에 알람을 듣지 않고도 눈이 번쩍 떠졌지만 이내 다시 깊은 잠에 빠져들었다'\n",
    "\n",
    "# 자연어 처리를 할 때 공백 단위로 토큰화 하는 것은 큰 의미가 없음\n",
    "# 공백 단위로 토큰화 하는 것은 로그 분석을 할 때입니다.\n",
    "\n",
    "data = text.split(' ')\n",
    "print(data)\n"
   ]
  },
  {
   "cell_type": "code",
   "execution_count": 8,
   "id": "d0ae1849",
   "metadata": {},
   "outputs": [
    {
     "name": "stdout",
     "output_type": "stream",
     "text": [
      "['가 영이는 오늘 아침에 알람을 듣지 않고도 눈이 번쩍 떠졌지만 이내 다시 깊은 잠에 빠져들었다']\n",
      "['영이', '오늘', '아침', '알람', '눈', '잠']\n",
      "[('가', 'VV'), ('아', 'ECS'), ('영이', 'NNG'), ('는', 'JX'), ('오늘', 'NNG'), ('아침', 'NNG'), ('에', 'JKM'), ('알람', 'NNG'), ('을', 'JKO'), ('듣', 'VV'), ('지', 'ECD'), ('않', 'VXV'), ('고', 'ECE'), ('도', 'JX'), ('눈', 'NNG'), ('이', 'JKS'), ('번쩍', 'MAG'), ('떠지', 'VV'), ('었', 'EPT'), ('지만', 'ECE'), ('이내', 'MAG'), ('다시', 'MAG'), ('깊', 'VA'), ('은', 'ETD'), ('잠', 'NNG'), ('에', 'JKM'), ('빠져들', 'VV'), ('었', 'EPT'), ('다', 'EFN')]\n",
      "====================================================\n",
      "['가영', '오늘', '아침', '알람', '눈', '빠져들었다']\n",
      "[('가영', 'N'), ('이', 'J'), ('는', 'E'), ('오늘', 'N'), ('아침', 'N'), ('에', 'J'), ('알람', 'N'), ('을', 'J'), ('듣', 'P'), ('지', 'E'), ('않', 'P'), ('고', 'E'), ('도', 'J'), ('눈', 'N'), ('이', 'J'), ('번쩍', 'M'), ('뜨', 'P'), ('어', 'E'), ('지', 'P'), ('었지만', 'E'), ('이내', 'M'), ('다시', 'M'), ('깊', 'P'), ('은', 'E'), ('자', 'P'), ('ㅁ', 'E'), ('에', 'J'), ('빠져들었다', 'N')]\n"
     ]
    }
   ],
   "source": [
    "from konlpy.tag import Kkma\n",
    "kkma = Kkma()\n",
    "#문장 분석\n",
    "print(kkma.sentences(text))\n",
    "\n",
    "#단어별 분석\n",
    "print(kkma.nouns(text))\n",
    "\n",
    "#형태소 분석 - 품사를 같이 제공 ;이 작업을 같이 수행하는 것을 품사 태깅 - 자연어 처리에 한 부분\n",
    "print(kkma.pos(text))\n",
    "\n",
    "print(\"====================================================\")\n",
    "from konlpy.tag import Hannanum\n",
    "\n",
    "hannanum = Hannanum()\n",
    "print(hannanum.nouns(text))\n",
    "print(hannanum.pos(text))\n",
    "\n",
    "print(\"=====================================================\")\n",
    "# from konlpy.tag import Okt\n"
   ]
  },
  {
   "cell_type": "markdown",
   "id": "82311ce8",
   "metadata": {},
   "source": [
    "### BoW(Bag of Word) 단어 별 빈도수"
   ]
  },
  {
   "cell_type": "code",
   "execution_count": 14,
   "id": "a395dbdb",
   "metadata": {},
   "outputs": [
    {
     "name": "stdout",
     "output_type": "stream",
     "text": [
      "  (0, 11)\t1\n",
      "  (0, 4)\t2\n",
      "  (0, 24)\t1\n",
      "  (0, 25)\t1\n",
      "  (0, 9)\t1\n",
      "  (0, 22)\t1\n",
      "  (0, 2)\t1\n",
      "  (0, 20)\t1\n",
      "  (1, 2)\t1\n",
      "  (1, 17)\t1\n",
      "  (1, 7)\t1\n",
      "  (1, 3)\t1\n",
      "  (1, 12)\t1\n",
      "  (1, 0)\t1\n",
      "  (1, 19)\t1\n",
      "  (2, 2)\t1\n",
      "  (2, 3)\t1\n",
      "  (2, 19)\t1\n",
      "  (2, 15)\t1\n",
      "  (2, 8)\t1\n",
      "  (2, 10)\t1\n",
      "  (2, 23)\t1\n",
      "  (2, 14)\t1\n",
      "  (2, 18)\t1\n",
      "  (2, 1)\t1\n",
      "  (3, 2)\t4\n",
      "  (3, 12)\t1\n",
      "  (3, 0)\t1\n",
      "  (3, 23)\t1\n",
      "  (3, 21)\t1\n",
      "  (3, 5)\t1\n",
      "  (3, 16)\t1\n",
      "  (3, 6)\t1\n",
      "  (3, 13)\t1\n",
      "[[0 0 1 0 2 0 0 0 0 1 0 1 0 0 0 0 0 0 0 0 1 0 1 0 1 1]\n",
      " [1 0 1 1 0 0 0 1 0 0 0 0 1 0 0 0 0 1 0 1 0 0 0 0 0 0]\n",
      " [0 1 1 1 0 0 0 0 1 0 1 0 0 0 1 1 0 0 1 1 0 0 0 1 0 0]\n",
      " [1 0 4 0 0 1 1 0 0 0 0 0 1 1 0 0 1 0 0 0 0 1 0 1 0 0]]\n",
      "['and' 'black' 'blue' 'color' 'dream' 'family' 'father' 'favorite' 'flag'\n",
      " 'fly' 'has' 'have' 'is' 'kids' 'kinds' 'korea' 'mother' 'my' 'of' 'red'\n",
      " 'sky' 'that' 'the' 'three' 'to' 'when']\n"
     ]
    }
   ],
   "source": [
    "# 샘플 데이터 생성\n",
    "import numpy as np\n",
    "import pandas as pd\n",
    "\n",
    "text_data = np.array(['I have a dream to dream when i fly the blue sky',\n",
    "                     'My favorite color is blue and red',\n",
    "                     'Korea Flag has a three kinds of color Blue , Red , Black',\n",
    "                     'That blue family is blue mother , blue father , and three blue kids'])\n",
    "from sklearn.feature_extraction.text import CountVectorizer\n",
    "\n",
    "#BoW 객체를 생성\n",
    "#모든 문자열을 소문자로 변경해서 수행\n",
    "countVectorizer = CountVectorizer()\n",
    "bag_of_words = countVectorizer.fit_transform(text_data)\n",
    "\n",
    "#희소 행렬\n",
    "print(bag_of_words)\n",
    "\n",
    "#밀집 행렬\n",
    "print(bag_of_words.toarray())\n",
    "\n",
    "#각 열의 의미\n",
    "print(countVectorizer.get_feature_names_out())"
   ]
  },
  {
   "cell_type": "markdown",
   "id": "ee634034",
   "metadata": {},
   "source": [
    "### 단어 별 가중치 계싼 tf-idf"
   ]
  },
  {
   "cell_type": "code",
   "execution_count": 15,
   "id": "0f516780",
   "metadata": {},
   "outputs": [
    {
     "name": "stdout",
     "output_type": "stream",
     "text": [
      "{'have': 11, 'dream': 4, 'to': 24, 'when': 25, 'fly': 9, 'the': 22, 'blue': 2, 'sky': 20, 'my': 17, 'favorite': 7, 'color': 3, 'is': 12, 'and': 0, 'red': 19, 'korea': 15, 'flag': 8, 'has': 10, 'three': 23, 'kinds': 14, 'of': 18, 'black': 1, 'that': 21, 'family': 5, 'mother': 16, 'father': 6, 'kids': 13}\n",
      "[[0.         0.         0.16281873 0.         0.62401605 0.\n",
      "  0.         0.         0.         0.31200802 0.         0.31200802\n",
      "  0.         0.         0.         0.         0.         0.\n",
      "  0.         0.         0.31200802 0.         0.31200802 0.\n",
      "  0.31200802 0.31200802]\n",
      " [0.36141758 0.         0.23921859 0.36141758 0.         0.\n",
      "  0.         0.45841237 0.         0.         0.         0.\n",
      "  0.36141758 0.         0.         0.         0.         0.45841237\n",
      "  0.         0.36141758 0.         0.         0.         0.\n",
      "  0.         0.        ]\n",
      " [0.         0.35056235 0.18293797 0.27638738 0.         0.\n",
      "  0.         0.         0.35056235 0.         0.35056235 0.\n",
      "  0.         0.         0.35056235 0.35056235 0.         0.\n",
      "  0.35056235 0.27638738 0.         0.         0.         0.27638738\n",
      "  0.         0.        ]\n",
      " [0.23535327 0.         0.62311167 0.         0.         0.29851578\n",
      "  0.29851578 0.         0.         0.         0.         0.\n",
      "  0.23535327 0.29851578 0.         0.         0.29851578 0.\n",
      "  0.         0.         0.         0.29851578 0.         0.23535327\n",
      "  0.         0.        ]]\n"
     ]
    }
   ],
   "source": [
    "text_data = np.array(['I have a dream to dream when i fly the blue sky',\n",
    "                     'My favorite color is blue and red',\n",
    "                     'Korea Flag has a three kinds of color Blue , Red , Black',\n",
    "                     'That blue family is blue mother , blue father , and three blue kids'])\n",
    "from sklearn.feature_extraction.text import TfidfVectorizer\n",
    "\n",
    "tfidfVectorizer = TfidfVectorizer()\n",
    "feature_matrix = tfidfVectorizer.fit_transform(text_data)\n",
    "\n",
    "print(tfidfVectorizer.vocabulary_)\n",
    "print(feature_matrix.toarray())"
   ]
  },
  {
   "cell_type": "code",
   "execution_count": 20,
   "id": "a9784d79",
   "metadata": {},
   "outputs": [
    {
     "name": "stdout",
     "output_type": "stream",
     "text": [
      "<class 'pandas.core.frame.DataFrame'>\n",
      "RangeIndex: 20 entries, 0 to 19\n",
      "Data columns (total 7 columns):\n",
      " #   Column   Non-Null Count  Dtype         \n",
      "---  ------   --------------  -----         \n",
      " 0   Date     20 non-null     object        \n",
      " 1   Close    20 non-null     int64         \n",
      " 2   Start    20 non-null     int64         \n",
      " 3   High     20 non-null     int64         \n",
      " 4   Low      20 non-null     int64         \n",
      " 5   Volume   20 non-null     int64         \n",
      " 6   NewDate  20 non-null     datetime64[ns]\n",
      "dtypes: datetime64[ns](1), int64(5), object(1)\n",
      "memory usage: 1.2+ KB\n",
      "         Date  Close  Start   High    Low  Volume    NewDate\n",
      "0  2018-07-02  10100  10850  10900  10000  137977 2018-07-02\n",
      "1  2018-06-29  10700  10550  10900   9990  170253 2018-06-29\n",
      "2  2018-06-28  10400  10900  10950  10150  155769 2018-06-28\n",
      "3  2018-06-27  10900  10800  11050  10500  133548 2018-06-27\n",
      "4  2018-06-26  10800  10900  11000  10700   63039 2018-06-26\n",
      "                  Date  Close  Start   High    Low  Volume\n",
      "NewDate                                                   \n",
      "2018-07-02  2018-07-02  10100  10850  10900  10000  137977\n",
      "2018-06-29  2018-06-29  10700  10550  10900   9990  170253\n",
      "2018-06-28  2018-06-28  10400  10900  10950  10150  155769\n",
      "2018-06-27  2018-06-27  10900  10800  11050  10500  133548\n",
      "2018-06-26  2018-06-26  10800  10900  11000  10700   63039\n"
     ]
    }
   ],
   "source": [
    "df = pd.read_csv('./data/stock-data.csv')\n",
    "# df.info()\n",
    "\n",
    "df['NewDate'] = pd.to_datetime(df['Date'])\n",
    "df.info()\n",
    "\n",
    "print(df.head())\n",
    "\n",
    "df.set_index(\"NewDate\", inplace = True)\n",
    "print(df.head())"
   ]
  },
  {
   "cell_type": "markdown",
   "id": "2c09ec17",
   "metadata": {},
   "source": [
    "### Period를 이용한 날짜 형식 변경"
   ]
  },
  {
   "cell_type": "code",
   "execution_count": 24,
   "id": "d9e7efb2",
   "metadata": {},
   "outputs": [
    {
     "name": "stdout",
     "output_type": "stream",
     "text": [
      "DatetimeIndex(['2024-02-20', '2000-10-14', '1998-03-26'], dtype='datetime64[ns]', freq=None)\n",
      "PeriodIndex(['2024Q1', '2000Q4', '1998Q1'], dtype='period[Q-DEC]')\n",
      "PeriodIndex(['2024-02', '2000-10', '1998-03'], dtype='period[M]')\n"
     ]
    }
   ],
   "source": [
    "dates = ['2024-02-20', '2000-10-14','1998-03-26']\n",
    "\n",
    "pddates = pd.to_datetime(dates)\n",
    "print(pddates)\n",
    "\n",
    "pr_months = pddates.to_period(freq='Q')\n",
    "print(pr_months)\n",
    "pr_months = pddates.to_period(freq='M')\n",
    "print(pr_months)"
   ]
  },
  {
   "cell_type": "markdown",
   "id": "8624028b",
   "metadata": {},
   "source": [
    "### 일정한 간격을 갖는 데이터 생성"
   ]
  },
  {
   "cell_type": "code",
   "execution_count": 25,
   "id": "5f861d05",
   "metadata": {},
   "outputs": [
    {
     "name": "stdout",
     "output_type": "stream",
     "text": [
      "DatetimeIndex(['2024-01-01', '2024-01-02', '2024-01-03', '2024-01-04',\n",
      "               '2024-01-05', '2024-01-06', '2024-01-07', '2024-01-08',\n",
      "               '2024-01-09', '2024-01-10', '2024-01-11', '2024-01-12',\n",
      "               '2024-01-13', '2024-01-14', '2024-01-15', '2024-01-16',\n",
      "               '2024-01-17', '2024-01-18', '2024-01-19', '2024-01-20',\n",
      "               '2024-01-21', '2024-01-22', '2024-01-23', '2024-01-24',\n",
      "               '2024-01-25', '2024-01-26', '2024-01-27', '2024-01-28',\n",
      "               '2024-01-29', '2024-01-30'],\n",
      "              dtype='datetime64[ns]', freq='D')\n"
     ]
    }
   ],
   "source": [
    "ts_ms = pd.date_range(start = '2024-01-01', end = None, periods = 30, freq = 'D')\n",
    "print(ts_ms)"
   ]
  },
  {
   "cell_type": "code",
   "execution_count": 26,
   "id": "6c7dcac8",
   "metadata": {},
   "outputs": [
    {
     "name": "stdout",
     "output_type": "stream",
     "text": [
      "DatetimeIndex(['2024-01-31', '2024-02-29', '2024-03-31', '2024-04-30',\n",
      "               '2024-05-31', '2024-06-30', '2024-07-31', '2024-08-31',\n",
      "               '2024-09-30', '2024-10-31', '2024-11-30', '2024-12-31',\n",
      "               '2025-01-31', '2025-02-28', '2025-03-31', '2025-04-30',\n",
      "               '2025-05-31', '2025-06-30', '2025-07-31', '2025-08-31',\n",
      "               '2025-09-30', '2025-10-31', '2025-11-30', '2025-12-31',\n",
      "               '2026-01-31', '2026-02-28', '2026-03-31', '2026-04-30',\n",
      "               '2026-05-31', '2026-06-30'],\n",
      "              dtype='datetime64[ns]', freq='M')\n"
     ]
    }
   ],
   "source": [
    "ts_ms = pd.date_range(start = '2024-01-01', end = None, periods = 30, freq = 'M')\n",
    "print(ts_ms)"
   ]
  },
  {
   "cell_type": "code",
   "execution_count": 27,
   "id": "fbd629f5",
   "metadata": {},
   "outputs": [
    {
     "name": "stdout",
     "output_type": "stream",
     "text": [
      "DatetimeIndex(['2024-03-31', '2024-06-30', '2024-09-30', '2024-12-31',\n",
      "               '2025-03-31', '2025-06-30', '2025-09-30', '2025-12-31',\n",
      "               '2026-03-31', '2026-06-30', '2026-09-30', '2026-12-31',\n",
      "               '2027-03-31', '2027-06-30', '2027-09-30', '2027-12-31',\n",
      "               '2028-03-31', '2028-06-30', '2028-09-30', '2028-12-31',\n",
      "               '2029-03-31', '2029-06-30', '2029-09-30', '2029-12-31',\n",
      "               '2030-03-31', '2030-06-30', '2030-09-30', '2030-12-31',\n",
      "               '2031-03-31', '2031-06-30'],\n",
      "              dtype='datetime64[ns]', freq='Q-DEC')\n"
     ]
    }
   ],
   "source": [
    "ts_ms = pd.date_range(start = '2024-01-01', end = None, periods = 30, freq = 'Q')\n",
    "print(ts_ms)"
   ]
  },
  {
   "cell_type": "markdown",
   "id": "f58f860a",
   "metadata": {},
   "source": [
    "### 년월일 분리와 시차 특성을 갖는 데이터를 생성"
   ]
  },
  {
   "cell_type": "code",
   "execution_count": 48,
   "id": "0ca4dce6",
   "metadata": {},
   "outputs": [
    {
     "name": "stdout",
     "output_type": "stream",
     "text": [
      "NewDate\n",
      "2018-06-08    0.315340\n",
      "2018-06-07   -0.416292\n",
      "2018-06-05   -0.123046\n",
      "2018-06-04    0.306806\n",
      "2018-06-01   -0.020717\n",
      "dtype: float64\n",
      "==========================================\n",
      "NewDate\n",
      "2018-06-08   -0.416292\n",
      "2018-06-07   -0.123046\n",
      "2018-06-05    0.306806\n",
      "2018-06-04   -0.020717\n",
      "2018-06-01         NaN\n",
      "dtype: float64\n",
      "\n",
      "NewDate\n",
      "2018-07-02    1.312098\n",
      "2018-06-29    0.452880\n",
      "2018-06-28    1.337149\n",
      "2018-06-27   -1.121675\n",
      "2018-06-26    1.100402\n",
      "dtype: float64\n",
      "==========================================\n",
      "NewDate\n",
      "2018-07-02         NaN\n",
      "2018-06-29    1.312098\n",
      "2018-06-28    0.452880\n",
      "2018-06-27    1.337149\n",
      "2018-06-26   -1.121675\n",
      "dtype: float64\n",
      "\n",
      "NewDate\n",
      "2018-07-02    1.312098\n",
      "2018-06-29    0.452880\n",
      "2018-06-28    1.337149\n",
      "2018-06-27   -1.121675\n",
      "2018-06-26    1.100402\n",
      "dtype: float64\n",
      "==========================================\n",
      "NewDate\n",
      "2018-07-02         NaN\n",
      "2018-06-29         NaN\n",
      "2018-06-28    1.312098\n",
      "2018-06-27    0.452880\n",
      "2018-06-26    1.337149\n",
      "dtype: float64\n"
     ]
    }
   ],
   "source": [
    "df = pd.read_csv('./data/stock-data.csv')\n",
    "# df.info()\n",
    "\n",
    "df['NewDate'] = pd.to_datetime(df['Date'])\n",
    "# df.info()\n",
    "# print(df.head())\n",
    "\n",
    "# #년도만 추출\n",
    "# print(df['NewDate'].dt.year.head())\n",
    "# #월만 추출\n",
    "# print(df['NewDate'].dt.month.head())\n",
    "\n",
    "#날짜를 인덱스로 갖는 Series를 생성\n",
    "ts = pd.Series(np.random.randn(20), index = df['NewDate'])\n",
    "print(ts.tail())\n",
    "print(\"==========================================\")\n",
    "print(ts.shift(-1).tail()) # 간격이 밀려서 들어옴\n",
    "print()\n",
    "print(ts.head())\n",
    "print(\"==========================================\")\n",
    "print(ts.shift(1).head()) # 간격이 밀려서 들어옴\n",
    "print()\n",
    "print(ts.head())\n",
    "print(\"==========================================\")\n",
    "print(ts.shift(2).head()) # 간격이 밀려서 들어옴"
   ]
  },
  {
   "cell_type": "markdown",
   "id": "c04eb288",
   "metadata": {},
   "source": [
    "### 결측치 대체"
   ]
  },
  {
   "cell_type": "code",
   "execution_count": 52,
   "id": "52d527be",
   "metadata": {},
   "outputs": [
    {
     "name": "stdout",
     "output_type": "stream",
     "text": [
      "            Sales\n",
      "2024-01-31    1.0\n",
      "2024-02-29    2.0\n",
      "2024-03-31    NaN\n",
      "2024-04-30    NaN\n",
      "2024-05-31    5.0\n",
      "            Sales\n",
      "2024-01-31    1.0\n",
      "2024-02-29    2.0\n",
      "2024-03-31    2.0\n",
      "2024-04-30    2.0\n",
      "2024-05-31    5.0\n",
      "            Sales\n",
      "2024-01-31    1.0\n",
      "2024-02-29    2.0\n",
      "2024-03-31    5.0\n",
      "2024-04-30    5.0\n",
      "2024-05-31    5.0\n",
      "            Sales\n",
      "2024-01-31    1.0\n",
      "2024-02-29    2.0\n",
      "2024-03-31    3.0\n",
      "2024-04-30    4.0\n",
      "2024-05-31    5.0\n",
      "               Sales\n",
      "2024-01-31  1.000000\n",
      "2024-02-29  2.000000\n",
      "2024-03-31  3.040158\n",
      "2024-04-30  4.018418\n",
      "2024-05-31  5.000000\n"
     ]
    }
   ],
   "source": [
    "time_index = pd.date_range('01/01/2024', periods = 5, freq = 'M')\n",
    "dataframe = pd.DataFrame(index = time_index)\n",
    "#결측치 생성\n",
    "dataframe['Sales'] = [1, 2, np.nan, np.nan, 5]\n",
    "print(dataframe)\n",
    "\n",
    "#결측치 채우기 - 앞이나 뒤의 값으로 채우기\n",
    "print(dataframe.ffill())\n",
    "print(dataframe.bfill())\n"
   ]
  },
  {
   "cell_type": "code",
   "execution_count": 59,
   "id": "1ae18ca4",
   "metadata": {},
   "outputs": [
    {
     "name": "stdout",
     "output_type": "stream",
     "text": [
      "            Sales\n",
      "2024-01-01    1.0\n",
      "2024-01-02    2.0\n",
      "2024-01-03    3.0\n",
      "2024-01-06    5.0\n",
      "2024-01-07    7.0\n",
      "            Sales\n",
      "2024-01-01    1.0\n",
      "2024-01-02    2.0\n",
      "2024-01-03    3.0\n",
      "2024-01-06    6.0\n",
      "2024-01-07    7.0\n",
      "            Sales\n",
      "2024-01-01    1.0\n",
      "2024-01-02    2.0\n",
      "2024-01-03    3.0\n",
      "2024-01-06    6.0\n",
      "2024-01-07    7.0\n"
     ]
    }
   ],
   "source": [
    "#보간 - 이전과 이후 데이터를 가지고 예측을 해서 설정 - 선형으로 예측\n",
    "#실제 작업을 할 때는 데이터의 분포를 확인을 해서 선형인지 비선형인지 결정\n",
    "print(dataframe.interpolate())\n",
    "#비선형으로 예측\n",
    "print(dataframe.interpolate(method = 'quadratic'))\n",
    "\n",
    "from datetime import datetime\n",
    "# 중간에 날짜가 비어 있는 경우에는 앞 뒤의 날짜를 확인해서\n",
    "# 다음 날짜가 맞는지 아닌지 확인해서 값을 기반으로 할지 날짝를 기반으로 할지 결정\n",
    "dates = [datetime(2024, 1, 1), datetime(2024, 1, 2), datetime(2024, 1, 3), \n",
    "         datetime(2024, 1, 6), datetime(2024, 1, 7)]\n",
    "\n",
    "dataframe = pd.DataFrame(index = dates)\n",
    "dataframe['Sales'] = [1, 2, 3, np.nan, 7]\n",
    "\n",
    "print(dataframe.interpolate(method = 'time'))# 이 method는 시간 흐름을 고려하는 뜻"
   ]
  },
  {
   "cell_type": "markdown",
   "id": "ae05cc2e",
   "metadata": {},
   "source": [
    "### resampling - 데이터의 빈도를 늘리거나 줄이는 것 -일반적인 방법과 다른 점은 시계열을 주기가 있단느 점"
   ]
  },
  {
   "cell_type": "code",
   "execution_count": 65,
   "id": "d2fe7b93",
   "metadata": {},
   "outputs": [
    {
     "name": "stdout",
     "output_type": "stream",
     "text": [
      "                     price  amount\n",
      "2024-02-01 00:00:00     64       1\n",
      "2024-02-01 00:02:00     49       2\n",
      "2024-02-01 00:04:00     16       3\n",
      "2024-02-01 00:06:00     71       3\n",
      "2024-02-01 00:08:00     31       3\n",
      "2024-02-01 00:10:00     11       1\n",
      "2024-02-01 00:12:00     91       4\n",
      "2024-02-01 00:14:00     72       3\n",
      "2024-02-01 00:16:00     63       2\n",
      "2024-02-01 00:18:00     63       3\n",
      "2024-02-01 00:20:00     30       4\n",
      "2024-02-01 00:22:00     95       4\n",
      "2024-02-01 00:24:00     45       4\n",
      "2024-02-01 00:26:00     26       3\n",
      "2024-02-01 00:28:00     94       4\n",
      "2024-02-01 00:30:00     30       3\n",
      "2024-02-01 00:32:00     15       2\n",
      "2024-02-01 00:34:00     39       3\n",
      "2024-02-01 00:36:00     64       3\n",
      "2024-02-01 00:38:00     80       2\n"
     ]
    }
   ],
   "source": [
    "range = pd.date_range('2024-02-01', '2024-02-02', freq='2min')\n",
    "df = pd.DataFrame(index = range)[:20]\n",
    "df['price'] = np.random.randint(low =10, high = 100, size =20)\n",
    "df['amount'] = np.random.randint(low =1, high = 5, size =20)\n",
    "print(df)"
   ]
  },
  {
   "cell_type": "code",
   "execution_count": 71,
   "id": "4e28847e",
   "metadata": {},
   "outputs": [
    {
     "name": "stdout",
     "output_type": "stream",
     "text": [
      "2024-02-01 00:00:00    231\n",
      "2024-02-01 00:10:00    300\n",
      "2024-02-01 00:20:00    290\n",
      "2024-02-01 00:30:00    228\n",
      "Freq: 10T, Name: price, dtype: int32\n"
     ]
    }
   ],
   "source": [
    "# 다운 샘플링  - 시간 간격을 10분으로 조정 : 4개의 데이터로 변경\n",
    "# print(df.price.resample('10T').first())\n",
    "#시계열 데이터의 경우시간 별 집계를 수행하는 방법\n",
    "print(df.price.resample('10T').sum())\n",
    "\n",
    "#업 샘플링\n",
    "# print(df.price.resample('1T').first())"
   ]
  },
  {
   "cell_type": "markdown",
   "id": "3e7ee793",
   "metadata": {},
   "source": [
    "### 이동평균 계산"
   ]
  },
  {
   "cell_type": "code",
   "execution_count": 74,
   "id": "d9b8d0f4",
   "metadata": {},
   "outputs": [
    {
     "name": "stdout",
     "output_type": "stream",
     "text": [
      "            Stock_Price\n",
      "2024-01-31          NaN\n",
      "2024-02-29          1.5\n",
      "2024-03-31          2.5\n",
      "2024-04-30          3.5\n",
      "2024-05-31          4.5\n",
      "            Stock_Price\n",
      "2024-01-31     1.000000\n",
      "2024-02-29     1.750000\n",
      "2024-03-31     2.615385\n",
      "2024-04-30     3.550000\n",
      "2024-05-31     4.520661\n"
     ]
    }
   ],
   "source": [
    "#2024년 1월 1일 부터 월 단위로 5개의 데이터를 생성\n",
    "time_index = pd.date_range('01/01/2024', periods = 5, freq = \"M\")\n",
    "\n",
    "#위의 데이터를 인덱스로 해서 시계열 DataFrame을 생성\n",
    "#pandas 에서는 인덱스가 시간인 경우 또는 일정한 패턴인 경우를 시계열로 판정\n",
    "dataframe = pd.DataFrame(index = time_index)\n",
    "\n",
    "dataframe['Stock_Price'] = [1, 2, 3, 4, 5]\n",
    "\n",
    "#단순이동 평균 계산\n",
    "print(dataframe.rolling(window = 2).mean())\n",
    "\n",
    "#지수 이동 평균 계산\n",
    "print(dataframe.ewm(span = 2).mean())"
   ]
  },
  {
   "cell_type": "markdown",
   "id": "e40db3de",
   "metadata": {},
   "source": [
    "## 윈도우 출력"
   ]
  },
  {
   "cell_type": "code",
   "execution_count": 76,
   "id": "bec95896",
   "metadata": {},
   "outputs": [
    {
     "ename": "ModuleNotFoundError",
     "evalue": "No module named 'cv2'",
     "output_type": "error",
     "traceback": [
      "\u001b[1;31m---------------------------------------------------------------------------\u001b[0m",
      "\u001b[1;31mModuleNotFoundError\u001b[0m                       Traceback (most recent call last)",
      "Cell \u001b[1;32mIn[76], line 1\u001b[0m\n\u001b[1;32m----> 1\u001b[0m \u001b[38;5;28;01mimport\u001b[39;00m \u001b[38;5;21;01mcv2\u001b[39;00m\n",
      "\u001b[1;31mModuleNotFoundError\u001b[0m: No module named 'cv2'"
     ]
    }
   ],
   "source": [
    "import cv2"
   ]
  },
  {
   "cell_type": "code",
   "execution_count": null,
   "id": "22f9281a",
   "metadata": {},
   "outputs": [],
   "source": []
  },
  {
   "cell_type": "code",
   "execution_count": null,
   "id": "18688ce4",
   "metadata": {},
   "outputs": [],
   "source": []
  },
  {
   "cell_type": "code",
   "execution_count": null,
   "id": "5a9ca2f1",
   "metadata": {},
   "outputs": [],
   "source": []
  },
  {
   "cell_type": "code",
   "execution_count": null,
   "id": "903e64d5",
   "metadata": {},
   "outputs": [],
   "source": []
  },
  {
   "cell_type": "code",
   "execution_count": null,
   "id": "c19bca4e",
   "metadata": {},
   "outputs": [],
   "source": []
  },
  {
   "cell_type": "code",
   "execution_count": null,
   "id": "c860b85f",
   "metadata": {},
   "outputs": [],
   "source": []
  },
  {
   "cell_type": "code",
   "execution_count": null,
   "id": "df468041",
   "metadata": {},
   "outputs": [],
   "source": []
  },
  {
   "cell_type": "code",
   "execution_count": null,
   "id": "c28a74f9",
   "metadata": {},
   "outputs": [],
   "source": []
  },
  {
   "cell_type": "code",
   "execution_count": null,
   "id": "5ad07340",
   "metadata": {},
   "outputs": [],
   "source": []
  },
  {
   "cell_type": "code",
   "execution_count": null,
   "id": "df6d287a",
   "metadata": {},
   "outputs": [],
   "source": []
  },
  {
   "cell_type": "code",
   "execution_count": null,
   "id": "2f03d06c",
   "metadata": {},
   "outputs": [],
   "source": []
  },
  {
   "cell_type": "code",
   "execution_count": null,
   "id": "7edfa2db",
   "metadata": {},
   "outputs": [],
   "source": []
  },
  {
   "cell_type": "code",
   "execution_count": null,
   "id": "4da751ec",
   "metadata": {},
   "outputs": [],
   "source": []
  },
  {
   "cell_type": "code",
   "execution_count": null,
   "id": "fe88c0a7",
   "metadata": {},
   "outputs": [],
   "source": []
  },
  {
   "cell_type": "code",
   "execution_count": null,
   "id": "5fc678d8",
   "metadata": {},
   "outputs": [],
   "source": []
  },
  {
   "cell_type": "code",
   "execution_count": null,
   "id": "b005bf36",
   "metadata": {},
   "outputs": [],
   "source": []
  },
  {
   "cell_type": "code",
   "execution_count": null,
   "id": "057fa648",
   "metadata": {},
   "outputs": [],
   "source": []
  },
  {
   "cell_type": "code",
   "execution_count": null,
   "id": "29875b1d",
   "metadata": {},
   "outputs": [],
   "source": []
  },
  {
   "cell_type": "code",
   "execution_count": null,
   "id": "ebd59823",
   "metadata": {},
   "outputs": [],
   "source": []
  },
  {
   "cell_type": "code",
   "execution_count": null,
   "id": "1f64dcea",
   "metadata": {},
   "outputs": [],
   "source": []
  },
  {
   "cell_type": "code",
   "execution_count": null,
   "id": "3d40b40e",
   "metadata": {},
   "outputs": [],
   "source": []
  },
  {
   "cell_type": "code",
   "execution_count": null,
   "id": "770f7e7d",
   "metadata": {},
   "outputs": [],
   "source": []
  },
  {
   "cell_type": "code",
   "execution_count": null,
   "id": "edd6acd2",
   "metadata": {},
   "outputs": [],
   "source": []
  },
  {
   "cell_type": "code",
   "execution_count": null,
   "id": "ea57f9f9",
   "metadata": {},
   "outputs": [],
   "source": []
  },
  {
   "cell_type": "code",
   "execution_count": null,
   "id": "a36cbfce",
   "metadata": {},
   "outputs": [],
   "source": []
  },
  {
   "cell_type": "code",
   "execution_count": null,
   "id": "a69f0cce",
   "metadata": {},
   "outputs": [],
   "source": []
  },
  {
   "cell_type": "code",
   "execution_count": null,
   "id": "a75252d2",
   "metadata": {},
   "outputs": [],
   "source": []
  },
  {
   "cell_type": "code",
   "execution_count": null,
   "id": "a3951e89",
   "metadata": {},
   "outputs": [],
   "source": []
  },
  {
   "cell_type": "code",
   "execution_count": null,
   "id": "4d1b98f1",
   "metadata": {},
   "outputs": [],
   "source": []
  },
  {
   "cell_type": "code",
   "execution_count": null,
   "id": "a00fd36f",
   "metadata": {},
   "outputs": [],
   "source": []
  },
  {
   "cell_type": "code",
   "execution_count": null,
   "id": "f285c4b2",
   "metadata": {},
   "outputs": [],
   "source": []
  },
  {
   "cell_type": "code",
   "execution_count": null,
   "id": "18a0667e",
   "metadata": {},
   "outputs": [],
   "source": []
  },
  {
   "cell_type": "code",
   "execution_count": null,
   "id": "3846f874",
   "metadata": {},
   "outputs": [],
   "source": []
  }
 ],
 "metadata": {
  "kernelspec": {
   "display_name": "Python 3 (ipykernel)",
   "language": "python",
   "name": "python3"
  },
  "language_info": {
   "codemirror_mode": {
    "name": "ipython",
    "version": 3
   },
   "file_extension": ".py",
   "mimetype": "text/x-python",
   "name": "python",
   "nbconvert_exporter": "python",
   "pygments_lexer": "ipython3",
   "version": "3.11.5"
  }
 },
 "nbformat": 4,
 "nbformat_minor": 5
}
