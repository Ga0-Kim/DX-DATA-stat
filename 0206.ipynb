{
 "cells": [
  {
   "cell_type": "code",
   "execution_count": 2,
   "id": "ace33449",
   "metadata": {},
   "outputs": [
    {
     "name": "stdout",
     "output_type": "stream",
     "text": [
      "2024-02-06 12:35:09.259843 2024-02-06 12:35:09.382838\n"
     ]
    }
   ],
   "source": [
    "#list \n",
    "\n",
    "#날짜 및 시간과 관련한 패키지\n",
    "import datetime\n",
    "\n",
    "li = range(1, 1000000)\n",
    "\n",
    "# 현재 시간을 저장\n",
    "start = datetime.datetime.now()\n",
    "\n",
    "#모든 요소에 10을 곱하기\n",
    "for i in li :\n",
    "    i * 10 \n",
    "\n",
    "# 현재 시간을 저장\n",
    "end = datetime.datetime.now()\n",
    "print(start, end)\n",
    "\n",
    "# 결과 : 2024-02-06 12:35:09.259843 2024-02-06 12:35:09.382838"
   ]
  },
  {
   "cell_type": "code",
   "execution_count": 3,
   "id": "01b95e9a",
   "metadata": {},
   "outputs": [
    {
     "name": "stdout",
     "output_type": "stream",
     "text": [
      "2024-02-06 12:37:13.530259 2024-02-06 12:37:13.530259\n"
     ]
    }
   ],
   "source": [
    "# ndarray\n",
    "\n",
    "import numpy as np\n",
    "ar = np.arange(1, 1000000)\n",
    "\n",
    "\n",
    "# 현재 시간을 저장\n",
    "start = datetime.datetime.now()\n",
    "\n",
    "#모든 요소에 10을 곱하기\n",
    "ar = ar * 10\n",
    "\n",
    "# 현재 시간을 저장\n",
    "end = datetime.datetime.now()\n",
    "print(start, end)\n",
    "\n",
    "# 결과 : 2024-02-06 12:37:13.530259 2024-02-06 12:37:13.530259\n",
    "# 빠르다"
   ]
  },
  {
   "cell_type": "code",
   "execution_count": 5,
   "id": "6ec03335",
   "metadata": {},
   "outputs": [
    {
     "name": "stdout",
     "output_type": "stream",
     "text": [
      "16.75233483314514\n",
      "0.1751112937927246\n"
     ]
    }
   ],
   "source": [
    "import time\n",
    "\n",
    "# 리스트 연산 속도\n",
    "a = list(range(10 ** 8))\n",
    "\n",
    "start = time.time()\n",
    "for i in range(10 ** 8):\n",
    "    a[i] *= 2\n",
    "end = time.time()\n",
    "print(end - start) # 약 17.35초\n",
    "\n",
    "# 어레이 연산 속도\n",
    "a = np.array(range(10 ** 8))\n",
    "\n",
    "start = time.time()\n",
    "a = a * 2\n",
    "end = time.time()\n",
    "print(end - start) # 약 1.35초"
   ]
  },
  {
   "cell_type": "code",
   "execution_count": 8,
   "id": "91bc59cd",
   "metadata": {},
   "outputs": [
    {
     "name": "stdout",
     "output_type": "stream",
     "text": [
      "1\n",
      "(3,)\n",
      "2\n",
      "(2, 3)\n"
     ]
    }
   ],
   "source": [
    "#배열의 생성과 정보 확인\n",
    "\n",
    "import numpy as np # numpy라는 모듈을 np라는 이름으로 가져와서 사용\n",
    "\n",
    "ar = np.array([1,2,3]) # list를 이용해서 nadarray를 생성\n",
    "\n",
    "#ndim은  몇 차원인지 확인\n",
    "print(ar.ndim)\n",
    "\n",
    "# shape은 각 차언의 데이터 개수를 튜플로 리턴\n",
    "print(ar.shape)\n",
    "\n",
    "\n",
    "# 2차원\n",
    "table= np.array([[1,2,3],[4,5,6]]) # list를 이용해서 nadarray를 생성\n",
    "\n",
    "#ndim은  몇 차원인지 확인\n",
    "print(table.ndim)\n",
    "\n",
    "# shape은 각 차언의 데이터 개수를 튜플로 리턴\n",
    "print(table.shape)"
   ]
  },
  {
   "cell_type": "code",
   "execution_count": 10,
   "id": "a398e1da",
   "metadata": {},
   "outputs": [
    {
     "name": "stdout",
     "output_type": "stream",
     "text": [
      "int32\n"
     ]
    }
   ],
   "source": [
    "print(table.dtype)"
   ]
  },
  {
   "cell_type": "code",
   "execution_count": 11,
   "id": "a64eb9b0",
   "metadata": {},
   "outputs": [
    {
     "name": "stdout",
     "output_type": "stream",
     "text": [
      "3\n",
      "(2, 2, 3)\n"
     ]
    }
   ],
   "source": [
    "image = np.array([[[1,2,3,],[1,2,3]],[[4,5,6],[7,8,9]]])\n",
    "print(image.ndim)\n",
    "print(image.shape)"
   ]
  },
  {
   "cell_type": "code",
   "execution_count": 15,
   "id": "8d3c16ba",
   "metadata": {},
   "outputs": [
    {
     "name": "stdout",
     "output_type": "stream",
     "text": [
      "[1 3 5 7 9]\n"
     ]
    }
   ],
   "source": [
    "#1부터 10까지 홀수를 가진 배열을 생성\n",
    "\n",
    "ar = np.arange(1, 10, 2)\n",
    "print(ar)"
   ]
  },
  {
   "cell_type": "code",
   "execution_count": 18,
   "id": "8bea9198",
   "metadata": {},
   "outputs": [
    {
     "name": "stdout",
     "output_type": "stream",
     "text": [
      "[nan  0.  0.  0.  0.  0.  0.  0.  0.  0.]\n"
     ]
    }
   ],
   "source": [
    "# 의미 없는 값으로 배열을 생성\n",
    "ar = np.empty (10)\n",
    "print(ar)"
   ]
  },
  {
   "cell_type": "code",
   "execution_count": null,
   "id": "483d3c88",
   "metadata": {},
   "outputs": [],
   "source": []
  },
  {
   "cell_type": "code",
   "execution_count": 20,
   "id": "c91be80c",
   "metadata": {},
   "outputs": [
    {
     "name": "stdout",
     "output_type": "stream",
     "text": [
      "[[1. 0. 0.]\n",
      " [0. 1. 0.]\n",
      " [0. 0. 1.]]\n",
      "[1. 1. 1.]\n"
     ]
    }
   ],
   "source": [
    "#주대각선 방향이 1 인 3*3 정방 행렬을 생성\n",
    "\n",
    "ar = np.eye(3)\n",
    "print(ar)\n",
    "\n",
    "#행렬에서 주 대긱산의 데이터만 골라서 배열을 생성\n",
    "print(np.diag(ar))"
   ]
  },
  {
   "cell_type": "code",
   "execution_count": 24,
   "id": "a29def45",
   "metadata": {},
   "outputs": [
    {
     "name": "stdout",
     "output_type": "stream",
     "text": [
      "<U11\n",
      "float64\n",
      "int32\n"
     ]
    }
   ],
   "source": [
    "#데이터 티입 확인과 형 변환\n",
    "ar = np.array([1, \"2\", 3]) # 숫자와 문자열을 가지고 배열 생성 - 문자열\n",
    "print(ar.dtype)\n",
    "\n",
    "br = np.array([1, 2.3 ,5]) # 정수와 실수 혼합 - 실수\n",
    "print(br.dtype)\n",
    "\n",
    "# ar 배열의 자료형을 정수로 변환\n",
    "cr = ar.astype(np.int32)\n",
    "print(cr.dtype)\n"
   ]
  },
  {
   "cell_type": "code",
   "execution_count": 31,
   "id": "f5908f58",
   "metadata": {},
   "outputs": [
    {
     "name": "stdout",
     "output_type": "stream",
     "text": [
      "[ 0  1  2  3  4  5  6  7  8  9 10 11 12 13 14 15 16 17 18 19]\n",
      "[[ 0  1  2  3  4]\n",
      " [ 5  6  7  8  9]\n",
      " [10 11 12 13 14]\n",
      " [15 16 17 18 19]]\n",
      "[[ 0  1  2  3  4]\n",
      " [ 5  6  7  8  9]\n",
      " [10 11 12 13 14]\n",
      " [15 16 17 18 19]]\n",
      "[ 0  1  2  3  4  5  6  7  8  9 10 11 12 13 14 15 16 17 18 19]\n"
     ]
    }
   ],
   "source": [
    "# 0부터 19까지 숫자를 가지고 1차원 배열 생성\n",
    "ar = np.arange(20)\n",
    "print(ar)\n",
    "\n",
    "#ar을 4*5으로 2차원 배열로 변환\n",
    "matrix = ar.reshape((4, 5))\n",
    "print(matrix)\n",
    "\n",
    "# 5대신 -1을 대입해도 결과는 동일\n",
    "# 20개의 데이터는 4행으로 만들려면 5열밖에 안 생김\n",
    "matrix = ar.reshape(4, -1)\n",
    "print(matrix)\n",
    "\n",
    "# 다차원 데이터를 1차원으로 변환\n",
    "br = matrix.reshape(-1)\n",
    "br = matrix.flatten() # 똑같은 표현\n",
    "print(br)"
   ]
  },
  {
   "cell_type": "code",
   "execution_count": 32,
   "id": "5c601527",
   "metadata": {},
   "outputs": [
    {
     "name": "stdout",
     "output_type": "stream",
     "text": [
      "0\n",
      "9 \n",
      "\n",
      "2\n",
      "2\n"
     ]
    }
   ],
   "source": [
    "# 배열에서 하나의 요소 접근\n",
    "ar = np.arange(10)\n",
    "matrix = ar.reshape((2, -1))\n",
    "\n",
    "# 일차원 배열에 요소 접근\n",
    "print(ar[0]) # 첫 번째 데이터\n",
    "print(ar[-1], \"\\n\") # 두 번째 데이터\n",
    "\n",
    "print(matrix[0, 2])\n",
    "print(matrix[0][2])"
   ]
  },
  {
   "cell_type": "code",
   "execution_count": 34,
   "id": "7a69caf5",
   "metadata": {},
   "outputs": [
    {
     "name": "stdout",
     "output_type": "stream",
     "text": [
      "[1 2 3]\n",
      "[5 6 7 8 9]\n",
      "[0 1 2 3]\n",
      "[0 1 2 3 4 5 6 7 8 9]\n",
      "[6 7]\n",
      "[5 6 7 8 9]\n",
      "[1 6]\n"
     ]
    }
   ],
   "source": [
    "# 배열에서 범위를 이용한 접근\n",
    "ar = np.arange(10)\n",
    "matrix = ar.reshape((2, -1))\n",
    "\n",
    "print(ar[1:4]) # 1, 2, 3\n",
    "print(ar[5:]) # 5, 6, 7, 8, 9\n",
    "print(ar[:4]) # 0, 1, 2, 3\n",
    "print(ar[:]) # 0, 1, 2, 3, 4, 5, 6, 7, 8, 9\n",
    "\n",
    "# 이차원 배열에서의 접근\n",
    "print(matrix[1][1:3]) # 1행의 2,3번\n",
    "print(matrix[1]) # 1행 전체\n",
    "print(matrix[:, 1]) # 1열 전체"
   ]
  },
  {
   "cell_type": "code",
   "execution_count": 36,
   "id": "0e3d1494",
   "metadata": {},
   "outputs": [
    {
     "name": "stdout",
     "output_type": "stream",
     "text": [
      "[0 1 2 3 4 5 6 7 8 9]\n",
      "[0 1 2 3]\n",
      "[42  1  2  3]\n",
      "[0 1 2 3 4 5 6 7 8 9]\n"
     ]
    }
   ],
   "source": [
    "# 배열 생성\n",
    "ar = np.arange(10)\n",
    "print(ar)\n",
    "#범위를 이용해서 데이터를 가져오는 것 - 참조를 복사\n",
    "br = ar[0:4].copy() # ar을 복사해서 br에 저장\n",
    "print(br)\n",
    "#br[0] 을 수정하면 ar의 데이터도 영향을 받게 됩니다.\n",
    "br[0] = 42\n",
    "print(br)\n",
    "print(ar)# ar은 영향을 안 받아요!"
   ]
  },
  {
   "cell_type": "code",
   "execution_count": 37,
   "id": "664e348a",
   "metadata": {},
   "outputs": [
    {
     "name": "stdout",
     "output_type": "stream",
     "text": [
      "[1 3 5 7]\n",
      "[15790     3     5     7]\n",
      "[0 1 2 3 4 5 6 7 8 9]\n"
     ]
    }
   ],
   "source": [
    "ar = np.arange(10)\n",
    "\n",
    "#Fancy Indexing\n",
    "br = ar[[1, 3, 5, 7]]\n",
    "print(br)\n",
    "br[0] = 15790\n",
    "\n",
    "print(br)\n",
    "print(ar)"
   ]
  },
  {
   "cell_type": "code",
   "execution_count": 40,
   "id": "2d3522db",
   "metadata": {},
   "outputs": [
    {
     "name": "stdout",
     "output_type": "stream",
     "text": [
      "[[0 1 2 3 4]\n",
      " [5 6 7 8 9]]\n",
      "[0 5]\n",
      "[[0]\n",
      " [5]]\n"
     ]
    }
   ],
   "source": [
    "matrix = ar.reshape((2, -1))\n",
    "print(matrix)\n",
    "\n",
    "print(matrix[ :, 0])\n",
    "#이차원 배열에서 list를 이용해서 행 번호나 열 번호를 지정하면 이차원 배열이 만들어집니다.\n",
    "print(matrix[ :, [0]])\n",
    "\n",
    "#numpy 의 ndarray 나 pandas 의 DataFrame에서\n",
    "#하나의 열을 선택할 때 list로 설정하는 경우는 구조를 유지하기 위해서입니다.\n"
   ]
  },
  {
   "cell_type": "code",
   "execution_count": 44,
   "id": "7d02f57f",
   "metadata": {},
   "outputs": [
    {
     "name": "stdout",
     "output_type": "stream",
     "text": [
      "True\n",
      "False\n"
     ]
    }
   ],
   "source": [
    "print(bool([1,2,3] and [4, 5, 6]))\n",
    "print(bool([1,2,3] and []))\n"
   ]
  },
  {
   "cell_type": "code",
   "execution_count": 48,
   "id": "3badf4f6",
   "metadata": {},
   "outputs": [
    {
     "name": "stdout",
     "output_type": "stream",
     "text": [
      "[[10 11 12 13 14]\n",
      " [15 16 17 18 19]]\n",
      "[[100 201 302 403 504]\n",
      " [105 206 307 408 509]]\n"
     ]
    }
   ],
   "source": [
    "#이차원 배열\n",
    "matrix = ar.reshape((2, -1))\n",
    "\n",
    "#브로드캐스트 연산\n",
    "#차원이 다른 경우 차원을 순회하면서 연산을 수행\n",
    "print(matrix + 10)\n",
    "\n",
    "data = np.array([100, 200, 300, 400, 500]) # 열 수를 맞춰야 한다\n",
    "print(matrix + data)"
   ]
  },
  {
   "cell_type": "code",
   "execution_count": 52,
   "id": "751526f4",
   "metadata": {},
   "outputs": [
    {
     "name": "stdout",
     "output_type": "stream",
     "text": [
      "[[0 1 2 3 4]\n",
      " [5 6 7 8 9]]\n",
      "[0 1 2 3 4 5 6 7 8 9]\n",
      "[False False False  True False False False False False False]\n",
      "[1 3 5 7 9]\n",
      "[0 1 3 4 5 7 8 9]\n"
     ]
    }
   ],
   "source": [
    "print(matrix)\n",
    "print(ar)\n",
    "\n",
    "# 브로드캐스트 연산\n",
    "#numpy 의 ndarray 와 논리 연산을 수행하면 bool 배열이 만들어집니다.\n",
    "print(ar == 3)\n",
    "# 인덱스에 불 배열을 대입하면 True인 데이터만 추출됩니다.\n",
    "print(ar[ar % 2 == 1])# 이러면 ar [True인 것들만] 추출된다.\n",
    "\n",
    "# 두개의 조건을 결합하는 경우\n",
    "# print(ar[ar % 2 == 1] or ar[ar % 4 == 0])\n",
    "print(ar[(ar % 2 == 1) | (ar % 4 == 0)]) # 홀수 이면서 4의 배수인 것\n",
    "# 참고! 확률이 더 높은 것을 왼쪽에 두세요!"
   ]
  },
  {
   "cell_type": "code",
   "execution_count": null,
   "id": "5f46c81b",
   "metadata": {},
   "outputs": [],
   "source": []
  }
 ],
 "metadata": {
  "kernelspec": {
   "display_name": "Python 3 (ipykernel)",
   "language": "python",
   "name": "python3"
  },
  "language_info": {
   "codemirror_mode": {
    "name": "ipython",
    "version": 3
   },
   "file_extension": ".py",
   "mimetype": "text/x-python",
   "name": "python",
   "nbconvert_exporter": "python",
   "pygments_lexer": "ipython3",
   "version": "3.11.5"
  }
 },
 "nbformat": 4,
 "nbformat_minor": 5
}
