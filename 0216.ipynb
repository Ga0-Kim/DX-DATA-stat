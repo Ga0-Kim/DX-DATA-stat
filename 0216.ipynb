{
 "cells": [
  {
   "cell_type": "markdown",
   "id": "d14349ee",
   "metadata": {},
   "source": [
    "## 데이터 전처리\n",
    "### 자료형 변환"
   ]
  },
  {
   "cell_type": "code",
   "execution_count": 1,
   "id": "3bf8aab0",
   "metadata": {},
   "outputs": [],
   "source": [
    "import numpy as np\n",
    "import pandas as pd"
   ]
  },
  {
   "cell_type": "code",
   "execution_count": 14,
   "id": "0c88d171",
   "metadata": {},
   "outputs": [],
   "source": [
    "#이미지나 그래프에 한글 출력을 위한 설정\n",
    "import matplotlib.pyplot as plt\n",
    "import platform\n",
    "from matplotlib import font_manager, rc\n",
    "\n",
    "if platform.system() == 'Darwin' :\n",
    "    rc('font', family = 'AppleGothic')\n",
    "elif platform.system() == 'Windows' :\n",
    "    font_name = font_manager.FontProperties(\n",
    "        fname = 'c:/Windows/Fonts/malgun.ttf').get_name()\n",
    "    rc('font', family = font_name)\n",
    "    \n",
    "#음수 출력 설정\n",
    "import matplotlib\n",
    "matplotlib.rcParams['axes.unicode_minus'] = False\n",
    "    \n"
   ]
  },
  {
   "cell_type": "code",
   "execution_count": 3,
   "id": "5ef6b058",
   "metadata": {},
   "outputs": [
    {
     "name": "stdout",
     "output_type": "stream",
     "text": [
      "<class 'pandas.core.frame.DataFrame'>\n",
      "RangeIndex: 398 entries, 0 to 397\n",
      "Data columns (total 9 columns):\n",
      " #   Column        Non-Null Count  Dtype  \n",
      "---  ------        --------------  -----  \n",
      " 0   mpg           398 non-null    float64\n",
      " 1   cylinders     398 non-null    int64  \n",
      " 2   displacement  398 non-null    float64\n",
      " 3   horsepower    398 non-null    object \n",
      " 4   weight        398 non-null    float64\n",
      " 5   acceleration  398 non-null    float64\n",
      " 6   model year    398 non-null    int64  \n",
      " 7   origin        398 non-null    int64  \n",
      " 8   name          398 non-null    object \n",
      "dtypes: float64(4), int64(3), object(2)\n",
      "memory usage: 28.1+ KB\n"
     ]
    }
   ],
   "source": [
    "# 데이터 불러오기 \n",
    "mpg = pd.read_csv('./data/auto-mpg.csv', header= None)\n",
    "mpg.columns=['mpg','cylinders','displacement','horsepower','weight','acceleration',\n",
    "             'model year','origin','name']\n",
    "# print(mpg.head())\n",
    "mpg.info()"
   ]
  },
  {
   "cell_type": "code",
   "execution_count": 6,
   "id": "811452b6",
   "metadata": {},
   "outputs": [
    {
     "name": "stdout",
     "output_type": "stream",
     "text": [
      "['130.0' '165.0' '150.0' '140.0' '198.0' '220.0' '215.0' '225.0' '190.0'\n",
      " '170.0' '160.0' '95.00' '97.00' '85.00' '88.00' '46.00' '87.00' '90.00'\n",
      " '113.0' '200.0' '210.0' '193.0' '?' '100.0' '105.0' '175.0' '153.0'\n",
      " '180.0' '110.0' '72.00' '86.00' '70.00' '76.00' '65.00' '69.00' '60.00'\n",
      " '80.00' '54.00' '208.0' '155.0' '112.0' '92.00' '145.0' '137.0' '158.0'\n",
      " '167.0' '94.00' '107.0' '230.0' '49.00' '75.00' '91.00' '122.0' '67.00'\n",
      " '83.00' '78.00' '52.00' '61.00' '93.00' '148.0' '129.0' '96.00' '71.00'\n",
      " '98.00' '115.0' '53.00' '81.00' '79.00' '120.0' '152.0' '102.0' '108.0'\n",
      " '68.00' '58.00' '149.0' '89.00' '63.00' '48.00' '66.00' '139.0' '103.0'\n",
      " '125.0' '133.0' '138.0' '135.0' '142.0' '77.00' '62.00' '132.0' '84.00'\n",
      " '64.00' '74.00' '116.0' '82.00']\n",
      "<class 'pandas.core.frame.DataFrame'>\n",
      "Index: 392 entries, 0 to 397\n",
      "Data columns (total 9 columns):\n",
      " #   Column        Non-Null Count  Dtype  \n",
      "---  ------        --------------  -----  \n",
      " 0   mpg           392 non-null    float64\n",
      " 1   cylinders     392 non-null    int64  \n",
      " 2   displacement  392 non-null    float64\n",
      " 3   horsepower    392 non-null    float64\n",
      " 4   weight        392 non-null    float64\n",
      " 5   acceleration  392 non-null    float64\n",
      " 6   model year    392 non-null    int64  \n",
      " 7   origin        392 non-null    int64  \n",
      " 8   name          392 non-null    object \n",
      "dtypes: float64(5), int64(3), object(1)\n",
      "memory usage: 30.6+ KB\n"
     ]
    }
   ],
   "source": [
    "#horsepower 를 숫자 자료형으로 변경\n",
    "print(mpg['horsepower'].unique()) # ?가 포함\n",
    "#이 방법은 데이터가 아주 많거나 데이터의 종류가 연속형 형태면 쉽지 않습니다.\n",
    "\n",
    "#데이터가 많을 때는 일단 형변환을 해보자!\n",
    "# mpg['horsepower'] = mpg['horsepower'].astype('float') # 이러면 ? 가 문제가 되었다는 걸 찾게 됨\n",
    "\n",
    "# ? 를 NaN으로 치환\n",
    "mpg['horsepower'].replace('?', np.nan, inplace = True)\n",
    "\n",
    "# NaN을 drop\n",
    "mpg.dropna(subset =['horsepower'], axis = 0, inplace = True) #horsepower에서만 nan을 제거\n",
    "\n",
    "# 자료형 변환\n",
    "mpg['horsepower'] = mpg['horsepower'].astype('float')\n",
    "\n",
    "mpg.info()"
   ]
  },
  {
   "cell_type": "code",
   "execution_count": 7,
   "id": "22f32771",
   "metadata": {},
   "outputs": [
    {
     "name": "stdout",
     "output_type": "stream",
     "text": [
      "['USE' 'JAPAN' 'EU']\n",
      "0    USE\n",
      "1    USE\n",
      "2    USE\n",
      "3    USE\n",
      "4    USE\n",
      "Name: origin, dtype: object\n"
     ]
    }
   ],
   "source": [
    "#origin 의 데이터를 1 → USA ,2 → EU, 3 → JAPAN으로 치환하기\n",
    "mpg['origin'].replace({1: 'USE', 2 : 'EU', 3 :'JAPAN'}, inplace = True)\n",
    "print(mpg['origin'].unique())\n",
    "print(mpg['origin'].head())"
   ]
  },
  {
   "cell_type": "code",
   "execution_count": 8,
   "id": "b8fb77e6",
   "metadata": {},
   "outputs": [
    {
     "name": "stdout",
     "output_type": "stream",
     "text": [
      "<class 'pandas.core.frame.DataFrame'>\n",
      "Index: 392 entries, 0 to 397\n",
      "Data columns (total 9 columns):\n",
      " #   Column        Non-Null Count  Dtype   \n",
      "---  ------        --------------  -----   \n",
      " 0   mpg           392 non-null    float64 \n",
      " 1   cylinders     392 non-null    int64   \n",
      " 2   displacement  392 non-null    float64 \n",
      " 3   horsepower    392 non-null    float64 \n",
      " 4   weight        392 non-null    float64 \n",
      " 5   acceleration  392 non-null    float64 \n",
      " 6   model year    392 non-null    category\n",
      " 7   origin        392 non-null    object  \n",
      " 8   name          392 non-null    object  \n",
      "dtypes: category(1), float64(5), int64(1), object(2)\n",
      "memory usage: 28.6+ KB\n",
      "None\n"
     ]
    }
   ],
   "source": [
    "#model year 컬럼의 값을 범주형(category - 특정 값만을 가져야하는 자료형)으로 치환\n",
    "# 문자열이나 숫자 자료형은 원핫 인코딩이 안되는 경우가 발생할 수 있음\n",
    "mpg['model year'] = mpg['model year'].astype('category')\n",
    "print(mpg.info())"
   ]
  },
  {
   "cell_type": "markdown",
   "id": "2a40a952",
   "metadata": {},
   "source": [
    "## Standardization (표준화)\n",
    "### 표준 값과 편차 값"
   ]
  },
  {
   "cell_type": "code",
   "execution_count": 18,
   "id": "32b49e42",
   "metadata": {
    "scrolled": true
   },
   "outputs": [
    {
     "data": {
      "text/plain": [
       "<Axes: >"
      ]
     },
     "execution_count": 18,
     "metadata": {},
     "output_type": "execute_result"
    },
    {
     "data": {
      "image/png": "[encoded data removed]",
      "text/plain": [
       "<Figure size 640x480 with 1 Axes>"
      ]
     },
     "metadata": {},
     "output_type": "display_data"
    }
   ],
   "source": [
    "#student.csv 파일 읽기\n",
    "students = pd.read_csv('./data/student.csv', encoding = 'cp949')\n",
    "# print(students)\n",
    "#막대 그래프 그리기\n",
    "#별다른 설정없이 그리면 한글이 출력되지 않음\n",
    "students.plot(kind = 'bar')\n"
   ]
  },
  {
   "cell_type": "code",
   "execution_count": 22,
   "id": "63e00047",
   "metadata": {},
   "outputs": [
    {
     "name": "stdout",
     "output_type": "stream",
     "text": [
      "    이름  국어  영어  수학     국어표준값     영어표준값     수학표준값      국어편차값      영어편차값  \\\n",
      "0  박지영  90  85  55  0.616320  0.554321 -0.941716  56.163201  55.543208   \n",
      "1  김태함  70  65  80 -0.176091 -0.386979  0.399335  48.239085  46.130213   \n",
      "2  김효섭  92  95  76  0.695561  1.024971  0.184767  56.955613  60.249706   \n",
      "3  임경희  76  89  88  0.061632  0.742581  0.828471  50.616320  57.425807   \n",
      "4  권혁진  97  87  83  0.893664  0.648451  0.560261  58.936642  56.484508   \n",
      "5  하혜진  80  86  97  0.220114  0.601386  1.311250  52.201143  56.013858   \n",
      "6  이준원  20  30  40 -2.157120 -2.034253 -1.746346  28.428796  29.657471   \n",
      "7  윤정웅  50  52  54 -0.968503 -0.998823 -0.995358  40.314970  40.011766   \n",
      "8  주시현  95  70  80  0.814423 -0.151654  0.399335  58.144230  48.483462   \n",
      "\n",
      "       수학편차값  \n",
      "0  40.582843  \n",
      "1  53.993351  \n",
      "2  51.847670  \n",
      "3  58.284714  \n",
      "4  55.602612  \n",
      "5  63.112497  \n",
      "6  32.536538  \n",
      "7  40.046423  \n",
      "8  53.993351  \n"
     ]
    }
   ],
   "source": [
    "#표준 값과 편차값 구하기\n",
    "kormean, korstd = students['국어'].mean(), students['국어'].std()\n",
    "engmean, engstd = students['영어'].mean(), students['영어'].std()\n",
    "matmean, matstd = students['수학'].mean(), students['수학'].std()\n",
    "\n",
    "students['국어표준값'] = (students['국어']- kormean) / korstd\n",
    "students['영어표준값'] = (students['영어']- engmean) / engstd\n",
    "students['수학표준값'] = (students['수학']- matmean) / matstd\n",
    "\n",
    "students['국어편차값'] = (students['국어표준값'] * 10) + 50\n",
    "students['영어편차값'] = (students['영어표준값'] * 10) + 50\n",
    "students['수학편차값'] = (students['수학표준값'] * 10) + 50\n",
    "\n",
    "print(students)"
   ]
  },
  {
   "cell_type": "code",
   "execution_count": 23,
   "id": "71c77358",
   "metadata": {},
   "outputs": [
    {
     "data": {
      "text/plain": [
       "<Axes: >"
      ]
     },
     "execution_count": 23,
     "metadata": {},
     "output_type": "execute_result"
    },
    {
     "data": {
      "image/png": "[encoded data removed]",
      "text/plain": [
       "<Figure size 640x480 with 1 Axes>"
      ]
     },
     "metadata": {},
     "output_type": "display_data"
    }
   ],
   "source": [
    "students[['국어편차값','영어편차값','수학편차값']].plot(kind = 'bar')"
   ]
  },
  {
   "cell_type": "markdown",
   "id": "eb475acc",
   "metadata": {},
   "source": [
    "### scikit-learn을 이용한 표준화"
   ]
  },
  {
   "cell_type": "code",
   "execution_count": 25,
   "id": "9550b8eb",
   "metadata": {},
   "outputs": [],
   "source": [
    "from sklearn import preprocessing\n"
   ]
  },
  {
   "cell_type": "code",
   "execution_count": 26,
   "id": "050090db",
   "metadata": {},
   "outputs": [
    {
     "name": "stdout",
     "output_type": "stream",
     "text": [
      "표준화 전의 기술 통계\n",
      "평균: 104.46938775510205\n",
      "표준 편차: 38.44203271442593\n",
      "최대: 230.0\n",
      "최소: 46.0\n"
     ]
    }
   ],
   "source": [
    "#scikit-learn은 머신러닝을 위한 패키지라서 numpy 배열을 가지고 작업을 수행\n",
    "x = mpg[['horsepower']].values\n",
    "\n",
    "print('표준화 전의 기술 통계')\n",
    "print('평균:' , np.mean(x))\n",
    "print('표준 편차:' , np.std(x))\n",
    "print('최대:' , np.max(x))\n",
    "print('최소:' , np.min(x))"
   ]
  },
  {
   "cell_type": "code",
   "execution_count": 27,
   "id": "58241548",
   "metadata": {},
   "outputs": [
    {
     "name": "stdout",
     "output_type": "stream",
     "text": [
      "평균 0 , 표편 1인 표준화 작업 후의 기술 통계\n",
      "평균: -1.812609019796174e-16\n",
      "표준 편차: 0.9999999999999998\n",
      "최대: 3.2654519904664348\n",
      "최소: -1.5209754434541274\n"
     ]
    }
   ],
   "source": [
    "# 평균이 0이고 표편이 1로 만드는 스케일러\n",
    "scaler = preprocessing.StandardScaler()\n",
    "\n",
    "scaler.fit(x) # 표준화 작업 전\n",
    "x_scaled  = scaler.transform(x) # 얘가 표준화 실행\n",
    "\n",
    "# dir(scaler)\n",
    "# x_scaled = scaler.fit_transform(x) # 두 가지 방법을 한번에\n",
    "\n",
    "print('평균 0 , 표편 1인 표준화 작업 후의 기술 통계')\n",
    "print('평균:' , np.mean(x_scaled))\n",
    "print('표준 편차:' , np.std(x_scaled))\n",
    "print('최대:' , np.max(x_scaled))\n",
    "print('최소:' , np.min(x_scaled))"
   ]
  },
  {
   "cell_type": "code",
   "execution_count": 28,
   "id": "6b2ca523",
   "metadata": {},
   "outputs": [
    {
     "name": "stdout",
     "output_type": "stream",
     "text": [
      "이상치가 많은 경우의 표준화 작업 후의 기술 통계\n",
      "평균: 0.2150860344137655\n",
      "표준 편차: 0.7537653473416848\n",
      "최대: 2.676470588235294\n",
      "최소: -0.9313725490196079\n"
     ]
    }
   ],
   "source": [
    "# 이상치가 많은 경우의 스케일러\n",
    "scaler = preprocessing.RobustScaler()\n",
    "\n",
    "scaler.fit(x)\n",
    "x_scaled  = scaler.transform(x)\n",
    "\n",
    "print('이상치가 많은 경우의 표준화 작업 후의 기술 통계')\n",
    "print('평균:' , np.mean(x_scaled))\n",
    "print('표준 편차:' , np.std(x_scaled))\n",
    "print('최대:' , np.max(x_scaled))\n",
    "print('최소:' , np.min(x_scaled))"
   ]
  },
  {
   "cell_type": "markdown",
   "id": "259a244c",
   "metadata": {},
   "source": [
    "### scikit-learn을 이용한 정규화"
   ]
  },
  {
   "cell_type": "code",
   "execution_count": 37,
   "id": "b6d506f4",
   "metadata": {},
   "outputs": [
    {
     "name": "stdout",
     "output_type": "stream",
     "text": [
      "[[0.33333333 0.66666667]\n",
      " [0.42857143 0.57142857]\n",
      " [0.45454545 0.54545455]]\n",
      "[[0.4472136  0.89442719]\n",
      " [0.6        0.8       ]\n",
      " [0.6401844  0.76822128]]\n"
     ]
    }
   ],
   "source": [
    "from sklearn.preprocessing import Normalizer\n",
    "\n",
    "featuers = np.array([[1, 2], [3, 4], [5, 6]])\n",
    "\n",
    "#정규화 객체를 생성\n",
    "#l1은 행 데이터의 합을 가지고 각 데이터를 나눈 값 : 다 더하면 1\n",
    "#ㅣ2은 각 데이터를 각 데이터를 제곱해서 더한 값의 제곱근으로 나눈 값\n",
    "normalizer_l1 = Normalizer(norm = 'l1')\n",
    "normalizer_l2 = Normalizer(norm = 'l2')\n",
    "\n",
    "\n",
    "result_l1 = normalizer_l1.transform(featuers)\n",
    "result_l2 = normalizer_l2.transform(featuers)\n",
    "\n",
    "print(result_l1)\n",
    "print(result_l2)"
   ]
  },
  {
   "cell_type": "markdown",
   "id": "a1f80779",
   "metadata": {},
   "source": [
    "### 다항 및 교차항 특성 만들기"
   ]
  },
  {
   "cell_type": "code",
   "execution_count": 40,
   "id": "6154cbe0",
   "metadata": {},
   "outputs": [
    {
     "name": "stdout",
     "output_type": "stream",
     "text": [
      "[[ 2.  3.  4.  6.  9.]\n",
      " [ 3.  4.  9. 12. 16.]\n",
      " [ 1.  5.  1.  5. 25.]]\n",
      "[[ 1.  2.  3.  6.]\n",
      " [ 1.  3.  4. 12.]\n",
      " [ 1.  1.  5.  5.]]\n"
     ]
    }
   ],
   "source": [
    "from sklearn.preprocessing import PolynomialFeatures\n",
    "\n",
    "features = np.array([[2,3 ], [3, 4],[1, 5]])\n",
    "\n",
    "#다항 및 교차항을 생성해주는 객체를 생성\n",
    "ploynomial_interaction = PolynomialFeatures(degree = 2, include_bias = False)\n",
    "result = ploynomial_interaction.fit_transform(features)\n",
    "print(result)\n",
    "\n",
    "ploynomial_interaction = PolynomialFeatures(degree = 2, include_bias = True,\n",
    "                                           interaction_only = True)\n",
    "result = ploynomial_interaction.fit_transform(features)\n",
    "print(result)"
   ]
  },
  {
   "cell_type": "markdown",
   "id": "e097f929",
   "metadata": {},
   "source": [
    "## 특성 변환"
   ]
  },
  {
   "cell_type": "code",
   "execution_count": 43,
   "id": "232cc51c",
   "metadata": {},
   "outputs": [
    {
     "name": "stdout",
     "output_type": "stream",
     "text": [
      "[[2 4]\n",
      " [4 7]]\n",
      "   f1  f2\n",
      "0   2   4\n",
      "1   4   7\n"
     ]
    }
   ],
   "source": [
    "# 함수를 적용해서 데이터를 변경하는 것\n",
    "from sklearn.preprocessing import FunctionTransformer\n",
    "\n",
    "features = np.array([[1, 3],[3, 6]])\n",
    "\n",
    "#적용할 함수\n",
    "def add_one(x:int) -> int:\n",
    "    return x + 1\n",
    "\n",
    "one_transformer = FunctionTransformer(add_one)\n",
    "result = one_transformer.transform(features)\n",
    "print(result)\n",
    "\n",
    "df = pd.DataFrame(features, columns=['f1', 'f2'])\n",
    "print(df.apply(add_one))"
   ]
  },
  {
   "cell_type": "markdown",
   "id": "fe326221",
   "metadata": {},
   "source": [
    "### 이산화(범주화)"
   ]
  },
  {
   "cell_type": "code",
   "execution_count": 44,
   "id": "14610fae",
   "metadata": {},
   "outputs": [
    {
     "name": "stdout",
     "output_type": "stream",
     "text": [
      "[257 103  32]\n",
      "[ 46.         107.33333333 168.66666667 230.        ]\n"
     ]
    }
   ],
   "source": [
    "#연속형 데이터를 간격단위로 분할해서 값을 할당하는 작업을 이산화\n",
    "\n",
    "#구간 생성\n",
    "#3개의 구간으로 분할\n",
    "#최소값 부터 최대값까지 3개로 분할하고 데이터의 개수와 경계값을 리턴해줍니다.\n",
    "count, bin_dividers = np.histogram(mpg['horsepower'], bins = 3)\n",
    "print(count)\n",
    "print(bin_dividers)"
   ]
  },
  {
   "cell_type": "code",
   "execution_count": 47,
   "id": "353da81e",
   "metadata": {},
   "outputs": [
    {
     "name": "stdout",
     "output_type": "stream",
     "text": [
      "    horsepower hp_bin\n",
      "0        130.0   보통출력\n",
      "1        165.0   보통출력\n",
      "2        150.0   보통출력\n",
      "3        150.0   보통출력\n",
      "4        140.0   보통출력\n",
      "5        198.0    고출력\n",
      "6        220.0    고출력\n",
      "7        215.0    고출력\n",
      "8        225.0    고출력\n",
      "9        190.0    고출력\n",
      "10       170.0    고출력\n",
      "11       160.0   보통출력\n",
      "12       150.0   보통출력\n",
      "13       225.0    고출력\n",
      "14        95.0    저출력\n",
      "15        95.0    저출력\n",
      "16        97.0    저출력\n",
      "17        85.0    저출력\n",
      "18        88.0    저출력\n",
      "19        46.0    저출력\n"
     ]
    }
   ],
   "source": [
    "# 각 그룹에 할당할 데이터를 생성\n",
    "bin_names = ['저출력', '보통출력', '고출력']\n",
    "\n",
    "# 이산화\n",
    "# x는 분할할 데이터, bins는 구간의 경계값 리스트, lables는 구간에 할당할 데이터 목록\n",
    "#include_lowest 는 첫 경계값 포함 여부\n",
    "mpg['hp_bin'] = pd.cut(x = mpg['horsepower'], bins = bin_dividers,\n",
    "                      labels = bin_names, include_lowest = True)\n",
    "print(mpg[['horsepower', 'hp_bin']].head(20))"
   ]
  },
  {
   "cell_type": "markdown",
   "id": "e2fa3b5c",
   "metadata": {},
   "source": [
    "### numpy 의 digitize를 이용한 구간 분할"
   ]
  },
  {
   "cell_type": "code",
   "execution_count": 48,
   "id": "69b0c178",
   "metadata": {},
   "outputs": [
    {
     "name": "stdout",
     "output_type": "stream",
     "text": [
      "[[0]\n",
      " [1]\n",
      " [1]\n",
      " [1]\n",
      " [0]\n",
      " [1]]\n"
     ]
    }
   ],
   "source": [
    "age = np.array([[13],[30],[57],[54],[25],[31]])\n",
    "#pandas의 매서드들은 DataFrame 이나 Series를 이용해서 작업\n",
    "#머신러닝관련한 메서드들을 2차원 이상의 ndarray를 가지고 작업을 진행함\n",
    "\n",
    "#30이 안되면 0, 30이상이면 1로 변환\n",
    "#bins에는 여러개의 데이터 설정이 가능\n",
    "result =np.digitize(age, bins = [30])\n",
    "print(result)"
   ]
  },
  {
   "cell_type": "markdown",
   "id": "3a4556d8",
   "metadata": {},
   "source": [
    "## Binarizer를 이용한 구간 분할"
   ]
  },
  {
   "cell_type": "code",
   "execution_count": 50,
   "id": "5bec4099",
   "metadata": {},
   "outputs": [
    {
     "name": "stdout",
     "output_type": "stream",
     "text": [
      "[[0]\n",
      " [0]\n",
      " [1]\n",
      " [1]\n",
      " [0]\n",
      " [1]]\n"
     ]
    }
   ],
   "source": [
    "from sklearn.preprocessing import Binarizer\n",
    "\n",
    "#threshold(임계값)\n",
    "#흑백 이미지 데이터에서 뚜력한 구분하기 위해서 임계값을 설정해서\n",
    "#임계값 아래 와 위를 구분합니다.\n",
    "binarizer = Binarizer(threshold = 30.0)\n",
    "print(binarizer.transform(age))"
   ]
  },
  {
   "cell_type": "markdown",
   "id": "a0cf988b",
   "metadata": {},
   "source": [
    "## KBinsDiscretizer를 이용한 구간 분할"
   ]
  },
  {
   "cell_type": "code",
   "execution_count": 52,
   "id": "385cdde1",
   "metadata": {},
   "outputs": [
    {
     "name": "stdout",
     "output_type": "stream",
     "text": [
      "[[0.]\n",
      " [1.]\n",
      " [3.]\n",
      " [3.]\n",
      " [0.]\n",
      " [2.]]\n",
      "  (0, 0)\t1.0\n",
      "  (1, 1)\t1.0\n",
      "  (2, 3)\t1.0\n",
      "  (3, 3)\t1.0\n",
      "  (4, 0)\t1.0\n",
      "  (5, 2)\t1.0\n",
      "[[1. 0. 0. 0.]\n",
      " [0. 1. 0. 0.]\n",
      " [0. 0. 0. 1.]\n",
      " [0. 0. 0. 1.]\n",
      " [1. 0. 0. 0.]\n",
      " [0. 0. 1. 0.]]\n"
     ]
    }
   ],
   "source": [
    "from sklearn.preprocessing import KBinsDiscretizer\n",
    "\n",
    "#균등한 분포로 4분할\n",
    "#ordinal : 라벨 인코딩 - 일련번호\n",
    "kb = KBinsDiscretizer(4, encode='ordinal', strategy = 'quantile')\n",
    "print(kb.fit_transform(age))\n",
    "\n",
    "#onehot 인코딩 - 희소 행렬\n",
    "kb = KBinsDiscretizer(4, encode='onehot', strategy = 'quantile')\n",
    "print(kb.fit_transform(age))\n",
    "\n",
    "#onehot 인코딩 - 밀집 행렬로 표현\n",
    "kb = KBinsDiscretizer(4, encode='onehot-dense', strategy = 'quantile')\n",
    "print(kb.fit_transform(age))"
   ]
  },
  {
   "cell_type": "markdown",
   "id": "b870d070",
   "metadata": {},
   "source": [
    "## KMeans 알고리즘을 이용한 군집의 결과를 컬럼으로 추가"
   ]
  },
  {
   "cell_type": "code",
   "execution_count": 57,
   "id": "7e551ba3",
   "metadata": {},
   "outputs": [
    {
     "name": "stderr",
     "output_type": "stream",
     "text": [
      "C:\\Users\\USER\\anaconda3\\Lib\\site-packages\\sklearn\\cluster\\_kmeans.py:1412: FutureWarning: The default value of `n_init` will change from 10 to 'auto' in 1.4. Set the value of `n_init` explicitly to suppress the warning\n",
      "  super()._check_params_vs_input(X, default_n_init=10)\n",
      "C:\\Users\\USER\\anaconda3\\Lib\\site-packages\\sklearn\\cluster\\_kmeans.py:1436: UserWarning: KMeans is known to have a memory leak on Windows with MKL, when there are less chunks than available threads. You can avoid it by setting the environment variable OMP_NUM_THREADS=1.\n",
      "  warnings.warn(\n"
     ]
    },
    {
     "name": "stdout",
     "output_type": "stream",
     "text": [
      "   f1  f2  group\n",
      "0  13  30      1\n",
      "1  20  30      2\n",
      "2  25  27      0\n",
      "3  23  29      2\n",
      "4  26  28      0\n"
     ]
    }
   ],
   "source": [
    "from sklearn.cluster import KMeans\n",
    "\n",
    "#샘플 데이터 - DataFrame 에서 추출하는 것이 일반적\n",
    "sample = np.array([[13, 30],[20, 30],[25, 27], [23, 29],[26, 28]])\n",
    "\n",
    "dataframe = pd.DataFrame(sample, columns =['f1', 'f2'])\n",
    "\n",
    "clustering = KMeans(3, random_state = 42)\n",
    "clustering.fit(sample)\n",
    "dataframe['group'] = clustering.predict(sample)\n",
    "print(dataframe)"
   ]
  },
  {
   "cell_type": "markdown",
   "id": "14013b4a",
   "metadata": {},
   "source": [
    "## 이상치 탐지"
   ]
  },
  {
   "cell_type": "markdown",
   "id": "3d9a8994",
   "metadata": {},
   "source": [
    "### 직접 수식을 작성해서 탐지"
   ]
  },
  {
   "cell_type": "code",
   "execution_count": 73,
   "id": "13cf3099",
   "metadata": {},
   "outputs": [],
   "source": [
    "# 이상치 탐지를 위한 데이터 생성\n",
    "features = np.array([[10000,10, 7, 6, 4, 2, 5, 3],\n",
    "                     [20000, 3, 5, 1, 6, 4, 7, 9]])"
   ]
  },
  {
   "cell_type": "code",
   "execution_count": 63,
   "id": "d3583d0d",
   "metadata": {},
   "outputs": [
    {
     "name": "stdout",
     "output_type": "stream",
     "text": [
      "z-score: [array([-0.2572622 , -0.2572622 , -0.25788204, -0.25808866, -0.25850189,\n",
      "       -0.25891512, -0.25829527, -0.2587085 ]), array([ 3.87298279, -0.2587085 , -0.25829527, -0.25912174, -0.25808866,\n",
      "       -0.25850189, -0.25788204, -0.25746881])]\n",
      "(array([1], dtype=int64), array([0], dtype=int64))\n"
     ]
    }
   ],
   "source": [
    "#z-score을 이용해서 이상치를 탐지해주는 함수\n",
    "def outliers_z_score(ys) :\n",
    "    #임계값 설정\n",
    "    threshold = 3\n",
    "    \n",
    "    #평균 구하기\n",
    "    mean_y = np.mean(ys)\n",
    "    #표준편자 구하기\n",
    "    std_y = np.std(ys)\n",
    "    \n",
    "    #z-score 구하기\n",
    "    z_scores = [(y - mean_y) / std_y for y in ys]\n",
    "    \n",
    "    print(\"z-score:\", z_scores)\n",
    "    return np.where(np.abs(z_scores) > threshold)\n",
    "\n",
    "print(outliers_z_score(features))"
   ]
  },
  {
   "cell_type": "code",
   "execution_count": 74,
   "id": "dd14e1ef",
   "metadata": {},
   "outputs": [
    {
     "name": "stdout",
     "output_type": "stream",
     "text": [
      "modified_z-score: [array([ 1.49761483e+03,  2.24833333e-01, -2.24833333e-01]), array([ 2.99650372e+03, -8.24388889e-01, -5.24611111e-01])]\n",
      "(array([0, 1], dtype=int64), array([0, 0], dtype=int64))\n"
     ]
    }
   ],
   "source": [
    "#z-score을 이용해서 이상치를 탐지해주는 함수 -보정해서 사용하는 방법\n",
    "def outliers_mod_z_score(ys) :\n",
    "    #임계값 설정\n",
    "    threshold = 3.5\n",
    "    \n",
    "    #중앙값 구하기\n",
    "    median_y = np.median(ys)\n",
    "    \n",
    "    #중위 절대 편차\n",
    "    median_absolute_deviation_y = np.median([np.abs(y - median_y) for y in ys])\n",
    "    \n",
    "    #중위 절대 편차를 가지고 z-score 계산 후 0.6745를 곱함\n",
    "    modified_z_scores = [0.6745 * (y - median_y) / median_absolute_deviation_y for y in ys]\n",
    "    print(\"modified_z-score:\", modified_z_scores)\n",
    "    return np.where(np.abs(modified_z_scores) > threshold)\n",
    "\n",
    "print(outliers_mod_z_score(features))"
   ]
  },
  {
   "cell_type": "code",
   "execution_count": 79,
   "id": "7c5b556a",
   "metadata": {},
   "outputs": [
    {
     "name": "stdout",
     "output_type": "stream",
     "text": [
      "-11240.0\n",
      "18748.0\n",
      "(array([1], dtype=int64), array([0], dtype=int64))\n",
      "-1.5\n",
      "202.5\n",
      "(array([  6,   7,   8,  13,  25,  27,  66,  93,  94, 115], dtype=int64),)\n"
     ]
    }
   ],
   "source": [
    "# IQR 을 이용하는 방법\n",
    "# boxplot을 그렸을 때 수염의 바깥쪽에 있는 데이터를 이상치로 간주\n",
    "\n",
    "def outliers_iqr(ys) :\n",
    "    #iqr 구하기\n",
    "    quartile_1, quartile_3 = np.percentile(ys, [25,75])\n",
    "    iqr = quartile_3 - quartile_1\n",
    "    \n",
    "    #하한 과 상한 구하기\n",
    "    lower_bound = quartile_1 - (iqr * 1.5) \n",
    "    upper_bound = quartile_3 + (iqr * 1.5)\n",
    "    \n",
    "    print(lower_bound)\n",
    "    print(upper_bound)\n",
    "        \n",
    "    return np.where((ys > upper_bound) | (ys < lower_bound))\n",
    "\n",
    "print(outliers_iqr(features))\n",
    "\n",
    "#이렇게 응용가능!\n",
    "print(outliers_iqr(mpg['horsepower'].values))"
   ]
  },
  {
   "cell_type": "code",
   "execution_count": 83,
   "id": "9c1b0c98",
   "metadata": {},
   "outputs": [
    {
     "name": "stdout",
     "output_type": "stream",
     "text": [
      "[[ 1.00000000e+04  1.00000000e+03]\n",
      " [-3.41722170e+00  7.60198243e+00]\n",
      " [-3.52202874e+00  9.32853346e+00]\n",
      " [-2.26723535e+00  7.10100588e+00]\n",
      " [-2.97261532e+00  8.54855637e+00]\n",
      " [-1.04354885e+00  8.78850983e+00]\n",
      " [-1.86150908e+00  1.05373160e+01]\n",
      " [-2.97867201e+00  9.55684617e+00]\n",
      " [-4.23411546e+00  8.45199860e+00]\n",
      " [-9.29984808e-01  9.78172086e+00]]\n"
     ]
    },
    {
     "data": {
      "text/plain": [
       "array([-1,  1,  1, -1,  1,  1,  1,  1,  1,  1])"
      ]
     },
     "execution_count": 83,
     "metadata": {},
     "output_type": "execute_result"
    }
   ],
   "source": [
    "#데이터를 생성해주는 API\n",
    "from sklearn.datasets import make_blobs\n",
    "\n",
    "#일정한 비율을 이상치로 간주하는 API\n",
    "from sklearn.covariance import EllipticEnvelope\n",
    "\n",
    "#2행 10행의 데이터를 랜덤하게 생성\n",
    "# _는 데이터를 사용하지 않음\n",
    "features, _ = make_blobs(n_samples = 10, n_features =2 , centers = 1, random_state = 42)\n",
    "\n",
    "#이상치 생성 - 0번 데이터는 이상한 데이터\n",
    "features[0, 0] = 10000\n",
    "features[0, 1] = 1000\n",
    "\n",
    "print(features)\n",
    "#이상치 탐지 객체\n",
    "outlier_detector = EllipticEnvelope(contamination = 0.2) # 이걸로 이상치 비율 설정\n",
    "outlier_detector.fit(features)\n",
    "#-1이면 이상치, 1이면 정상적인 데이터\n",
    "outlier_detector.predict(features)"
   ]
  },
  {
   "cell_type": "code",
   "execution_count": null,
   "id": "46406879",
   "metadata": {},
   "outputs": [],
   "source": []
  },
  {
   "cell_type": "markdown",
   "id": "7ba64989",
   "metadata": {},
   "source": [
    "## 추가 설명"
   ]
  },
  {
   "cell_type": "code",
   "execution_count": 86,
   "id": "9917c651",
   "metadata": {},
   "outputs": [
    {
     "name": "stdout",
     "output_type": "stream",
     "text": [
      "[0, 1, 4, 9, 16, 25, 36, 49, 64, 81]\n",
      "[0, 1, 4, 9, 16, 25, 36, 49, 64, 81]\n"
     ]
    }
   ],
   "source": [
    "L = list(range(10))\n",
    "\n",
    "#L의 모든 데이터를 순회하면서 각 데이터의 제곱을 한 값을 가지고 새로운 list 생성\n",
    "#이전 방법\n",
    "r = []\n",
    "for i in L :\n",
    "    r.append(i**2)\n",
    "print(r)\n",
    "\n",
    "r = list(map(lambda x : x**2, L))\n",
    "print(r)"
   ]
  },
  {
   "cell_type": "code",
   "execution_count": 87,
   "id": "ee71453d",
   "metadata": {},
   "outputs": [
    {
     "name": "stdout",
     "output_type": "stream",
     "text": [
      "[0, 1, 4, 9, 16, 25, 36, 49, 64, 81]\n"
     ]
    }
   ],
   "source": [
    "#List Comprehension 이용\n",
    "r = [i ** 2 for i in L]\n",
    "print(r)"
   ]
  },
  {
   "cell_type": "code",
   "execution_count": 88,
   "id": "571b6126",
   "metadata": {},
   "outputs": [
    {
     "name": "stdout",
     "output_type": "stream",
     "text": [
      "[0, 2, 4, 6, 8]\n"
     ]
    }
   ],
   "source": [
    "#필터링 - L의 모든 데이터를 i에 순차적으로 대입해서 뒤의 조건문이 참인 경우만 list로 생성\n",
    "r = [i for i in L if i % 2 ==0]\n",
    "print(r)"
   ]
  },
  {
   "cell_type": "code",
   "execution_count": 89,
   "id": "ef2f5889",
   "metadata": {},
   "outputs": [
    {
     "name": "stdout",
     "output_type": "stream",
     "text": [
      "[4, 5, 6, 8, 10, 12, 12, 15, 18]\n"
     ]
    }
   ],
   "source": [
    "#이중 for문....와 짱 대박이당...0.0\n",
    "li1 = [1, 2, 3]\n",
    "li2 = [4, 5, 6]\n",
    "r = [x*y for x in li1 for y in li2]\n",
    "print(r)"
   ]
  },
  {
   "cell_type": "code",
   "execution_count": null,
   "id": "6762e3af",
   "metadata": {},
   "outputs": [],
   "source": []
  }
 ],
 "metadata": {
  "kernelspec": {
   "display_name": "Python 3 (ipykernel)",
   "language": "python",
   "name": "python3"
  },
  "language_info": {
   "codemirror_mode": {
    "name": "ipython",
    "version": 3
   },
   "file_extension": ".py",
   "mimetype": "text/x-python",
   "name": "python",
   "nbconvert_exporter": "python",
   "pygments_lexer": "ipython3",
   "version": "3.11.5"
  }
 },
 "nbformat": 4,
 "nbformat_minor": 5
}
