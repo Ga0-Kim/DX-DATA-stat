{
 "cells": [
  {
   "cell_type": "code",
   "execution_count": 20,
   "id": "1bd9a36c",
   "metadata": {},
   "outputs": [],
   "source": [
    "import numpy as np\n",
    "import pandas as pd"
   ]
  },
  {
   "cell_type": "code",
   "execution_count": 3,
   "id": "f8429d05",
   "metadata": {},
   "outputs": [
    {
     "name": "stdout",
     "output_type": "stream",
     "text": [
      "Empty DataFrame\n",
      "Columns: [034-일차-24.02.07]\n",
      "Index: []\n"
     ]
    }
   ],
   "source": [
    "#클립보드 내용을 읽어오기\n",
    "df = pd.read_clipboard()\n",
    "print(df)"
   ]
  },
  {
   "cell_type": "code",
   "execution_count": 19,
   "id": "9630f2fe",
   "metadata": {},
   "outputs": [
    {
     "name": "stdout",
     "output_type": "stream",
     "text": [
      "<class 'sklearn.utils._bunch.Bunch'>\n",
      "dict_keys(['data', 'target', 'frame', 'target_names', 'DESCR', 'feature_names', 'filename', 'data_module'])\n",
      "<class 'numpy.ndarray'>\n"
     ]
    }
   ],
   "source": [
    "#사이킷 런(scikit-learn)에서 제공하는 데이터 사용\n",
    "from sklearn import datasets\n",
    "\n",
    "iris = datasets.load_iris()\n",
    "#데이터 프레임이 아니고 bunch 클래서의 인스턴스\n",
    "print(type(iris))\n",
    "#키 확인\n",
    "#data가 피쳐, target이 레이블\n",
    "print(iris.keys())\n",
    "#데이터 확인\n",
    "print(type(iris.data))"
   ]
  },
  {
   "cell_type": "code",
   "execution_count": 26,
   "id": "9f8a582c",
   "metadata": {},
   "outputs": [
    {
     "name": "stdout",
     "output_type": "stream",
     "text": [
      "           날짜  이름     가격\n",
      "0  2017-04-10  다음  32000\n",
      "1  2017-04-11  다음  34000\n",
      "2  2017-04-12  다음  33000\n"
     ]
    }
   ],
   "source": [
    "#텍스트 파일의 데이터 읽기 - 1. fwf파일\n",
    "df = pd.read_fwf(\"C:\\DX_DATA\\dx2_교재\\data\\data\\data_fwf.txt\", widths = (10, 2, 5),\n",
    "                 names=('날짜', '이름', '가격'))\n",
    "print(df)"
   ]
  },
  {
   "cell_type": "code",
   "execution_count": 28,
   "id": "9c595a5a",
   "metadata": {},
   "outputs": [
    {
     "name": "stdout",
     "output_type": "stream",
     "text": [
      "   code  manufacture            name  price\n",
      "0     1        korea           apple   1500\n",
      "1     2        korea      watermelon  15000\n",
      "2     3        korea  oriental melon   1000\n",
      "3     4  philippines          banana    500\n",
      "4     5        korea           lemon   1500\n",
      "<class 'pandas.core.frame.DataFrame'>\n",
      "RangeIndex: 6 entries, 0 to 5\n",
      "Data columns (total 4 columns):\n",
      " #   Column       Non-Null Count  Dtype \n",
      "---  ------       --------------  ----- \n",
      " 0   code         6 non-null      int64 \n",
      " 1   manufacture  6 non-null      object\n",
      " 2   name         6 non-null      object\n",
      " 3   price        6 non-null      int64 \n",
      "dtypes: int64(2), object(2)\n",
      "memory usage: 324.0+ bytes\n",
      "None\n"
     ]
    }
   ],
   "source": [
    "#텍스트 파일의 데이터 읽기 - 2. csv (,구분) 읽기\n",
    "item = pd.read_csv(\"C:\\DX_DATA\\dx2_교재\\data\\data\\item.csv\" )\n",
    "print(item.head())\n",
    "print(item.info())"
   ]
  },
  {
   "cell_type": "code",
   "execution_count": 71,
   "id": "48f0b2cc",
   "metadata": {},
   "outputs": [
    {
     "name": "stdout",
     "output_type": "stream",
     "text": [
      "    제품 이름  수량     가격\n",
      "0   apple  10   1500\n",
      "1  banana   5  15000\n",
      "2   melon   7   1000\n",
      "3    kiwi  20    500\n",
      "4   mango  30   1500\n",
      "5  orange   4    700\n"
     ]
    }
   ],
   "source": [
    "#good.csv 파일 읽기\n",
    "good = pd.read_csv(\"C:\\DX_DATA\\dx2_교재\\data\\data\\good.csv\", header =None,\n",
    "                  names = ['제품 이름','수량', '가격'])\n",
    "\n",
    "print(good)"
   ]
  },
  {
   "cell_type": "code",
   "execution_count": 72,
   "id": "3f673603",
   "metadata": {},
   "outputs": [
    {
     "name": "stdout",
     "output_type": "stream",
     "text": [
      "    제품 이름  수량     가격\n",
      "0   apple  10   1500\n",
      "1  banana   5  15000\n",
      "   제품 이름  수량    가격\n",
      "0  melon   7  1000\n",
      "1   kiwi  20   500\n",
      "    제품 이름  수량    가격\n",
      "0   mango  30  1500\n",
      "1  orange   4   700\n",
      "        0   1      2\n",
      "0   apple  10   1500\n",
      "1  banana   5  15000\n",
      "       0   1     2\n",
      "0  melon   7  1000\n",
      "1   kiwi  20   500\n",
      "        0   1     2\n",
      "0   mango  30  1500\n",
      "1  orange   4   700\n"
     ]
    }
   ],
   "source": [
    "#good.csv 파일을 2개씩 읽기\n",
    "#이 방법의 경우는 데이터의 개수를 알거나 예외처리를 해줘야 합니다.\n",
    "#전체 개수를 아는 경우\n",
    "for i in range(0, 3) :\n",
    "    parser = pd.read_csv(\"C:\\DX_DATA\\dx2_교재\\data\\data\\good.csv\", header =None,\n",
    "                  names = ['제품 이름','수량', '가격'], nrows =2 ,skiprows =i*2)\n",
    "\n",
    "    print(parser)\n",
    "    \n",
    "    \n",
    "#전체 개수를 모르는 경우\n",
    "i = 0 \n",
    "while True :\n",
    "    try :\n",
    "        parser = pd.read_csv(\"C:\\DX_DATA\\dx2_교재\\data\\data\\good.csv\", header =None,\n",
    "                             names=['제품', '이름', '수량'], nrows =2 ,skiprows =i*2)\n",
    "        print(parser)\n",
    "        i = i + 1\n",
    "        \n",
    "    except :\n",
    "        break "
   ]
  },
  {
   "cell_type": "code",
   "execution_count": 73,
   "id": "95bcee92",
   "metadata": {},
   "outputs": [
    {
     "name": "stdout",
     "output_type": "stream",
     "text": [
      "    제품 이름  수량     가격\n",
      "0   apple  10   1500\n",
      "1  banana   5  15000\n",
      "   제품 이름  수량    가격\n",
      "2  melon   7  1000\n",
      "3   kiwi  20   500\n",
      "    제품 이름  수량    가격\n",
      "4   mango  30  1500\n",
      "5  orange   4   700\n"
     ]
    }
   ],
   "source": [
    "parser = pd.read_csv(\"C:\\DX_DATA\\dx2_교재\\data\\data\\good.csv\", header =None,\n",
    "                     chunksize = 2)\n",
    "\n",
    "for piece in parser : \n",
    "    print(piece)\n"
   ]
  },
  {
   "cell_type": "code",
   "execution_count": 74,
   "id": "f49c6ae8",
   "metadata": {},
   "outputs": [
    {
     "name": "stdout",
     "output_type": "stream",
     "text": [
      "       country continent  year  lifeExp       pop   gdpPercap\n",
      "0  Afghanistan      Asia  1952   28.801   8425333  779.445314\n",
      "1  Afghanistan      Asia  1957   30.332   9240934  820.853030\n",
      "2  Afghanistan      Asia  1962   31.997  10267083  853.100710\n",
      "3  Afghanistan      Asia  1967   34.020  11537966  836.197138\n",
      "4  Afghanistan      Asia  1972   36.088  13079460  739.981106\n"
     ]
    }
   ],
   "source": [
    "#탭으로 구분된 파일 읽기\n",
    "gapminder = pd.read_csv(\"C:\\DX_DATA\\dx2_교재\\data\\data\\gapminder.tsv\", sep = '\\t')\n",
    "print(gapminder.head())"
   ]
  },
  {
   "cell_type": "code",
   "execution_count": 79,
   "id": "fcdc049c",
   "metadata": {},
   "outputs": [
    {
     "name": "stdout",
     "output_type": "stream",
     "text": [
      "     name count  price\n",
      "0   apple    10   1500\n",
      "1  banana     5  15000\n",
      "2  orange    20    500\n",
      "3    pear    30   1500\n",
      "4    kiwi     7   1000\n",
      "5   mango     4   700 \n"
     ]
    }
   ],
   "source": [
    "import csv\n",
    "lines = list(csv.reader(open(\"C:\\\\DX_DATA\\\\dx2_교재\\\\data\\\\data\\\\fruit.csv\"),\n",
    "                       delimiter = '|'))\n",
    "df = pd.DataFrame(lines, columns = ['name', 'count', 'price'])\n",
    "print(df)"
   ]
  },
  {
   "cell_type": "code",
   "execution_count": 92,
   "id": "9aedb796",
   "metadata": {},
   "outputs": [
    {
     "name": "stdout",
     "output_type": "stream",
     "text": [
      "{'encoding': 'EUC-KR', 'confidence': 0.99, 'language': 'Korean'}\n"
     ]
    }
   ],
   "source": [
    "import chardet\n",
    "\n",
    "with open(\"C:/Users/USER/Desktop/foreigncompany.csv\", 'rb') as rawdata:\n",
    "    result = chardet.detect(rawdata.read(10000))\n",
    "\n",
    "# check what the character encoding might be\n",
    "print(result)"
   ]
  },
  {
   "cell_type": "code",
   "execution_count": 103,
   "id": "e17ff386",
   "metadata": {},
   "outputs": [
    {
     "name": "stdout",
     "output_type": "stream",
     "text": [
      "            국가   장르       기업형태  \\\n",
      "0  AFGHANISTAN   방송  케이블/위성 채널   \n",
      "1  AFGHANISTAN   방송   뉴미디어 플랫폼   \n",
      "2      ALBANIA   방송       퍼블리셔   \n",
      "3      Algeria  NaN        NaN   \n",
      "4      Algeria  NaN        NaN   \n",
      "5      ALGERIA   방송    공공기관/조직   \n",
      "6      AUSTRIA   방송  케이블/위성 채널   \n",
      "7      AUSTRIA   방송  케이블/위성 채널   \n",
      "8      AUSTRIA   방송       라이선싱   \n",
      "9      AUSTRIA   방송  케이블/위성 채널   \n",
      "\n",
      "                                                 기업명             홈페이지  \n",
      "0                                        KHURSHID TV  www.khurshid.tv  \n",
      "1                                            TOLO TV      www.tolo.tv  \n",
      "2                                      TRING TV SH.A     www.tring.tv  \n",
      "3                                        Echorouk TV              NaN  \n",
      "4                                      EL KHABAR TV               NaN  \n",
      "5  EPTA  ETABLISSEMENT PUBLIC DE TELEVISION ALGER...      www.entv.dz  \n",
      "6                                          SERVUS TV              NaN  \n",
      "7                              TELEKOM AUSTRIA GROUP              NaN  \n",
      "8                                PULS 4 TV GMBH & CO              NaN  \n",
      "9              ORF AUSTRIAN BROADCASTING CORPORATION              NaN  \n"
     ]
    }
   ],
   "source": [
    "foreign = pd.read_csv(\"data/foreigncompany.csv\", encoding = 'euc-kr')\n",
    "print(foreign.head(10))"
   ]
  },
  {
   "cell_type": "code",
   "execution_count": 106,
   "id": "634ae2ff",
   "metadata": {},
   "outputs": [],
   "source": [
    "foreign.to_csv('test_csvout.csv', index = False)"
   ]
  },
  {
   "cell_type": "code",
   "execution_count": 108,
   "id": "1e084dbb",
   "metadata": {},
   "outputs": [
    {
     "name": "stdout",
     "output_type": "stream",
     "text": [
      "            국가   장르       기업형태  \\\n",
      "0  AFGHANISTAN   방송  케이블/위성 채널   \n",
      "1  AFGHANISTAN   방송   뉴미디어 플랫폼   \n",
      "2      ALBANIA   방송       퍼블리셔   \n",
      "3      Algeria  NaN        NaN   \n",
      "4      Algeria  NaN        NaN   \n",
      "5      ALGERIA   방송    공공기관/조직   \n",
      "6      AUSTRIA   방송  케이블/위성 채널   \n",
      "7      AUSTRIA   방송  케이블/위성 채널   \n",
      "8      AUSTRIA   방송       라이선싱   \n",
      "9      AUSTRIA   방송  케이블/위성 채널   \n",
      "\n",
      "                                                 기업명             홈페이지  \n",
      "0                                        KHURSHID TV  www.khurshid.tv  \n",
      "1                                            TOLO TV      www.tolo.tv  \n",
      "2                                      TRING TV SH.A     www.tring.tv  \n",
      "3                                        Echorouk TV              NaN  \n",
      "4                                      EL KHABAR TV               NaN  \n",
      "5  EPTA  ETABLISSEMENT PUBLIC DE TELEVISION ALGER...      www.entv.dz  \n",
      "6                                          SERVUS TV              NaN  \n",
      "7                              TELEKOM AUSTRIA GROUP              NaN  \n",
      "8                                PULS 4 TV GMBH & CO              NaN  \n",
      "9              ORF AUSTRIAN BROADCASTING CORPORATION              NaN  \n"
     ]
    }
   ],
   "source": [
    "foreign = pd.read_csv(\"test_csvout.csv\")\n",
    "print(foreign.head(10))"
   ]
  },
  {
   "cell_type": "code",
   "execution_count": 111,
   "id": "02f3f6da",
   "metadata": {},
   "outputs": [
    {
     "name": "stdout",
     "output_type": "stream",
     "text": [
      "   번호                          이름   1과목   2과목   3과목\n",
      "0                          1  이효준  40.0   NaN  45.0\n",
      "1                          2  김성희  42.0  55.0  50.0\n",
      "2                          3  이연숙   NaN  60.0  55.0\n",
      "3                          4  노화현  50.0  70.0  60.0\n",
      "4                          5  최희순  55.0  75.0   NaN\n",
      "5                          6  정원주  60.0  80.0  70.0\n"
     ]
    }
   ],
   "source": [
    "# excel 파일 읽기\n",
    "df = pd.read_excel('data/excel.xlsx', sheet_name='Sheet1')\n",
    "# print(df.info())\n",
    "print(df)"
   ]
  },
  {
   "cell_type": "code",
   "execution_count": 113,
   "id": "65079676",
   "metadata": {},
   "outputs": [
    {
     "name": "stdout",
     "output_type": "stream",
     "text": [
      "Collecting xlsxwriter\n",
      "  Obtaining dependency information for xlsxwriter from https://files.pythonhosted.org/packages/f7/3e/05ba2194cd5073602422859c949a4f21310a3c49bf8dccde9e03d4522b11/XlsxWriter-3.1.9-py3-none-any.whl.metadata\n",
      "  Downloading XlsxWriter-3.1.9-py3-none-any.whl.metadata (2.6 kB)\n",
      "Downloading XlsxWriter-3.1.9-py3-none-any.whl (154 kB)\n",
      "   ---------------------------------------- 0.0/154.8 kB ? eta -:--:--\n",
      "   -- ------------------------------------- 10.2/154.8 kB ? eta -:--:--\n",
      "   ---------------------------------------- 154.8/154.8 kB 2.3 MB/s eta 0:00:00\n",
      "Installing collected packages: xlsxwriter\n",
      "Successfully installed xlsxwriter-3.1.9\n"
     ]
    }
   ],
   "source": [
    "!pip install xlsxwriter"
   ]
  },
  {
   "cell_type": "code",
   "execution_count": 114,
   "id": "5ddc6d1a",
   "metadata": {},
   "outputs": [],
   "source": [
    "#엑셀 파일 저장\n",
    "writer = pd.ExcelWriter('sample.xlsx', engine='xlsxwriter')\n",
    "#엑셀 하일에 바로 기록하는것이 아니고 임시 파일에 기록을 합니다.\n",
    "df.to_excel(writer, sheet_name='excel')\n",
    "#파일을 닫을 때 임시 파일의 내용을 원본 파일에 기록을 합니다.\n",
    "#flush 한다라고 표현합니다.\n",
    "writer.close()"
   ]
  },
  {
   "cell_type": "code",
   "execution_count": 120,
   "id": "1425a4b3",
   "metadata": {},
   "outputs": [
    {
     "name": "stdout",
     "output_type": "stream",
     "text": [
      "      순위       나라          인구   갱신 년도  \\\n",
      "0      1       인도  1428627663  2024.0   \n",
      "1      2  중화인민공화국  1409670000  2024.0   \n",
      "2      3       미국   334914895  2023.0   \n",
      "3      4    인도네시아   279476346  2023.0   \n",
      "4      5     파키스탄   247653551  2023.0   \n",
      "..   ...      ...         ...     ...   \n",
      "236  237     토켈라우        1893  2023.0   \n",
      "237  238      니우에        1681  2022.0   \n",
      "238  239   바티칸 시국         764  2023.0   \n",
      "239  240   코코스 제도         593  2021.0   \n",
      "240  241   핏케언 제도          47  2021.0   \n",
      "\n",
      "                                               기타  \n",
      "0    공식 인구시계 UN 프로젝션[1][2][3] UN 예상치 인구가 가장 많은 국가  \n",
      "1                                         공식 인구시계  \n",
      "2                                         공식 인구시계  \n",
      "3                                         공식 인구시계  \n",
      "4                                         공식 인구시계  \n",
      "..                                            ...  \n",
      "236                                        UN 예상치  \n",
      "237                                        공식 추계치  \n",
      "238                  바티칸 시국 인구통계 인구가 가장 적은 UN 가입국  \n",
      "239                                        공식 추계치  \n",
      "240                                  인구가 가장 적은 속령  \n",
      "\n",
      "[241 rows x 5 columns]\n"
     ]
    }
   ],
   "source": [
    "#read_html 은 list를 리턴하므로 인덱스를 이용해서 원하는 테이블을 선택해야 합니다.\n",
    "li = pd.read_html('https://ko.wikipedia.org/wiki/%EC%9D%B8%EA%B5%AC%EC%88%9C_%EB%82%98%EB%9D%BC_%EB%AA%A9%EB%A1%9D')\n",
    "# print(li)\n",
    "print(li[0])"
   ]
  },
  {
   "cell_type": "code",
   "execution_count": 125,
   "id": "e015ec64",
   "metadata": {},
   "outputs": [
    {
     "name": "stdout",
     "output_type": "stream",
     "text": [
      "b'<!doctype html><html data-n-head-ssr lang=\"ko\" data-n-head=\"%7B%22lang%22:%7B%22ssr%22:%22ko%22%7D%7D\"><head ><script>!function(e,t,n,c,o,a,f){e.fbq||(o=e.fbq=function(){o.callMethod?o.callMethod.apply(o,arguments):o.queue.push(arguments)},e._fbq||(e._fbq=o),o.push=o,o.loaded=!0,o.version=\"2.0\",o.queue=[],(a=t.createElement(n)).async=!0,a.src=\"https://connect.facebook.net/en_US/fbevents.js\",(f=t.getElementsByTagName(n)[0]).parentNode.insertBefore(a,f))}(window,document,\"script\"),fbq(\"init\",\"506344193746714\"),fbq(\"track\",\"PageView\")</script><noscript><img height=\"1\" width=\"1\" style=\"display:none\" src=\"https://www.facebook.com/tr?id=506344193746714&ev=PageView&noscript=1\"></noscript><script>!function(e,t,a,n,g){e[n]=e[n]||[],e[n].push({\"gtm.start\":(new Date).getTime(),event:\"gtm.js\"});var m=t.getElementsByTagName(a)[0],r=t.createElement(a);r.async=!0,r.src=\"https://www.googletagmanager.com/gtm.js?id=GTM-MQ23PRPS\",m.parentNode.insertBefore(r,m)}(window,document,\"script\",\"dataLayer\")</script><noscript><iframe src=\"https://www.googletagmanager.com/ns.html?id=GTM-MQ23PRPS\" height=\"0\" width=\"0\" style=\"display:none;visibility:hidden\"></iframe></noscript><title>\\xec\\xb9\\xb4\\xec\\xb9\\xb4\\xec\\x98\\xa4</title><meta data-n-head=\"ssr\" charset=\"utf-8\"><meta data-n-head=\"ssr\" name=\"viewport\" content=\"user-scalable=no, width=device-width, height=device-height, initial-scale=1, maximum-scale=1, minimum-scale=1.0, viewport-fit=cover\"><meta data-n-head=\"ssr\" property=\"og:type\" content=\"website\"><meta data-n-head=\"ssr\" property=\"og:site_name\" content=\"kakaocorp.com\"><meta data-n-head=\"ssr\" data-hid=\"url\" property=\"og:url\" content=\"//www.kakaocorp.com/page\"><meta data-n-head=\"ssr\" data-hid=\"title\" property=\"og:title\" content=\"Kakao\"><meta data-n-head=\"ssr\" data-hid=\"image\" property=\"og:image\" content=\"//t1.kakaocdn.net/kakaocorp/corp_thumbnail/Kakao.png\"><meta data-n-head=\"ssr\" data-hid=\"twitter\" name=\"twitter:image\" content=\"//t1.kakaocdn.net/kakaocorp/corp_thumbnail/Kakao.png\"><meta data-n-head=\"ssr\" name=\"naver-site-verification\" content=\"423288f9543504c1c833f322d8007f732f87cc24\"><meta data-n-head=\"ssr\" name=\"google-site-verification\" content=\"1Xzj4wSdrqlorYybls1auuS_QH004opxKRrxvF7vAho\"><meta data-n-head=\"ssr\" data-hid=\"og:description\" property=\"og:description\" content=\"\\xea\\xb8\\xb0\\xec\\x88\\xa0\\xea\\xb3\\xbc \\xec\\x82\\xac\\xeb\\x9e\\x8c\\xec\\x9c\\xbc\\xeb\\xa1\\x9c \\xeb\\x8d\\x94 \\xeb\\x82\\x98\\xec\\x9d\\x80 \\xec\\x84\\xb8\\xec\\x83\\x81\\xec\\x9d\\x84 \\xeb\\xa7\\x8c\\xeb\\x93\\xad\\xeb\\x8b\\x88\\xeb\\x8b\\xa4\"><meta data-n-head=\"ssr\" data-hid=\"description\" name=\"description\" content=\"\\xea\\xb8\\xb0\\xec\\x88\\xa0\\xea\\xb3\\xbc \\xec\\x82\\xac\\xeb\\x9e\\x8c\\xec\\x9c\\xbc\\xeb\\xa1\\x9c \\xeb\\x8d\\x94 \\xeb\\x82\\x98\\xec\\x9d\\x80 \\xec\\x84\\xb8\\xec\\x83\\x81\\xec\\x9d\\x84 \\xeb\\xa7\\x8c\\xeb\\x93\\xad\\xeb\\x8b\\x88\\xeb\\x8b\\xa4\"><base href=\"/page/\"><link data-n-head=\"ssr\" rel=\"icon\" type=\"image/x-icon\" href=\"/page/favicon.ico\"><script data-n-head=\"ssr\" type=\"text/javascript\" src=\"//developers.kakao.com/sdk/js/kakao.min.js\"></script><script data-n-head=\"ssr\" type=\"text/javascript\" src=\"//t1.daumcdn.net/tiara/js/v1/tiara.min.js\"></script><link rel=\"preload\" href=\"/page/_nuxt/a4cb6c6.js\" as=\"script\"><link rel=\"preload\" href=\"/page/_nuxt/5694019.js\" as=\"script\"><link rel=\"preload\" href=\"/page/_nuxt/css/54559b5.css\" as=\"style\"><link rel=\"preload\" href=\"/page/_nuxt/8d5d01a.js\" as=\"script\"><link rel=\"preload\" href=\"/page/_nuxt/84ade4b.js\" as=\"script\"><link rel=\"stylesheet\" href=\"/page/_nuxt/css/54559b5.css\"></head><body class=\"light mo  \" data-n-head=\"%7B%22class%22:%7B%22ssr%22:%5B%22light%22,%22mo%22,%22%22,%22%22%5D%7D%7D\"><noscript data-n-head=\"ssr\" data-pbody=\"true\">\\xec\\x9d\\xb4 \\xed\\x8e\\x98\\xec\\x9d\\xb4\\xec\\xa7\\x80\\xeb\\xa5\\xbc \\xec\\x8b\\xa4\\xed\\x96\\x89\\xed\\x95\\x98\\xeb\\xa0\\xa4\\xeb\\xa9\\xb4 \\xec\\x9e\\x90\\xeb\\xb0\\x94\\xec\\x8a\\xa4\\xed\\x81\\xac\\xeb\\xa6\\xbd\\xed\\x8a\\xb8\\xeb\\xa5\\xbc \\xec\\x82\\xac\\xec\\x9a\\xa9\\xed\\x95\\xb4\\xec\\x95\\xbc \\xed\\x95\\xa9\\xeb\\x8b\\x88\\xeb\\x8b\\xa4.</noscript><div data-server-rendered=\"true\" id=\"__nuxt\"><div id=\"__layout\"><div data-v-31db29c6><div aria-hidden=\"true\" class=\"direct-link\" data-v-31db29c6><a href=\"#mainContent\" data-v-31db29c6>\\xeb\\xb3\\xb8\\xeb\\xac\\xb8 \\xeb\\xb0\\x94\\xeb\\xa1\\x9c\\xea\\xb0\\x80\\xea\\xb8\\xb0</a> <a href=\"#gnbContent\" data-v-31db29c6>\\xeb\\xa9\\x94\\xeb\\x89\\xb4 \\xeb\\xb0\\x94\\xeb\\xa1\\x9c\\xea\\xb0\\x80\\xea\\xb8\\xb0</a></div> <div class=\"container-doc\" style=\"visibility:hidden;\" data-v-31db29c6><header class=\"doc-header head_type2\" data-v-391238e4 data-v-31db29c6><div class=\"wrap_header\" data-v-391238e4><h1 class=\"doc-title\" data-v-391238e4><a href=\"/page\" data-v-391238e4><span class=\"screen_out\" data-v-391238e4>KaKao</span><!----></a></h1> <button type=\"button\" class=\"btn_hamburger\" data-v-391238e4><span class=\"screen_out\" data-v-391238e4>\\xeb\\xa9\\x94\\xec\\x9d\\xb8 \\xeb\\xa9\\x94\\xeb\\x89\\xb4 \\xec\\x97\\xb4\\xea\\xb8\\xb0</span> <!----></button> <button type=\"button\" data-tiara-action-name=\"click_search_open\" class=\"btn_search\" data-v-391238e4><span class=\"screen_out\" data-v-391238e4>\\xea\\xb2\\x80\\xec\\x83\\x89\\xec\\xb0\\xbd \\xec\\x97\\xb4\\xea\\xb8\\xb0</span> <!----></button></div> <div aria-hidden=\"true\" class=\"area_gnb\" data-v-391238e4><div class=\"inner_gnb\" data-v-391238e4><strong class=\"gnb_logo\" data-v-391238e4><a href=\"/page\" data-v-391238e4><span class=\"screen_out\" data-v-391238e4>KaKao</span><!----></a></strong> <nav id=\"gnbContent\" class=\"doc-gnb\" data-v-391238e4><h2 class=\"screen_out\" data-v-391238e4>\\xeb\\xa9\\x94\\xec\\x9d\\xb8\\xeb\\xa9\\x94\\xeb\\x89\\xb4</h2> <ul class=\"list_gnb\" data-v-391238e4><li data-v-391238e4><a href=\"javascript;\" role=\"button\" aria-expanded=\"false\" rel=\"nosublink\" data-v-391238e4><img src=\"data:image/gif;base64,R0lGODlhAQABAIAAAAAAAP///yH5BAEAAAAALAAAAAABAAEAAAIBRAA7\" alt=\"\" class=\"ico_menu\" data-v-a968263a data-v-391238e4> <span data-v-391238e4>\\xec\\x86\\x8c\\xea\\xb0\\x9c</span></a> <ul role=\"list\" class=\"list_sub\" style=\"display:none;\" data-v-391238e4><li role=\"listitem\" data-v-391238e4><a href=\"/page/about/kakaoCulture\" data-v-391238e4>\\n                      \\xec\\xb9\\xb4\\xec\\xb9\\xb4\\xec\\x98\\xa4 \\xeb\\xac\\xb8\\xed\\x99\\x94\\n                    </a></li><li role=\"listitem\" data-v-391238e4><a href=\"/page/about/subsidiaryCompany\" data-v-391238e4>\\n                      \\xea\\xb3\\xb5\\xeb\\x8f\\x99\\xec\\xb2\\xb4\\n                    </a></li><li role=\"listitem\" data-v-391238e4><a href=\"/page/about/milestones\" data-v-391238e4>\\n                      \\xec\\x97\\xb0\\xed\\x98\\x81\\n                    </a></li></ul></li><li data-v-391238e4><a href=\"javascript;\" role=\"button\" aria-expanded=\"false\" rel=\"nosublink\" data-v-391238e4><img src=\"data:image/gif;base64,R0lGODlhAQABAIAAAAAAAP///yH5BAEAAAAALAAAAAABAAEAAAIBRAA7\" alt=\"\" class=\"ico_menu\" data-v-a968263a data-v-391238e4> <span data-v-391238e4>\\xec\\x9d\\xb4\\xec\\x95\\xbc\\xea\\xb8\\xb0</span></a> <ul role=\"list\" class=\"list_sub\" style=\"display:none;\" data-v-391238e4><li role=\"listitem\" data-v-391238e4><a href=\"/page/story/archives\" data-v-391238e4>\\n                      \\xec\\xbd\\x98\\xed\\x85\\x90\\xec\\xb8\\xa0 \\xec\\xa0\\x80\\xec\\x9e\\xa5\\xec\\x86\\x8c\\n                    </a></li><li role=\"listitem\" data-v-391238e4><a href=\"/page/story/history\" data-v-391238e4>\\n                      \\xeb\\x9a\\x9d\\xeb\\x94\\xb1\\xeb\\x9a\\x9d\\xeb\\x94\\xb1 \\xec\\x84\\xb1\\xec\\x9e\\xa5\\xea\\xb8\\xb0\\n                    </a></li><li role=\"listitem\" data-v-391238e4><a href=\"/page/story/bynumbers\" data-v-391238e4>\\n                      \\xec\\x88\\xab\\xec\\x9e\\x90\\xeb\\xa1\\x9c \\xeb\\xb3\\xb4\\xeb\\x8a\\x94 \\xec\\xb9\\xb4\\xec\\xb9\\xb4\\xec\\x98\\xa4\\n                    </a></li><li role=\"listitem\" data-v-391238e4><a href=\"/page/story/kakaonow\" data-v-391238e4>\\n                      \\xec\\xb9\\xb4\\xec\\xb9\\xb4\\xec\\x98\\xa4 \\xeb\\x82\\x98\\xec\\x9a\\xb0\\n                    </a></li></ul></li><li data-v-391238e4><a href=\"javascript;\" role=\"button\" aria-expanded=\"false\" rel=\"nosublink\" data-v-391238e4><img src=\"data:image/gif;base64,R0lGODlhAQABAIAAAAAAAP///yH5BAEAAAAALAAAAAABAAEAAAIBRAA7\" alt=\"\" class=\"ico_menu\" data-v-a968263a data-v-391238e4> <span data-v-391238e4>\\xea\\xb8\\xb0\\xec\\x88\\xa0\\xea\\xb3\\xbc \\xec\\x84\\x9c\\xeb\\xb9\\x84\\xec\\x8a\\xa4</span></a> <ul role=\"list\" class=\"list_sub\" style=\"display:none;\" data-v-391238e4><li role=\"listitem\" data-v-391238e4><a href=\"/page/service/tech\" data-v-391238e4>\\n                      \\xea\\xb8\\xb0\\xec\\x88\\xa0\\n                    </a></li><li role=\"listitem\" data-v-391238e4><a href=\"/page/service/service\" data-v-391238e4>\\n                      \\xec\\x84\\x9c\\xeb\\xb9\\x84\\xec\\x8a\\xa4\\n                    </a></li></ul></li><li data-v-391238e4><a href=\"javascript;\" role=\"button\" aria-expanded=\"false\" rel=\"nosublink\" data-v-391238e4><img src=\"data:image/gif;base64,R0lGODlhAQABAIAAAAAAAP///yH5BAEAAAAALAAAAAABAAEAAAIBRAA7\" alt=\"\" class=\"ico_menu\" data-v-a968263a data-v-391238e4> <span data-v-391238e4>\\xec\\x95\\xbd\\xec\\x86\\x8d\\xea\\xb3\\xbc \\xec\\xb1\\x85\\xec\\x9e\\x84</span></a> <ul role=\"list\" class=\"list_sub\" style=\"display:none;\" data-v-391238e4><li role=\"listitem\" data-v-391238e4><a href=\"/page/responsible/promise\" data-v-391238e4>\\n                      \\xec\\xb9\\xb4\\xec\\xb9\\xb4\\xec\\x98\\xa4\\xec\\x9d\\x98 \\xeb\\x8b\\xa4\\xec\\xa7\\x90\\n                    </a></li><li role=\"listitem\" data-v-391238e4><a href=\"/page/responsible/esg\" data-v-391238e4>\\n                      ESG\\n                    </a></li><li role=\"listitem\" data-v-391238e4><a href=\"/page/responsible/activegreen\" data-v-391238e4>\\n                      \\xec\\x95\\xa1\\xed\\x8b\\xb0\\xeb\\xb8\\x8c\\xea\\xb7\\xb8\\xeb\\xa6\\xb0\\n                    </a></li><li role=\"listitem\" data-v-391238e4><a href=\"/page/responsible/policy\" data-v-391238e4>\\n                      \\xec\\xa0\\x95\\xec\\xb1\\x85\\n                    </a></li></ul></li><li data-v-391238e4><a href=\"javascript;\" role=\"button\" aria-expanded=\"false\" rel=\"nosublink\" data-v-391238e4><img src=\"data:image/gif;base64,R0lGODlhAQABAIAAAAAAAP///yH5BAEAAAAALAAAAAABAAEAAAIBRAA7\" alt=\"\" class=\"ico_menu\" data-v-a968263a data-v-391238e4> <span data-v-391238e4>\\xeb\\x89\\xb4\\xec\\x8a\\xa4</span></a> <ul role=\"list\" class=\"list_sub\" style=\"display:none;\" data-v-391238e4><li role=\"listitem\" data-v-391238e4><a href=\"/page/news/pressRelease\" data-v-391238e4>\\n                      \\xeb\\xb3\\xb4\\xeb\\x8f\\x84\\xec\\x9e\\x90\\xeb\\xa3\\x8c\\n                    </a></li><li role=\"listitem\" data-v-391238e4><a href=\"/page/news/inDepth\" data-v-391238e4>\\n                      \\xec\\xb0\\xb8\\xea\\xb3\\xa0\\xec\\x9e\\x90\\xeb\\xa3\\x8c\\n                    </a></li></ul></li></ul></nav> <div class=\"group_relation\" data-v-391238e4><ul class=\"list_relation\" data-v-391238e4><li data-v-391238e4><a href=\"/ir/main\" target=\"_blank\" data-v-391238e4>\\xed\\x88\\xac\\xec\\x9e\\x90\\xec\\xa0\\x95\\xeb\\xb3\\xb4</a></li><li data-v-391238e4><a href=\"https://careers.kakao.com/index\" target=\"_blank\" data-v-391238e4>\\xec\\x9d\\xb8\\xec\\x9e\\xac\\xec\\x98\\x81\\xec\\x9e\\x85</a></li><li data-v-391238e4><a href=\"javascript;\" role=\"button\" aria-expanded=\"false\" data-v-391238e4>\\n                \\xea\\xb3\\xa0\\xea\\xb0\\x9d\\xec\\x84\\xbc\\xed\\x84\\xb0<!----></a> <ul class=\"list_subinfo\" data-v-391238e4><li data-v-391238e4><a href=\"https://cs.kakao.com/\" target=\"_blank\" data-v-391238e4><div role=\"text\" class=\"wrap_info\" data-v-391238e4><span data-v-391238e4>\\xec\\xb9\\xb4\\xec\\xb9\\xb4\\xec\\x98\\xa4 \\xea\\xb3\\xa0\\xea\\xb0\\x9d\\xec\\x84\\xbc\\xed\\x84\\xb0</span><!----></div></a></li><li data-v-391238e4><a href=\"https://cs.daum.net/\" target=\"_blank\" data-v-391238e4><div role=\"text\" class=\"wrap_info\" data-v-391238e4><span data-v-391238e4>Daum \\xea\\xb3\\xa0\\xea\\xb0\\x9d\\xec\\x84\\xbc\\xed\\x84\\xb0</span><!----></div></a></li><li data-v-391238e4><a href=\"https://ccs.kakao.com/\" target=\"_blank\" data-v-391238e4><div role=\"text\" class=\"wrap_info\" data-v-391238e4><span data-v-391238e4>\\xec\\xbb\\xa4\\xeb\\xa8\\xb8\\xec\\x8a\\xa4 \\xea\\xb3\\xa0\\xea\\xb0\\x9d\\xec\\x84\\xbc\\xed\\x84\\xb0</span><!----></div></a></li></ul></li></ul> <div class=\"wrap_util\" data-v-391238e4><button type=\"button\" data-tiara-action-name=\"click_darkmode\" class=\"btn_mode\" data-v-391238e4><span data-v-391238e4><span class=\"screen_out\" data-v-391238e4>\\xeb\\x8b\\xa4\\xed\\x81\\xac\\xeb\\xaa\\xa8\\xeb\\x93\\x9c\\xeb\\xa1\\x9c \\xeb\\xb3\\x80\\xea\\xb2\\xbd\\xed\\x95\\x98\\xea\\xb8\\xb0</span> <!----></span></button> <button type=\"button\" data-tiara-action-name=\"click_language_en\" class=\"btn_language\" data-v-391238e4><span data-v-391238e4><span class=\"screen_out\" data-v-391238e4>\\xec\\x98\\x81\\xec\\x96\\xb4\\xeb\\xa1\\x9c \\xeb\\xb3\\xb4\\xea\\xb8\\xb0</span> <!----></span></button></div></div> <button type=\"button\" class=\"btn_close\" style=\"display:none;\" data-v-391238e4><span class=\"screen_out\" data-v-391238e4>\\xeb\\xa9\\x94\\xec\\x9d\\xb8 \\xeb\\xa9\\x94\\xeb\\x89\\xb4 \\xeb\\x8b\\xab\\xea\\xb8\\xb0</span> <!----></button></div></div></header> <main class=\"doc-main\" data-v-31db29c6><section id=\"mainContent\" class=\"inner-main\" data-v-aa2b7e88 data-v-31db29c6><h2 class=\"screen_out tit_main\" data-v-aa2b7e88>\\xed\\x99\\x88 \\xeb\\xb3\\xb8\\xeb\\xac\\xb8</h2> <div class=\"main-content\" data-v-aa2b7e88><article class=\"content-article wrap_home\" data-v-aa2b7e88><div class=\"cont_home\" data-v-aa2b7e88><div class=\"cont_main area_banner\" data-v-aa2b7e88><!----> <!----></div> <!----> <!----> <!----> <!----> <!----> <div class=\"cont_main area_help\" data-v-aa2b7e88><h3 class=\"title_cont type_help\" data-v-aa2b7e88>\\xeb\\xac\\xb4\\xec\\x97\\x87\\xec\\x9d\\x84 \\xeb\\x8f\\x84\\xec\\x99\\x80\\xeb\\x93\\x9c\\xeb\\xa6\\xb4\\xea\\xb9\\x8c\\xec\\x9a\\x94?</h3> <div class=\"inner_main inner_help\" data-v-aa2b7e88><div class=\"wrap_top\" data-v-aa2b7e88><div class=\"wrap_center inner_top\" data-v-aa2b7e88><a href=\"//cs.kakao.com/\" target=\"_blank\" rel=\"noopener\" data-tiara-layer=\"Area_Main_help\" data-tiara-action-name=\"Click_Main_\\xec\\xb9\\xb4\\xec\\xb9\\xb4\\xec\\x98\\xa4 \\xea\\xb3\\xa0\\xea\\xb0\\x9d\\xec\\x84\\xbc\\xed\\x84\\xb0\" class=\"box_help\" data-v-aa2b7e88><strong class=\"title_help\" data-v-aa2b7e88>\\xec\\xb9\\xb4\\xec\\xb9\\xb4\\xec\\x98\\xa4 \\xea\\xb3\\xa0\\xea\\xb0\\x9d\\xec\\x84\\xbc\\xed\\x84\\xb0</strong> <span class=\"sub_help\" data-v-aa2b7e88>\\n                      \\xec\\x83\\x88\\xec\\xb0\\xbd\\xec\\x97\\xb4\\xeb\\xa6\\xbc\\n                      <!----></span> <img src=\"data:image/gif;base64,R0lGODlhAQABAIAAAAAAAP///yH5BAEAAAAALAAAAAABAAEAAAIBRAA7\" alt=\"\" class=\"icon_help\" data-v-a968263a data-v-aa2b7e88></a><a href=\"//cs.daum.net/\" target=\"_blank\" rel=\"noopener\" data-tiara-layer=\"Area_Main_help\" data-tiara-action-name=\"Click_Main_\\xeb\\x8b\\xa4\\xec\\x9d\\x8c \\xea\\xb3\\xa0\\xea\\xb0\\x9d\\xec\\x84\\xbc\\xed\\x84\\xb0\" class=\"box_help\" data-v-aa2b7e88><strong class=\"title_help\" data-v-aa2b7e88>\\xeb\\x8b\\xa4\\xec\\x9d\\x8c \\xea\\xb3\\xa0\\xea\\xb0\\x9d\\xec\\x84\\xbc\\xed\\x84\\xb0</strong> <span class=\"sub_help\" data-v-aa2b7e88>\\n                      \\xec\\x83\\x88\\xec\\xb0\\xbd\\xec\\x97\\xb4\\xeb\\xa6\\xbc\\n                      <!----></span> <img src=\"data:image/gif;base64,R0lGODlhAQABAIAAAAAAAP///yH5BAEAAAAALAAAAAABAAEAAAIBRAA7\" alt=\"\" class=\"icon_help\" data-v-a968263a data-v-aa2b7e88></a><a href=\"//ccs.kakao.com/\" target=\"_blank\" rel=\"noopener\" data-tiara-layer=\"Area_Main_help\" data-tiara-action-name=\"Click_Main_\\xec\\xbb\\xa4\\xeb\\xa8\\xb8\\xec\\x8a\\xa4 \\xea\\xb3\\xa0\\xea\\xb0\\x9d\\xec\\x84\\xbc\\xed\\x84\\xb0\" class=\"box_help\" data-v-aa2b7e88><strong class=\"title_help\" data-v-aa2b7e88>\\xec\\xbb\\xa4\\xeb\\xa8\\xb8\\xec\\x8a\\xa4 \\xea\\xb3\\xa0\\xea\\xb0\\x9d\\xec\\x84\\xbc\\xed\\x84\\xb0</strong> <span class=\"sub_help\" data-v-aa2b7e88>\\n                      \\xec\\x83\\x88\\xec\\xb0\\xbd\\xec\\x97\\xb4\\xeb\\xa6\\xbc\\n                      <!----></span> <img src=\"data:image/gif;base64,R0lGODlhAQABAIAAAAAAAP///yH5BAEAAAAALAAAAAABAAEAAAIBRAA7\" alt=\"\" class=\"icon_help\" data-v-a968263a data-v-aa2b7e88></a></div> <div class=\"wrap_social inner_top\" data-v-aa2b7e88><strong data-v-aa2b7e88>\\xec\\xb9\\xb4\\xec\\xb9\\xb4\\xec\\x98\\xa4\\xec\\x9d\\x98 \\xeb\\x8b\\xa4\\xec\\x96\\x91\\xed\\x95\\x9c \\xec\\x86\\x8c\\xec\\x8b\\x9d\\xec\\x9d\\x84 \\xea\\xb5\\xac\\xeb\\x8f\\x85\\xed\\x95\\x98\\xec\\x84\\xb8\\xec\\x9a\\x94!</strong> <span class=\"sub_social\" data-v-aa2b7e88>\\xea\\xb3\\xb5\\xec\\x8b\\x9d \\xec\\x86\\x8c\\xec\\x85\\x9c \\xeb\\xaf\\xb8\\xeb\\x94\\x94\\xec\\x96\\xb4 \\xeb\\xb0\\x94\\xeb\\xa1\\x9c\\xea\\xb0\\x80\\xea\\xb8\\xb0</span> <div class=\"list_social\" data-v-aa2b7e88><a href=\"https://pf.kakao.com/_ZRQBh\" target=\"_blank\" rel=\"noopener\" data-tiara-layer=\"Area_Main_help\" data-tiara-action-name=\"Click_GoTalkCH\" role=\"button\" class=\"link_social link_ch\" data-v-aa2b7e88><span class=\"ir_wa\" data-v-aa2b7e88>\\xec\\xb9\\xb4\\xec\\xb9\\xb4\\xec\\x98\\xa4\\xec\\xb1\\x84\\xeb\\x84\\x90 \\xec\\x83\\x88\\xec\\xb0\\xbd\\xec\\x97\\xb4\\xea\\xb8\\xb0</span></a><a href=\"https://www.youtube.com/@Kakaobrandmedia\" target=\"_blank\" rel=\"noopener\" data-tiara-layer=\"Area_Main_help\" data-tiara-action-name=\"Click_GoYT\" role=\"button\" class=\"link_social link_yt\" data-v-aa2b7e88><span class=\"ir_wa\" data-v-aa2b7e88>\\xec\\x9c\\xa0\\xed\\x8a\\x9c\\xeb\\xb8\\x8c \\xec\\x83\\x88\\xec\\xb0\\xbd\\xec\\x97\\xb4\\xea\\xb8\\xb0</span></a><a href=\"https://www.instagram.com/kakao.today\" target=\"_blank\" rel=\"noopener\" data-tiara-layer=\"Area_Main_help\" data-tiara-action-name=\"Click_GoIG\" role=\"button\" class=\"link_social link_insta\" data-v-aa2b7e88><span class=\"ir_wa\" data-v-aa2b7e88>\\xec\\x9d\\xb8\\xec\\x8a\\xa4\\xed\\x83\\x80\\xea\\xb7\\xb8\\xeb\\x9e\\xa8 \\xec\\x83\\x88\\xec\\xb0\\xbd\\xec\\x97\\xb4\\xea\\xb8\\xb0</span></a><a href=\"https://www.facebook.com/kakao.brandmedia\" target=\"_blank\" rel=\"noopener\" data-tiara-layer=\"Area_Main_help\" data-tiara-action-name=\"Click_GoFB\" role=\"button\" class=\"link_social link_fb\" data-v-aa2b7e88><span class=\"ir_wa\" data-v-aa2b7e88>\\xed\\x8e\\x98\\xec\\x9d\\xb4\\xec\\x8a\\xa4\\xeb\\xb6\\x81 \\xec\\x83\\x88\\xec\\xb0\\xbd\\xec\\x97\\xb4\\xea\\xb8\\xb0</span></a><a href=\"https://www.linkedin.com/company/kakaocorp\" target=\"_blank\" rel=\"noopener\" data-tiara-layer=\"Area_Main_help\" data-tiara-action-name=\"Click_GoLinkedIn\" role=\"button\" class=\"link_social link_li\" data-v-aa2b7e88><span class=\"ir_wa\" data-v-aa2b7e88>\\xeb\\xa7\\x81\\xed\\x81\\xac\\xeb\\x93\\x9c\\xec\\x9d\\xb8 \\xec\\x83\\x88\\xec\\xb0\\xbd\\xec\\x97\\xb4\\xea\\xb8\\xb0</span></a></div></div> <div class=\"wrap_recruit inner_top\" data-v-aa2b7e88><strong data-v-aa2b7e88>\\xec\\x84\\xb8\\xec\\x83\\x81\\xeb\\xa7\\x8c\\xec\\x82\\xac\\xec\\x97\\x90 \\xea\\xb4\\x80\\xec\\x8b\\xac\\xec\\x9d\\xb4 \\xeb\\xa7\\x8e\\xeb\\x8b\\xa4\\xeb\\xa9\\xb4,<br>\\xeb\\x8b\\xb9\\xec\\x8b\\xa0\\xec\\x9d\\x80 \\xec\\x9d\\xb4\\xeb\\xaf\\xb8 \\xec\\xb9\\xb4\\xec\\xb9\\xb4\\xec\\x98\\xa4 \\xed\\x81\\xac\\xeb\\xa3\\xa8</strong> <a href=\"//careers.kakao.com/index\" target=\"_blank\" rel=\"noopener\" data-tiara-layer=\"Area_Main_help\" data-tiara-action-name=\"Click_Main_Careers\" class=\"sub_help\" data-v-aa2b7e88>\\n                    \\xec\\x98\\x81\\xec\\x9e\\x85\\xec\\x86\\x8c\\xec\\x8b\\x9d<span class=\"screen_out\" data-v-aa2b7e88>\\xec\\x83\\x88\\xec\\xb0\\xbd\\xec\\x97\\xb4\\xeb\\xa6\\xbc</span> <!----></a></div></div> <div class=\"wrap_bottom\" data-v-aa2b7e88><a href=\"/ir/stockInformation\" target=\"_blank\" rel=\"noopener\" data-tiara-layer=\"Area_Main_help\" data-tiara-action-name=\"Click_Main_stock\" role=\"button\" class=\"box_help type_double\" data-v-aa2b7e88><strong class=\"title_help\" data-v-aa2b7e88>\\xed\\x88\\xac\\xec\\x9e\\x90\\xec\\xa0\\x95\\xeb\\xb3\\xb4</strong> <span class=\"sub_help\" data-v-aa2b7e88>\\n                    \\xeb\\xb0\\x94\\xeb\\xa1\\x9c\\xea\\xb0\\x80\\xea\\xb8\\xb0\\n                    <span class=\"screen_out\" data-v-aa2b7e88>\\xec\\x83\\x88\\xec\\xb0\\xbd\\xec\\x97\\xb4\\xeb\\xa6\\xbc</span> <!----></span> <img src=\"data:image/gif;base64,R0lGODlhAQABAIAAAAAAAP///yH5BAEAAAAALAAAAAABAAEAAAIBRAA7\" alt=\"\" class=\"icon_help\" data-v-a968263a data-v-aa2b7e88></a><a href=\"https://privacy.kakao.com/main\" target=\"_blank\" rel=\"noopener\" data-tiara-layer=\"Area_Main_help\" data-tiara-action-name=\"Click_Main_safe\" role=\"button\" class=\"box_help type_double\" data-v-aa2b7e88><strong class=\"title_help\" data-v-aa2b7e88>\\xeb\\x8d\\xb0\\xec\\x9d\\xb4\\xed\\x84\\xb0\\xec\\x9d\\x98 \\xec\\x97\\xb0\\xea\\xb2\\xb0\\xea\\xb3\\xbc \\xeb\\xb3\\xb4\\xed\\x98\\xb8\\xec\\x9d\\x98 \\xea\\xb7\\xa0\\xed\\x98\\x95\\xec\\x9d\\x84 \\xec\\x9c\\x84\\xed\\x95\\x9c \\xec\\xb9\\xb4\\xec\\xb9\\xb4\\xec\\x98\\xa4\\xec\\x9d\\x98 \\xeb\\x85\\xb8\\xeb\\xa0\\xa5</strong> <span class=\"sub_help\" data-v-aa2b7e88>\\n                    \\xeb\\xb0\\x94\\xeb\\xa1\\x9c\\xea\\xb0\\x80\\xea\\xb8\\xb0\\n                    <span class=\"screen_out\" data-v-aa2b7e88>\\xec\\x83\\x88\\xec\\xb0\\xbd\\xec\\x97\\xb4\\xeb\\xa6\\xbc</span> <!----></span> <img src=\"data:image/gif;base64,R0lGODlhAQABAIAAAAAAAP///yH5BAEAAAAALAAAAAABAAEAAAIBRAA7\" alt=\"\" class=\"icon_help\" data-v-a968263a data-v-aa2b7e88></a></div></div> <div class=\"wrap_btn\" data-v-aa2b7e88><a href=\"/page/collection\" data-tiara-layer=\"Area_Main_collection\" data-tiara-action-name=\"Click_Main_collection\" class=\"link_common\" data-v-aa2b7e88>\\n                \\xec\\xb9\\xb4\\xec\\xb9\\xb4\\xec\\x98\\xa4 \\xec\\x86\\x8c\\xec\\x8b\\x9d \\xeb\\xaa\\xa8\\xec\\x95\\x84\\xeb\\xb3\\xb4\\xea\\xb8\\xb0 <!----></a></div></div></div></article></div> <span class=\"dimmed_block\" data-v-448164c2 data-v-aa2b7e88></span></section></main> <footer class=\"doc-footer\" data-v-60f49f0c data-v-31db29c6><div class=\"inner_footer\" data-v-60f49f0c><section class=\"section_service\" data-v-60f49f0c><h2 class=\"screen_out\" data-v-60f49f0c>\\xed\\x95\\x98\\xeb\\x8b\\xa8 \\xeb\\xa9\\x94\\xeb\\x89\\xb4</h2> <div class=\"wrap_service wrap_tags\" data-v-60f49f0c><h3 data-v-60f49f0c></h3> <div class=\"inner_service\" data-v-60f49f0c><ul class=\"list_service\" data-v-60f49f0c></ul></div></div> <div data-v-60f49f0c><div class=\"wrap_service wrap_etc\" data-v-60f49f0c><div class=\"inner_service\" data-v-60f49f0c><!----> <!----> <!----></div></div><div class=\"wrap_service wrap_etc\" data-v-60f49f0c><div class=\"inner_service\" data-v-60f49f0c><!----> <!----> <!----></div></div><div class=\"wrap_service wrap_etc\" data-v-60f49f0c><div class=\"inner_service\" data-v-60f49f0c><!----> <!----> <!----></div></div><div class=\"wrap_service wrap_etc\" data-v-60f49f0c><div class=\"inner_service\" data-v-60f49f0c><!----> <!----> <!----></div></div></div></section> <section class=\"section_relation\" data-v-60f49f0c><h2 class=\"screen_out\" data-v-60f49f0c>\\xec\\x84\\x9c\\xeb\\xb9\\x84\\xec\\x8a\\xa4 \\xec\\x9d\\xb4\\xec\\x9a\\xa9\\xec\\xa0\\x95\\xeb\\xb3\\xb4</h2> <div class=\"group_info\" data-v-60f49f0c><div class=\"wrap_info\" data-v-60f49f0c><a href=\"javascript;\" role=\"button\" aria-expanded=\"false\" class=\"link_info\" data-v-60f49f0c>\\n              \\xec\\x9d\\xb4\\xec\\x9a\\xa9\\xec\\x95\\xbd\\xea\\xb4\\x80<!----></a> <ul class=\"list_subinfo\" data-v-60f49f0c><li data-v-60f49f0c><a href=\"https://www.kakao.com/policy/terms?type=a&amp;amp;lang=ko\" target=\"_blank\" rel=\"noopener\" data-tiara-action-name=\"click_footer_01_1\" data-v-60f49f0c><span role=\"text\" data-v-60f49f0c>\\n                    \\xec\\xb9\\xb4\\xec\\xb9\\xb4\\xec\\x98\\xa4\\xea\\xb3\\x84\\xec\\xa0\\x95 \\xec\\x84\\x9c\\xeb\\xb9\\x84\\xec\\x8a\\xa4<span class=\"screen_out\" data-v-60f49f0c>\\xec\\x82\\xac\\xec\\x9d\\xb4\\xed\\x8a\\xb8 \\xeb\\xb0\\x94\\xeb\\xa1\\x9c\\xea\\xb0\\x80\\xea\\xb8\\xb0(\\xec\\x83\\x88\\xec\\xb0\\xbd\\xec\\x97\\xb4\\xeb\\xa6\\xbc)</span><!----></span></a></li><li data-v-60f49f0c><a href=\"https://www.kakao.com/policy/terms?type=ts&amp;amp;lang=ko\" target=\"_blank\" rel=\"noopener\" data-tiara-action-name=\"click_footer_01_2\" data-v-60f49f0c><span role=\"text\" data-v-60f49f0c>\\n                    \\xec\\xb9\\xb4\\xec\\xb9\\xb4\\xec\\x98\\xa4 \\xec\\x84\\x9c\\xeb\\xb9\\x84\\xec\\x8a\\xa4<span class=\"screen_out\" data-v-60f49f0c>\\xec\\x82\\xac\\xec\\x9d\\xb4\\xed\\x8a\\xb8 \\xeb\\xb0\\x94\\xeb\\xa1\\x9c\\xea\\xb0\\x80\\xea\\xb8\\xb0(\\xec\\x83\\x88\\xec\\xb0\\xbd\\xec\\x97\\xb4\\xeb\\xa6\\xbc)</span><!----></span></a></li><li data-v-60f49f0c><a href=\"http://policy.daum.net/info/info\" target=\"_blank\" rel=\"noopener\" data-tiara-action-name=\"click_footer_01_3\" data-v-60f49f0c><span role=\"text\" data-v-60f49f0c>\\n                    Daum \\xec\\x84\\x9c\\xeb\\xb9\\x84\\xec\\x8a\\xa4<span class=\"screen_out\" data-v-60f49f0c>\\xec\\x82\\xac\\xec\\x9d\\xb4\\xed\\x8a\\xb8 \\xeb\\xb0\\x94\\xeb\\xa1\\x9c\\xea\\xb0\\x80\\xea\\xb8\\xb0(\\xec\\x83\\x88\\xec\\xb0\\xbd\\xec\\x97\\xb4\\xeb\\xa6\\xbc)</span><!----></span></a></li></ul></div><div class=\"wrap_info\" data-v-60f49f0c><a href=\"javascript;\" role=\"button\" aria-expanded=\"false\" class=\"link_info link_emph\" data-v-60f49f0c>\\n              \\xec\\x9c\\x84\\xec\\xb9\\x98\\xec\\xa0\\x95\\xeb\\xb3\\xb4 \\xec\\x9d\\xb4\\xec\\x9a\\xa9\\xec\\x95\\xbd\\xea\\xb4\\x80<!----></a> <ul class=\"list_subinfo\" data-v-60f49f0c><li data-v-60f49f0c><a href=\"https://www.kakao.com/policy/location?lang=ko\" target=\"_blank\" rel=\"noopener\" data-tiara-action-name=\"click_footer_02_1\" data-v-60f49f0c><span role=\"text\" data-v-60f49f0c>\\n                    \\xec\\xb9\\xb4\\xec\\xb9\\xb4\\xec\\x98\\xa4 \\xec\\x84\\x9c\\xeb\\xb9\\x84\\xec\\x8a\\xa4<span class=\"screen_out\" data-v-60f49f0c>\\xec\\x82\\xac\\xec\\x9d\\xb4\\xed\\x8a\\xb8 \\xeb\\xb0\\x94\\xeb\\xa1\\x9c\\xea\\xb0\\x80\\xea\\xb8\\xb0(\\xec\\x83\\x88\\xec\\xb0\\xbd\\xec\\x97\\xb4\\xeb\\xa6\\xbc)</span><!----></span></a></li><li data-v-60f49f0c><a href=\"http://policy.daum.net/mobile_info/mobile_info\" target=\"_blank\" rel=\"noopener\" data-tiara-action-name=\"click_footer_02_2\" data-v-60f49f0c><span role=\"text\" data-v-60f49f0c>\\n                    Daum \\xec\\x84\\x9c\\xeb\\xb9\\x84\\xec\\x8a\\xa4<span class=\"screen_out\" data-v-60f49f0c>\\xec\\x82\\xac\\xec\\x9d\\xb4\\xed\\x8a\\xb8 \\xeb\\xb0\\x94\\xeb\\xa1\\x9c\\xea\\xb0\\x80\\xea\\xb8\\xb0(\\xec\\x83\\x88\\xec\\xb0\\xbd\\xec\\x97\\xb4\\xeb\\xa6\\xbc)</span><!----></span></a></li></ul></div><div class=\"wrap_info\" data-v-60f49f0c><a href=\"javascript;\" role=\"button\" aria-expanded=\"false\" class=\"link_info link_emph\" data-v-60f49f0c>\\n              \\xea\\xb0\\x9c\\xec\\x9d\\xb8\\xec\\xa0\\x95\\xeb\\xb3\\xb4\\xec\\xb2\\x98\\xeb\\xa6\\xac\\xeb\\xb0\\xa9\\xec\\xb9\\xa8<!----></a> <ul class=\"list_subinfo\" data-v-60f49f0c><li data-v-60f49f0c><a href=\"https://www.kakaocorp.com/policy/privacyPolicy/corporateSitePrivacyPolicy\" target=\"_blank\" rel=\"noopener\" data-tiara-action-name=\"click_footer_03_1\" data-v-60f49f0c><span role=\"text\" data-v-60f49f0c>\\n                    \\xea\\xb8\\xb0\\xec\\x97\\x85\\xec\\x82\\xac\\xec\\x9d\\xb4\\xed\\x8a\\xb8<span class=\"screen_out\" data-v-60f49f0c>\\xec\\x82\\xac\\xec\\x9d\\xb4\\xed\\x8a\\xb8 \\xeb\\xb0\\x94\\xeb\\xa1\\x9c\\xea\\xb0\\x80\\xea\\xb8\\xb0(\\xec\\x83\\x88\\xec\\xb0\\xbd\\xec\\x97\\xb4\\xeb\\xa6\\xbc)</span><!----></span></a></li><li data-v-60f49f0c><a href=\"https://www.kakao.com/policy/privacy?lang=ko\" target=\"_blank\" rel=\"noopener\" data-tiara-action-name=\"click_footer_03_2\" data-v-60f49f0c><span role=\"text\" data-v-60f49f0c>\\n                    \\xec\\xb9\\xb4\\xec\\xb9\\xb4\\xec\\x98\\xa4 \\xec\\x84\\x9c\\xeb\\xb9\\x84\\xec\\x8a\\xa4<span class=\"screen_out\" data-v-60f49f0c>\\xec\\x82\\xac\\xec\\x9d\\xb4\\xed\\x8a\\xb8 \\xeb\\xb0\\x94\\xeb\\xa1\\x9c\\xea\\xb0\\x80\\xea\\xb8\\xb0(\\xec\\x83\\x88\\xec\\xb0\\xbd\\xec\\x97\\xb4\\xeb\\xa6\\xbc)</span><!----></span></a></li></ul></div><div class=\"wrap_info\" data-v-60f49f0c><a href=\"https://www.kakao.com/policy/oppolicy?lang=ko\" target=\"_blank\" rel=\"noopener\" data-tiara-action-name=\"click_footer_04\" class=\"link_info\" data-v-60f49f0c><span role=\"text\" data-v-60f49f0c>\\xec\\x9a\\xb4\\xec\\x98\\x81\\xec\\xa0\\x95\\xec\\xb1\\x85<span class=\"screen_out\" data-v-60f49f0c>\\xec\\x83\\x88\\xec\\xb0\\xbd\\xec\\x97\\xb4\\xeb\\xa6\\xbc</span></span></a> <!----></div><div class=\"wrap_info\" data-v-60f49f0c><a href=\"javascript;\" role=\"button\" aria-expanded=\"false\" class=\"link_info\" data-v-60f49f0c>\\n              \\xec\\xb2\\xad\\xec\\x86\\x8c\\xeb\\x85\\x84\\xeb\\xb3\\xb4\\xed\\x98\\xb8\\xec\\xa0\\x95\\xec\\xb1\\x85<!----></a> <ul class=\"list_subinfo\" data-v-60f49f0c><li data-v-60f49f0c><a href=\"https://www.kakao.com/policy/safeguard?lang=ko\" target=\"_blank\" rel=\"noopener\" data-tiara-action-name=\"click_footer_05_1\" data-v-60f49f0c><span role=\"text\" data-v-60f49f0c>\\n                    \\xec\\xb9\\xb4\\xec\\xb9\\xb4\\xec\\x98\\xa4 \\xec\\x84\\x9c\\xeb\\xb9\\x84\\xec\\x8a\\xa4<span class=\"screen_out\" data-v-60f49f0c>\\xec\\x82\\xac\\xec\\x9d\\xb4\\xed\\x8a\\xb8 \\xeb\\xb0\\x94\\xeb\\xa1\\x9c\\xea\\xb0\\x80\\xea\\xb8\\xb0(\\xec\\x83\\x88\\xec\\xb0\\xbd\\xec\\x97\\xb4\\xeb\\xa6\\xbc)</span><!----></span></a></li><li data-v-60f49f0c><a href=\"http://policy.daum.net/youthpolicy/youthpolicy\" target=\"_blank\" rel=\"noopener\" data-tiara-action-name=\"click_footer_05_2\" data-v-60f49f0c><span role=\"text\" data-v-60f49f0c>\\n                    Daum \\xec\\x84\\x9c\\xeb\\xb9\\x84\\xec\\x8a\\xa4<span class=\"screen_out\" data-v-60f49f0c>\\xec\\x82\\xac\\xec\\x9d\\xb4\\xed\\x8a\\xb8 \\xeb\\xb0\\x94\\xeb\\xa1\\x9c\\xea\\xb0\\x80\\xea\\xb8\\xb0(\\xec\\x83\\x88\\xec\\xb0\\xbd\\xec\\x97\\xb4\\xeb\\xa6\\xbc)</span><!----></span></a></li></ul></div><div class=\"wrap_info\" data-v-60f49f0c><a href=\"https://kakao.com/policy/brand/trademark?lang=ko\" target=\"_blank\" rel=\"noopener\" data-tiara-action-name=\"click_footer_06\" class=\"link_info\" data-v-60f49f0c><span role=\"text\" data-v-60f49f0c>\\xeb\\xb8\\x8c\\xeb\\x9e\\x9c\\xeb\\x93\\x9c\\xeb\\xb3\\xb4\\xed\\x98\\xb8\\xec\\xa0\\x95\\xec\\xb1\\x85<span class=\"screen_out\" data-v-60f49f0c>\\xec\\x83\\x88\\xec\\xb0\\xbd\\xec\\x97\\xb4\\xeb\\xa6\\xbc</span></span></a> <!----></div><div class=\"wrap_info\" data-v-60f49f0c><a href=\"https://www.kakao.com/policy/right?lang=ko\" target=\"_blank\" rel=\"noopener\" data-tiara-action-name=\"click_footer_07\" class=\"link_info\" data-v-60f49f0c><span role=\"text\" data-v-60f49f0c>\\xea\\xb6\\x8c\\xeb\\xa6\\xac\\xec\\xb9\\xa8\\xed\\x95\\xb4\\xec\\x8b\\xa0\\xea\\xb3\\xa0\\xec\\x95\\x88\\xeb\\x82\\xb4<span class=\"screen_out\" data-v-60f49f0c>\\xec\\x83\\x88\\xec\\xb0\\xbd\\xec\\x97\\xb4\\xeb\\xa6\\xbc</span></span></a> <!----></div><div class=\"wrap_info\" data-v-60f49f0c><a href=\"javascript;\" role=\"button\" aria-expanded=\"false\" class=\"link_info\" data-v-60f49f0c>\\n              \\xea\\xb3\\xb5\\xec\\xa7\\x80\\xec\\x82\\xac\\xed\\x95\\xad<!----></a> <ul class=\"list_subinfo\" data-v-60f49f0c><li data-v-60f49f0c><a href=\"https://www.kakaocorp.com/policy/notice/kakaocorp/list\" target=\"_blank\" rel=\"noopener\" data-tiara-action-name=\"click_footer_08_1\" data-v-60f49f0c><span role=\"text\" data-v-60f49f0c>\\n                    \\xed\\x88\\xac\\xec\\x9e\\x90\\xec\\xa0\\x95\\xeb\\xb3\\xb4 \\xea\\xb3\\xb5\\xec\\xa7\\x80<span class=\"screen_out\" data-v-60f49f0c>\\xec\\x82\\xac\\xec\\x9d\\xb4\\xed\\x8a\\xb8 \\xeb\\xb0\\x94\\xeb\\xa1\\x9c\\xea\\xb0\\x80\\xea\\xb8\\xb0(\\xec\\x83\\x88\\xec\\xb0\\xbd\\xec\\x97\\xb4\\xeb\\xa6\\xbc)</span><!----></span></a></li><li data-v-60f49f0c><a href=\"https://www.kakao.com/notices?lang=ko\" target=\"_blank\" rel=\"noopener\" data-tiara-action-name=\"click_footer_08_2\" data-v-60f49f0c><span role=\"text\" data-v-60f49f0c>\\n                    \\xec\\xb9\\xb4\\xec\\xb9\\xb4\\xec\\x98\\xa4 \\xec\\x84\\x9c\\xeb\\xb9\\x84\\xec\\x8a\\xa4<span class=\"screen_out\" data-v-60f49f0c>\\xec\\x82\\xac\\xec\\x9d\\xb4\\xed\\x8a\\xb8 \\xeb\\xb0\\x94\\xeb\\xa1\\x9c\\xea\\xb0\\x80\\xea\\xb8\\xb0(\\xec\\x83\\x88\\xec\\xb0\\xbd\\xec\\x97\\xb4\\xeb\\xa6\\xbc)</span><!----></span></a></li><li data-v-60f49f0c><a href=\"https://m.daum.net/channel/new/notice\" target=\"_blank\" rel=\"noopener\" data-tiara-action-name=\"click_footer_08_3\" data-v-60f49f0c><span role=\"text\" data-v-60f49f0c>\\n                    Daum \\xec\\x84\\x9c\\xeb\\xb9\\x84\\xec\\x8a\\xa4<span class=\"screen_out\" data-v-60f49f0c>\\xec\\x82\\xac\\xec\\x9d\\xb4\\xed\\x8a\\xb8 \\xeb\\xb0\\x94\\xeb\\xa1\\x9c\\xea\\xb0\\x80\\xea\\xb8\\xb0(\\xec\\x83\\x88\\xec\\xb0\\xbd\\xec\\x97\\xb4\\xeb\\xa6\\xbc)</span><!----></span></a></li></ul></div><div class=\"wrap_info\" data-v-60f49f0c><a href=\"https://www.kakaocorp.com/policy/cyberEthics/info\" target=\"_blank\" rel=\"noopener\" data-tiara-action-name=\"click_footer_09\" class=\"link_info\" data-v-60f49f0c><span role=\"text\" data-v-60f49f0c>\\xec\\x82\\xac\\xec\\x9d\\xb4\\xeb\\xb2\\x84\\xec\\x9c\\xa4\\xeb\\xa6\\xac\\xec\\x8b\\xa4<span class=\"screen_out\" data-v-60f49f0c>\\xec\\x83\\x88\\xec\\xb0\\xbd\\xec\\x97\\xb4\\xeb\\xa6\\xbc</span></span></a> <!----></div><div class=\"wrap_info\" data-v-60f49f0c><a href=\"https://www.kakaocorp.com/ir/wayToCome\" target=\"_blank\" rel=\"noopener\" data-tiara-action-name=\"click_footer_010\" class=\"link_info\" data-v-60f49f0c><span role=\"text\" data-v-60f49f0c>Contact Us<span class=\"screen_out\" data-v-60f49f0c>\\xec\\x83\\x88\\xec\\xb0\\xbd\\xec\\x97\\xb4\\xeb\\xa6\\xbc</span></span></a> <!----></div></div> <div class=\"wrap_relation\" data-v-60f49f0c><strong class=\"tit_relation\" data-v-60f49f0c><a href=\"javascript;\" role=\"button\" aria-expanded=\"false\" data-v-60f49f0c>\\n            \\xea\\xb4\\x80\\xeb\\xa0\\xa8\\xec\\x82\\xac\\xec\\x9d\\xb4\\xed\\x8a\\xb8<!----></a></strong> <ul class=\"list_subinfo\" data-v-60f49f0c><li data-v-60f49f0c><a href=\"https://kakao.ai/\" target=\"_blank\" rel=\"noopener\" data-v-60f49f0c><span role=\"text\" data-v-60f49f0c><!---->\\n                  \\xec\\xb9\\xb4\\xec\\xb9\\xb4\\xec\\x98\\xa4 AI<span class=\"screen_out\" data-v-60f49f0c>\\xec\\x82\\xac\\xec\\x9d\\xb4\\xed\\x8a\\xb8 \\xeb\\xb0\\x94\\xeb\\xa1\\x9c\\xea\\xb0\\x80\\xea\\xb8\\xb0(\\xec\\x83\\x88\\xec\\xb0\\xbd\\xec\\x97\\xb4\\xeb\\xa6\\xbc)</span><!----></span></a></li><li data-v-60f49f0c><a href=\"https://privacy.kakao.com/main?lang=ko\" target=\"_blank\" rel=\"noopener\" data-v-60f49f0c><span role=\"text\" data-v-60f49f0c><!---->\\n                  \\xec\\xb9\\xb4\\xec\\xb9\\xb4\\xec\\x98\\xa4 \\xed\\x94\\x84\\xeb\\x9d\\xbc\\xec\\x9d\\xb4\\xeb\\xb2\\x84\\xec\\x8b\\x9c<span class=\"screen_out\" data-v-60f49f0c>\\xec\\x82\\xac\\xec\\x9d\\xb4\\xed\\x8a\\xb8 \\xeb\\xb0\\x94\\xeb\\xa1\\x9c\\xea\\xb0\\x80\\xea\\xb8\\xb0(\\xec\\x83\\x88\\xec\\xb0\\xbd\\xec\\x97\\xb4\\xeb\\xa6\\xbc)</span><!----></span></a></li><li data-v-60f49f0c><a href=\"https://developers.kakao.com/\" target=\"_blank\" rel=\"noopener\" data-v-60f49f0c><span role=\"text\" data-v-60f49f0c><!---->\\n                  \\xec\\xb9\\xb4\\xec\\xb9\\xb4\\xec\\x98\\xa4 \\xeb\\x94\\x94\\xeb\\xb2\\xa8\\xeb\\xa1\\x9c\\xed\\x8d\\xbc\\xec\\x8a\\xa4<span class=\"screen_out\" data-v-60f49f0c>\\xec\\x82\\xac\\xec\\x9d\\xb4\\xed\\x8a\\xb8 \\xeb\\xb0\\x94\\xeb\\xa1\\x9c\\xea\\xb0\\x80\\xea\\xb8\\xb0(\\xec\\x83\\x88\\xec\\xb0\\xbd\\xec\\x97\\xb4\\xeb\\xa6\\xbc)</span><!----></span></a></li><li data-v-60f49f0c><a href=\"https://www.daum.net/\" target=\"_blank\" rel=\"noopener\" data-v-60f49f0c><span role=\"text\" data-v-60f49f0c><!---->\\n                  \\xeb\\x8b\\xa4\\xec\\x9d\\x8c \\xed\\x8f\\xac\\xed\\x84\\xb8 \\xec\\x82\\xac\\xec\\x9d\\xb4\\xed\\x8a\\xb8<span class=\"screen_out\" data-v-60f49f0c>\\xec\\x82\\xac\\xec\\x9d\\xb4\\xed\\x8a\\xb8 \\xeb\\xb0\\x94\\xeb\\xa1\\x9c\\xea\\xb0\\x80\\xea\\xb8\\xb0(\\xec\\x83\\x88\\xec\\xb0\\xbd\\xec\\x97\\xb4\\xeb\\xa6\\xbc)</span><!----></span></a></li><li data-v-60f49f0c><a href=\"https://winwin.kakao.com/index\" target=\"_blank\" rel=\"noopener\" data-v-60f49f0c><span role=\"text\" data-v-60f49f0c><!---->\\n                  \\xeb\\x8f\\x99\\xeb\\xb0\\x98 \\xec\\x84\\xb1\\xec\\x9e\\xa5 \\xec\\x82\\xac\\xec\\x9d\\xb4\\xed\\x8a\\xb8<span class=\"screen_out\" data-v-60f49f0c>\\xec\\x82\\xac\\xec\\x9d\\xb4\\xed\\x8a\\xb8 \\xeb\\xb0\\x94\\xeb\\xa1\\x9c\\xea\\xb0\\x80\\xea\\xb8\\xb0(\\xec\\x83\\x88\\xec\\xb0\\xbd\\xec\\x97\\xb4\\xeb\\xa6\\xbc)</span><!----></span></a></li><li data-v-60f49f0c><a href=\"https://jeju.kakao.com/\" target=\"_blank\" rel=\"noopener\" data-v-60f49f0c><span role=\"text\" data-v-60f49f0c><!---->\\n                  \\xec\\xa0\\x9c\\xec\\xa3\\xbc with kakao<span class=\"screen_out\" data-v-60f49f0c>\\xec\\x82\\xac\\xec\\x9d\\xb4\\xed\\x8a\\xb8 \\xeb\\xb0\\x94\\xeb\\xa1\\x9c\\xea\\xb0\\x80\\xea\\xb8\\xb0(\\xec\\x83\\x88\\xec\\xb0\\xbd\\xec\\x97\\xb4\\xeb\\xa6\\xbc)</span><!----></span></a></li></ul></div> <small class=\"txt_copyright\" data-v-60f49f0c>\\n        \\xc2\\xa9 <a href=\"https://www.kakaocorp.com/page\" data-v-60f49f0c>Kakao Corp.</a> All\\n        rights reserved.\\n      </small></section></div></footer> <!----> <!----></div></div></div></div><script>window.__NUXT__=(function(a,b,c,d){return {layout:\"default\",data:[{}],fetch:{},error:b,state:{isDesktop:a,windowWidth:c,isDarkMode:a,isEnglish:a,isSearchLayerShow:a,isSearchLoading:a,searchKeyword:d,searchData:{},isDetailLayerShow:a,layerData:{},recommendKeywordList:[],categoryData:{},isNavigationShow:a,serviceDetailPcActiveIdx:c,newsCurrentNum:b,newsCurrentTab:d,fromNewsDetail:a},serverRendered:true,routePath:\"\\\\u002F\",config:{baseTenthURL:\"https:\\\\u002F\\\\u002Ft1.kakaocdn.net\\\\u002Fkakaocorp\",_app:{basePath:\"\\\\u002Fpage\\\\u002F\",assetsPath:\"\\\\u002Fpage\\\\u002F_nuxt\\\\u002F\",cdnURL:b}}}}(false,null,0,\"\"));</script><script src=\"/page/_nuxt/a4cb6c6.js\" defer></script><script src=\"/page/_nuxt/5694019.js\" defer></script><script src=\"/page/_nuxt/8d5d01a.js\" defer></script><script src=\"/page/_nuxt/84ade4b.js\" defer></script><script data-n-head=\"ssr\" type=\"application/ld+json\" data-body=\"true\">\\n        {\\n          \"@context\": \"http://schema.org\",\\n          \"@type\": \"Organization\",\\n          \"name\": \"Kakao Corp\",\\n          \"url\": \"https://www.kakaocorp.com\",\\n          \"sameAs\": [\\n            \"https://www.facebook.com/kakao.brandmedia\",\\n            \"https://www.instagram.com/kakao.today\",\\n            \"https://www.youtube.com/c/Kakaobrandmedia\"\\n          ]\\n        }\\n      </script></body></html>'\n"
     ]
    }
   ],
   "source": [
    "import urllib.request\n",
    "\n",
    "result = urllib.request.urlopen('https://www.kakao.com')\n",
    "print(result.read())"
   ]
  },
  {
   "cell_type": "code",
   "execution_count": 126,
   "id": "ff5d78f9",
   "metadata": {},
   "outputs": [
    {
     "ename": "UnicodeEncodeError",
     "evalue": "'ascii' codec can't encode characters in position 23-26: ordinal not in range(128)",
     "output_type": "error",
     "traceback": [
      "\u001b[1;31m---------------------------------------------------------------------------\u001b[0m",
      "\u001b[1;31mUnicodeEncodeError\u001b[0m                        Traceback (most recent call last)",
      "Cell \u001b[1;32mIn[126], line 6\u001b[0m\n\u001b[0;32m      2\u001b[0m \u001b[38;5;28;01mfrom\u001b[39;00m \u001b[38;5;21;01murllib\u001b[39;00m\u001b[38;5;21;01m.\u001b[39;00m\u001b[38;5;21;01mparse\u001b[39;00m \u001b[38;5;28;01mimport\u001b[39;00m quote\n\u001b[0;32m      4\u001b[0m keyword \u001b[38;5;241m=\u001b[39m quote(\u001b[38;5;124m'\u001b[39m\u001b[38;5;124m화산귀환\u001b[39m\u001b[38;5;124m'\u001b[39m)\n\u001b[1;32m----> 6\u001b[0m result \u001b[38;5;241m=\u001b[39m urllib\u001b[38;5;241m.\u001b[39mrequest\u001b[38;5;241m.\u001b[39murlopen(\u001b[38;5;124m'\u001b[39m\u001b[38;5;124mhttps://search.hani.co.kr/search?searchword=화산귀환&sort=desc&startdate=1988.01.01&enddate=2024.02.08&dt=all\u001b[39m\u001b[38;5;124m'\u001b[39m)\n\u001b[0;32m      7\u001b[0m \u001b[38;5;28mprint\u001b[39m(result\u001b[38;5;241m.\u001b[39mread())\n",
      "File \u001b[1;32m~\\anaconda3\\Lib\\urllib\\request.py:216\u001b[0m, in \u001b[0;36murlopen\u001b[1;34m(url, data, timeout, cafile, capath, cadefault, context)\u001b[0m\n\u001b[0;32m    214\u001b[0m \u001b[38;5;28;01melse\u001b[39;00m:\n\u001b[0;32m    215\u001b[0m     opener \u001b[38;5;241m=\u001b[39m _opener\n\u001b[1;32m--> 216\u001b[0m \u001b[38;5;28;01mreturn\u001b[39;00m opener\u001b[38;5;241m.\u001b[39mopen(url, data, timeout)\n",
      "File \u001b[1;32m~\\anaconda3\\Lib\\urllib\\request.py:519\u001b[0m, in \u001b[0;36mOpenerDirector.open\u001b[1;34m(self, fullurl, data, timeout)\u001b[0m\n\u001b[0;32m    516\u001b[0m     req \u001b[38;5;241m=\u001b[39m meth(req)\n\u001b[0;32m    518\u001b[0m sys\u001b[38;5;241m.\u001b[39maudit(\u001b[38;5;124m'\u001b[39m\u001b[38;5;124murllib.Request\u001b[39m\u001b[38;5;124m'\u001b[39m, req\u001b[38;5;241m.\u001b[39mfull_url, req\u001b[38;5;241m.\u001b[39mdata, req\u001b[38;5;241m.\u001b[39mheaders, req\u001b[38;5;241m.\u001b[39mget_method())\n\u001b[1;32m--> 519\u001b[0m response \u001b[38;5;241m=\u001b[39m \u001b[38;5;28mself\u001b[39m\u001b[38;5;241m.\u001b[39m_open(req, data)\n\u001b[0;32m    521\u001b[0m \u001b[38;5;66;03m# post-process response\u001b[39;00m\n\u001b[0;32m    522\u001b[0m meth_name \u001b[38;5;241m=\u001b[39m protocol\u001b[38;5;241m+\u001b[39m\u001b[38;5;124m\"\u001b[39m\u001b[38;5;124m_response\u001b[39m\u001b[38;5;124m\"\u001b[39m\n",
      "File \u001b[1;32m~\\anaconda3\\Lib\\urllib\\request.py:536\u001b[0m, in \u001b[0;36mOpenerDirector._open\u001b[1;34m(self, req, data)\u001b[0m\n\u001b[0;32m    533\u001b[0m     \u001b[38;5;28;01mreturn\u001b[39;00m result\n\u001b[0;32m    535\u001b[0m protocol \u001b[38;5;241m=\u001b[39m req\u001b[38;5;241m.\u001b[39mtype\n\u001b[1;32m--> 536\u001b[0m result \u001b[38;5;241m=\u001b[39m \u001b[38;5;28mself\u001b[39m\u001b[38;5;241m.\u001b[39m_call_chain(\u001b[38;5;28mself\u001b[39m\u001b[38;5;241m.\u001b[39mhandle_open, protocol, protocol \u001b[38;5;241m+\u001b[39m\n\u001b[0;32m    537\u001b[0m                           \u001b[38;5;124m'\u001b[39m\u001b[38;5;124m_open\u001b[39m\u001b[38;5;124m'\u001b[39m, req)\n\u001b[0;32m    538\u001b[0m \u001b[38;5;28;01mif\u001b[39;00m result:\n\u001b[0;32m    539\u001b[0m     \u001b[38;5;28;01mreturn\u001b[39;00m result\n",
      "File \u001b[1;32m~\\anaconda3\\Lib\\urllib\\request.py:496\u001b[0m, in \u001b[0;36mOpenerDirector._call_chain\u001b[1;34m(self, chain, kind, meth_name, *args)\u001b[0m\n\u001b[0;32m    494\u001b[0m \u001b[38;5;28;01mfor\u001b[39;00m handler \u001b[38;5;129;01min\u001b[39;00m handlers:\n\u001b[0;32m    495\u001b[0m     func \u001b[38;5;241m=\u001b[39m \u001b[38;5;28mgetattr\u001b[39m(handler, meth_name)\n\u001b[1;32m--> 496\u001b[0m     result \u001b[38;5;241m=\u001b[39m func(\u001b[38;5;241m*\u001b[39margs)\n\u001b[0;32m    497\u001b[0m     \u001b[38;5;28;01mif\u001b[39;00m result \u001b[38;5;129;01mis\u001b[39;00m \u001b[38;5;129;01mnot\u001b[39;00m \u001b[38;5;28;01mNone\u001b[39;00m:\n\u001b[0;32m    498\u001b[0m         \u001b[38;5;28;01mreturn\u001b[39;00m result\n",
      "File \u001b[1;32m~\\anaconda3\\Lib\\urllib\\request.py:1391\u001b[0m, in \u001b[0;36mHTTPSHandler.https_open\u001b[1;34m(self, req)\u001b[0m\n\u001b[0;32m   1390\u001b[0m \u001b[38;5;28;01mdef\u001b[39;00m \u001b[38;5;21mhttps_open\u001b[39m(\u001b[38;5;28mself\u001b[39m, req):\n\u001b[1;32m-> 1391\u001b[0m     \u001b[38;5;28;01mreturn\u001b[39;00m \u001b[38;5;28mself\u001b[39m\u001b[38;5;241m.\u001b[39mdo_open(http\u001b[38;5;241m.\u001b[39mclient\u001b[38;5;241m.\u001b[39mHTTPSConnection, req,\n\u001b[0;32m   1392\u001b[0m         context\u001b[38;5;241m=\u001b[39m\u001b[38;5;28mself\u001b[39m\u001b[38;5;241m.\u001b[39m_context, check_hostname\u001b[38;5;241m=\u001b[39m\u001b[38;5;28mself\u001b[39m\u001b[38;5;241m.\u001b[39m_check_hostname)\n",
      "File \u001b[1;32m~\\anaconda3\\Lib\\urllib\\request.py:1348\u001b[0m, in \u001b[0;36mAbstractHTTPHandler.do_open\u001b[1;34m(self, http_class, req, **http_conn_args)\u001b[0m\n\u001b[0;32m   1346\u001b[0m \u001b[38;5;28;01mtry\u001b[39;00m:\n\u001b[0;32m   1347\u001b[0m     \u001b[38;5;28;01mtry\u001b[39;00m:\n\u001b[1;32m-> 1348\u001b[0m         h\u001b[38;5;241m.\u001b[39mrequest(req\u001b[38;5;241m.\u001b[39mget_method(), req\u001b[38;5;241m.\u001b[39mselector, req\u001b[38;5;241m.\u001b[39mdata, headers,\n\u001b[0;32m   1349\u001b[0m                   encode_chunked\u001b[38;5;241m=\u001b[39mreq\u001b[38;5;241m.\u001b[39mhas_header(\u001b[38;5;124m'\u001b[39m\u001b[38;5;124mTransfer-encoding\u001b[39m\u001b[38;5;124m'\u001b[39m))\n\u001b[0;32m   1350\u001b[0m     \u001b[38;5;28;01mexcept\u001b[39;00m \u001b[38;5;167;01mOSError\u001b[39;00m \u001b[38;5;28;01mas\u001b[39;00m err: \u001b[38;5;66;03m# timeout error\u001b[39;00m\n\u001b[0;32m   1351\u001b[0m         \u001b[38;5;28;01mraise\u001b[39;00m URLError(err)\n",
      "File \u001b[1;32m~\\anaconda3\\Lib\\http\\client.py:1286\u001b[0m, in \u001b[0;36mHTTPConnection.request\u001b[1;34m(self, method, url, body, headers, encode_chunked)\u001b[0m\n\u001b[0;32m   1283\u001b[0m \u001b[38;5;28;01mdef\u001b[39;00m \u001b[38;5;21mrequest\u001b[39m(\u001b[38;5;28mself\u001b[39m, method, url, body\u001b[38;5;241m=\u001b[39m\u001b[38;5;28;01mNone\u001b[39;00m, headers\u001b[38;5;241m=\u001b[39m{}, \u001b[38;5;241m*\u001b[39m,\n\u001b[0;32m   1284\u001b[0m             encode_chunked\u001b[38;5;241m=\u001b[39m\u001b[38;5;28;01mFalse\u001b[39;00m):\n\u001b[0;32m   1285\u001b[0m \u001b[38;5;250m    \u001b[39m\u001b[38;5;124;03m\"\"\"Send a complete request to the server.\"\"\"\u001b[39;00m\n\u001b[1;32m-> 1286\u001b[0m     \u001b[38;5;28mself\u001b[39m\u001b[38;5;241m.\u001b[39m_send_request(method, url, body, headers, encode_chunked)\n",
      "File \u001b[1;32m~\\anaconda3\\Lib\\http\\client.py:1297\u001b[0m, in \u001b[0;36mHTTPConnection._send_request\u001b[1;34m(self, method, url, body, headers, encode_chunked)\u001b[0m\n\u001b[0;32m   1294\u001b[0m \u001b[38;5;28;01mif\u001b[39;00m \u001b[38;5;124m'\u001b[39m\u001b[38;5;124maccept-encoding\u001b[39m\u001b[38;5;124m'\u001b[39m \u001b[38;5;129;01min\u001b[39;00m header_names:\n\u001b[0;32m   1295\u001b[0m     skips[\u001b[38;5;124m'\u001b[39m\u001b[38;5;124mskip_accept_encoding\u001b[39m\u001b[38;5;124m'\u001b[39m] \u001b[38;5;241m=\u001b[39m \u001b[38;5;241m1\u001b[39m\n\u001b[1;32m-> 1297\u001b[0m \u001b[38;5;28mself\u001b[39m\u001b[38;5;241m.\u001b[39mputrequest(method, url, \u001b[38;5;241m*\u001b[39m\u001b[38;5;241m*\u001b[39mskips)\n\u001b[0;32m   1299\u001b[0m \u001b[38;5;66;03m# chunked encoding will happen if HTTP/1.1 is used and either\u001b[39;00m\n\u001b[0;32m   1300\u001b[0m \u001b[38;5;66;03m# the caller passes encode_chunked=True or the following\u001b[39;00m\n\u001b[0;32m   1301\u001b[0m \u001b[38;5;66;03m# conditions hold:\u001b[39;00m\n\u001b[0;32m   1302\u001b[0m \u001b[38;5;66;03m# 1. content-length has not been explicitly set\u001b[39;00m\n\u001b[0;32m   1303\u001b[0m \u001b[38;5;66;03m# 2. the body is a file or iterable, but not a str or bytes-like\u001b[39;00m\n\u001b[0;32m   1304\u001b[0m \u001b[38;5;66;03m# 3. Transfer-Encoding has NOT been explicitly set by the caller\u001b[39;00m\n\u001b[0;32m   1306\u001b[0m \u001b[38;5;28;01mif\u001b[39;00m \u001b[38;5;124m'\u001b[39m\u001b[38;5;124mcontent-length\u001b[39m\u001b[38;5;124m'\u001b[39m \u001b[38;5;129;01mnot\u001b[39;00m \u001b[38;5;129;01min\u001b[39;00m header_names:\n\u001b[0;32m   1307\u001b[0m     \u001b[38;5;66;03m# only chunk body if not explicitly set for backwards\u001b[39;00m\n\u001b[0;32m   1308\u001b[0m     \u001b[38;5;66;03m# compatibility, assuming the client code is already handling the\u001b[39;00m\n\u001b[0;32m   1309\u001b[0m     \u001b[38;5;66;03m# chunking\u001b[39;00m\n",
      "File \u001b[1;32m~\\anaconda3\\Lib\\http\\client.py:1135\u001b[0m, in \u001b[0;36mHTTPConnection.putrequest\u001b[1;34m(self, method, url, skip_host, skip_accept_encoding)\u001b[0m\n\u001b[0;32m   1131\u001b[0m \u001b[38;5;28mself\u001b[39m\u001b[38;5;241m.\u001b[39m_validate_path(url)\n\u001b[0;32m   1133\u001b[0m request \u001b[38;5;241m=\u001b[39m \u001b[38;5;124m'\u001b[39m\u001b[38;5;132;01m%s\u001b[39;00m\u001b[38;5;124m \u001b[39m\u001b[38;5;132;01m%s\u001b[39;00m\u001b[38;5;124m \u001b[39m\u001b[38;5;132;01m%s\u001b[39;00m\u001b[38;5;124m'\u001b[39m \u001b[38;5;241m%\u001b[39m (method, url, \u001b[38;5;28mself\u001b[39m\u001b[38;5;241m.\u001b[39m_http_vsn_str)\n\u001b[1;32m-> 1135\u001b[0m \u001b[38;5;28mself\u001b[39m\u001b[38;5;241m.\u001b[39m_output(\u001b[38;5;28mself\u001b[39m\u001b[38;5;241m.\u001b[39m_encode_request(request))\n\u001b[0;32m   1137\u001b[0m \u001b[38;5;28;01mif\u001b[39;00m \u001b[38;5;28mself\u001b[39m\u001b[38;5;241m.\u001b[39m_http_vsn \u001b[38;5;241m==\u001b[39m \u001b[38;5;241m11\u001b[39m:\n\u001b[0;32m   1138\u001b[0m     \u001b[38;5;66;03m# Issue some standard headers for better HTTP/1.1 compliance\u001b[39;00m\n\u001b[0;32m   1140\u001b[0m     \u001b[38;5;28;01mif\u001b[39;00m \u001b[38;5;129;01mnot\u001b[39;00m skip_host:\n\u001b[0;32m   1141\u001b[0m         \u001b[38;5;66;03m# this header is issued *only* for HTTP/1.1\u001b[39;00m\n\u001b[0;32m   1142\u001b[0m         \u001b[38;5;66;03m# connections. more specifically, this means it is\u001b[39;00m\n\u001b[1;32m   (...)\u001b[0m\n\u001b[0;32m   1152\u001b[0m         \u001b[38;5;66;03m# but the host of the actual URL, not the host of the\u001b[39;00m\n\u001b[0;32m   1153\u001b[0m         \u001b[38;5;66;03m# proxy.\u001b[39;00m\n",
      "File \u001b[1;32m~\\anaconda3\\Lib\\http\\client.py:1215\u001b[0m, in \u001b[0;36mHTTPConnection._encode_request\u001b[1;34m(self, request)\u001b[0m\n\u001b[0;32m   1213\u001b[0m \u001b[38;5;28;01mdef\u001b[39;00m \u001b[38;5;21m_encode_request\u001b[39m(\u001b[38;5;28mself\u001b[39m, request):\n\u001b[0;32m   1214\u001b[0m     \u001b[38;5;66;03m# ASCII also helps prevent CVE-2019-9740.\u001b[39;00m\n\u001b[1;32m-> 1215\u001b[0m     \u001b[38;5;28;01mreturn\u001b[39;00m request\u001b[38;5;241m.\u001b[39mencode(\u001b[38;5;124m'\u001b[39m\u001b[38;5;124mascii\u001b[39m\u001b[38;5;124m'\u001b[39m)\n",
      "\u001b[1;31mUnicodeEncodeError\u001b[0m: 'ascii' codec can't encode characters in position 23-26: ordinal not in range(128)"
     ]
    }
   ],
   "source": [
    "import urllib.request\n",
    "from urllib.parse import quote\n",
    "\n",
    "keyword = quote('화산귀환')\n",
    "\n",
    "result = urllib.request.urlopen('https://search.hani.co.kr/search?searchword=화산귀환&sort=desc&startdate=1988.01.01&enddate=2024.02.08&dt=all')\n",
    "print(result.read())"
   ]
  },
  {
   "cell_type": "code",
   "execution_count": 141,
   "id": "fa0230c1",
   "metadata": {},
   "outputs": [
    {
     "name": "stdout",
     "output_type": "stream",
     "text": [
      "{'documents': [{'address_name': '서울 종로구 종로5가 103', 'category_group_code': 'PM9', 'category_group_name': '약국', 'category_name': '의료,건강 > 약국', 'distance': '', 'id': '11058267', 'phone': '02-763-8182', 'place_name': '보령약국', 'place_url': 'http://place.map.kakao.com/11058267', 'road_address_name': '서울 종로구 종로 203', 'x': '127.0003429871931', 'y': '37.57113559406886'}, {'address_name': '서울 종로구 종로5가 102', 'category_group_code': 'PM9', 'category_group_name': '약국', 'category_name': '의료,건강 > 약국', 'distance': '', 'id': '332392090', 'phone': '02-745-5487', 'place_name': '온유약국', 'place_url': 'http://place.map.kakao.com/332392090', 'road_address_name': '서울 종로구 종로 205', 'x': '127.000588624794', 'y': '37.5711238801615'}, {'address_name': '부산 사하구 하단동 619-1', 'category_group_code': 'PM9', 'category_group_name': '약국', 'category_name': '의료,건강 > 약국', 'distance': '', 'id': '10639026', 'phone': '051-208-7003', 'place_name': '오거리약국', 'place_url': 'http://place.map.kakao.com/10639026', 'road_address_name': '부산 사하구 낙동대로 449', 'x': '128.9693736053046', 'y': '35.10492137635224'}, {'address_name': '서울 중구 남대문로3가 30-15', 'category_group_code': 'PM9', 'category_group_name': '약국', 'category_name': '의료,건강 > 약국', 'distance': '', 'id': '8886498', 'phone': '02-753-7575', 'place_name': '남시약국', 'place_url': 'http://place.map.kakao.com/8886498', 'road_address_name': '서울 중구 남대문로 18', 'x': '126.97774853256885', 'y': '37.56077835029789'}, {'address_name': '인천 연수구 송도동 8-21', 'category_group_code': 'PM9', 'category_group_name': '약국', 'category_name': '의료,건강 > 약국', 'distance': '', 'id': '1494671269', 'phone': '032-832-9933', 'place_name': '별온누리약국', 'place_url': 'http://place.map.kakao.com/1494671269', 'road_address_name': '인천 연수구 하모니로 158', 'x': '126.64224425230555', 'y': '37.38313941911357'}, {'address_name': '서울 관악구 신림동 1640-6', 'category_group_code': 'PM9', 'category_group_name': '약국', 'category_name': '의료,건강 > 약국', 'distance': '', 'id': '980757181', 'phone': '070-8866-7637', 'place_name': '신림4번출구약국', 'place_url': 'http://place.map.kakao.com/980757181', 'road_address_name': '서울 관악구 남부순환로 1604', 'x': '126.928940666353', 'y': '37.4839287757611'}, {'address_name': '대구 동구 신암동 1196-2', 'category_group_code': 'PM9', 'category_group_name': '약국', 'category_name': '의료,건강 > 약국', 'distance': '', 'id': '16322521', 'phone': '053-941-1543', 'place_name': '강남약국', 'place_url': 'http://place.map.kakao.com/16322521', 'road_address_name': '대구 동구 신암로 98', 'x': '128.61077053527058', 'y': '35.87943640698932'}, {'address_name': '부산 중구 창선동2가 21-6', 'category_group_code': 'PM9', 'category_group_name': '약국', 'category_name': '의료,건강 > 약국', 'distance': '', 'id': '9839021', 'phone': '051-245-1081', 'place_name': '세명약국', 'place_url': 'http://place.map.kakao.com/9839021', 'road_address_name': '부산 중구 광복로 33', 'x': '129.028801837618', 'y': '35.0994739402773'}, {'address_name': '경기 안양시 만안구 안양동 676-143', 'category_group_code': 'PM9', 'category_group_name': '약국', 'category_name': '의료,건강 > 약국', 'distance': '', 'id': '16092694', 'phone': '031-468-8180', 'place_name': '종로약국', 'place_url': 'http://place.map.kakao.com/16092694', 'road_address_name': '경기 안양시 만안구 장내로119번길 16', 'x': '126.92087411947378', 'y': '37.39744062836043'}, {'address_name': '부산 부산진구 부전동 267-18', 'category_group_code': 'PM9', 'category_group_name': '약국', 'category_name': '의료,건강 > 약국', 'distance': '', 'id': '11059248', 'phone': '051-804-3818', 'place_name': '부전약국', 'place_url': 'http://place.map.kakao.com/11059248', 'road_address_name': '부산 부산진구 중앙대로 755', 'x': '129.06062728662496', 'y': '35.159973853264475'}, {'address_name': '서울 중랑구 면목동 367-6', 'category_group_code': 'PM9', 'category_group_name': '약국', 'category_name': '의료,건강 > 약국', 'distance': '', 'id': '16053981', 'phone': '02-432-0596', 'place_name': '방약국', 'place_url': 'http://place.map.kakao.com/16053981', 'road_address_name': '서울 중랑구 면목로 260', 'x': '127.08593680925841', 'y': '37.57592914252504'}, {'address_name': '서울 종로구 종로5가 36-1', 'category_group_code': 'PM9', 'category_group_name': '약국', 'category_name': '의료,건강 > 약국', 'distance': '', 'id': '8519376', 'phone': '02-745-8495', 'place_name': '종로백제약국', 'place_url': 'http://place.map.kakao.com/8519376', 'road_address_name': '서울 종로구 종로 235', 'x': '127.003993600139', 'y': '37.5712607653567'}, {'address_name': '제주특별자치도 제주시 연동 283-12', 'category_group_code': 'PM9', 'category_group_name': '약국', 'category_name': '의료,건강 > 약국', 'distance': '', 'id': '7897469', 'phone': '064-742-5252', 'place_name': '부부온누리약국', 'place_url': 'http://place.map.kakao.com/7897469', 'road_address_name': '제주특별자치도 제주시 신대로16길 41', 'x': '126.49208811394885', 'y': '33.48674529336971'}, {'address_name': '서울 중구 회현동1가 202-1', 'category_group_code': 'PM9', 'category_group_name': '약국', 'category_name': '의료,건강 > 약국', 'distance': '', 'id': '10625135', 'phone': '02-773-5001', 'place_name': '왕솔약국', 'place_url': 'http://place.map.kakao.com/10625135', 'road_address_name': '서울 중구 남대문로 36', 'x': '126.97997018339866', 'y': '37.5611535627626'}, {'address_name': '경기 안산시 단원구 고잔동 681-6', 'category_group_code': 'PM9', 'category_group_name': '약국', 'category_name': '의료,건강 > 약국', 'distance': '', 'id': '758568545', 'phone': '031-365-3703', 'place_name': '진정주약국', 'place_url': 'http://place.map.kakao.com/758568545', 'road_address_name': '경기 안산시 단원구 광덕4로 112', 'x': '126.824771281576', 'y': '37.3151455860401'}], 'meta': {'is_end': False, 'pageable_count': 45, 'same_name': None, 'total_count': 24987}}\n"
     ]
    }
   ],
   "source": [
    "#kakao open api 데이터 가져오기\n",
    "import requests\n",
    "import json\n",
    "\n",
    "#url 만들기 : 주소?파라미터1&파라미터2\n",
    "url = \"https://dapi.kakao.com/v2/local/search/category.json?category_group_code=PM9&rect=126.95, 37.55, 127.0, 37.60\"\n",
    "\n",
    "#헤더 설정\n",
    "headers = {'Authorization': 'KakaoAK {}'.format('705d0e6b3f8b8fd3a2a659668d58ab12')}\n",
    "\n",
    "\n",
    "data = requests.post(url, headers=headers)\n",
    "\n",
    "print(result)"
   ]
  },
  {
   "cell_type": "code",
   "execution_count": 146,
   "id": "2c978be4",
   "metadata": {},
   "outputs": [
    {
     "name": "stdout",
     "output_type": "stream",
     "text": [
      "보령약국 서울 종로구 종로5가 103\n",
      "온유약국 서울 종로구 종로5가 102\n",
      "오거리약국 부산 사하구 하단동 619-1\n",
      "남시약국 서울 중구 남대문로3가 30-15\n",
      "별온누리약국 인천 연수구 송도동 8-21\n",
      "신림4번출구약국 서울 관악구 신림동 1640-6\n",
      "강남약국 대구 동구 신암동 1196-2\n",
      "세명약국 부산 중구 창선동2가 21-6\n",
      "종로약국 경기 안양시 만안구 안양동 676-143\n",
      "부전약국 부산 부산진구 부전동 267-18\n",
      "방약국 서울 중랑구 면목동 367-6\n",
      "종로백제약국 서울 종로구 종로5가 36-1\n",
      "부부온누리약국 제주특별자치도 제주시 연동 283-12\n",
      "왕솔약국 서울 중구 회현동1가 202-1\n",
      "진정주약국 경기 안산시 단원구 고잔동 681-6\n"
     ]
    }
   ],
   "source": [
    "\n",
    "#JSON 문자열을 Python의 자료 구조로 변경\n",
    "result = json.loads(data.text)\n",
    "# print(result)\n",
    "\n",
    "#documents 키의 데이터를 가져오기\n",
    "documents = result['documents']\n",
    "\n",
    "for doc in documents:\n",
    "    print(doc['place_name'], doc['address_name'])\n"
   ]
  },
  {
   "cell_type": "code",
   "execution_count": 127,
   "id": "b28233a8",
   "metadata": {},
   "outputs": [
    {
     "name": "stdout",
     "output_type": "stream",
     "text": [
      "Collecting pyMySQL\n",
      "  Obtaining dependency information for pyMySQL from https://files.pythonhosted.org/packages/e5/30/20467e39523d0cfc2b6227902d3687a16364307260c75e6a1cb4422b0c62/PyMySQL-1.1.0-py3-none-any.whl.metadata\n",
      "  Using cached PyMySQL-1.1.0-py3-none-any.whl.metadata (4.4 kB)\n",
      "Using cached PyMySQL-1.1.0-py3-none-any.whl (44 kB)\n",
      "Installing collected packages: pyMySQL\n",
      "Successfully installed pyMySQL-1.1.0\n"
     ]
    }
   ],
   "source": [
    "!pip install pyMySQL"
   ]
  },
  {
   "cell_type": "code",
   "execution_count": 137,
   "id": "cf65827a",
   "metadata": {},
   "outputs": [
    {
     "name": "stdout",
     "output_type": "stream",
     "text": [
      "<pymysql.connections.Connection object at 0x000001E696F3A150>\n"
     ]
    }
   ],
   "source": [
    "import pymysql\n",
    "\n",
    "con = pymysql.connect(host = '127.0.0.1',\n",
    "                      port = 3306,\n",
    "                      user = 'gayoung',\n",
    "                      passwd = '1014',\n",
    "                      db = 'test0208',\n",
    "                      charset = 'utf8')\n",
    "print(con)\n",
    "# con.close()\n"
   ]
  },
  {
   "cell_type": "code",
   "execution_count": 147,
   "id": "d47a8da6",
   "metadata": {},
   "outputs": [],
   "source": [
    "#테이블 생성 구문\n",
    "# cursor = con.cursor()\n",
    "# cursor.execute('create table phamacy(placename varchar(30), addressname varchar(200))')\n",
    "\n",
    "#파싱한 데이터 순회\n",
    "for doc in documents :\n",
    "    cursor.execute(\"insert into phamacy(placename, addressname) values (%s, %s)\",\n",
    "                  (doc[\"place_name\"], doc['address_name']))\n",
    "\n",
    "con.commit()\n",
    "#print(con)\n",
    "con.close()"
   ]
  },
  {
   "cell_type": "code",
   "execution_count": 160,
   "id": "8441fed1",
   "metadata": {},
   "outputs": [
    {
     "name": "stdout",
     "output_type": "stream",
     "text": [
      "<Element 'rss' at 0x000001E6977B7B50>\n"
     ]
    }
   ],
   "source": [
    "#한겨레 rss 파싱\n",
    "import urllib.request\n",
    "\n",
    "url = \"https://www.hanion.co.kr/rss/clickTop.xml\"\n",
    "request = urllib.request.Request(url)\n",
    "response = urllib.request.urlopen(request)\n",
    "\n",
    "# print(response.read())\n",
    "#xml 파싱\n",
    "\n",
    "#메모리에 트리 형태로 펼치기\n",
    "import xml.etree.ElementTree as et\n",
    "tree = et.parse(response)\n",
    "\n",
    "#루트 찾기\n",
    "xroot = tree.getroot()\n",
    "print(xroot)"
   ]
  },
  {
   "cell_type": "code",
   "execution_count": 164,
   "id": "85da6673",
   "metadata": {},
   "outputs": [
    {
     "name": "stdout",
     "output_type": "stream",
     "text": [
      "메인 메뉴로 바로가기\n"
     ]
    }
   ],
   "source": [
    "import requests\n",
    "import bs4\n",
    "\n",
    "resp = requests.get(\"https://finance.naver.com/\")\n",
    "html = resp.text\n",
    "\n",
    "# print(html)\n",
    "\n",
    "#html 파싱\n",
    "bs = bs4.BeautifulSoup(html, 'html.parser')\n",
    "#html 에서 body 태그 안의 span 태그의 택스트를 가져오기\n",
    "print(bs.body.span.get_text())"
   ]
  },
  {
   "cell_type": "code",
   "execution_count": 169,
   "id": "61c6cfe0",
   "metadata": {},
   "outputs": [
    {
     "name": "stdout",
     "output_type": "stream",
     "text": [
      "가치투자 큰손이 쓸어담은 '중소형 진주'\n"
     ]
    }
   ],
   "source": [
    "import requests\n",
    "import bs4\n",
    "\n",
    "resp = requests.get(\"https://finance.naver.com/\")\n",
    "html = resp.text\n",
    "\n",
    "# print(html)\n",
    "\n",
    "#html 파싱\n",
    "#bs = bs4.BeautifulSoup(html, 'html.parser')\n",
    "tags = bs.select('div > ul > li:nth-child(1) > span > a')\n",
    "for tag in tags :\n",
    "    print(tag.getText())"
   ]
  },
  {
   "cell_type": "code",
   "execution_count": 180,
   "id": "671e719f",
   "metadata": {},
   "outputs": [
    {
     "name": "stdout",
     "output_type": "stream",
     "text": [
      "강릉:4.2\n"
     ]
    },
    {
     "ename": "IndexError",
     "evalue": "list index out of range",
     "output_type": "error",
     "traceback": [
      "\u001b[1;31m---------------------------------------------------------------------------\u001b[0m",
      "\u001b[1;31mIndexError\u001b[0m                                Traceback (most recent call last)",
      "Cell \u001b[1;32mIn[180], line 25\u001b[0m\n\u001b[0;32m     21\u001b[0m     temp\u001b[38;5;241m.\u001b[39mappend(tag\u001b[38;5;241m.\u001b[39mgetText())\n\u001b[0;32m     24\u001b[0m \u001b[38;5;28;01mfor\u001b[39;00m i \u001b[38;5;129;01min\u001b[39;00m \u001b[38;5;28mrange\u001b[39m(\u001b[38;5;241m0\u001b[39m, \u001b[38;5;241m11\u001b[39m) :\n\u001b[1;32m---> 25\u001b[0m     \u001b[38;5;28mprint\u001b[39m(cities[i] \u001b[38;5;241m+\u001b[39m \u001b[38;5;124m\"\u001b[39m\u001b[38;5;124m:\u001b[39m\u001b[38;5;124m\"\u001b[39m \u001b[38;5;241m+\u001b[39m temp[i])\n",
      "\u001b[1;31mIndexError\u001b[0m: list index out of range"
     ]
    }
   ],
   "source": [
    "import requests\n",
    "import bs4\n",
    "\n",
    "resp = requests.get(\"https://www.weather.go.kr/w/obs-climate/land/city-obs.do\")\n",
    "html = resp.text\n",
    "\n",
    "# print(html)\n",
    "\n",
    "#html 파싱\n",
    "bs = bs4.BeautifulSoup(html, 'html.parser')\n",
    "cities = []\n",
    "temp = []\n",
    "tags = bs.select('#weather_table > tbody > tr:nth-child(1) > th')\n",
    "for tag in tags :\n",
    "    #print(tag.getText())\n",
    "    cities.append(tag.getText())\n",
    "    \n",
    "tags = bs.select('#weather_table > tbody > tr:nth-child(1) > td:nth-child(6)')\n",
    "for tag in tags :\n",
    "#     print(tag.getText())\n",
    "    temp.append(tag.getText())\n",
    "    \n",
    "\n",
    "for i in range(0, 11) :\n",
    "    print(cities[i] + \":\" + temp[i])\n",
    "\n"
   ]
  },
  {
   "cell_type": "code",
   "execution_count": null,
   "id": "c3c518bd",
   "metadata": {},
   "outputs": [],
   "source": []
  },
  {
   "cell_type": "code",
   "execution_count": 166,
   "id": "7346c78a",
   "metadata": {},
   "outputs": [
    {
     "name": "stdout",
     "output_type": "stream",
     "text": [
      "<Element 'rss' at 0x000001E6978CD6C0>\n"
     ]
    }
   ],
   "source": [
    "import urllib.request\n",
    "import xml.etree.ElementTree as et\n",
    "\n",
    "#사용할 데이터 읽어오기\n",
    "url = \"https://www.hankyung.com/feed/sports\"\n",
    "req = urllib.request.Request(url)\n",
    "res = urllib.request.urlopen(req)\n",
    "# print(res.read())\n",
    "\n",
    "#메모리에 트리 형태로 펼치기\n",
    "import xml.etree.ElementTree as et\n",
    "tree = et.parse(res)\n",
    "\n",
    "#루트 찾기\n",
    "xroot = tree.getroot()\n",
    "print(xroot)"
   ]
  },
  {
   "cell_type": "code",
   "execution_count": null,
   "id": "d0d3eaff",
   "metadata": {},
   "outputs": [],
   "source": []
  },
  {
   "cell_type": "code",
   "execution_count": null,
   "id": "5a9fd4da",
   "metadata": {},
   "outputs": [],
   "source": []
  },
  {
   "cell_type": "code",
   "execution_count": null,
   "id": "03b69239",
   "metadata": {},
   "outputs": [],
   "source": []
  },
  {
   "cell_type": "code",
   "execution_count": null,
   "id": "706f3ee4",
   "metadata": {},
   "outputs": [],
   "source": []
  },
  {
   "cell_type": "code",
   "execution_count": null,
   "id": "71aacc76",
   "metadata": {},
   "outputs": [],
   "source": []
  },
  {
   "cell_type": "code",
   "execution_count": null,
   "id": "7955c5ab",
   "metadata": {},
   "outputs": [],
   "source": []
  },
  {
   "cell_type": "code",
   "execution_count": null,
   "id": "80c6ddb2",
   "metadata": {},
   "outputs": [],
   "source": []
  }
 ],
 "metadata": {
  "kernelspec": {
   "display_name": "Python 3 (ipykernel)",
   "language": "python",
   "name": "python3"
  },
  "language_info": {
   "codemirror_mode": {
    "name": "ipython",
    "version": 3
   },
   "file_extension": ".py",
   "mimetype": "text/x-python",
   "name": "python",
   "nbconvert_exporter": "python",
   "pygments_lexer": "ipython3",
   "version": "3.11.5"
  }
 },
 "nbformat": 4,
 "nbformat_minor": 5
}
