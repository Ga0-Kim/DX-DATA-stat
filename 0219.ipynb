{
 "cells": [
  {
   "cell_type": "markdown",
   "id": "ca39293f",
   "metadata": {},
   "source": [
    "## 데이터 전처리\n",
    "### 숫자 데이터\n",
    "#### 이상치 처리"
   ]
  },
  {
   "cell_type": "code",
   "execution_count": 2,
   "id": "68433ce9",
   "metadata": {},
   "outputs": [],
   "source": [
    "import numpy as np\n",
    "import pandas as pd"
   ]
  },
  {
   "cell_type": "code",
   "execution_count": 3,
   "id": "754e1b0f",
   "metadata": {},
   "outputs": [
    {
     "name": "stdout",
     "output_type": "stream",
     "text": [
      "     price  bedrooms  square_feet\n",
      "0   534565       2.0         1500\n",
      "1   496898       3.5         2500\n",
      "2   521463       2.0         1500\n",
      "3   539514       3.0         2000\n",
      "4  9999999     116.0        48000\n"
     ]
    }
   ],
   "source": [
    "houses = pd.DataFrame()\n",
    "houses['price'] = [534565, 496898, 521463, 539514, 9999999]\n",
    "houses['bedrooms'] = [2, 3.5, 2, 3, 116]\n",
    "houses['square_feet'] = [1500, 2500, 1500, 2000, 48000]\n",
    "print(houses)"
   ]
  },
  {
   "cell_type": "code",
   "execution_count": 5,
   "id": "5d069f37",
   "metadata": {},
   "outputs": [
    {
     "name": "stdout",
     "output_type": "stream",
     "text": [
      "     price  bedrooms  square_feet  outlier\n",
      "0   534565       2.0         1500        0\n",
      "1   496898       3.5         2500        0\n",
      "2   521463       2.0         1500        0\n",
      "3   539514       3.0         2000        0\n",
      "4  9999999     116.0        48000        1\n"
     ]
    }
   ],
   "source": [
    "#bedrooms 이 20 이상 여부를 별도의 특성으로 생성\n",
    "#이상한 데이터를 무시할 수 없는 경우 별도의 특성으로 생성하기도 합니다.\n",
    "houses['outlier'] =np. where(houses['bedrooms']< 20, 0, 1)\n",
    "print(houses)"
   ]
  },
  {
   "cell_type": "code",
   "execution_count": 7,
   "id": "24ebff6f",
   "metadata": {},
   "outputs": [
    {
     "name": "stdout",
     "output_type": "stream",
     "text": [
      "     price  bedrooms  square_feet  outlier  Log_Of_Square_Feet\n",
      "0   534565       2.0         1500        0            7.313220\n",
      "1   496898       3.5         2500        0            7.824046\n",
      "2   521463       2.0         1500        0            7.313220\n",
      "3   539514       3.0         2000        0            7.600902\n",
      "4  9999999     116.0        48000        1           10.778956\n"
     ]
    }
   ],
   "source": [
    "#값의 크기를 줄이기 - 표준화\n",
    "#값의 편차가 큰 데이터의 영향력이 줄어들게 됩니다.\n",
    "#sklearn의 Scaler를 이용하기도 하고 로그 특성을 적용하기도 합니다.\n",
    "houses['Log_Of_Square_Feet']= [np.log(x) for x in houses['square_feet']]\n",
    "print(houses)"
   ]
  },
  {
   "cell_type": "code",
   "execution_count": 9,
   "id": "b97c9506",
   "metadata": {},
   "outputs": [
    {
     "name": "stdout",
     "output_type": "stream",
     "text": [
      "     price  bedrooms  square_feet  outlier  Log_Of_Square_Feet  scale_bedrooms\n",
      "0   534565       2.0         1500        0            7.313220       -0.666667\n",
      "1   496898       3.5         2500        0            7.824046        0.333333\n",
      "2   521463       2.0         1500        0            7.313220       -0.666667\n",
      "3   539514       3.0         2000        0            7.600902        0.000000\n",
      "4  9999999     116.0        48000        1           10.778956       75.333333\n"
     ]
    }
   ],
   "source": [
    "from sklearn import preprocessing\n",
    "#Robust Sacler 적용\n",
    "df = pd.DataFrame(houses['bedrooms'])\n",
    "#스케일링 : 0 ~1, -1 ~ 1로 만드는 작업\n",
    "#컬럼끼리 숫자의 크기가 달라서 발생할 수 있는 오류를 제거하기 우히나 수단 중 하나\n",
    "# 평균이나 최대값 또는 최솟값을 이용하는 방식이 있고 중앙값을 이용하는 방식이 있음\n",
    "scaler = preprocessing.RobustScaler()\n",
    "scaler.fit(df)\n",
    "x_scaled = scaler.transform(df)\n",
    "houses['scale_bedrooms'] = x_scaled\n",
    "print(houses)"
   ]
  },
  {
   "cell_type": "markdown",
   "id": "8b2e353f",
   "metadata": {},
   "source": [
    "## 결측치 확인"
   ]
  },
  {
   "cell_type": "code",
   "execution_count": 12,
   "id": "a0c9bf69",
   "metadata": {},
   "outputs": [
    {
     "name": "stdout",
     "output_type": "stream",
     "text": [
      "<class 'pandas.core.frame.DataFrame'>\n",
      "RangeIndex: 891 entries, 0 to 890\n",
      "Data columns (total 15 columns):\n",
      " #   Column       Non-Null Count  Dtype   \n",
      "---  ------       --------------  -----   \n",
      " 0   survived     891 non-null    int64   \n",
      " 1   pclass       891 non-null    int64   \n",
      " 2   sex          891 non-null    object  \n",
      " 3   age          714 non-null    float64 \n",
      " 4   sibsp        891 non-null    int64   \n",
      " 5   parch        891 non-null    int64   \n",
      " 6   fare         891 non-null    float64 \n",
      " 7   embarked     889 non-null    object  \n",
      " 8   class        891 non-null    category\n",
      " 9   who          891 non-null    object  \n",
      " 10  adult_male   891 non-null    bool    \n",
      " 11  deck         203 non-null    category\n",
      " 12  embark_town  889 non-null    object  \n",
      " 13  alive        891 non-null    object  \n",
      " 14  alone        891 non-null    bool    \n",
      "dtypes: bool(2), category(2), float64(2), int64(4), object(5)\n",
      "memory usage: 80.7+ KB\n"
     ]
    }
   ],
   "source": [
    "import seaborn as sns\n",
    "titanic = sns.load_dataset('titanic')\n",
    "# print(titanic.head())\n",
    "titanic.info()"
   ]
  },
  {
   "cell_type": "code",
   "execution_count": 17,
   "id": "9328db6f",
   "metadata": {},
   "outputs": [
    {
     "name": "stdout",
     "output_type": "stream",
     "text": [
      "0     True\n",
      "1    False\n",
      "2     True\n",
      "3    False\n",
      "4     True\n",
      "Name: deck, dtype: bool\n",
      "688\n"
     ]
    }
   ],
   "source": [
    "#deck열의 결측치를 isnull함수로 확인\n",
    "print(titanic['deck'].isnull().head())\n",
    "print(titanic['deck'].isnull().sum())"
   ]
  },
  {
   "cell_type": "code",
   "execution_count": 19,
   "id": "381078bb",
   "metadata": {},
   "outputs": [
    {
     "name": "stdout",
     "output_type": "stream",
     "text": [
      "deck\n",
      "NaN    688\n",
      "C       59\n",
      "B       47\n",
      "D       33\n",
      "E       32\n",
      "A       15\n",
      "F       13\n",
      "G        4\n",
      "Name: count, dtype: int64\n"
     ]
    }
   ],
   "source": [
    "#value_count() 이용\n",
    "print(titanic['deck'].value_counts(dropna = False))"
   ]
  },
  {
   "cell_type": "markdown",
   "id": "036f42d1",
   "metadata": {},
   "source": [
    "### 결측치 처리"
   ]
  },
  {
   "cell_type": "code",
   "execution_count": 22,
   "id": "5d5d1779",
   "metadata": {},
   "outputs": [
    {
     "name": "stdout",
     "output_type": "stream",
     "text": [
      "<class 'pandas.core.frame.DataFrame'>\n",
      "RangeIndex: 891 entries, 0 to 890\n",
      "Data columns (total 14 columns):\n",
      " #   Column       Non-Null Count  Dtype   \n",
      "---  ------       --------------  -----   \n",
      " 0   survived     891 non-null    int64   \n",
      " 1   pclass       891 non-null    int64   \n",
      " 2   sex          891 non-null    object  \n",
      " 3   age          714 non-null    float64 \n",
      " 4   sibsp        891 non-null    int64   \n",
      " 5   parch        891 non-null    int64   \n",
      " 6   fare         891 non-null    float64 \n",
      " 7   embarked     889 non-null    object  \n",
      " 8   class        891 non-null    category\n",
      " 9   who          891 non-null    object  \n",
      " 10  adult_male   891 non-null    bool    \n",
      " 11  embark_town  889 non-null    object  \n",
      " 12  alive        891 non-null    object  \n",
      " 13  alone        891 non-null    bool    \n",
      "dtypes: bool(2), category(1), float64(2), int64(4), object(5)\n",
      "memory usage: 79.4+ KB\n"
     ]
    }
   ],
   "source": [
    "#결측치의 경우가 500개 이상인 컬럼 삭제\n",
    "result1 = titanic.dropna(axis = 1 , thresh = 500)\n",
    "result1.info() # deck 사라짐!"
   ]
  },
  {
   "cell_type": "code",
   "execution_count": 23,
   "id": "cb576c72",
   "metadata": {},
   "outputs": [
    {
     "name": "stdout",
     "output_type": "stream",
     "text": [
      "<class 'pandas.core.frame.DataFrame'>\n",
      "Index: 184 entries, 1 to 889\n",
      "Data columns (total 15 columns):\n",
      " #   Column       Non-Null Count  Dtype   \n",
      "---  ------       --------------  -----   \n",
      " 0   survived     184 non-null    int64   \n",
      " 1   pclass       184 non-null    int64   \n",
      " 2   sex          184 non-null    object  \n",
      " 3   age          184 non-null    float64 \n",
      " 4   sibsp        184 non-null    int64   \n",
      " 5   parch        184 non-null    int64   \n",
      " 6   fare         184 non-null    float64 \n",
      " 7   embarked     182 non-null    object  \n",
      " 8   class        184 non-null    category\n",
      " 9   who          184 non-null    object  \n",
      " 10  adult_male   184 non-null    bool    \n",
      " 11  deck         184 non-null    category\n",
      " 12  embark_town  182 non-null    object  \n",
      " 13  alive        184 non-null    object  \n",
      " 14  alone        184 non-null    bool    \n",
      "dtypes: bool(2), category(2), float64(2), int64(4), object(5)\n",
      "memory usage: 18.4+ KB\n"
     ]
    }
   ],
   "source": [
    "# 특정 열의 값이 NaN 인 경우 행을 지우기\n",
    "result2 = titanic.dropna(subset=['age', 'deck'], axis = 0)\n",
    "result2.info()"
   ]
  },
  {
   "cell_type": "markdown",
   "id": "63f3833a",
   "metadata": {},
   "source": [
    "### 결측값 대체"
   ]
  },
  {
   "cell_type": "code",
   "execution_count": 24,
   "id": "08c25f68",
   "metadata": {},
   "outputs": [
    {
     "name": "stdout",
     "output_type": "stream",
     "text": [
      "825     Queenstown\n",
      "826    Southampton\n",
      "827      Cherbourg\n",
      "828     Queenstown\n",
      "829            NaN\n",
      "830      Cherbourg\n",
      "Name: embark_town, dtype: object\n"
     ]
    }
   ],
   "source": [
    "print(titanic['embark_town'][825:831])"
   ]
  },
  {
   "cell_type": "code",
   "execution_count": 25,
   "id": "8f5cb631",
   "metadata": {},
   "outputs": [
    {
     "name": "stdout",
     "output_type": "stream",
     "text": [
      "825     Queenstown\n",
      "826    Southampton\n",
      "827      Cherbourg\n",
      "828     Queenstown\n",
      "829     Queenstown\n",
      "830      Cherbourg\n",
      "Name: embark_town, dtype: object\n"
     ]
    }
   ],
   "source": [
    "#결측치를 앞의 값으로 채우기\n",
    "#embark_town은 배를 탄 도시기 이기 때문에 앞이나 뒤랑 같을 확률이 높다!\n",
    "result4 = titanic['embark_town'].fillna(method = 'ffill')\n",
    "print(result4[825:831])"
   ]
  },
  {
   "cell_type": "code",
   "execution_count": 30,
   "id": "fc469674",
   "metadata": {},
   "outputs": [
    {
     "name": "stdout",
     "output_type": "stream",
     "text": [
      "embark_town\n",
      "Southampton    644\n",
      "Cherbourg      168\n",
      "Queenstown      77\n",
      "Name: count, dtype: int64\n",
      "Southampton\n",
      "825     Queenstown\n",
      "826    Southampton\n",
      "827      Cherbourg\n",
      "828     Queenstown\n",
      "829    Southampton\n",
      "830      Cherbourg\n",
      "Name: embark_town, dtype: object\n"
     ]
    }
   ],
   "source": [
    "# 가장 많이 등장한 값으로 채우기\n",
    "counts = titanic['embark_town'].value_counts()\n",
    "print(counts)\n",
    "mode = counts.idxmax()\n",
    "print(mode)\n",
    "\n",
    "result5 = titanic['embark_town'].fillna(mode)\n",
    "print(result5[825:831])"
   ]
  },
  {
   "cell_type": "code",
   "execution_count": 31,
   "id": "bbbdc288",
   "metadata": {},
   "outputs": [
    {
     "name": "stdout",
     "output_type": "stream",
     "text": [
      "Collecting fancyimpute\n",
      "  Downloading fancyimpute-0.7.0.tar.gz (25 kB)\n",
      "  Preparing metadata (setup.py): started\n",
      "  Preparing metadata (setup.py): finished with status 'done'\n",
      "Collecting knnimpute>=0.1.0 (from fancyimpute)\n",
      "  Downloading knnimpute-0.1.0.tar.gz (8.3 kB)\n",
      "  Preparing metadata (setup.py): started\n",
      "  Preparing metadata (setup.py): finished with status 'done'\n",
      "Requirement already satisfied: scikit-learn>=0.24.2 in c:\\users\\user\\anaconda3\\lib\\site-packages (from fancyimpute) (1.3.0)\n",
      "Collecting cvxpy (from fancyimpute)\n",
      "  Obtaining dependency information for cvxpy from https://files.pythonhosted.org/packages/38/85/5f46779431dd978f62a1f5bd64df05d9a1418cc50d7294e98bf445e31068/cvxpy-1.4.2-cp311-cp311-win_amd64.whl.metadata\n",
      "  Downloading cvxpy-1.4.2-cp311-cp311-win_amd64.whl.metadata (9.0 kB)\n",
      "Collecting cvxopt (from fancyimpute)\n",
      "  Obtaining dependency information for cvxopt from https://files.pythonhosted.org/packages/a3/52/2237d72cf007e6c36367ab8a776388a9f13511e4cfa8a71b79101ad6e0fa/cvxopt-1.3.2-cp311-cp311-win_amd64.whl.metadata\n",
      "  Downloading cvxopt-1.3.2-cp311-cp311-win_amd64.whl.metadata (1.4 kB)\n",
      "Requirement already satisfied: pytest in c:\\users\\user\\anaconda3\\lib\\site-packages (from fancyimpute) (7.4.0)\n",
      "Collecting nose (from fancyimpute)\n",
      "  Downloading nose-1.3.7-py3-none-any.whl (154 kB)\n",
      "     ---------------------------------------- 0.0/154.7 kB ? eta -:--:--\n",
      "     -------------------------------------- 154.7/154.7 kB 9.6 MB/s eta 0:00:00\n",
      "Requirement already satisfied: six in c:\\users\\user\\anaconda3\\lib\\site-packages (from knnimpute>=0.1.0->fancyimpute) (1.16.0)\n",
      "Requirement already satisfied: numpy>=1.10 in c:\\users\\user\\anaconda3\\lib\\site-packages (from knnimpute>=0.1.0->fancyimpute) (1.24.3)\n",
      "Requirement already satisfied: scipy>=1.5.0 in c:\\users\\user\\anaconda3\\lib\\site-packages (from scikit-learn>=0.24.2->fancyimpute) (1.11.1)\n",
      "Requirement already satisfied: joblib>=1.1.1 in c:\\users\\user\\anaconda3\\lib\\site-packages (from scikit-learn>=0.24.2->fancyimpute) (1.2.0)\n",
      "Requirement already satisfied: threadpoolctl>=2.0.0 in c:\\users\\user\\anaconda3\\lib\\site-packages (from scikit-learn>=0.24.2->fancyimpute) (2.2.0)\n",
      "Collecting osqp>=0.6.2 (from cvxpy->fancyimpute)\n",
      "  Obtaining dependency information for osqp>=0.6.2 from https://files.pythonhosted.org/packages/5d/9a/6bcf0d1ada180ee36d2a813bf75473f5246884688a3f5e710ef755c1f35e/osqp-0.6.5-cp311-cp311-win_amd64.whl.metadata\n",
      "  Downloading osqp-0.6.5-cp311-cp311-win_amd64.whl.metadata (1.8 kB)\n",
      "Collecting ecos>=2 (from cvxpy->fancyimpute)\n",
      "  Obtaining dependency information for ecos>=2 from https://files.pythonhosted.org/packages/67/1f/165ca12f4b3de6bd3fe8b16695013d28e88808effeff37858427ae56f449/ecos-2.0.13-cp311-cp311-win_amd64.whl.metadata\n",
      "  Downloading ecos-2.0.13-cp311-cp311-win_amd64.whl.metadata (8.2 kB)\n",
      "Collecting clarabel>=0.5.0 (from cvxpy->fancyimpute)\n",
      "  Obtaining dependency information for clarabel>=0.5.0 from https://files.pythonhosted.org/packages/a8/6b/0f04f31c1528ab1f6bbc9e6ff83d019386941db4c9e0a7ddd7d16f5a85d2/clarabel-0.6.0-cp37-abi3-win_amd64.whl.metadata\n",
      "  Downloading clarabel-0.6.0-cp37-abi3-win_amd64.whl.metadata (4.4 kB)\n",
      "Collecting scs>=3.0 (from cvxpy->fancyimpute)\n",
      "  Obtaining dependency information for scs>=3.0 from https://files.pythonhosted.org/packages/27/57/38e633489613d0b72cfb40f9f04d2e45afd9754ef002f052e00ffca9f884/scs-3.2.4.post1-cp311-cp311-win_amd64.whl.metadata\n",
      "  Downloading scs-3.2.4.post1-cp311-cp311-win_amd64.whl.metadata (2.1 kB)\n",
      "Collecting pybind11 (from cvxpy->fancyimpute)\n",
      "  Obtaining dependency information for pybind11 from https://files.pythonhosted.org/packages/06/55/9f73c32dda93fa4f539fafa268f9504e83c489f460c380371d94296126cd/pybind11-2.11.1-py3-none-any.whl.metadata\n",
      "  Downloading pybind11-2.11.1-py3-none-any.whl.metadata (9.5 kB)\n",
      "Requirement already satisfied: iniconfig in c:\\users\\user\\anaconda3\\lib\\site-packages (from pytest->fancyimpute) (1.1.1)\n",
      "Requirement already satisfied: packaging in c:\\users\\user\\anaconda3\\lib\\site-packages (from pytest->fancyimpute) (23.1)\n",
      "Requirement already satisfied: pluggy<2.0,>=0.12 in c:\\users\\user\\anaconda3\\lib\\site-packages (from pytest->fancyimpute) (1.0.0)\n",
      "Requirement already satisfied: colorama in c:\\users\\user\\anaconda3\\lib\\site-packages (from pytest->fancyimpute) (0.4.6)\n",
      "Collecting qdldl (from osqp>=0.6.2->cvxpy->fancyimpute)\n",
      "  Obtaining dependency information for qdldl from https://files.pythonhosted.org/packages/f3/0c/972bd00b80aefc57c9a25ca47f802e315ce054fe72cd74d95af6c0f5b3f0/qdldl-0.1.7.post0-cp311-cp311-win_amd64.whl.metadata\n",
      "  Downloading qdldl-0.1.7.post0-cp311-cp311-win_amd64.whl.metadata (1.8 kB)\n",
      "Downloading cvxopt-1.3.2-cp311-cp311-win_amd64.whl (12.8 MB)\n",
      "   ---------------------------------------- 0.0/12.8 MB ? eta -:--:--\n",
      "   -- ------------------------------------- 0.9/12.8 MB 28.5 MB/s eta 0:00:01\n",
      "   ------- -------------------------------- 2.4/12.8 MB 30.1 MB/s eta 0:00:01\n",
      "   --------- ------------------------------ 3.1/12.8 MB 33.3 MB/s eta 0:00:01\n",
      "   ----------------- ---------------------- 5.6/12.8 MB 32.5 MB/s eta 0:00:01\n",
      "   ------------------------------ --------- 10.0/12.8 MB 45.4 MB/s eta 0:00:01\n",
      "   ---------------------------------------  12.8/12.8 MB 72.6 MB/s eta 0:00:01\n",
      "   ---------------------------------------- 12.8/12.8 MB 54.4 MB/s eta 0:00:00\n",
      "Downloading cvxpy-1.4.2-cp311-cp311-win_amd64.whl (1.0 MB)\n",
      "   ---------------------------------------- 0.0/1.0 MB ? eta -:--:--\n",
      "   ---------------------------------------- 1.0/1.0 MB 64.2 MB/s eta 0:00:00\n",
      "Downloading clarabel-0.6.0-cp37-abi3-win_amd64.whl (355 kB)\n",
      "   ---------------------------------------- 0.0/355.1 kB ? eta -:--:--\n",
      "   ---------------------------------------- 355.1/355.1 kB ? eta 0:00:00\n",
      "Downloading ecos-2.0.13-cp311-cp311-win_amd64.whl (72 kB)\n",
      "   ---------------------------------------- 0.0/72.0 kB ? eta -:--:--\n",
      "   ---------------------------------------- 72.0/72.0 kB ? eta 0:00:00\n",
      "Downloading osqp-0.6.5-cp311-cp311-win_amd64.whl (293 kB)\n",
      "   ---------------------------------------- 0.0/293.1 kB ? eta -:--:--\n",
      "   --------------------------------------- 293.1/293.1 kB 18.9 MB/s eta 0:00:00\n",
      "Downloading scs-3.2.4.post1-cp311-cp311-win_amd64.whl (8.4 MB)\n",
      "   ---------------------------------------- 0.0/8.4 MB ? eta -:--:--\n",
      "   ---- ----------------------------------- 1.0/8.4 MB 21.8 MB/s eta 0:00:01\n",
      "   ------------------- -------------------- 4.1/8.4 MB 43.6 MB/s eta 0:00:01\n",
      "   ---------------------------------------  8.4/8.4 MB 67.1 MB/s eta 0:00:01\n",
      "   ---------------------------------------- 8.4/8.4 MB 53.8 MB/s eta 0:00:00\n",
      "Downloading pybind11-2.11.1-py3-none-any.whl (227 kB)\n",
      "   ---------------------------------------- 0.0/227.7 kB ? eta -:--:--\n",
      "   --------------------------------------- 227.7/227.7 kB 13.6 MB/s eta 0:00:00\n",
      "Downloading qdldl-0.1.7.post0-cp311-cp311-win_amd64.whl (85 kB)\n",
      "   ---------------------------------------- 0.0/85.1 kB ? eta -:--:--\n",
      "   ---------------------------------------- 85.1/85.1 kB ? eta 0:00:00\n",
      "Building wheels for collected packages: fancyimpute, knnimpute\n",
      "  Building wheel for fancyimpute (setup.py): started\n",
      "  Building wheel for fancyimpute (setup.py): finished with status 'done'\n",
      "  Created wheel for fancyimpute: filename=fancyimpute-0.7.0-py3-none-any.whl size=29907 sha256=6324268a4545384e5dda28f7c0e1e87b39f18a3c3dd0968b9ab0e828e795262d\n",
      "  Stored in directory: c:\\users\\user\\appdata\\local\\pip\\cache\\wheels\\1a\\f3\\a1\\f7f10b5ae2c2459398762a3fcf4ac18c325311c7e3163d5a15\n",
      "  Building wheel for knnimpute (setup.py): started\n",
      "  Building wheel for knnimpute (setup.py): finished with status 'done'\n",
      "  Created wheel for knnimpute: filename=knnimpute-0.1.0-py3-none-any.whl size=11345 sha256=fb4db0da8ed1c31759e395849c9bce2f6e03019f13ecad08bbe12b111f592000\n",
      "  Stored in directory: c:\\users\\user\\appdata\\local\\pip\\cache\\wheels\\ea\\e8\\e0\\79872972161e54486517ae507f94b2c7cea27fb7ef793bd415\n",
      "Successfully built fancyimpute knnimpute\n",
      "Installing collected packages: nose, pybind11, knnimpute, cvxopt, scs, qdldl, ecos, clarabel, osqp, cvxpy, fancyimpute\n",
      "Successfully installed clarabel-0.6.0 cvxopt-1.3.2 cvxpy-1.4.2 ecos-2.0.13 fancyimpute-0.7.0 knnimpute-0.1.0 nose-1.3.7 osqp-0.6.5 pybind11-2.11.1 qdldl-0.1.7.post0 scs-3.2.4.post1\n"
     ]
    }
   ],
   "source": [
    "#머신러닝 알고리즘을 이용해서 채우기\n",
    "#패키지 설치\n",
    "!pip install fancyimpute\n"
   ]
  },
  {
   "cell_type": "code",
   "execution_count": 36,
   "id": "7978c5b9",
   "metadata": {},
   "outputs": [
    {
     "name": "stdout",
     "output_type": "stream",
     "text": [
      "Imputing row 1/6 with 0 missing, elapsed time: 0.001\n",
      "[[200.         250.        ]\n",
      " [100.         200.        ]\n",
      " [300.         600.        ]\n",
      " [400.         290.        ]\n",
      " [500.         380.        ]\n",
      " [200.         250.00000009]]\n"
     ]
    }
   ],
   "source": [
    "from fancyimpute import KNN\n",
    "features = np.array([[200, 250],[100, 200],[300, 600],[400, 290],[500, 380],\n",
    "                    [200, np.nan]])\n",
    "result6 = KNN(k = 5).fit_transform(features)\n",
    "print(result6)"
   ]
  },
  {
   "cell_type": "markdown",
   "id": "34ba853b",
   "metadata": {},
   "source": [
    "### pandas 의 get_dummies 이용"
   ]
  },
  {
   "cell_type": "code",
   "execution_count": 38,
   "id": "4a72dc64",
   "metadata": {},
   "outputs": [
    {
     "name": "stdout",
     "output_type": "stream",
     "text": [
      "0    Third\n",
      "1    First\n",
      "2    Third\n",
      "3    First\n",
      "4    Third\n",
      "Name: class, dtype: category\n",
      "Categories (3, object): ['First', 'Second', 'Third']\n"
     ]
    }
   ],
   "source": [
    "print(titanic['class'].head())"
   ]
  },
  {
   "cell_type": "code",
   "execution_count": 39,
   "id": "2b4d4c92",
   "metadata": {},
   "outputs": [
    {
     "name": "stdout",
     "output_type": "stream",
     "text": [
      "   First  Second  Third\n",
      "0  False   False   True\n",
      "1   True   False  False\n",
      "2  False   False   True\n",
      "3   True   False  False\n",
      "4  False   False   True\n",
      "5  False   False   True\n",
      "6   True   False  False\n",
      "7  False   False   True\n",
      "8  False   False   True\n",
      "9  False    True  False\n"
     ]
    }
   ],
   "source": [
    "#타이타닉의  class 를 onehot encodig\n",
    "result7 = pd.get_dummies(titanic['class'])\n",
    "print(result7.head(10))"
   ]
  },
  {
   "cell_type": "markdown",
   "id": "44129a80",
   "metadata": {},
   "source": [
    "### scikit - learn 이용하는 방법"
   ]
  },
  {
   "cell_type": "code",
   "execution_count": 41,
   "id": "5841ce74",
   "metadata": {},
   "outputs": [
    {
     "name": "stdout",
     "output_type": "stream",
     "text": [
      "[[0 0 1]\n",
      " [1 0 0]\n",
      " [0 0 1]\n",
      " ...\n",
      " [0 0 1]\n",
      " [1 0 0]\n",
      " [0 0 1]]\n"
     ]
    }
   ],
   "source": [
    "#pandas 의 get_dummies와 동일한 작업을 수행\n",
    "one_hot = preprocessing.LabelBinarizer()\n",
    "\n",
    "result8 = one_hot.fit_transform(titanic['class'])\n",
    "print(result8)"
   ]
  },
  {
   "cell_type": "code",
   "execution_count": 47,
   "id": "db13ebb9",
   "metadata": {},
   "outputs": [
    {
     "name": "stdout",
     "output_type": "stream",
     "text": [
      "['Third' 'First' 'Third' 'First' 'Third' 'Third' 'First' 'Third' 'Third'\n",
      " 'Second' 'Third' 'First' 'Third' 'Third' 'Third' 'Second' 'Third'\n",
      " 'Second' 'Third' 'Third' 'Second' 'Second' 'Third' 'First' 'Third'\n",
      " 'Third' 'Third' 'First' 'Third' 'Third' 'First' 'First' 'Third' 'Second'\n",
      " 'First' 'First' 'Third' 'Third' 'Third' 'Third' 'Third' 'Second' 'Third'\n",
      " 'Second' 'Third' 'Third' 'Third' 'Third' 'Third' 'Third' 'Third' 'Third'\n",
      " 'First' 'Second' 'First' 'First' 'Second' 'Third' 'Second' 'Third'\n",
      " 'Third' 'First' 'First' 'Third' 'First' 'Third' 'Second' 'Third' 'Third'\n",
      " 'Third' 'Second' 'Third' 'Second' 'Third' 'Third' 'Third' 'Third' 'Third'\n",
      " 'Second' 'Third' 'Third' 'Third' 'Third' 'First' 'Second' 'Third' 'Third'\n",
      " 'Third' 'First' 'Third' 'Third' 'Third' 'First' 'Third' 'Third' 'Third'\n",
      " 'First' 'First' 'Second' 'Second' 'Third' 'Third' 'First' 'Third' 'Third'\n",
      " 'Third' 'Third' 'Third' 'Third' 'Third' 'First' 'Third' 'Third' 'Third'\n",
      " 'Third' 'Third' 'Third' 'Second' 'First' 'Third' 'Second' 'Third'\n",
      " 'Second' 'Second' 'First' 'Third' 'Third' 'Third' 'Third' 'Third' 'Third'\n",
      " 'Third' 'Third' 'Second' 'Second' 'Second' 'First' 'First' 'Third'\n",
      " 'First' 'Third' 'Third' 'Third' 'Third' 'Second' 'Second' 'Third' 'Third'\n",
      " 'Second' 'Second' 'Second' 'First' 'Third' 'Third' 'Third' 'First'\n",
      " 'Third' 'Third' 'Third' 'Third' 'Third' 'Second' 'Third' 'Third' 'Third'\n",
      " 'Third' 'First' 'Third' 'First' 'Third' 'First' 'Third' 'Third' 'Third'\n",
      " 'First' 'Third' 'Third' 'First' 'Second' 'Third' 'Third' 'Second' 'Third'\n",
      " 'Second' 'Third' 'First' 'Third' 'First' 'Third' 'Third' 'Second'\n",
      " 'Second' 'Third' 'Second' 'First' 'First' 'Third' 'Third' 'Third'\n",
      " 'Second' 'Third' 'Third' 'Third' 'Third' 'Third' 'Third' 'Third' 'Third'\n",
      " 'Third' 'First' 'Third' 'Second' 'Third' 'Second' 'Third' 'First' 'Third'\n",
      " 'Second' 'First' 'Second' 'Third' 'Second' 'Third' 'Third' 'First'\n",
      " 'Third' 'Second' 'Third' 'Second' 'Third' 'First' 'Third' 'Second'\n",
      " 'Third' 'Second' 'Third' 'Second' 'Second' 'Second' 'Second' 'Third'\n",
      " 'Third' 'Second' 'Third' 'Third' 'First' 'Third' 'Second' 'First'\n",
      " 'Second' 'Third' 'Third' 'First' 'Third' 'Third' 'Third' 'First' 'First'\n",
      " 'First' 'Second' 'Third' 'Third' 'First' 'First' 'Third' 'Second' 'Third'\n",
      " 'Third' 'First' 'First' 'First' 'Third' 'Second' 'First' 'Third' 'First'\n",
      " 'Third' 'Second' 'Third' 'Third' 'Third' 'Third' 'Third' 'Third' 'First'\n",
      " 'Third' 'Third' 'Third' 'Second' 'Third' 'First' 'First' 'Second' 'Third'\n",
      " 'Third' 'First' 'Third' 'First' 'First' 'First' 'Third' 'Third' 'Third'\n",
      " 'Second' 'Third' 'First' 'First' 'First' 'Second' 'First' 'First' 'First'\n",
      " 'Second' 'Third' 'Second' 'Third' 'Second' 'Second' 'First' 'First'\n",
      " 'Third' 'Third' 'Second' 'Second' 'Third' 'First' 'Third' 'Second'\n",
      " 'Third' 'First' 'Third' 'First' 'First' 'Third' 'First' 'Third' 'First'\n",
      " 'First' 'Third' 'First' 'Second' 'First' 'Second' 'Second' 'Second'\n",
      " 'Second' 'Second' 'Third' 'Third' 'Third' 'Third' 'First' 'Third' 'Third'\n",
      " 'Third' 'Third' 'First' 'Second' 'Third' 'Third' 'Third' 'Second' 'Third'\n",
      " 'Third' 'Third' 'Third' 'First' 'Third' 'Third' 'First' 'First' 'Third'\n",
      " 'Third' 'First' 'Third' 'First' 'Third' 'First' 'Third' 'Third' 'First'\n",
      " 'Third' 'Third' 'First' 'Third' 'Second' 'Third' 'Second' 'Third'\n",
      " 'Second' 'First' 'Third' 'Third' 'First' 'Third' 'Third' 'Third' 'Second'\n",
      " 'Second' 'Second' 'Third' 'Third' 'Third' 'Third' 'Third' 'Second'\n",
      " 'Third' 'Second' 'Third' 'Third' 'Third' 'Third' 'First' 'Second' 'Third'\n",
      " 'Third' 'Second' 'Second' 'Second' 'Third' 'Third' 'Third' 'Third'\n",
      " 'Third' 'Third' 'Third' 'Second' 'Second' 'Third' 'Third' 'First' 'Third'\n",
      " 'Second' 'Third' 'First' 'First' 'Third' 'Second' 'First' 'Second'\n",
      " 'Second' 'Third' 'Third' 'Second' 'Third' 'First' 'Second' 'First'\n",
      " 'Third' 'First' 'Second' 'Third' 'First' 'First' 'Third' 'Third' 'First'\n",
      " 'First' 'Second' 'Third' 'First' 'Third' 'First' 'Second' 'Third' 'Third'\n",
      " 'Second' 'First' 'Third' 'Third' 'Third' 'Third' 'Second' 'Second'\n",
      " 'Third' 'First' 'Second' 'Third' 'Third' 'Third' 'Third' 'Second' 'Third'\n",
      " 'Third' 'First' 'Third' 'First' 'First' 'Third' 'Third' 'Third' 'Third'\n",
      " 'First' 'First' 'Third' 'Third' 'First' 'Third' 'First' 'Third' 'Third'\n",
      " 'Third' 'Third' 'Third' 'First' 'First' 'Second' 'First' 'Third' 'Third'\n",
      " 'Third' 'Third' 'First' 'First' 'Third' 'First' 'Second' 'Third' 'Second'\n",
      " 'Third' 'First' 'Third' 'Third' 'First' 'Third' 'Third' 'Second' 'First'\n",
      " 'Third' 'Second' 'Second' 'Third' 'Third' 'Third' 'Third' 'Second'\n",
      " 'First' 'First' 'Third' 'First' 'First' 'Third' 'Third' 'Second' 'First'\n",
      " 'First' 'Second' 'Second' 'Third' 'Second' 'First' 'Second' 'Third'\n",
      " 'Third' 'Third' 'First' 'First' 'First' 'First' 'Third' 'Third' 'Third'\n",
      " 'Second' 'Third' 'Third' 'Third' 'Third' 'Third' 'Third' 'Third' 'Second'\n",
      " 'First' 'First' 'Third' 'Third' 'Third' 'Second' 'First' 'Third' 'Third'\n",
      " 'Second' 'First' 'Second' 'First' 'Third' 'First' 'Second' 'First'\n",
      " 'Third' 'Third' 'Third' 'First' 'Third' 'Third' 'Second' 'Third' 'Second'\n",
      " 'Third' 'Third' 'First' 'Second' 'Third' 'First' 'Third' 'First' 'Third'\n",
      " 'Third' 'First' 'Second' 'First' 'Third' 'Third' 'Third' 'Third' 'Third'\n",
      " 'Second' 'Third' 'Third' 'Second' 'Second' 'Third' 'First' 'Third'\n",
      " 'Third' 'Third' 'First' 'Second' 'First' 'Third' 'Third' 'First' 'Third'\n",
      " 'First' 'First' 'Third' 'Second' 'Third' 'Second' 'Third' 'Third' 'Third'\n",
      " 'First' 'Third' 'Third' 'Third' 'First' 'Third' 'First' 'Third' 'Third'\n",
      " 'Third' 'Second' 'Third' 'Third' 'Third' 'Second' 'Third' 'Third'\n",
      " 'Second' 'First' 'First' 'Third' 'First' 'Third' 'Third' 'Second'\n",
      " 'Second' 'Third' 'Third' 'First' 'Second' 'First' 'Second' 'Second'\n",
      " 'Second' 'Third' 'Third' 'Third' 'Third' 'First' 'Third' 'First' 'Third'\n",
      " 'Third' 'Second' 'Second' 'Third' 'Third' 'Third' 'First' 'First' 'Third'\n",
      " 'Third' 'Third' 'First' 'Second' 'Third' 'Third' 'First' 'Third' 'First'\n",
      " 'First' 'Third' 'Third' 'Third' 'Second' 'Second' 'First' 'First' 'Third'\n",
      " 'First' 'First' 'First' 'Third' 'Second' 'Third' 'First' 'Second' 'Third'\n",
      " 'Third' 'Second' 'Third' 'Second' 'Second' 'First' 'Third' 'Second'\n",
      " 'Third' 'Second' 'Third' 'First' 'Third' 'Second' 'Second' 'Second'\n",
      " 'Third' 'Third' 'First' 'Third' 'Third' 'First' 'First' 'First' 'Third'\n",
      " 'Third' 'First' 'Third' 'Second' 'First' 'Third' 'Second' 'Third' 'Third'\n",
      " 'Third' 'Second' 'Second' 'Third' 'Second' 'Third' 'First' 'Third'\n",
      " 'Third' 'Third' 'First' 'Third' 'First' 'First' 'Third' 'Third' 'Third'\n",
      " 'Third' 'Third' 'Second' 'Third' 'Second' 'Third' 'Third' 'Third' 'Third'\n",
      " 'First' 'Third' 'First' 'First' 'Third' 'Third' 'Third' 'Third' 'Third'\n",
      " 'Third' 'First' 'Third' 'Second' 'Third' 'First' 'Third' 'Second' 'First'\n",
      " 'Third' 'Third' 'Third' 'Second' 'Second' 'First' 'Third' 'Third' 'Third'\n",
      " 'First' 'Third' 'Second' 'First' 'Third' 'Third' 'Second' 'Third' 'Third'\n",
      " 'First' 'Third' 'Second' 'Third' 'Third' 'First' 'Third' 'First' 'Third'\n",
      " 'Third' 'Third' 'Third' 'Second' 'Third' 'First' 'Third' 'Second' 'Third'\n",
      " 'Third' 'Third' 'First' 'Third' 'Third' 'Third' 'First' 'Third' 'Second'\n",
      " 'First' 'Third' 'Third' 'Third' 'Third' 'Third' 'Second' 'First' 'Third'\n",
      " 'Third' 'Third' 'First' 'Second' 'Third' 'First' 'First' 'Third' 'Third'\n",
      " 'Third' 'Second' 'First' 'Third' 'Second' 'Second' 'Second' 'First'\n",
      " 'Third' 'Third' 'Third' 'First' 'First' 'Third' 'Second' 'Third' 'Third'\n",
      " 'Third' 'Third' 'First' 'Second' 'Third' 'Third' 'Second' 'Third' 'Third'\n",
      " 'Second' 'First' 'Third' 'First' 'Third']\n"
     ]
    }
   ],
   "source": [
    "# 원래 데이터로 복원\n",
    "print(one_hot.inverse_transform(result8))"
   ]
  },
  {
   "cell_type": "code",
   "execution_count": 49,
   "id": "db3d014e",
   "metadata": {},
   "outputs": [
    {
     "name": "stdout",
     "output_type": "stream",
     "text": [
      "[[0 1 0 0 1 0 0 0]\n",
      " [0 1 0 0 0 1 0 0]\n",
      " [1 0 0 1 0 0 0 0]\n",
      " [0 0 0 0 1 0 1 0]\n",
      " [0 0 0 0 0 1 0 1]\n",
      " [0 0 1 0 0 1 0 0]]\n",
      "['C#' 'C++' 'Golang' 'JavaScript' 'Jave' 'Python' 'R' 'Scala']\n"
     ]
    }
   ],
   "source": [
    "# 멀티 클래스의 원핫 인코딩\n",
    "#컬럼의 개수가 일치해야합니다.\n",
    "# 문자열의 가지고 거리 계산을 할 때 가장 먼저 할 일 중 하나가 컬럼의 수를 맞추는 것\n",
    "m_features = [('Jave', 'C++'), ('C++', 'Python'), ('C#','JavaScript'),\n",
    "             ('Jave', 'R'),('Python', 'Scala'),('Golang', 'Python')]\n",
    "\n",
    "one_hot_multi = preprocessing.MultiLabelBinarizer()\n",
    "# 여러 컬럼 걸쳐 나온느 모든 경우를 각각의 컬럼으로 생성해서 원핫 인코딩\n",
    "result9 = one_hot_multi.fit_transform(m_features)\n",
    "print(result9)\n",
    "\n",
    "#각각의 컬럼이 의미하는 바 - classes_또는 categories_\n",
    "print(one_hot_multi.classes_)"
   ]
  },
  {
   "cell_type": "markdown",
   "id": "32ea14d0",
   "metadata": {},
   "source": [
    "### 일렬번호 형태로 인코딩"
   ]
  },
  {
   "cell_type": "code",
   "execution_count": 50,
   "id": "6c7c2a7f",
   "metadata": {},
   "outputs": [
    {
     "name": "stdout",
     "output_type": "stream",
     "text": [
      "[2 0 2 0 2 2 0 2 2 1 2 0 2 2 2 1 2 1 2 2 1 1 2 0 2 2 2 0 2 2 0 0 2 1 0 0 2\n",
      " 2 2 2 2 1 2 1 2 2 2 2 2 2 2 2 0 1 0 0 1 2 1 2 2 0 0 2 0 2 1 2 2 2 1 2 1 2\n",
      " 2 2 2 2 1 2 2 2 2 0 1 2 2 2 0 2 2 2 0 2 2 2 0 0 1 1 2 2 0 2 2 2 2 2 2 2 0\n",
      " 2 2 2 2 2 2 1 0 2 1 2 1 1 0 2 2 2 2 2 2 2 2 1 1 1 0 0 2 0 2 2 2 2 1 1 2 2\n",
      " 1 1 1 0 2 2 2 0 2 2 2 2 2 1 2 2 2 2 0 2 0 2 0 2 2 2 0 2 2 0 1 2 2 1 2 1 2\n",
      " 0 2 0 2 2 1 1 2 1 0 0 2 2 2 1 2 2 2 2 2 2 2 2 2 0 2 1 2 1 2 0 2 1 0 1 2 1\n",
      " 2 2 0 2 1 2 1 2 0 2 1 2 1 2 1 1 1 1 2 2 1 2 2 0 2 1 0 1 2 2 0 2 2 2 0 0 0\n",
      " 1 2 2 0 0 2 1 2 2 0 0 0 2 1 0 2 0 2 1 2 2 2 2 2 2 0 2 2 2 1 2 0 0 1 2 2 0\n",
      " 2 0 0 0 2 2 2 1 2 0 0 0 1 0 0 0 1 2 1 2 1 1 0 0 2 2 1 1 2 0 2 1 2 0 2 0 0\n",
      " 2 0 2 0 0 2 0 1 0 1 1 1 1 1 2 2 2 2 0 2 2 2 2 0 1 2 2 2 1 2 2 2 2 0 2 2 0\n",
      " 0 2 2 0 2 0 2 0 2 2 0 2 2 0 2 1 2 1 2 1 0 2 2 0 2 2 2 1 1 1 2 2 2 2 2 1 2\n",
      " 1 2 2 2 2 0 1 2 2 1 1 1 2 2 2 2 2 2 2 1 1 2 2 0 2 1 2 0 0 2 1 0 1 1 2 2 1\n",
      " 2 0 1 0 2 0 1 2 0 0 2 2 0 0 1 2 0 2 0 1 2 2 1 0 2 2 2 2 1 1 2 0 1 2 2 2 2\n",
      " 1 2 2 0 2 0 0 2 2 2 2 0 0 2 2 0 2 0 2 2 2 2 2 0 0 1 0 2 2 2 2 0 0 2 0 1 2\n",
      " 1 2 0 2 2 0 2 2 1 0 2 1 1 2 2 2 2 1 0 0 2 0 0 2 2 1 0 0 1 1 2 1 0 1 2 2 2\n",
      " 0 0 0 0 2 2 2 1 2 2 2 2 2 2 2 1 0 0 2 2 2 1 0 2 2 1 0 1 0 2 0 1 0 2 2 2 0\n",
      " 2 2 1 2 1 2 2 0 1 2 0 2 0 2 2 0 1 0 2 2 2 2 2 1 2 2 1 1 2 0 2 2 2 0 1 0 2\n",
      " 2 0 2 0 0 2 1 2 1 2 2 2 0 2 2 2 0 2 0 2 2 2 1 2 2 2 1 2 2 1 0 0 2 0 2 2 1\n",
      " 1 2 2 0 1 0 1 1 1 2 2 2 2 0 2 0 2 2 1 1 2 2 2 0 0 2 2 2 0 1 2 2 0 2 0 0 2\n",
      " 2 2 1 1 0 0 2 0 0 0 2 1 2 0 1 2 2 1 2 1 1 0 2 1 2 1 2 0 2 1 1 1 2 2 0 2 2\n",
      " 0 0 0 2 2 0 2 1 0 2 1 2 2 2 1 1 2 1 2 0 2 2 2 0 2 0 0 2 2 2 2 2 1 2 1 2 2\n",
      " 2 2 0 2 0 0 2 2 2 2 2 2 0 2 1 2 0 2 1 0 2 2 2 1 1 0 2 2 2 0 2 1 0 2 2 1 2\n",
      " 2 0 2 1 2 2 0 2 0 2 2 2 2 1 2 0 2 1 2 2 2 0 2 2 2 0 2 1 0 2 2 2 2 2 1 0 2\n",
      " 2 2 0 1 2 0 0 2 2 2 1 0 2 1 1 1 0 2 2 2 0 0 2 1 2 2 2 2 0 1 2 2 1 2 2 1 0\n",
      " 2 0 2]\n"
     ]
    }
   ],
   "source": [
    "encoder = preprocessing.LabelEncoder()\n",
    "result10 = encoder.fit_transform(titanic['class'])\n",
    "print(result10)"
   ]
  },
  {
   "cell_type": "markdown",
   "id": "400d4d36",
   "metadata": {},
   "source": [
    "### 특정한 순서대로 인코딩"
   ]
  },
  {
   "cell_type": "code",
   "execution_count": 63,
   "id": "45c0641c",
   "metadata": {},
   "outputs": [
    {
     "name": "stdout",
     "output_type": "stream",
     "text": [
      "[2 0 1]\n",
      "0    0\n",
      "1    1\n",
      "2    2\n",
      "Name: score, dtype: int64\n"
     ]
    }
   ],
   "source": [
    "df = pd.DataFrame({'score' : ['저조', '보통','우수']})\n",
    "#데이터를 오름차순 정렬해서 인코딩\n",
    "encoder = preprocessing.LabelEncoder()\n",
    "result11 = encoder.fit_transform(df['score'])\n",
    "print(result11)\n",
    "\n",
    "# 저조에 0 보통은1, 우수는 2로 할당\n",
    "mapper = {'저조' :0, '보통' : 1, '우수': 2}\n",
    "result12 = df['score'].replace(mapper)\n",
    "print(result12)"
   ]
  },
  {
   "cell_type": "code",
   "execution_count": 61,
   "id": "335866d5",
   "metadata": {},
   "outputs": [
    {
     "name": "stdout",
     "output_type": "stream",
     "text": [
      "1\n"
     ]
    }
   ],
   "source": [
    "data = '아침'\n",
    "#아침이면 1, 점심이면 2, 저녁이면 3\n",
    "\n",
    "mapper = {'아침':1, '점심':2, '저녁':3}\n",
    "print(mapper[data])"
   ]
  },
  {
   "cell_type": "markdown",
   "id": "2981a7d0",
   "metadata": {},
   "source": [
    "### ordinalEncoder"
   ]
  },
  {
   "cell_type": "code",
   "execution_count": 56,
   "id": "93b8d441",
   "metadata": {},
   "outputs": [
    {
     "name": "stdout",
     "output_type": "stream",
     "text": [
      "[[1. 0.]\n",
      " [0. 1.]\n",
      " [2. 2.]]\n"
     ]
    }
   ],
   "source": [
    "#데이터를 정렬해서 인코딩 - 숫자도 문자열로 변경해서 정렬\n",
    "#대소문자 구별하지 않고 인코딩 되도록 변경\n",
    "features = np.array([['Low', 10], ['HIGH' , 30], ['MEDIUM', 50]])\n",
    "encoder = preprocessing.OrdinalEncoder()\n",
    "print(encoder.fit_transform(features))"
   ]
  },
  {
   "cell_type": "markdown",
   "id": "d6fb5fc3",
   "metadata": {},
   "source": [
    "### 누락된 데이터 대체 - KNN"
   ]
  },
  {
   "cell_type": "code",
   "execution_count": 66,
   "id": "5ebb959f",
   "metadata": {},
   "outputs": [
    {
     "name": "stdout",
     "output_type": "stream",
     "text": [
      "[0. 1.]\n"
     ]
    }
   ],
   "source": [
    "from sklearn.neighbors import KNeighborsClassifier\n",
    "\n",
    "#첫번째 열이 범주이고 나머지 2개는 숫자 데이터\n",
    "\n",
    "X = np.array([[0, 2.10, 1.45], [1, 1.10, 0.45], [0, 2.38, 0.97],\n",
    "             [1, 0.10, 0.65]])\n",
    "\n",
    "#실제로 누락된 데이터\n",
    "#데이터의 값을 예측해서 채워 넣음\n",
    "X_with_nan = np.array([[np.nan, 2.0, 1.1], [np.nan, 0.98, 0.55]])\n",
    "\n",
    "#모델 생성\n",
    "#가까운거 3개를 찾아서 예측\n",
    "clf = KNeighborsClassifier(3, weights = 'distance')\n",
    "#뒤에 있는 2개를 데이터(피처)를 가지고 맨 앞으로 데이터(타겟)예측\n",
    "trained_model = clf.fit(X[:, 1:], X[:, 0])\n",
    "imputed_values = trained_model.predict(X_with_nan[:, 1:])\n",
    "print(imputed_values)\n",
    "\n",
    "\n"
   ]
  },
  {
   "cell_type": "code",
   "execution_count": 67,
   "id": "e7b41e3b",
   "metadata": {},
   "outputs": [
    {
     "name": "stdout",
     "output_type": "stream",
     "text": [
      "[[0.   2.   1.1 ]\n",
      " [1.   0.98 0.55]]\n"
     ]
    }
   ],
   "source": [
    "#머신러닝 결과로 나온 예측값과 피펴를 좌우로 결합\n",
    "X_with_impute = np.hstack((imputed_values.reshape(-1, 1), X_with_nan[: ,1:]))\n",
    "print(X_with_impute)"
   ]
  },
  {
   "cell_type": "code",
   "execution_count": 68,
   "id": "876d20a7",
   "metadata": {},
   "outputs": [
    {
     "name": "stdout",
     "output_type": "stream",
     "text": [
      "[[0.   2.1  1.45]\n",
      " [1.   1.1  0.45]\n",
      " [0.   2.38 0.97]\n",
      " [1.   0.1  0.65]\n",
      " [0.   2.   1.1 ]\n",
      " [1.   0.98 0.55]]\n"
     ]
    }
   ],
   "source": [
    "#결측기가 없는 데이터와 결측치를 채운 데이터를 상하로 결합\n",
    "print(np.vstack((X,X_with_impute)))"
   ]
  },
  {
   "cell_type": "markdown",
   "id": "920560b8",
   "metadata": {},
   "source": [
    "## 불균형한 데이터 다루기"
   ]
  },
  {
   "cell_type": "code",
   "execution_count": 4,
   "id": "5a171431",
   "metadata": {},
   "outputs": [
    {
     "name": "stdout",
     "output_type": "stream",
     "text": [
      "Help on class RandomForestClassifier in module sklearn.ensemble._forest:\n",
      "\n",
      "class RandomForestClassifier(ForestClassifier)\n",
      " |  RandomForestClassifier(n_estimators=100, *, criterion='gini', max_depth=None, min_samples_split=2, min_samples_leaf=1, min_weight_fraction_leaf=0.0, max_features='sqrt', max_leaf_nodes=None, min_impurity_decrease=0.0, bootstrap=True, oob_score=False, n_jobs=None, random_state=None, verbose=0, warm_start=False, class_weight=None, ccp_alpha=0.0, max_samples=None)\n",
      " |  \n",
      " |  A random forest classifier.\n",
      " |  \n",
      " |  A random forest is a meta estimator that fits a number of decision tree\n",
      " |  classifiers on various sub-samples of the dataset and uses averaging to\n",
      " |  improve the predictive accuracy and control over-fitting.\n",
      " |  The sub-sample size is controlled with the `max_samples` parameter if\n",
      " |  `bootstrap=True` (default), otherwise the whole dataset is used to build\n",
      " |  each tree.\n",
      " |  \n",
      " |  For a comparison between tree-based ensemble models see the example\n",
      " |  :ref:`sphx_glr_auto_examples_ensemble_plot_forest_hist_grad_boosting_comparison.py`.\n",
      " |  \n",
      " |  Read more in the :ref:`User Guide <forest>`.\n",
      " |  \n",
      " |  Parameters\n",
      " |  ----------\n",
      " |  n_estimators : int, default=100\n",
      " |      The number of trees in the forest.\n",
      " |  \n",
      " |      .. versionchanged:: 0.22\n",
      " |         The default value of ``n_estimators`` changed from 10 to 100\n",
      " |         in 0.22.\n",
      " |  \n",
      " |  criterion : {\"gini\", \"entropy\", \"log_loss\"}, default=\"gini\"\n",
      " |      The function to measure the quality of a split. Supported criteria are\n",
      " |      \"gini\" for the Gini impurity and \"log_loss\" and \"entropy\" both for the\n",
      " |      Shannon information gain, see :ref:`tree_mathematical_formulation`.\n",
      " |      Note: This parameter is tree-specific.\n",
      " |  \n",
      " |  max_depth : int, default=None\n",
      " |      The maximum depth of the tree. If None, then nodes are expanded until\n",
      " |      all leaves are pure or until all leaves contain less than\n",
      " |      min_samples_split samples.\n",
      " |  \n",
      " |  min_samples_split : int or float, default=2\n",
      " |      The minimum number of samples required to split an internal node:\n",
      " |  \n",
      " |      - If int, then consider `min_samples_split` as the minimum number.\n",
      " |      - If float, then `min_samples_split` is a fraction and\n",
      " |        `ceil(min_samples_split * n_samples)` are the minimum\n",
      " |        number of samples for each split.\n",
      " |  \n",
      " |      .. versionchanged:: 0.18\n",
      " |         Added float values for fractions.\n",
      " |  \n",
      " |  min_samples_leaf : int or float, default=1\n",
      " |      The minimum number of samples required to be at a leaf node.\n",
      " |      A split point at any depth will only be considered if it leaves at\n",
      " |      least ``min_samples_leaf`` training samples in each of the left and\n",
      " |      right branches.  This may have the effect of smoothing the model,\n",
      " |      especially in regression.\n",
      " |  \n",
      " |      - If int, then consider `min_samples_leaf` as the minimum number.\n",
      " |      - If float, then `min_samples_leaf` is a fraction and\n",
      " |        `ceil(min_samples_leaf * n_samples)` are the minimum\n",
      " |        number of samples for each node.\n",
      " |  \n",
      " |      .. versionchanged:: 0.18\n",
      " |         Added float values for fractions.\n",
      " |  \n",
      " |  min_weight_fraction_leaf : float, default=0.0\n",
      " |      The minimum weighted fraction of the sum total of weights (of all\n",
      " |      the input samples) required to be at a leaf node. Samples have\n",
      " |      equal weight when sample_weight is not provided.\n",
      " |  \n",
      " |  max_features : {\"sqrt\", \"log2\", None}, int or float, default=\"sqrt\"\n",
      " |      The number of features to consider when looking for the best split:\n",
      " |  \n",
      " |      - If int, then consider `max_features` features at each split.\n",
      " |      - If float, then `max_features` is a fraction and\n",
      " |        `max(1, int(max_features * n_features_in_))` features are considered at each\n",
      " |        split.\n",
      " |      - If \"sqrt\", then `max_features=sqrt(n_features)`.\n",
      " |      - If \"log2\", then `max_features=log2(n_features)`.\n",
      " |      - If None, then `max_features=n_features`.\n",
      " |  \n",
      " |      .. versionchanged:: 1.1\n",
      " |          The default of `max_features` changed from `\"auto\"` to `\"sqrt\"`.\n",
      " |  \n",
      " |      Note: the search for a split does not stop until at least one\n",
      " |      valid partition of the node samples is found, even if it requires to\n",
      " |      effectively inspect more than ``max_features`` features.\n",
      " |  \n",
      " |  max_leaf_nodes : int, default=None\n",
      " |      Grow trees with ``max_leaf_nodes`` in best-first fashion.\n",
      " |      Best nodes are defined as relative reduction in impurity.\n",
      " |      If None then unlimited number of leaf nodes.\n",
      " |  \n",
      " |  min_impurity_decrease : float, default=0.0\n",
      " |      A node will be split if this split induces a decrease of the impurity\n",
      " |      greater than or equal to this value.\n",
      " |  \n",
      " |      The weighted impurity decrease equation is the following::\n",
      " |  \n",
      " |          N_t / N * (impurity - N_t_R / N_t * right_impurity\n",
      " |                              - N_t_L / N_t * left_impurity)\n",
      " |  \n",
      " |      where ``N`` is the total number of samples, ``N_t`` is the number of\n",
      " |      samples at the current node, ``N_t_L`` is the number of samples in the\n",
      " |      left child, and ``N_t_R`` is the number of samples in the right child.\n",
      " |  \n",
      " |      ``N``, ``N_t``, ``N_t_R`` and ``N_t_L`` all refer to the weighted sum,\n",
      " |      if ``sample_weight`` is passed.\n",
      " |  \n",
      " |      .. versionadded:: 0.19\n",
      " |  \n",
      " |  bootstrap : bool, default=True\n",
      " |      Whether bootstrap samples are used when building trees. If False, the\n",
      " |      whole dataset is used to build each tree.\n",
      " |  \n",
      " |  oob_score : bool or callable, default=False\n",
      " |      Whether to use out-of-bag samples to estimate the generalization score.\n",
      " |      By default, :func:`~sklearn.metrics.accuracy_score` is used.\n",
      " |      Provide a callable with signature `metric(y_true, y_pred)` to use a\n",
      " |      custom metric. Only available if `bootstrap=True`.\n",
      " |  \n",
      " |  n_jobs : int, default=None\n",
      " |      The number of jobs to run in parallel. :meth:`fit`, :meth:`predict`,\n",
      " |      :meth:`decision_path` and :meth:`apply` are all parallelized over the\n",
      " |      trees. ``None`` means 1 unless in a :obj:`joblib.parallel_backend`\n",
      " |      context. ``-1`` means using all processors. See :term:`Glossary\n",
      " |      <n_jobs>` for more details.\n",
      " |  \n",
      " |  random_state : int, RandomState instance or None, default=None\n",
      " |      Controls both the randomness of the bootstrapping of the samples used\n",
      " |      when building trees (if ``bootstrap=True``) and the sampling of the\n",
      " |      features to consider when looking for the best split at each node\n",
      " |      (if ``max_features < n_features``).\n",
      " |      See :term:`Glossary <random_state>` for details.\n",
      " |  \n",
      " |  verbose : int, default=0\n",
      " |      Controls the verbosity when fitting and predicting.\n",
      " |  \n",
      " |  warm_start : bool, default=False\n",
      " |      When set to ``True``, reuse the solution of the previous call to fit\n",
      " |      and add more estimators to the ensemble, otherwise, just fit a whole\n",
      " |      new forest. See :term:`Glossary <warm_start>` and\n",
      " |      :ref:`gradient_boosting_warm_start` for details.\n",
      " |  \n",
      " |  class_weight : {\"balanced\", \"balanced_subsample\"}, dict or list of dicts,             default=None\n",
      " |      Weights associated with classes in the form ``{class_label: weight}``.\n",
      " |      If not given, all classes are supposed to have weight one. For\n",
      " |      multi-output problems, a list of dicts can be provided in the same\n",
      " |      order as the columns of y.\n",
      " |  \n",
      " |      Note that for multioutput (including multilabel) weights should be\n",
      " |      defined for each class of every column in its own dict. For example,\n",
      " |      for four-class multilabel classification weights should be\n",
      " |      [{0: 1, 1: 1}, {0: 1, 1: 5}, {0: 1, 1: 1}, {0: 1, 1: 1}] instead of\n",
      " |      [{1:1}, {2:5}, {3:1}, {4:1}].\n",
      " |  \n",
      " |      The \"balanced\" mode uses the values of y to automatically adjust\n",
      " |      weights inversely proportional to class frequencies in the input data\n",
      " |      as ``n_samples / (n_classes * np.bincount(y))``\n",
      " |  \n",
      " |      The \"balanced_subsample\" mode is the same as \"balanced\" except that\n",
      " |      weights are computed based on the bootstrap sample for every tree\n",
      " |      grown.\n",
      " |  \n",
      " |      For multi-output, the weights of each column of y will be multiplied.\n",
      " |  \n",
      " |      Note that these weights will be multiplied with sample_weight (passed\n",
      " |      through the fit method) if sample_weight is specified.\n",
      " |  \n",
      " |  ccp_alpha : non-negative float, default=0.0\n",
      " |      Complexity parameter used for Minimal Cost-Complexity Pruning. The\n",
      " |      subtree with the largest cost complexity that is smaller than\n",
      " |      ``ccp_alpha`` will be chosen. By default, no pruning is performed. See\n",
      " |      :ref:`minimal_cost_complexity_pruning` for details.\n",
      " |  \n",
      " |      .. versionadded:: 0.22\n",
      " |  \n",
      " |  max_samples : int or float, default=None\n",
      " |      If bootstrap is True, the number of samples to draw from X\n",
      " |      to train each base estimator.\n",
      " |  \n",
      " |      - If None (default), then draw `X.shape[0]` samples.\n",
      " |      - If int, then draw `max_samples` samples.\n",
      " |      - If float, then draw `max(round(n_samples * max_samples), 1)` samples. Thus,\n",
      " |        `max_samples` should be in the interval `(0.0, 1.0]`.\n",
      " |  \n",
      " |      .. versionadded:: 0.22\n",
      " |  \n",
      " |  Attributes\n",
      " |  ----------\n",
      " |  estimator_ : :class:`~sklearn.tree.DecisionTreeClassifier`\n",
      " |      The child estimator template used to create the collection of fitted\n",
      " |      sub-estimators.\n",
      " |  \n",
      " |      .. versionadded:: 1.2\n",
      " |         `base_estimator_` was renamed to `estimator_`.\n",
      " |  \n",
      " |  base_estimator_ : DecisionTreeClassifier\n",
      " |      The child estimator template used to create the collection of fitted\n",
      " |      sub-estimators.\n",
      " |  \n",
      " |      .. deprecated:: 1.2\n",
      " |          `base_estimator_` is deprecated and will be removed in 1.4.\n",
      " |          Use `estimator_` instead.\n",
      " |  \n",
      " |  estimators_ : list of DecisionTreeClassifier\n",
      " |      The collection of fitted sub-estimators.\n",
      " |  \n",
      " |  classes_ : ndarray of shape (n_classes,) or a list of such arrays\n",
      " |      The classes labels (single output problem), or a list of arrays of\n",
      " |      class labels (multi-output problem).\n",
      " |  \n",
      " |  n_classes_ : int or list\n",
      " |      The number of classes (single output problem), or a list containing the\n",
      " |      number of classes for each output (multi-output problem).\n",
      " |  \n",
      " |  n_features_in_ : int\n",
      " |      Number of features seen during :term:`fit`.\n",
      " |  \n",
      " |      .. versionadded:: 0.24\n",
      " |  \n",
      " |  feature_names_in_ : ndarray of shape (`n_features_in_`,)\n",
      " |      Names of features seen during :term:`fit`. Defined only when `X`\n",
      " |      has feature names that are all strings.\n",
      " |  \n",
      " |      .. versionadded:: 1.0\n",
      " |  \n",
      " |  n_outputs_ : int\n",
      " |      The number of outputs when ``fit`` is performed.\n",
      " |  \n",
      " |  feature_importances_ : ndarray of shape (n_features,)\n",
      " |      The impurity-based feature importances.\n",
      " |      The higher, the more important the feature.\n",
      " |      The importance of a feature is computed as the (normalized)\n",
      " |      total reduction of the criterion brought by that feature.  It is also\n",
      " |      known as the Gini importance.\n",
      " |  \n",
      " |      Warning: impurity-based feature importances can be misleading for\n",
      " |      high cardinality features (many unique values). See\n",
      " |      :func:`sklearn.inspection.permutation_importance` as an alternative.\n",
      " |  \n",
      " |  oob_score_ : float\n",
      " |      Score of the training dataset obtained using an out-of-bag estimate.\n",
      " |      This attribute exists only when ``oob_score`` is True.\n",
      " |  \n",
      " |  oob_decision_function_ : ndarray of shape (n_samples, n_classes) or             (n_samples, n_classes, n_outputs)\n",
      " |      Decision function computed with out-of-bag estimate on the training\n",
      " |      set. If n_estimators is small it might be possible that a data point\n",
      " |      was never left out during the bootstrap. In this case,\n",
      " |      `oob_decision_function_` might contain NaN. This attribute exists\n",
      " |      only when ``oob_score`` is True.\n",
      " |  \n",
      " |  See Also\n",
      " |  --------\n",
      " |  sklearn.tree.DecisionTreeClassifier : A decision tree classifier.\n",
      " |  sklearn.ensemble.ExtraTreesClassifier : Ensemble of extremely randomized\n",
      " |      tree classifiers.\n",
      " |  sklearn.ensemble.HistGradientBoostingClassifier : A Histogram-based Gradient\n",
      " |      Boosting Classification Tree, very fast for big datasets (n_samples >=\n",
      " |      10_000).\n",
      " |  \n",
      " |  Notes\n",
      " |  -----\n",
      " |  The default values for the parameters controlling the size of the trees\n",
      " |  (e.g. ``max_depth``, ``min_samples_leaf``, etc.) lead to fully grown and\n",
      " |  unpruned trees which can potentially be very large on some data sets. To\n",
      " |  reduce memory consumption, the complexity and size of the trees should be\n",
      " |  controlled by setting those parameter values.\n",
      " |  \n",
      " |  The features are always randomly permuted at each split. Therefore,\n",
      " |  the best found split may vary, even with the same training data,\n",
      " |  ``max_features=n_features`` and ``bootstrap=False``, if the improvement\n",
      " |  of the criterion is identical for several splits enumerated during the\n",
      " |  search of the best split. To obtain a deterministic behaviour during\n",
      " |  fitting, ``random_state`` has to be fixed.\n",
      " |  \n",
      " |  References\n",
      " |  ----------\n",
      " |  .. [1] L. Breiman, \"Random Forests\", Machine Learning, 45(1), 5-32, 2001.\n",
      " |  \n",
      " |  Examples\n",
      " |  --------\n",
      " |  >>> from sklearn.ensemble import RandomForestClassifier\n",
      " |  >>> from sklearn.datasets import make_classification\n",
      " |  >>> X, y = make_classification(n_samples=1000, n_features=4,\n",
      " |  ...                            n_informative=2, n_redundant=0,\n",
      " |  ...                            random_state=0, shuffle=False)\n",
      " |  >>> clf = RandomForestClassifier(max_depth=2, random_state=0)\n",
      " |  >>> clf.fit(X, y)\n",
      " |  RandomForestClassifier(...)\n",
      " |  >>> print(clf.predict([[0, 0, 0, 0]]))\n",
      " |  [1]\n",
      " |  \n",
      " |  Method resolution order:\n",
      " |      RandomForestClassifier\n",
      " |      ForestClassifier\n",
      " |      sklearn.base.ClassifierMixin\n",
      " |      BaseForest\n",
      " |      sklearn.base.MultiOutputMixin\n",
      " |      sklearn.ensemble._base.BaseEnsemble\n",
      " |      sklearn.base.MetaEstimatorMixin\n",
      " |      sklearn.base.BaseEstimator\n",
      " |      sklearn.utils._metadata_requests._MetadataRequester\n",
      " |      builtins.object\n",
      " |  \n",
      " |  Methods defined here:\n",
      " |  \n",
      " |  __init__(self, n_estimators=100, *, criterion='gini', max_depth=None, min_samples_split=2, min_samples_leaf=1, min_weight_fraction_leaf=0.0, max_features='sqrt', max_leaf_nodes=None, min_impurity_decrease=0.0, bootstrap=True, oob_score=False, n_jobs=None, random_state=None, verbose=0, warm_start=False, class_weight=None, ccp_alpha=0.0, max_samples=None)\n",
      " |      Initialize self.  See help(type(self)) for accurate signature.\n",
      " |  \n",
      " |  set_fit_request(self: sklearn.ensemble._forest.RandomForestClassifier, *, sample_weight: Union[bool, NoneType, str] = '$UNCHANGED$') -> sklearn.ensemble._forest.RandomForestClassifier\n",
      " |      Request metadata passed to the ``fit`` method.\n",
      " |      \n",
      " |      Note that this method is only relevant if\n",
      " |      ``enable_metadata_routing=True`` (see :func:`sklearn.set_config`).\n",
      " |      Please see :ref:`User Guide <metadata_routing>` on how the routing\n",
      " |      mechanism works.\n",
      " |      \n",
      " |      The options for each parameter are:\n",
      " |      \n",
      " |      - ``True``: metadata is requested, and passed to ``fit`` if provided. The request is ignored if metadata is not provided.\n",
      " |      \n",
      " |      - ``False``: metadata is not requested and the meta-estimator will not pass it to ``fit``.\n",
      " |      \n",
      " |      - ``None``: metadata is not requested, and the meta-estimator will raise an error if the user provides it.\n",
      " |      \n",
      " |      - ``str``: metadata should be passed to the meta-estimator with this given alias instead of the original name.\n",
      " |      \n",
      " |      The default (``sklearn.utils.metadata_routing.UNCHANGED``) retains the\n",
      " |      existing request. This allows you to change the request for some\n",
      " |      parameters and not others.\n",
      " |      \n",
      " |      .. versionadded:: 1.3\n",
      " |      \n",
      " |      .. note::\n",
      " |          This method is only relevant if this estimator is used as a\n",
      " |          sub-estimator of a meta-estimator, e.g. used inside a\n",
      " |          :class:`pipeline.Pipeline`. Otherwise it has no effect.\n",
      " |      \n",
      " |      Parameters\n",
      " |      ----------\n",
      " |      sample_weight : str, True, False, or None,                     default=sklearn.utils.metadata_routing.UNCHANGED\n",
      " |          Metadata routing for ``sample_weight`` parameter in ``fit``.\n",
      " |      \n",
      " |      Returns\n",
      " |      -------\n",
      " |      self : object\n",
      " |          The updated object.\n",
      " |  \n",
      " |  set_score_request(self: sklearn.ensemble._forest.RandomForestClassifier, *, sample_weight: Union[bool, NoneType, str] = '$UNCHANGED$') -> sklearn.ensemble._forest.RandomForestClassifier\n",
      " |      Request metadata passed to the ``score`` method.\n",
      " |      \n",
      " |      Note that this method is only relevant if\n",
      " |      ``enable_metadata_routing=True`` (see :func:`sklearn.set_config`).\n",
      " |      Please see :ref:`User Guide <metadata_routing>` on how the routing\n",
      " |      mechanism works.\n",
      " |      \n",
      " |      The options for each parameter are:\n",
      " |      \n",
      " |      - ``True``: metadata is requested, and passed to ``score`` if provided. The request is ignored if metadata is not provided.\n",
      " |      \n",
      " |      - ``False``: metadata is not requested and the meta-estimator will not pass it to ``score``.\n",
      " |      \n",
      " |      - ``None``: metadata is not requested, and the meta-estimator will raise an error if the user provides it.\n",
      " |      \n",
      " |      - ``str``: metadata should be passed to the meta-estimator with this given alias instead of the original name.\n",
      " |      \n",
      " |      The default (``sklearn.utils.metadata_routing.UNCHANGED``) retains the\n",
      " |      existing request. This allows you to change the request for some\n",
      " |      parameters and not others.\n",
      " |      \n",
      " |      .. versionadded:: 1.3\n",
      " |      \n",
      " |      .. note::\n",
      " |          This method is only relevant if this estimator is used as a\n",
      " |          sub-estimator of a meta-estimator, e.g. used inside a\n",
      " |          :class:`pipeline.Pipeline`. Otherwise it has no effect.\n",
      " |      \n",
      " |      Parameters\n",
      " |      ----------\n",
      " |      sample_weight : str, True, False, or None,                     default=sklearn.utils.metadata_routing.UNCHANGED\n",
      " |          Metadata routing for ``sample_weight`` parameter in ``score``.\n",
      " |      \n",
      " |      Returns\n",
      " |      -------\n",
      " |      self : object\n",
      " |          The updated object.\n",
      " |  \n",
      " |  ----------------------------------------------------------------------\n",
      " |  Data and other attributes defined here:\n",
      " |  \n",
      " |  __abstractmethods__ = frozenset()\n",
      " |  \n",
      " |  __annotations__ = {'_parameter_constraints': <class 'dict'>}\n",
      " |  \n",
      " |  ----------------------------------------------------------------------\n",
      " |  Methods inherited from ForestClassifier:\n",
      " |  \n",
      " |  predict(self, X)\n",
      " |      Predict class for X.\n",
      " |      \n",
      " |      The predicted class of an input sample is a vote by the trees in\n",
      " |      the forest, weighted by their probability estimates. That is,\n",
      " |      the predicted class is the one with highest mean probability\n",
      " |      estimate across the trees.\n",
      " |      \n",
      " |      Parameters\n",
      " |      ----------\n",
      " |      X : {array-like, sparse matrix} of shape (n_samples, n_features)\n",
      " |          The input samples. Internally, its dtype will be converted to\n",
      " |          ``dtype=np.float32``. If a sparse matrix is provided, it will be\n",
      " |          converted into a sparse ``csr_matrix``.\n",
      " |      \n",
      " |      Returns\n",
      " |      -------\n",
      " |      y : ndarray of shape (n_samples,) or (n_samples, n_outputs)\n",
      " |          The predicted classes.\n",
      " |  \n",
      " |  predict_log_proba(self, X)\n",
      " |      Predict class log-probabilities for X.\n",
      " |      \n",
      " |      The predicted class log-probabilities of an input sample is computed as\n",
      " |      the log of the mean predicted class probabilities of the trees in the\n",
      " |      forest.\n",
      " |      \n",
      " |      Parameters\n",
      " |      ----------\n",
      " |      X : {array-like, sparse matrix} of shape (n_samples, n_features)\n",
      " |          The input samples. Internally, its dtype will be converted to\n",
      " |          ``dtype=np.float32``. If a sparse matrix is provided, it will be\n",
      " |          converted into a sparse ``csr_matrix``.\n",
      " |      \n",
      " |      Returns\n",
      " |      -------\n",
      " |      p : ndarray of shape (n_samples, n_classes), or a list of such arrays\n",
      " |          The class probabilities of the input samples. The order of the\n",
      " |          classes corresponds to that in the attribute :term:`classes_`.\n",
      " |  \n",
      " |  predict_proba(self, X)\n",
      " |      Predict class probabilities for X.\n",
      " |      \n",
      " |      The predicted class probabilities of an input sample are computed as\n",
      " |      the mean predicted class probabilities of the trees in the forest.\n",
      " |      The class probability of a single tree is the fraction of samples of\n",
      " |      the same class in a leaf.\n",
      " |      \n",
      " |      Parameters\n",
      " |      ----------\n",
      " |      X : {array-like, sparse matrix} of shape (n_samples, n_features)\n",
      " |          The input samples. Internally, its dtype will be converted to\n",
      " |          ``dtype=np.float32``. If a sparse matrix is provided, it will be\n",
      " |          converted into a sparse ``csr_matrix``.\n",
      " |      \n",
      " |      Returns\n",
      " |      -------\n",
      " |      p : ndarray of shape (n_samples, n_classes), or a list of such arrays\n",
      " |          The class probabilities of the input samples. The order of the\n",
      " |          classes corresponds to that in the attribute :term:`classes_`.\n",
      " |  \n",
      " |  ----------------------------------------------------------------------\n",
      " |  Methods inherited from sklearn.base.ClassifierMixin:\n",
      " |  \n",
      " |  score(self, X, y, sample_weight=None)\n",
      " |      Return the mean accuracy on the given test data and labels.\n",
      " |      \n",
      " |      In multi-label classification, this is the subset accuracy\n",
      " |      which is a harsh metric since you require for each sample that\n",
      " |      each label set be correctly predicted.\n",
      " |      \n",
      " |      Parameters\n",
      " |      ----------\n",
      " |      X : array-like of shape (n_samples, n_features)\n",
      " |          Test samples.\n",
      " |      \n",
      " |      y : array-like of shape (n_samples,) or (n_samples, n_outputs)\n",
      " |          True labels for `X`.\n",
      " |      \n",
      " |      sample_weight : array-like of shape (n_samples,), default=None\n",
      " |          Sample weights.\n",
      " |      \n",
      " |      Returns\n",
      " |      -------\n",
      " |      score : float\n",
      " |          Mean accuracy of ``self.predict(X)`` w.r.t. `y`.\n",
      " |  \n",
      " |  ----------------------------------------------------------------------\n",
      " |  Data descriptors inherited from sklearn.base.ClassifierMixin:\n",
      " |  \n",
      " |  __dict__\n",
      " |      dictionary for instance variables (if defined)\n",
      " |  \n",
      " |  __weakref__\n",
      " |      list of weak references to the object (if defined)\n",
      " |  \n",
      " |  ----------------------------------------------------------------------\n",
      " |  Methods inherited from BaseForest:\n",
      " |  \n",
      " |  apply(self, X)\n",
      " |      Apply trees in the forest to X, return leaf indices.\n",
      " |      \n",
      " |      Parameters\n",
      " |      ----------\n",
      " |      X : {array-like, sparse matrix} of shape (n_samples, n_features)\n",
      " |          The input samples. Internally, its dtype will be converted to\n",
      " |          ``dtype=np.float32``. If a sparse matrix is provided, it will be\n",
      " |          converted into a sparse ``csr_matrix``.\n",
      " |      \n",
      " |      Returns\n",
      " |      -------\n",
      " |      X_leaves : ndarray of shape (n_samples, n_estimators)\n",
      " |          For each datapoint x in X and for each tree in the forest,\n",
      " |          return the index of the leaf x ends up in.\n",
      " |  \n",
      " |  decision_path(self, X)\n",
      " |      Return the decision path in the forest.\n",
      " |      \n",
      " |      .. versionadded:: 0.18\n",
      " |      \n",
      " |      Parameters\n",
      " |      ----------\n",
      " |      X : {array-like, sparse matrix} of shape (n_samples, n_features)\n",
      " |          The input samples. Internally, its dtype will be converted to\n",
      " |          ``dtype=np.float32``. If a sparse matrix is provided, it will be\n",
      " |          converted into a sparse ``csr_matrix``.\n",
      " |      \n",
      " |      Returns\n",
      " |      -------\n",
      " |      indicator : sparse matrix of shape (n_samples, n_nodes)\n",
      " |          Return a node indicator matrix where non zero elements indicates\n",
      " |          that the samples goes through the nodes. The matrix is of CSR\n",
      " |          format.\n",
      " |      \n",
      " |      n_nodes_ptr : ndarray of shape (n_estimators + 1,)\n",
      " |          The columns from indicator[n_nodes_ptr[i]:n_nodes_ptr[i+1]]\n",
      " |          gives the indicator value for the i-th estimator.\n",
      " |  \n",
      " |  fit(self, X, y, sample_weight=None)\n",
      " |      Build a forest of trees from the training set (X, y).\n",
      " |      \n",
      " |      Parameters\n",
      " |      ----------\n",
      " |      X : {array-like, sparse matrix} of shape (n_samples, n_features)\n",
      " |          The training input samples. Internally, its dtype will be converted\n",
      " |          to ``dtype=np.float32``. If a sparse matrix is provided, it will be\n",
      " |          converted into a sparse ``csc_matrix``.\n",
      " |      \n",
      " |      y : array-like of shape (n_samples,) or (n_samples, n_outputs)\n",
      " |          The target values (class labels in classification, real numbers in\n",
      " |          regression).\n",
      " |      \n",
      " |      sample_weight : array-like of shape (n_samples,), default=None\n",
      " |          Sample weights. If None, then samples are equally weighted. Splits\n",
      " |          that would create child nodes with net zero or negative weight are\n",
      " |          ignored while searching for a split in each node. In the case of\n",
      " |          classification, splits are also ignored if they would result in any\n",
      " |          single class carrying a negative weight in either child node.\n",
      " |      \n",
      " |      Returns\n",
      " |      -------\n",
      " |      self : object\n",
      " |          Fitted estimator.\n",
      " |  \n",
      " |  ----------------------------------------------------------------------\n",
      " |  Readonly properties inherited from BaseForest:\n",
      " |  \n",
      " |  feature_importances_\n",
      " |      The impurity-based feature importances.\n",
      " |      \n",
      " |      The higher, the more important the feature.\n",
      " |      The importance of a feature is computed as the (normalized)\n",
      " |      total reduction of the criterion brought by that feature.  It is also\n",
      " |      known as the Gini importance.\n",
      " |      \n",
      " |      Warning: impurity-based feature importances can be misleading for\n",
      " |      high cardinality features (many unique values). See\n",
      " |      :func:`sklearn.inspection.permutation_importance` as an alternative.\n",
      " |      \n",
      " |      Returns\n",
      " |      -------\n",
      " |      feature_importances_ : ndarray of shape (n_features,)\n",
      " |          The values of this array sum to 1, unless all trees are single node\n",
      " |          trees consisting of only the root node, in which case it will be an\n",
      " |          array of zeros.\n",
      " |  \n",
      " |  ----------------------------------------------------------------------\n",
      " |  Methods inherited from sklearn.ensemble._base.BaseEnsemble:\n",
      " |  \n",
      " |  __getitem__(self, index)\n",
      " |      Return the index'th estimator in the ensemble.\n",
      " |  \n",
      " |  __iter__(self)\n",
      " |      Return iterator over estimators in the ensemble.\n",
      " |  \n",
      " |  __len__(self)\n",
      " |      Return the number of estimators in the ensemble.\n",
      " |  \n",
      " |  ----------------------------------------------------------------------\n",
      " |  Readonly properties inherited from sklearn.ensemble._base.BaseEnsemble:\n",
      " |  \n",
      " |  base_estimator_\n",
      " |      Estimator used to grow the ensemble.\n",
      " |  \n",
      " |  ----------------------------------------------------------------------\n",
      " |  Methods inherited from sklearn.base.BaseEstimator:\n",
      " |  \n",
      " |  __getstate__(self)\n",
      " |      Helper for pickle.\n",
      " |  \n",
      " |  __repr__(self, N_CHAR_MAX=700)\n",
      " |      Return repr(self).\n",
      " |  \n",
      " |  __setstate__(self, state)\n",
      " |  \n",
      " |  __sklearn_clone__(self)\n",
      " |  \n",
      " |  get_params(self, deep=True)\n",
      " |      Get parameters for this estimator.\n",
      " |      \n",
      " |      Parameters\n",
      " |      ----------\n",
      " |      deep : bool, default=True\n",
      " |          If True, will return the parameters for this estimator and\n",
      " |          contained subobjects that are estimators.\n",
      " |      \n",
      " |      Returns\n",
      " |      -------\n",
      " |      params : dict\n",
      " |          Parameter names mapped to their values.\n",
      " |  \n",
      " |  set_params(self, **params)\n",
      " |      Set the parameters of this estimator.\n",
      " |      \n",
      " |      The method works on simple estimators as well as on nested objects\n",
      " |      (such as :class:`~sklearn.pipeline.Pipeline`). The latter have\n",
      " |      parameters of the form ``<component>__<parameter>`` so that it's\n",
      " |      possible to update each component of a nested object.\n",
      " |      \n",
      " |      Parameters\n",
      " |      ----------\n",
      " |      **params : dict\n",
      " |          Estimator parameters.\n",
      " |      \n",
      " |      Returns\n",
      " |      -------\n",
      " |      self : estimator instance\n",
      " |          Estimator instance.\n",
      " |  \n",
      " |  ----------------------------------------------------------------------\n",
      " |  Methods inherited from sklearn.utils._metadata_requests._MetadataRequester:\n",
      " |  \n",
      " |  get_metadata_routing(self)\n",
      " |      Get metadata routing of this object.\n",
      " |      \n",
      " |      Please check :ref:`User Guide <metadata_routing>` on how the routing\n",
      " |      mechanism works.\n",
      " |      \n",
      " |      Returns\n",
      " |      -------\n",
      " |      routing : MetadataRequest\n",
      " |          A :class:`~utils.metadata_routing.MetadataRequest` encapsulating\n",
      " |          routing information.\n",
      " |  \n",
      " |  ----------------------------------------------------------------------\n",
      " |  Class methods inherited from sklearn.utils._metadata_requests._MetadataRequester:\n",
      " |  \n",
      " |  __init_subclass__(**kwargs) from abc.ABCMeta\n",
      " |      Set the ``set_{method}_request`` methods.\n",
      " |      \n",
      " |      This uses PEP-487 [1]_ to set the ``set_{method}_request`` methods. It\n",
      " |      looks for the information available in the set default values which are\n",
      " |      set using ``__metadata_request__*`` class attributes, or inferred\n",
      " |      from method signatures.\n",
      " |      \n",
      " |      The ``__metadata_request__*`` class attributes are used when a method\n",
      " |      does not explicitly accept a metadata through its arguments or if the\n",
      " |      developer would like to specify a request value for those metadata\n",
      " |      which are different from the default ``None``.\n",
      " |      \n",
      " |      References\n",
      " |      ----------\n",
      " |      .. [1] https://www.python.org/dev/peps/pep-0487\n",
      "\n"
     ]
    }
   ],
   "source": [
    "#분류기에 가중치를 부여 - class_weight 라는 옵션을 이용\n",
    "from sklearn.ensemble import RandomForestClassifier\n",
    "help(RandomForestClassifier)\n"
   ]
  },
  {
   "cell_type": "code",
   "execution_count": 11,
   "id": "ba11b167",
   "metadata": {},
   "outputs": [
    {
     "name": "stdout",
     "output_type": "stream",
     "text": [
      "10\n",
      "90\n",
      "[50 32 65 80 10 36 49 75 20 54]\n",
      "[7 0 7 7 2 0 7 2 2 0 4 9 6 9 8 6 8 7 1 0 6 6 7 4 2 7 5 2 0 2 4 2 0 4 9 6 6\n",
      " 8 9 9 2 6 0 3 3 4 6 6 3 6 2 5 1 9 8 4 5 3 9 6 8 6 0 0 8 8 3 8 2 6 5 7 8 4\n",
      " 0 2 9 7 5 7 8 3 0 0 9 3 6 1 2 0]\n"
     ]
    }
   ],
   "source": [
    "list1 = []\n",
    "for i in range(0, 10) :\n",
    "    list1.append(0)\n",
    "    \n",
    "list2 = []\n",
    "for i in range(0, 90) :\n",
    "    list2.append(1)\n",
    "    \n",
    "target = np.array(list1+ list2)\n",
    "# print(target)\n",
    "\n",
    "#샘플 개수 확인\n",
    "iclass0 = np.where(target == 0)[0]\n",
    "iclass1 = np.where(target == 1)[0]\n",
    "\n",
    "print(len(iclass0))\n",
    "print(len(iclass1))\n",
    "\n",
    "#동일한 데이터를 추출\n",
    "np.random.seed(42)\n",
    "\n",
    "#다운 샘플링\n",
    "#비복원 추출(데이터를 하나 꺼내고 다시 넣지 않은 상태에서 다음 샘플링)을 이용해서 샘플링\n",
    "# 1인 데이터에서 0인 데이터의 개수만큼 추출\n",
    "iclass1_downsample = np.random.choice(iclass1, size = len(iclass0), replace = False) # repalce가 F 비복원 추출\n",
    "print(iclass1_downsample)\n",
    "\n",
    "# 업 샘플링 : 비율이 작은 데이터의 개수를 늘려서 사용\n",
    "# 단순한 복제는 잘 사용하지 않음\n",
    "# 랜덤하게 샘플링 - 복원 추출 이용\n",
    "iclass0_upsample = np.random.choice(iclass0, size = len(iclass1), replace = True)\n",
    "print(iclass0_upsample)"
   ]
  },
  {
   "cell_type": "markdown",
   "id": "d1dc4d74",
   "metadata": {},
   "source": [
    "## 텍스트 데이터"
   ]
  },
  {
   "cell_type": "markdown",
   "id": "e216110b",
   "metadata": {},
   "source": [
    "### 문자열 클래스의 메서드를 이용한 정제"
   ]
  },
  {
   "cell_type": "code",
   "execution_count": 12,
   "id": "e57c3157",
   "metadata": {},
   "outputs": [
    {
     "name": "stdout",
     "output_type": "stream",
     "text": [
      "['Hello Python', 'And Sorry I could no', 'And be one, long']\n",
      "['Hello Python', 'And Sorry I could no', 'And be one long']\n",
      "['HELLO PYTHON', 'AND SORRY I COULD NO', 'AND BE ONE LONG']\n"
     ]
    }
   ],
   "source": [
    "text_data = ['   Hello Python', 'And Sorry I could no      ', 'And be one, long']\n",
    "#위의 문자열에서 좌우 공백을 제거\n",
    "result = [string.strip() for string in text_data]\n",
    "print(result)\n",
    "\n",
    "# , 제거 \n",
    "result = [string.replace(',', '') for string in result]\n",
    "print(result)\n",
    "\n",
    "# 모두 대문자로 변경\n",
    "result = [string.upper() for string in result]\n",
    "print(result)"
   ]
  },
  {
   "cell_type": "markdown",
   "id": "68cb5a91",
   "metadata": {},
   "source": [
    "### 정규식 객체 사용"
   ]
  },
  {
   "cell_type": "code",
   "execution_count": 15,
   "id": "2d4ba6a4",
   "metadata": {},
   "outputs": [
    {
     "name": "stdout",
     "output_type": "stream",
     "text": [
      "None\n",
      "None\n",
      "<re.Match object; span=(0, 1), match='1'>\n",
      "None\n",
      "None\n"
     ]
    }
   ],
   "source": [
    "import re\n",
    "\n",
    "match = re.match('[0-9]', '안녕하세요 반갑습니다')\n",
    "print(match)\n",
    "\n",
    "match = re.match('[0-9]', '안녕하세요 3번째 만남입니다.')\n",
    "print(match)\n",
    "\n",
    "match = re.match('[0-9]','1234')\n",
    "print(match)\n",
    "\n",
    "#맨앞이 공백이라서 숫자로 시작하지 않는다고 판단\n",
    "match = re.match('[0-9]','   1234')\n",
    "print(match)\n",
    "\n",
    "#\\s가 공백문자 - 공백문자로 시작하고 다음에 숫자가 등장\n",
    "match = re.match('\\s[0-9]','   1234')\n",
    "print(match)"
   ]
  },
  {
   "cell_type": "code",
   "execution_count": 24,
   "id": "f45ed7f5",
   "metadata": {},
   "outputs": [
    {
     "name": "stdout",
     "output_type": "stream",
     "text": [
      "\n",
      "안녕하세요\n",
      "반갑습니다\n",
      "환영합니다\n",
      "(kimga1014@naver.com)\n",
      "\n"
     ]
    }
   ],
   "source": [
    "string = '''\n",
    "안녕하세요\n",
    "반갑습니다\n",
    "환영합니다\n",
    "(kimga1014@naver.com)\n",
    "'''\n",
    "print(string)"
   ]
  },
  {
   "cell_type": "code",
   "execution_count": 25,
   "id": "88d99eed",
   "metadata": {},
   "outputs": [
    {
     "name": "stdout",
     "output_type": "stream",
     "text": [
      "안녕하세요반갑습니다환영합니다(kimga1014@naver.com)\n",
      "안녕하세요반갑습니다환영합니다\n"
     ]
    }
   ],
   "source": [
    "#영화 감상평이나 줄거리 등을 가져올 때 이 작업을 통해서 Enter를 제거\n",
    "result = re.sub('\\n', '', string)\n",
    "print(result)\n",
    "\n",
    "#이메일 제거\n",
    "result1 = re.sub(\"\\([a-zA-Z0-9\\._+]+@[a-zA-Z]+\\.(com|co.kr)\\)\", \"\", result)\n",
    "print(result1)"
   ]
  },
  {
   "cell_type": "markdown",
   "id": "9096b3fd",
   "metadata": {},
   "source": [
    "### 특수 문장와 숫자 제거"
   ]
  },
  {
   "cell_type": "code",
   "execution_count": 28,
   "id": "8d36c5ee",
   "metadata": {},
   "outputs": [
    {
     "name": "stdout",
     "output_type": "stream",
     "text": [
      "서울의 집값이 올해 들어 .% 증가했습니다. !!!C&C++ C#\n",
      "서울의 집값이 올해 들어 증가했습니다 C C C \n"
     ]
    }
   ],
   "source": [
    "string = '서울의 집값이 올해 들어 3.2% 증가했습니다. !!!C&C++ C#'\n",
    "\n",
    "# 숫자 제거\n",
    "# 숫자에 해당하는 정규식 객체를 생성\n",
    "p = re.compile('[0-9]+')\n",
    "result = p.sub(\"\", string)\n",
    "print(result)\n",
    "\n",
    "#단어 이외의 문자를 제거\n",
    "p = re.compile('\\W+')\n",
    "result = p.sub(\" \", result)\n",
    "print(result)\n",
    "\n",
    "# 단어 이외의 문자를 제거할 때 의미 있는 단어에서 제거하는 경우가 있습니다."
   ]
  },
  {
   "cell_type": "markdown",
   "id": "42ae4af2",
   "metadata": {},
   "source": [
    "## nltk 패키지 설치"
   ]
  },
  {
   "cell_type": "code",
   "execution_count": 29,
   "id": "8dd18751",
   "metadata": {},
   "outputs": [
    {
     "name": "stderr",
     "output_type": "stream",
     "text": [
      "[nltk_data] Downloading package punkt to\n",
      "[nltk_data]     C:\\Users\\USER\\AppData\\Roaming\\nltk_data...\n",
      "[nltk_data]   Unzipping tokenizers\\punkt.zip.\n",
      "[nltk_data] Downloading package stopwords to\n",
      "[nltk_data]     C:\\Users\\USER\\AppData\\Roaming\\nltk_data...\n",
      "[nltk_data]   Unzipping corpora\\stopwords.zip.\n"
     ]
    },
    {
     "data": {
      "text/plain": [
       "True"
      ]
     },
     "execution_count": 29,
     "metadata": {},
     "output_type": "execute_result"
    }
   ],
   "source": [
    "import nltk\n",
    "nltk.download('punkt')\n",
    "nltk.download('stopwords')"
   ]
  },
  {
   "cell_type": "markdown",
   "id": "b1266115",
   "metadata": {},
   "source": [
    "### 토큰화"
   ]
  },
  {
   "cell_type": "code",
   "execution_count": 31,
   "id": "71884afb",
   "metadata": {},
   "outputs": [
    {
     "name": "stdout",
     "output_type": "stream",
     "text": [
      "['The science og today is the technology of tommrow.', 'Tommrow is today.']\n",
      "['The', 'science', 'og', 'today', 'is', 'the', 'technology', 'of', 'tommrow', '.', 'Tommrow', 'is', 'today', '.']\n",
      "['The science og today is the technology of tommrow', ' Tommrow is today', '']\n",
      "['The', 'science', 'og', 'today', 'is', 'the', 'technology', 'of', 'tommrow.', 'Tommrow', 'is', 'today.']\n"
     ]
    }
   ],
   "source": [
    "from nltk.tokenize import word_tokenize\n",
    "from nltk.tokenize import sent_tokenize\n",
    "\n",
    "string ='The science og today is the technology of tommrow. Tommrow is today.'\n",
    "#마침표를 기준으로 문장을 분할\n",
    "print(sent_tokenize(string))\n",
    "\n",
    "#공백을 기준으로 분할\n",
    "print(word_tokenize(string))\n",
    "\n",
    "#문자열 함수를 이용해서 수행\n",
    "print(string.split('.'))\n",
    "print(string.split())\n",
    "\n"
   ]
  },
  {
   "cell_type": "markdown",
   "id": "b9bd7c21",
   "metadata": {},
   "source": [
    "## 불용어 제거"
   ]
  },
  {
   "cell_type": "code",
   "execution_count": 32,
   "id": "d54fdeec",
   "metadata": {},
   "outputs": [
    {
     "name": "stdout",
     "output_type": "stream",
     "text": [
      "['공지 사항', '택배', '운영 안함', '이점', '유의', '새해 복 많이']\n"
     ]
    }
   ],
   "source": [
    "#불용어 사전\n",
    "stopwords = ['설날' ,'구정']\n",
    "\n",
    "#불용어를 제거할 단어의 list\n",
    "words = ['설날', '공지 사항','택배', '운영 안함', '이점' ,'유의', '구정', '새해 복 많이']\n",
    "\n",
    "#words 에서 stopwords를 제외한 단어의 list 만들기\n",
    "result = [i for i in words if i not in stopwords]\n",
    "print(result)"
   ]
  },
  {
   "cell_type": "code",
   "execution_count": 33,
   "id": "8f5e8eb2",
   "metadata": {},
   "outputs": [
    {
     "name": "stdout",
     "output_type": "stream",
     "text": [
      "['hi', 'nice', 'meet', 'year', 'going', '?', 'I', 'happy', 'hear']\n"
     ]
    }
   ],
   "source": [
    "#영어도 방법은 동일한데 영문은 기본적인 사전을 제공\n",
    "from sklearn.feature_extraction.text import ENGLISH_STOP_WORDS\n",
    "words = ['hi','nice','to','meet','you','how','was','the','last','year','going','?','I','am','happy','to','hear','that']\n",
    "result = [w for w in words if w not in ENGLISH_STOP_WORDS]\n",
    "print(result)"
   ]
  },
  {
   "cell_type": "markdown",
   "id": "6ff948da",
   "metadata": {},
   "source": [
    "### 어간 추출"
   ]
  },
  {
   "cell_type": "code",
   "execution_count": 38,
   "id": "f58e7b34",
   "metadata": {},
   "outputs": [
    {
     "name": "stdout",
     "output_type": "stream",
     "text": [
      "['I', 'have', 'to', 'presentation', 'to', 'present', 'our', 'idea']\n",
      "i have to present to present our idea \n",
      "i hav to pres to pres our ide "
     ]
    }
   ],
   "source": [
    "string = 'I have to presentation to present our idea'\n",
    "\n",
    "#단어 단위로 토큰화\n",
    "words = word_tokenize(string)\n",
    "print(words)\n",
    "\n",
    "#어간 추출\n",
    "from nltk.stem import PorterStemmer\n",
    "\n",
    "#스티머 객체 생성\n",
    "ps_stemmer = PorterStemmer()\n",
    "for w in words :\n",
    "    print(ps_stemmer.stem(w), end = ' ')\n",
    "print()\n",
    "\n",
    "\n",
    "#스티머 객체 생성\n",
    "from nltk.stem import LancasterStemmer\n",
    "\n",
    "ls_stemmer = LancasterStemmer()\n",
    "for w in words :\n",
    "    print(ls_stemmer.stem(w), end = ' ')"
   ]
  },
  {
   "cell_type": "markdown",
   "id": "280c4c7f",
   "metadata": {},
   "source": [
    "## 문장을 수치화"
   ]
  },
  {
   "cell_type": "code",
   "execution_count": 41,
   "id": "72e5f167",
   "metadata": {},
   "outputs": [
    {
     "name": "stderr",
     "output_type": "stream",
     "text": [
      "[nltk_data] Downloading package averaged_perceptron_tagger to\n",
      "[nltk_data]     C:\\Users\\USER\\AppData\\Roaming\\nltk_data...\n",
      "[nltk_data]   Unzipping taggers\\averaged_perceptron_tagger.zip.\n"
     ]
    },
    {
     "data": {
      "text/plain": [
       "True"
      ]
     },
     "execution_count": 41,
     "metadata": {},
     "output_type": "execute_result"
    }
   ],
   "source": [
    "nltk.download('averaged_perceptron_tagger')"
   ]
  },
  {
   "cell_type": "code",
   "execution_count": 51,
   "id": "6d9e81a8",
   "metadata": {},
   "outputs": [
    {
     "ename": "NameError",
     "evalue": "name 'preprocessing' is not defined",
     "output_type": "error",
     "traceback": [
      "\u001b[1;31m---------------------------------------------------------------------------\u001b[0m",
      "\u001b[1;31mNameError\u001b[0m                                 Traceback (most recent call last)",
      "Cell \u001b[1;32mIn[51], line 16\u001b[0m\n\u001b[0;32m     13\u001b[0m     words_tweets\u001b[38;5;241m.\u001b[39mappend([word \u001b[38;5;28;01mfor\u001b[39;00m (word, tag) \u001b[38;5;129;01min\u001b[39;00m tweet_tag])\n\u001b[0;32m     15\u001b[0m \u001b[38;5;66;03m# 문장을 수치화 - 원핫인코딩 : 문장을 하나로 보고 수행\u001b[39;00m\n\u001b[1;32m---> 16\u001b[0m out_hot_multi \u001b[38;5;241m=\u001b[39m preprocessing\u001b[38;5;241m.\u001b[39mMultiLabelBinarizer()\n\u001b[0;32m     17\u001b[0m \u001b[38;5;28mprint\u001b[39m(one_hot_multi\u001b[38;5;241m.\u001b[39mfit_transform(words_tweets))\n\u001b[0;32m     18\u001b[0m \u001b[38;5;28mprint\u001b[39m(one_hot_multi\u001b[38;5;241m.\u001b[39mclasses_)\n",
      "\u001b[1;31mNameError\u001b[0m: name 'preprocessing' is not defined"
     ]
    }
   ],
   "source": [
    "from nltk import pos_tag\n",
    "# 텍스트 생성\n",
    "tweets = ['I an eating a burrito for breakfast',\n",
    "         'San Francisco is an awesome city']\n",
    "#품사를 저장할 list\n",
    "tagged_tweets = []\n",
    "words_tweets = []\n",
    "\n",
    "for tweet in tweets :\n",
    "    #형태소 분석 - 각 단어의 품사를 가져오는 것\n",
    "    tweet_tag = nltk.pos_tag(word_tokenize(tweet))\n",
    "    tagged_tweets.append([tag for (word, tag) in tweet_tag])\n",
    "    words_tweets.append([word for (word, tag) in tweet_tag])\n",
    "    \n",
    "# 문장을 수치화 - 원핫인코딩 : 문장을 하나로 보고 수행\n",
    "out_hot_multi = preprocessing.MultiLabelBinarizer()\n",
    "print(one_hot_multi.fit_transform(words_tweets))\n",
    "print(one_hot_multi.classes_)"
   ]
  },
  {
   "cell_type": "code",
   "execution_count": null,
   "id": "b6758922",
   "metadata": {},
   "outputs": [],
   "source": []
  },
  {
   "cell_type": "code",
   "execution_count": null,
   "id": "832b243b",
   "metadata": {},
   "outputs": [],
   "source": []
  },
  {
   "cell_type": "code",
   "execution_count": null,
   "id": "94431076",
   "metadata": {},
   "outputs": [],
   "source": []
  }
 ],
 "metadata": {
  "kernelspec": {
   "display_name": "Python 3 (ipykernel)",
   "language": "python",
   "name": "python3"
  },
  "language_info": {
   "codemirror_mode": {
    "name": "ipython",
    "version": 3
   },
   "file_extension": ".py",
   "mimetype": "text/x-python",
   "name": "python",
   "nbconvert_exporter": "python",
   "pygments_lexer": "ipython3",
   "version": "3.11.5"
  }
 },
 "nbformat": 4,
 "nbformat_minor": 5
}
