{
 "cells": [
  {
   "cell_type": "code",
   "execution_count": 5,
   "id": "5ecfde60",
   "metadata": {},
   "outputs": [
    {
     "name": "stdout",
     "output_type": "stream",
     "text": [
      "None\n",
      "20\n",
      "20\n"
     ]
    }
   ],
   "source": [
    "import numpy as np\n",
    "\n",
    "# return 유무 - def\n",
    "def add(n:int) -> None :\n",
    "    n + 10\n",
    "    \n",
    "result = add(10)\n",
    "print(result)\n",
    "\n",
    "\n",
    "def add(n:int) -> int :\n",
    "    return n+ 10\n",
    "    \n",
    "result = add(10)\n",
    "print(result)\n",
    "\n",
    "\n",
    "# return 유무 -lambda\n",
    "f = lambda i : i +10\n",
    "print(f(10))"
   ]
  },
  {
   "cell_type": "raw",
   "id": "271e49c9",
   "metadata": {},
   "source": [
    "#공통 import\n",
    "import numpy as np\n",
    "import pandas as pd"
   ]
  },
  {
   "cell_type": "code",
   "execution_count": 8,
   "id": "944f5233",
   "metadata": {},
   "outputs": [
    {
     "name": "stdout",
     "output_type": "stream",
     "text": [
      "20\n"
     ]
    }
   ],
   "source": [
    "matrix = np.array([1, 2, 3])\n",
    "\n",
    "# 요소의 제곱을 수행하는 람다 함수\n",
    "square_lambda = lambda x : x*x\n",
    "\n",
    "#함수를 배열의 모든 요소에 적용해서 결과를 배열로 만들기\n",
    "vectorized_func = np.vectorize(square_lambda)\n",
    "reslut = vectorized_func(matrix)\n",
    "\n",
    "print(result)"
   ]
  },
  {
   "cell_type": "code",
   "execution_count": 14,
   "id": "190e0aef",
   "metadata": {},
   "outputs": [
    {
     "name": "stdout",
     "output_type": "stream",
     "text": [
      "[ 80  70  80   0 100]\n"
     ]
    }
   ],
   "source": [
    "#데이터가 None이면0, 100보다 크면 100으로 한 결과 배열 생성\n",
    "ar = np.array([80, 70, 80, None, 120])\n",
    "\n",
    "#None(결측치)를 걸러내는 작업을 먼저 해야 합니다.\n",
    "# None과 >100의 순서를 바꾸면 에러가 납니다.\n",
    "def preprocessing(data) -> int:\n",
    "    if data ==None :\n",
    "        return 0\n",
    "    elif data > 100 :\n",
    "        return 100\n",
    "    else :\n",
    "        return data\n",
    "    \n",
    "vec_func = np.vectorize(preprocessing)zf7,k\n",
    "print(vec_func(ar))"
   ]
  },
  {
   "cell_type": "code",
   "execution_count": 16,
   "id": "9ac40e91",
   "metadata": {},
   "outputs": [
    {
     "name": "stdout",
     "output_type": "stream",
     "text": [
      "[[1 2 3]\n",
      " [4 5 6]]\n",
      "[[1 4]\n",
      " [2 5]\n",
      " [3 6]]\n",
      "[[1 4]\n",
      " [2 5]\n",
      " [3 6]]\n"
     ]
    }
   ],
   "source": [
    "# 행렬의 전치 -축변경\n",
    "original = np.array([[1,2,3], [4,5,6]])\n",
    "\n",
    "print(original)\n",
    "print(original.T)\n",
    "print(original.transpose(1, 0))"
   ]
  },
  {
   "cell_type": "code",
   "execution_count": 20,
   "id": "a5ae4601",
   "metadata": {},
   "outputs": [
    {
     "name": "stdout",
     "output_type": "stream",
     "text": [
      "[-0.23413696  1.57921282  0.76743473 -0.46947439  0.54256004]\n",
      "[ 0.49671415 -0.1382643   0.64768854  1.52302986 -0.23415337]\n"
     ]
    }
   ],
   "source": [
    "# 랜덤한 숫자 추출의 개념\n",
    "\n",
    "#seed를 고정하지 않으면 실행 시간을 기준으로 seed가 설정되므로\n",
    "#실행할 때 마다 다른 숫자가 리턴\n",
    "result  = np.random.normal(size = 5)\n",
    "print(result)\n",
    "\n",
    "\n",
    "#seed 를 42로 고정하면 실행할 때마다 동일한 데이터가 리턴됩니다.\n",
    "#머신러닝에서는 일반적으로 seed를 고정!\n",
    "np.random.seed(seed = 42)\n",
    "result= np.random.normal(size = 5)\n",
    "print(result)"
   ]
  },
  {
   "cell_type": "code",
   "execution_count": 24,
   "id": "a0f0d5eb",
   "metadata": {},
   "outputs": [
    {
     "name": "stdout",
     "output_type": "stream",
     "text": [
      "[ 3 22  2 24 44 30]\n"
     ]
    }
   ],
   "source": [
    "#help(np.random.randint)\n",
    "# 위의 함수를 이용해서 1 ~46까지의 숫자 6개를 출력\n",
    "\n",
    "tmp = np.random.randint(low=1, high=47, size=6)\n",
    "print(tmp)"
   ]
  },
  {
   "cell_type": "code",
   "execution_count": 29,
   "id": "f1699ddb",
   "metadata": {},
   "outputs": [
    {
     "name": "stdout",
     "output_type": "stream",
     "text": [
      "[[ 1  2  3]\n",
      " [ 4  5  6]\n",
      " [ 7  8  9]\n",
      " [10 11 12]]\n",
      "[22 26 30]\n",
      "[ 6 15 24 33]\n"
     ]
    }
   ],
   "source": [
    "matrix = np.arange(1, 13).reshape((4, -1))\n",
    "print(matrix) # 전체 합\n",
    "print(np.sum(matrix, axis = 0)) # 열방향으로 합\n",
    "print(np.sum(matrix, axis = 1)) # 행방향으로 합"
   ]
  },
  {
   "cell_type": "code",
   "execution_count": 33,
   "id": "00a24d11",
   "metadata": {},
   "outputs": [
    {
     "name": "stdout",
     "output_type": "stream",
     "text": [
      "8\n",
      "2\n"
     ]
    }
   ],
   "source": [
    "# 피보나치 수열\n",
    "def fibo(n:int) -> int :\n",
    "    if n == 1 or n ==2 :\n",
    "        return 1\n",
    "    else :\n",
    "        return fibo(n-1) + fibo(n-2)\n",
    "print(fibo(6))\n",
    "\n",
    "def norecursion_fibo(n:int)-> int :\n",
    "    n1 = 1\n",
    "    n2 = 1\n",
    "    v = 1\n",
    "    for i in range(3, n+1) :\n",
    "        v = n1 + n2\n",
    "        n2 = n1\n",
    "        n1 = v \n",
    "        return v\n",
    "    \n",
    "print(norecursion_fibo(6))"
   ]
  },
  {
   "cell_type": "code",
   "execution_count": 34,
   "id": "b09a00eb",
   "metadata": {},
   "outputs": [
    {
     "name": "stdout",
     "output_type": "stream",
     "text": [
      "11.916666666666666\n",
      "13.0\n"
     ]
    }
   ],
   "source": [
    "#표준 편차와 분산은 ddof옵션에 따라 값이 다르게 나옵니다.\n",
    "#표준 편차와 분산은 평균이라는 통계값을 가지고 구하게 되는데\n",
    "#평균이 결정되면 전체 데이터 개수 -1 만큼의 값을 알게되면\n",
    "#나머지 1개의 값은 자동을 정해지게 되는데  이를 자유도라고 하고\n",
    "#이를 빼고 계산하거나, 포함 시켜서 계산하는 옵션 ddof 입니다.\n",
    "# 1, 2, 3\n",
    "print(np.var(matrix))\n",
    "print(np.var(matrix,ddof =1))"
   ]
  },
  {
   "cell_type": "code",
   "execution_count": 35,
   "id": "b4aed255",
   "metadata": {},
   "outputs": [
    {
     "name": "stdout",
     "output_type": "stream",
     "text": [
      "[ 1  3  6 10 15 21 28 36 45 55 66 78]\n",
      "[[ 1  2  3]\n",
      " [ 5  7  9]\n",
      " [12 15 18]\n",
      " [22 26 30]]\n"
     ]
    }
   ],
   "source": [
    "print(np.cumsum(matrix))\n",
    "print(np.cumsum(matrix, axis = 0))"
   ]
  },
  {
   "cell_type": "code",
   "execution_count": 37,
   "id": "6b0bf358",
   "metadata": {},
   "outputs": [
    {
     "name": "stdout",
     "output_type": "stream",
     "text": [
      "[False False False False  True False False]\n",
      "[10.  2.  3.  4. 32. 42.]\n",
      "[10.  2.  3.  4. nan]\n"
     ]
    }
   ],
   "source": [
    "#numpy.isnan(배열) : 배열에 None, Null등이 포함여부를 리턴\n",
    "#None을 numpy.nan으로 표현\n",
    "#logical_not 함수는  조건에 맞지 않는 데이터인지 여부를 리턴\n",
    "\n",
    "import numpy as np\n",
    "\n",
    "# 배열 생성\n",
    "ar = np.array([10, 2, 3, 4, np.nan, 32, 42])\n",
    "\n",
    "# 배열에 None 데이터가 있는지 확인\n",
    "print(np.isnan(ar)) # 결측치 확인\n",
    "\n",
    "# 결측치를 제외하고 가져오기\n",
    "# 보통 None이 아닌 것보다 None인 것을 가져오는 게 더 빠름\n",
    "result = ar[np.logical_not(np.isnan(ar))]\n",
    "print(result)\n",
    "\n",
    "# 결측치를 제외하고 가져오기 - 결측치를 제거하지 않고 수행하면 nan이 포함됨\n",
    "#ar를 가지고 수행하면 np.nan이 포함되고 result를 가지고 수행하면 np.nan\n",
    "result = ar[np.logical_not(ar > 10)]\n",
    "print(result)"
   ]
  },
  {
   "cell_type": "code",
   "execution_count": 42,
   "id": "e69dc170",
   "metadata": {},
   "outputs": [
    {
     "name": "stdout",
     "output_type": "stream",
     "text": [
      "[ 2.  5. 23. 34. 21. 42. nan 25.]\n",
      "[21. 42.]\n"
     ]
    }
   ],
   "source": [
    "ar = np.array([2, 5, 23, 34, 21, 42, np.nan, 25])\n",
    "print(ar)\n",
    "\n",
    "#3의 배수이거나 4의 배수인 데이터만 추출 np.nan을 제거\n",
    "tmp = ar[np.logical_not(np.isnan(ar))]\n",
    "result = tmp[(tmp % 4 == 0) | (tmp % 3 ==0)]\n",
    "print(result)"
   ]
  },
  {
   "cell_type": "code",
   "execution_count": 43,
   "id": "647204b9",
   "metadata": {},
   "outputs": [
    {
     "name": "stdout",
     "output_type": "stream",
     "text": [
      "[1 2 3 4 5]\n"
     ]
    }
   ],
   "source": [
    "#아래 데이터는 1,2 3, 4 중에 하나를 선택하는 범주형 데이터의 집합\n",
    "#이상한 값이 있는지 확인- 혼자만 엄청 큰 값이 나온다면 계는 이상치\n",
    "ar = np.array([2, 1, 3, 4, 5, 1, 2, 3])\n",
    "print(np.unique(ar))"
   ]
  },
  {
   "cell_type": "code",
   "execution_count": 46,
   "id": "a6e1ea8c",
   "metadata": {},
   "outputs": [
    {
     "name": "stdout",
     "output_type": "stream",
     "text": [
      "Help on method_descriptor:\n",
      "\n",
      "sort(...)\n",
      "    a.sort(axis=-1, kind=None, order=None)\n",
      "    \n",
      "    Sort an array in-place. Refer to `numpy.sort` for full documentation.\n",
      "    \n",
      "    Parameters\n",
      "    ----------\n",
      "    axis : int, optional\n",
      "        Axis along which to sort. Default is -1, which means sort along the\n",
      "        last axis.\n",
      "    kind : {'quicksort', 'mergesort', 'heapsort', 'stable'}, optional\n",
      "        Sorting algorithm. The default is 'quicksort'. Note that both 'stable'\n",
      "        and 'mergesort' use timsort under the covers and, in general, the\n",
      "        actual implementation will vary with datatype. The 'mergesort' option\n",
      "        is retained for backwards compatibility.\n",
      "    \n",
      "        .. versionchanged:: 1.15.0\n",
      "           The 'stable' option was added.\n",
      "    \n",
      "    order : str or list of str, optional\n",
      "        When `a` is an array with fields defined, this argument specifies\n",
      "        which fields to compare first, second, etc.  A single field can\n",
      "        be specified as a string, and not all fields need be specified,\n",
      "        but unspecified fields will still be used, in the order in which\n",
      "        they come up in the dtype, to break ties.\n",
      "    \n",
      "    See Also\n",
      "    --------\n",
      "    numpy.sort : Return a sorted copy of an array.\n",
      "    numpy.argsort : Indirect sort.\n",
      "    numpy.lexsort : Indirect stable sort on multiple keys.\n",
      "    numpy.searchsorted : Find elements in sorted array.\n",
      "    numpy.partition: Partial sort.\n",
      "    \n",
      "    Notes\n",
      "    -----\n",
      "    See `numpy.sort` for notes on the different sorting algorithms.\n",
      "    \n",
      "    Examples\n",
      "    --------\n",
      "    >>> a = np.array([[1,4], [3,1]])\n",
      "    >>> a.sort(axis=1)\n",
      "    >>> a\n",
      "    array([[1, 4],\n",
      "           [1, 3]])\n",
      "    >>> a.sort(axis=0)\n",
      "    >>> a\n",
      "    array([[1, 3],\n",
      "           [1, 4]])\n",
      "    \n",
      "    Use the `order` keyword to specify a field to use when sorting a\n",
      "    structured array:\n",
      "    \n",
      "    >>> a = np.array([('a', 2), ('c', 1)], dtype=[('x', 'S1'), ('y', int)])\n",
      "    >>> a.sort(order='y')\n",
      "    >>> a\n",
      "    array([(b'c', 1), (b'a', 2)],\n",
      "          dtype=[('x', 'S1'), ('y', '<i8')])\n",
      "\n"
     ]
    }
   ],
   "source": [
    "help(np.ndarray.sort)"
   ]
  },
  {
   "cell_type": "code",
   "execution_count": 53,
   "id": "31086eaf",
   "metadata": {},
   "outputs": [
    {
     "name": "stdout",
     "output_type": "stream",
     "text": [
      "None\n",
      "[ 1.  2.  3.  4. nan]\n",
      "[nan  4.  3.  2.  1.]\n",
      "[[1 3 5 2]\n",
      " [4 6 2 9]]\n",
      "[[1 3 2 2]\n",
      " [4 6 5 9]]\n"
     ]
    }
   ],
   "source": [
    "# \n",
    "ar = np.array([2, 1, 3, 4, np.nan])\n",
    "print(ar.sort()) # return 값이 없기 떄문에 sort를 print하면 None이 나온당\n",
    "print(ar) # 대신return이 없는 경우는 원본테이터가 바뀐다.\n",
    "# numpy의 sort는 return을 하고, ndarray의 sort는 return하지 않습니다.\n",
    "#내림차순 정렬은 numpy의 sort를 이용하면 됩니다.\n",
    "print(np.sort(ar)[::-1]) \n",
    "\n",
    "#2차원 배열은 numpy에서는 sort를 잘 사용하지 않습니다.\n",
    "#데이터의 인덱스가 깨져버립니다.\n",
    "matrix = np.array([[1, 3, 5, 2], [4, 6,2, 9]])\n",
    "print(matrix)\n",
    "matrix.sort(axis = 0)\n",
    "print(matrix)"
   ]
  },
  {
   "cell_type": "code",
   "execution_count": 61,
   "id": "7fdb825a",
   "metadata": {},
   "outputs": [
    {
     "name": "stdout",
     "output_type": "stream",
     "text": [
      "[[1 2 3]\n",
      " [4 5 6]]\n",
      "[[11 22 33]\n",
      " [44 55 66]]\n",
      "\n",
      "[[ 1  2  3 11 22 33]\n",
      " [ 4  5  6 44 55 66]]\n",
      "[[ 1  2  3]\n",
      " [ 4  5  6]\n",
      " [11 22 33]\n",
      " [44 55 66]]\n",
      "(4, 3)\n"
     ]
    }
   ],
   "source": [
    "#hstack\n",
    "ar = np.array([[1, 2, 3], [4, 5, 6]])\n",
    "print(ar)\n",
    "\n",
    "br = np.array([[11, 22, 33], [44, 55, 66]])\n",
    "print(br)\n",
    "\n",
    "print()\n",
    "\n",
    "print(np.hstack([ar, br]))\n",
    "print(np.vstack([ar, br]))\n",
    "\n",
    "tmp = np.vstack([ar, br])\n",
    "print(tmp.shape)\n"
   ]
  },
  {
   "cell_type": "code",
   "execution_count": 62,
   "id": "d4c17bb8",
   "metadata": {},
   "outputs": [
    {
     "name": "stdout",
     "output_type": "stream",
     "text": [
      "Help on function savez in module numpy:\n",
      "\n",
      "savez(file, *args, **kwds)\n",
      "    Save several arrays into a single file in uncompressed ``.npz`` format.\n",
      "    \n",
      "    Provide arrays as keyword arguments to store them under the\n",
      "    corresponding name in the output file: ``savez(fn, x=x, y=y)``.\n",
      "    \n",
      "    If arrays are specified as positional arguments, i.e., ``savez(fn,\n",
      "    x, y)``, their names will be `arr_0`, `arr_1`, etc.\n",
      "    \n",
      "    Parameters\n",
      "    ----------\n",
      "    file : str or file\n",
      "        Either the filename (string) or an open file (file-like object)\n",
      "        where the data will be saved. If file is a string or a Path, the\n",
      "        ``.npz`` extension will be appended to the filename if it is not\n",
      "        already there.\n",
      "    args : Arguments, optional\n",
      "        Arrays to save to the file. Please use keyword arguments (see\n",
      "        `kwds` below) to assign names to arrays.  Arrays specified as\n",
      "        args will be named \"arr_0\", \"arr_1\", and so on.\n",
      "    kwds : Keyword arguments, optional\n",
      "        Arrays to save to the file. Each array will be saved to the\n",
      "        output file with its corresponding keyword name.\n",
      "    \n",
      "    Returns\n",
      "    -------\n",
      "    None\n",
      "    \n",
      "    See Also\n",
      "    --------\n",
      "    save : Save a single array to a binary file in NumPy format.\n",
      "    savetxt : Save an array to a file as plain text.\n",
      "    savez_compressed : Save several arrays into a compressed ``.npz`` archive\n",
      "    \n",
      "    Notes\n",
      "    -----\n",
      "    The ``.npz`` file format is a zipped archive of files named after the\n",
      "    variables they contain.  The archive is not compressed and each file\n",
      "    in the archive contains one variable in ``.npy`` format. For a\n",
      "    description of the ``.npy`` format, see :py:mod:`numpy.lib.format`.\n",
      "    \n",
      "    When opening the saved ``.npz`` file with `load` a `NpzFile` object is\n",
      "    returned. This is a dictionary-like object which can be queried for\n",
      "    its list of arrays (with the ``.files`` attribute), and for the arrays\n",
      "    themselves.\n",
      "    \n",
      "    Keys passed in `kwds` are used as filenames inside the ZIP archive.\n",
      "    Therefore, keys should be valid filenames; e.g., avoid keys that begin with\n",
      "    ``/`` or contain ``.``.\n",
      "    \n",
      "    When naming variables with keyword arguments, it is not possible to name a\n",
      "    variable ``file``, as this would cause the ``file`` argument to be defined\n",
      "    twice in the call to ``savez``.\n",
      "    \n",
      "    Examples\n",
      "    --------\n",
      "    >>> from tempfile import TemporaryFile\n",
      "    >>> outfile = TemporaryFile()\n",
      "    >>> x = np.arange(10)\n",
      "    >>> y = np.sin(x)\n",
      "    \n",
      "    Using `savez` with \\*args, the arrays are saved with default names.\n",
      "    \n",
      "    >>> np.savez(outfile, x, y)\n",
      "    >>> _ = outfile.seek(0) # Only needed here to simulate closing & reopening file\n",
      "    >>> npzfile = np.load(outfile)\n",
      "    >>> npzfile.files\n",
      "    ['arr_0', 'arr_1']\n",
      "    >>> npzfile['arr_0']\n",
      "    array([0, 1, 2, 3, 4, 5, 6, 7, 8, 9])\n",
      "    \n",
      "    Using `savez` with \\**kwds, the arrays are saved with the keyword names.\n",
      "    \n",
      "    >>> outfile = TemporaryFile()\n",
      "    >>> np.savez(outfile, x=x, y=y)\n",
      "    >>> _ = outfile.seek(0)\n",
      "    >>> npzfile = np.load(outfile)\n",
      "    >>> sorted(npzfile.files)\n",
      "    ['x', 'y']\n",
      "    >>> npzfile['x']\n",
      "    array([0, 1, 2, 3, 4, 5, 6, 7, 8, 9])\n",
      "\n"
     ]
    }
   ],
   "source": [
    "#help(np.savez)"
   ]
  },
  {
   "cell_type": "code",
   "execution_count": 63,
   "id": "8abbb8f3",
   "metadata": {},
   "outputs": [],
   "source": [
    "#데이터 저장\n",
    "np.save('ar.npy',ar)"
   ]
  },
  {
   "cell_type": "code",
   "execution_count": 65,
   "id": "fbda1153",
   "metadata": {},
   "outputs": [
    {
     "name": "stdout",
     "output_type": "stream",
     "text": [
      "[[1 2 3]\n",
      " [4 5 6]]\n"
     ]
    }
   ],
   "source": [
    "# 데이터 로드\n",
    "x = np.load('ar.npy')\n",
    "print(x)"
   ]
  },
  {
   "cell_type": "code",
   "execution_count": 68,
   "id": "82930016",
   "metadata": {},
   "outputs": [],
   "source": [
    "# pandas\n",
    "import pandas as pd "
   ]
  },
  {
   "cell_type": "code",
   "execution_count": 72,
   "id": "d61e6c0f",
   "metadata": {},
   "outputs": [
    {
     "name": "stdout",
     "output_type": "stream",
     "text": [
      "0    1000\n",
      "1    2000\n",
      "2    3000\n",
      "3    4000\n",
      "dtype: int64\n",
      "2000\n",
      "\n",
      "사탕     1000\n",
      "과자     2000\n",
      "음료수    3000\n",
      "과일     4000\n",
      "dtype: int64\n",
      "1000\n"
     ]
    }
   ],
   "source": [
    "price = pd.Series([1000, 2000, 3000, 4000])\n",
    "print(price)\n",
    "print(price[1])\n",
    "\n",
    "print()\n",
    "\n",
    "price.index = ['사탕', '과자', '음료수', '과일']\n",
    "print(price)\n",
    "print(price['사탕'])"
   ]
  },
  {
   "cell_type": "code",
   "execution_count": 77,
   "id": "1e82ce28",
   "metadata": {},
   "outputs": [
    {
     "name": "stdout",
     "output_type": "stream",
     "text": [
      "사탕      800\n",
      "과자     2000\n",
      "음료수    3000\n",
      "dtype: int64\n",
      "사탕      800\n",
      "과자     2000\n",
      "음료수    3000\n",
      "과일     4000\n",
      "dtype: int64\n",
      "\n",
      "사탕     2000\n",
      "음료수    3000\n",
      "dtype: int64\n",
      "사탕      800\n",
      "과자     2000\n",
      "음료수    3000\n",
      "과일     4000\n",
      "dtype: int64\n"
     ]
    }
   ],
   "source": [
    "x = price['사탕' : '음료수'] # 사탕부터 음료수까지\n",
    "x['사탕'] = 800\n",
    "print(x)\n",
    "print(price) # x와 price의 주소를 참조해서 변경하면 같이 바뀜\n",
    "print()\n",
    "\n",
    "y = price[['사탕', '음료수']] # 사탕과 음료수\n",
    "y['사탕'] = 2000\n",
    "print(y)\n",
    "print(price) # 사탕과 음료수의 데이터를 복제해 온 것 즉 변경이 되지 않음!"
   ]
  },
  {
   "cell_type": "code",
   "execution_count": 81,
   "id": "bb1a5c8a",
   "metadata": {},
   "outputs": [
    {
     "name": "stdout",
     "output_type": "stream",
     "text": [
      "사과     100.0\n",
      "배      200.0\n",
      "한라봉    300.0\n",
      "바나나      NaN\n",
      "dtype: float64\n",
      "\n",
      "사과     100\n",
      "한라봉    200\n",
      "바나나    300\n",
      "딸기     500\n",
      "dtype: int64\n",
      "\n",
      "딸기       NaN\n",
      "바나나      NaN\n",
      "배        NaN\n",
      "사과     200.0\n",
      "한라봉    500.0\n",
      "dtype: float64\n"
     ]
    }
   ],
   "source": [
    "s1 = pd.Series([100, 200, 300, np.nan], index = ['사과', '배', '한라봉', '바나나'])\n",
    "print(s1)\n",
    "print()\n",
    "\n",
    "s2 = pd.Series([100, 200, 300, 500], index = ['사과', '한라봉', '바나나', '딸기'])\n",
    "print(s2)\n",
    "print()\n",
    "\n",
    "\n",
    "#시리즈는 인덱스를 일치하는 데이터끼리 연산을 수행합니다.\n",
    "#한쪽에만 존재하거나 np.nan 인 데이터가 있으면 결과가 np.nan이 됩니다.\n",
    "print(s1 + s2)"
   ]
  },
  {
   "cell_type": "code",
   "execution_count": 82,
   "id": "a06b1c4b",
   "metadata": {},
   "outputs": [
    {
     "name": "stdout",
     "output_type": "stream",
     "text": [
      "   code name  age\n",
      "0     1   소연   25\n",
      "1     2   민니   27\n",
      "2     3   미연   27\n",
      "3     4   우기   25\n",
      "4     5   슈화   24\n"
     ]
    }
   ],
   "source": [
    "# dataframe 생성\n",
    "source = {\n",
    "    \"code\" : [1, 2, 3, 4, 5],\n",
    "    \"name\" : ['소연', '민니', '미연', '우기', '슈화'],\n",
    "    \"age\" : [25, 27, 27, 25, 24]\n",
    "}\n",
    "\n",
    "df = pd.DataFrame(source)\n",
    "print(df)\n",
    "\n"
   ]
  },
  {
   "cell_type": "code",
   "execution_count": 84,
   "id": "0f3f7f35",
   "metadata": {},
   "outputs": [
    {
     "name": "stdout",
     "output_type": "stream",
     "text": [
      "   code name  age\n",
      "0     1   소연   25\n",
      "1     2   민니   27\n",
      "2     3   미연   27\n"
     ]
    }
   ],
   "source": [
    "print(df.head(3)) # 앞에서 3개"
   ]
  },
  {
   "cell_type": "code",
   "execution_count": 85,
   "id": "1de588a8",
   "metadata": {},
   "outputs": [
    {
     "name": "stdout",
     "output_type": "stream",
     "text": [
      "   code name  age\n",
      "3     4   우기   25\n",
      "4     5   슈화   24\n"
     ]
    }
   ],
   "source": [
    "print(df.tail(2)) # 뒤에서 2개"
   ]
  },
  {
   "cell_type": "code",
   "execution_count": 86,
   "id": "8e857137",
   "metadata": {},
   "outputs": [
    {
     "name": "stdout",
     "output_type": "stream",
     "text": [
      "<class 'pandas.core.frame.DataFrame'>\n",
      "RangeIndex: 5 entries, 0 to 4\n",
      "Data columns (total 3 columns):\n",
      " #   Column  Non-Null Count  Dtype \n",
      "---  ------  --------------  ----- \n",
      " 0   code    5 non-null      int64 \n",
      " 1   name    5 non-null      object\n",
      " 2   age     5 non-null      int64 \n",
      "dtypes: int64(2), object(1)\n",
      "memory usage: 252.0+ bytes\n"
     ]
    }
   ],
   "source": [
    "df.info()"
   ]
  },
  {
   "cell_type": "code",
   "execution_count": 91,
   "id": "563922ca",
   "metadata": {},
   "outputs": [
    {
     "name": "stdout",
     "output_type": "stream",
     "text": [
      "RangeIndex(start=0, stop=5, step=1)\n",
      "[[1 '소연' 25]\n",
      " [2 '민니' 27]\n",
      " [3 '미연' 27]\n",
      " [4 '우기' 25]\n",
      " [5 '슈화' 24]]\n",
      "<class 'numpy.ndarray'>\n"
     ]
    }
   ],
   "source": [
    "print(df.index)\n",
    "print(df.values)\n",
    "print(type(df.values))"
   ]
  },
  {
   "cell_type": "code",
   "execution_count": 97,
   "id": "fa7c5f9b",
   "metadata": {},
   "outputs": [
    {
     "name": "stdout",
     "output_type": "stream",
     "text": [
      "    code   name    age\n",
      "0  False  False  False\n",
      "1  False  False  False\n",
      "2  False  False  False\n",
      "3  False  False  False\n",
      "4  False  False  False\n"
     ]
    }
   ],
   "source": [
    "# print(dir(df))\n",
    "# help(df.isnull)\n",
    "print(df.isnull())"
   ]
  },
  {
   "cell_type": "code",
   "execution_count": null,
   "id": "2dfe124f",
   "metadata": {},
   "outputs": [],
   "source": []
  },
  {
   "cell_type": "code",
   "execution_count": null,
   "id": "943534a0",
   "metadata": {},
   "outputs": [],
   "source": []
  }
 ],
 "metadata": {
  "kernelspec": {
   "display_name": "Python 3 (ipykernel)",
   "language": "python",
   "name": "python3"
  },
  "language_info": {
   "codemirror_mode": {
    "name": "ipython",
    "version": 3
   },
   "file_extension": ".py",
   "mimetype": "text/x-python",
   "name": "python",
   "nbconvert_exporter": "python",
   "pygments_lexer": "ipython3",
   "version": "3.11.5"
  }
 },
 "nbformat": 4,
 "nbformat_minor": 5
}
