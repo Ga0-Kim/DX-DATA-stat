{
 "cells": [
  {
   "cell_type": "markdown",
   "id": "a3864666",
   "metadata": {},
   "source": [
    "## 데이터 전처리"
   ]
  },
  {
   "cell_type": "code",
   "execution_count": 1,
   "id": "90136a58",
   "metadata": {},
   "outputs": [],
   "source": [
    "import numpy as np\n",
    "import pandas as pd"
   ]
  },
  {
   "cell_type": "markdown",
   "id": "57ce85cd",
   "metadata": {},
   "source": [
    "### 중복 데이터 제거\n",
    "#### 중복된 데이터가 존재하면 분석 결과를 왜곡할 수 있음\n",
    "#### 중복된 데이터가 존재하면 중복 데이터가 분석을 할 때 영향을 더 많이 주게 됨"
   ]
  },
  {
   "cell_type": "code",
   "execution_count": 8,
   "id": "99245007",
   "metadata": {},
   "outputs": [
    {
     "name": "stdout",
     "output_type": "stream",
     "text": [
      "     인사말    국가\n",
      "0  안녕하세요    한국\n",
      "1  안녕하세요    한국\n",
      "2    헬로우    미국\n",
      "3  키아 오라  뉴질랜드\n",
      "4  반갑습니다    한국\n",
      "5    오하요    일본\n"
     ]
    }
   ],
   "source": [
    "# 데이터 생성\n",
    "df = pd.DataFrame([['안녕하세요','안녕하세요','헬로우','키아 오라','반갑습니다','오하요'],\n",
    "                  ['한국','한국','미국','뉴질랜드','한국','일본']])\n",
    "#행 열 전치\n",
    "df = df.T\n",
    "df.columns = ['인사말','국가']\n",
    "\n",
    "#데이터 확인\n",
    "print(df)\n"
   ]
  },
  {
   "cell_type": "code",
   "execution_count": 4,
   "id": "1090a491",
   "metadata": {},
   "outputs": [
    {
     "name": "stdout",
     "output_type": "stream",
     "text": [
      "Help on method duplicated in module pandas.core.frame:\n",
      "\n",
      "duplicated(subset: 'Hashable | Sequence[Hashable] | None' = None, keep: 'DropKeep' = 'first') -> 'Series' method of pandas.core.frame.DataFrame instance\n",
      "    Return boolean Series denoting duplicate rows.\n",
      "    \n",
      "    Considering certain columns is optional.\n",
      "    \n",
      "    Parameters\n",
      "    ----------\n",
      "    subset : column label or sequence of labels, optional\n",
      "        Only consider certain columns for identifying duplicates, by\n",
      "        default use all of the columns.\n",
      "    keep : {'first', 'last', False}, default 'first'\n",
      "        Determines which duplicates (if any) to mark.\n",
      "    \n",
      "        - ``first`` : Mark duplicates as ``True`` except for the first occurrence.\n",
      "        - ``last`` : Mark duplicates as ``True`` except for the last occurrence.\n",
      "        - False : Mark all duplicates as ``True``.\n",
      "    \n",
      "    Returns\n",
      "    -------\n",
      "    Series\n",
      "        Boolean series for each duplicated rows.\n",
      "    \n",
      "    See Also\n",
      "    --------\n",
      "    Index.duplicated : Equivalent method on index.\n",
      "    Series.duplicated : Equivalent method on Series.\n",
      "    Series.drop_duplicates : Remove duplicate values from Series.\n",
      "    DataFrame.drop_duplicates : Remove duplicate values from DataFrame.\n",
      "    \n",
      "    Examples\n",
      "    --------\n",
      "    Consider dataset containing ramen rating.\n",
      "    \n",
      "    >>> df = pd.DataFrame({\n",
      "    ...     'brand': ['Yum Yum', 'Yum Yum', 'Indomie', 'Indomie', 'Indomie'],\n",
      "    ...     'style': ['cup', 'cup', 'cup', 'pack', 'pack'],\n",
      "    ...     'rating': [4, 4, 3.5, 15, 5]\n",
      "    ... })\n",
      "    >>> df\n",
      "        brand style  rating\n",
      "    0  Yum Yum   cup     4.0\n",
      "    1  Yum Yum   cup     4.0\n",
      "    2  Indomie   cup     3.5\n",
      "    3  Indomie  pack    15.0\n",
      "    4  Indomie  pack     5.0\n",
      "    \n",
      "    By default, for each set of duplicated values, the first occurrence\n",
      "    is set on False and all others on True.\n",
      "    \n",
      "    >>> df.duplicated()\n",
      "    0    False\n",
      "    1     True\n",
      "    2    False\n",
      "    3    False\n",
      "    4    False\n",
      "    dtype: bool\n",
      "    \n",
      "    By using 'last', the last occurrence of each set of duplicated values\n",
      "    is set on False and all others on True.\n",
      "    \n",
      "    >>> df.duplicated(keep='last')\n",
      "    0     True\n",
      "    1    False\n",
      "    2    False\n",
      "    3    False\n",
      "    4    False\n",
      "    dtype: bool\n",
      "    \n",
      "    By setting ``keep`` on False, all duplicates are True.\n",
      "    \n",
      "    >>> df.duplicated(keep=False)\n",
      "    0     True\n",
      "    1     True\n",
      "    2    False\n",
      "    3    False\n",
      "    4    False\n",
      "    dtype: bool\n",
      "    \n",
      "    To find duplicates on specific column(s), use ``subset``.\n",
      "    \n",
      "    >>> df.duplicated(subset=['brand'])\n",
      "    0    False\n",
      "    1     True\n",
      "    2    False\n",
      "    3     True\n",
      "    4     True\n",
      "    dtype: bool\n",
      "\n"
     ]
    }
   ],
   "source": [
    "# help(df.duplicated)"
   ]
  },
  {
   "cell_type": "code",
   "execution_count": 10,
   "id": "9234fc38",
   "metadata": {},
   "outputs": [
    {
     "name": "stdout",
     "output_type": "stream",
     "text": [
      "0    False\n",
      "1     True\n",
      "2    False\n",
      "3    False\n",
      "4    False\n",
      "5    False\n",
      "dtype: bool\n",
      "0    False\n",
      "1     True\n",
      "2    False\n",
      "3    False\n",
      "4     True\n",
      "5    False\n",
      "dtype: bool\n",
      "     인사말    국가\n",
      "0  안녕하세요    한국\n",
      "2    헬로우    미국\n",
      "3  키아 오라  뉴질랜드\n",
      "5    오하요    일본\n",
      "     인사말    국가\n",
      "2    헬로우    미국\n",
      "3  키아 오라  뉴질랜드\n",
      "4  반갑습니다    한국\n",
      "5    오하요    일본\n"
     ]
    }
   ],
   "source": [
    "# 중복 확인\n",
    "print(df.duplicated()) # 모든 컬럼의 값이 중복인지를 확인\n",
    "print(df.duplicated(subset = ['국가'])) # 국가 컬럼의 값이 중복인지를 확인\n",
    "\n",
    "print(df.drop_duplicates(subset = ['국가'])) # 기본은 앞의 데이터를 보존\n",
    "print(df.drop_duplicates(subset = ['국가'], keep = 'last')) # 마지막 데이터를 보존"
   ]
  },
  {
   "cell_type": "markdown",
   "id": "08c16692",
   "metadata": {},
   "source": [
    "## 타이타닉 데이터 불러오기"
   ]
  },
  {
   "cell_type": "code",
   "execution_count": 11,
   "id": "3c30cf3d",
   "metadata": {},
   "outputs": [
    {
     "name": "stdout",
     "output_type": "stream",
     "text": [
      "<class 'pandas.core.frame.DataFrame'>\n",
      "RangeIndex: 891 entries, 0 to 890\n",
      "Data columns (total 15 columns):\n",
      " #   Column       Non-Null Count  Dtype   \n",
      "---  ------       --------------  -----   \n",
      " 0   survived     891 non-null    int64   \n",
      " 1   pclass       891 non-null    int64   \n",
      " 2   sex          891 non-null    object  \n",
      " 3   age          714 non-null    float64 \n",
      " 4   sibsp        891 non-null    int64   \n",
      " 5   parch        891 non-null    int64   \n",
      " 6   fare         891 non-null    float64 \n",
      " 7   embarked     889 non-null    object  \n",
      " 8   class        891 non-null    category\n",
      " 9   who          891 non-null    object  \n",
      " 10  adult_male   891 non-null    bool    \n",
      " 11  deck         203 non-null    category\n",
      " 12  embark_town  889 non-null    object  \n",
      " 13  alive        891 non-null    object  \n",
      " 14  alone        891 non-null    bool    \n",
      "dtypes: bool(2), category(2), float64(2), int64(4), object(5)\n",
      "memory usage: 80.7+ KB\n",
      "None\n"
     ]
    }
   ],
   "source": [
    "import seaborn as sns\n",
    "titanic = sns.load_dataset('titanic')\n",
    "print(titanic.info())"
   ]
  },
  {
   "cell_type": "markdown",
   "id": "4ce5e278",
   "metadata": {},
   "source": [
    "### apply함수 적용"
   ]
  },
  {
   "cell_type": "code",
   "execution_count": 16,
   "id": "17299f87",
   "metadata": {},
   "outputs": [
    {
     "name": "stdout",
     "output_type": "stream",
     "text": [
      "      sex   age\n",
      "0    male  22.0\n",
      "1  female  38.0\n",
      "2  female  26.0\n",
      "3  female  35.0\n",
      "4    male  35.0\n"
     ]
    }
   ],
   "source": [
    "df = titanic[['sex', 'age']]\n",
    "print(df.head())\n"
   ]
  },
  {
   "cell_type": "code",
   "execution_count": 17,
   "id": "d1148d71",
   "metadata": {},
   "outputs": [
    {
     "name": "stdout",
     "output_type": "stream",
     "text": [
      "      sex   age\n",
      "0    male  23.0\n",
      "1  female  39.0\n",
      "2  female  27.0\n",
      "3  female  36.0\n",
      "4    male  36.0\n"
     ]
    },
    {
     "name": "stderr",
     "output_type": "stream",
     "text": [
      "C:\\Users\\USER\\AppData\\Local\\Temp\\ipykernel_4916\\887155702.py:6: SettingWithCopyWarning: \n",
      "A value is trying to be set on a copy of a slice from a DataFrame.\n",
      "Try using .loc[row_indexer,col_indexer] = value instead\n",
      "\n",
      "See the caveats in the documentation: https://pandas.pydata.org/pandas-docs/stable/user_guide/indexing.html#returning-a-view-versus-a-copy\n",
      "  df['age'] = df['age'].apply(plusone)\n"
     ]
    }
   ],
   "source": [
    "#실수 한개를 받아서 1을 더해 리턴하는 함수\n",
    "def plusone(data: float) -> float :\n",
    "    return data + 1\n",
    "\n",
    "#1번 방법\n",
    "df['age'] = df['age'].apply(plusone)\n",
    "print(df.head())"
   ]
  },
  {
   "cell_type": "code",
   "execution_count": 18,
   "id": "19799503",
   "metadata": {},
   "outputs": [
    {
     "name": "stdout",
     "output_type": "stream",
     "text": [
      "      sex   age\n",
      "0    male  24.0\n",
      "1  female  40.0\n",
      "2  female  28.0\n",
      "3  female  37.0\n",
      "4    male  37.0\n"
     ]
    },
    {
     "name": "stderr",
     "output_type": "stream",
     "text": [
      "C:\\Users\\USER\\AppData\\Local\\Temp\\ipykernel_4916\\1540528483.py:2: SettingWithCopyWarning: \n",
      "A value is trying to be set on a copy of a slice from a DataFrame.\n",
      "Try using .loc[row_indexer,col_indexer] = value instead\n",
      "\n",
      "See the caveats in the documentation: https://pandas.pydata.org/pandas-docs/stable/user_guide/indexing.html#returning-a-view-versus-a-copy\n",
      "  df['age'] = df['age'].apply(lambda data : data + 1)\n"
     ]
    }
   ],
   "source": [
    "# 2번 방법 : 람다\n",
    "df['age'] = df['age'].apply(lambda data : data + 1)\n",
    "print(df.head())"
   ]
  },
  {
   "cell_type": "code",
   "execution_count": 19,
   "id": "0c44ceba",
   "metadata": {},
   "outputs": [
    {
     "name": "stdout",
     "output_type": "stream",
     "text": [
      "      sex   age\n",
      "0    male  25.0\n",
      "1  female  41.0\n",
      "2  female  29.0\n",
      "3  female  38.0\n",
      "4    male  38.0\n"
     ]
    },
    {
     "name": "stderr",
     "output_type": "stream",
     "text": [
      "C:\\Users\\USER\\AppData\\Local\\Temp\\ipykernel_4916\\4198494594.py:2: SettingWithCopyWarning: \n",
      "A value is trying to be set on a copy of a slice from a DataFrame.\n",
      "Try using .loc[row_indexer,col_indexer] = value instead\n",
      "\n",
      "See the caveats in the documentation: https://pandas.pydata.org/pandas-docs/stable/user_guide/indexing.html#returning-a-view-versus-a-copy\n",
      "  df['age'] = df['age'] + 1\n"
     ]
    }
   ],
   "source": [
    "# 3번 심플\n",
    "df['age'] = df['age'] + 1\n",
    "print(df.head())"
   ]
  },
  {
   "cell_type": "code",
   "execution_count": 21,
   "id": "64c3d808",
   "metadata": {},
   "outputs": [
    {
     "name": "stdout",
     "output_type": "stream",
     "text": [
      "      sex   age\n",
      "0    MALE  25.0\n",
      "1  FEMALE  41.0\n",
      "2  FEMALE  29.0\n",
      "3  FEMALE  38.0\n",
      "4    MALE  38.0\n"
     ]
    },
    {
     "name": "stderr",
     "output_type": "stream",
     "text": [
      "C:\\Users\\USER\\AppData\\Local\\Temp\\ipykernel_4916\\1913014146.py:2: SettingWithCopyWarning: \n",
      "A value is trying to be set on a copy of a slice from a DataFrame.\n",
      "Try using .loc[row_indexer,col_indexer] = value instead\n",
      "\n",
      "See the caveats in the documentation: https://pandas.pydata.org/pandas-docs/stable/user_guide/indexing.html#returning-a-view-versus-a-copy\n",
      "  df['sex'] = df['sex'].apply(str.upper)\n"
     ]
    }
   ],
   "source": [
    "#sex 열의 모든 내용을 대문자로 변경 - 문자열 클래스에 대문자로 변경해주는 메서드가 있는지 확인\n",
    "df['sex'] = df['sex'].apply(str.upper)\n",
    "print(df.head())"
   ]
  },
  {
   "cell_type": "code",
   "execution_count": 23,
   "id": "b268528d",
   "metadata": {},
   "outputs": [
    {
     "name": "stdout",
     "output_type": "stream",
     "text": [
      "     sex    age\n",
      "0  False  False\n",
      "1  False  False\n",
      "2  False  False\n",
      "3  False  False\n",
      "4  False  False\n"
     ]
    }
   ],
   "source": [
    "# 'age' 떄문에 한번에 계산이 안됨!!\n",
    "#df = df.apply(str.upper)\n",
    "#print(df.head())\n",
    "\n",
    "def missing_value(series : pd.Series) -> pd.Series :\n",
    "    return series.isnull()\n",
    "result = df.apply(missing_value)\n",
    "print(result.head())\n",
    "\n"
   ]
  },
  {
   "cell_type": "code",
   "execution_count": 29,
   "id": "cecb061d",
   "metadata": {},
   "outputs": [
    {
     "name": "stdout",
     "output_type": "stream",
     "text": [
      "0\n",
      "False\n",
      "None\n",
      "None\n"
     ]
    }
   ],
   "source": [
    "# 오프더레코드\n",
    "\n",
    "print(0 and None)\n",
    "print(False and None)\n",
    "print(None and 0)\n",
    "print(None and False)"
   ]
  },
  {
   "cell_type": "markdown",
   "id": "fb93bcb8",
   "metadata": {},
   "source": [
    "## pipe 적용"
   ]
  },
  {
   "cell_type": "code",
   "execution_count": 35,
   "id": "e28d442c",
   "metadata": {},
   "outputs": [],
   "source": [
    "# Series를 받아서 NaN여부를 리턴하는 함수\n",
    "def missing_value(x :pd.Series) -> pd.Series :\n",
    "    return x.isnull()\n",
    "\n",
    "#Series 를 받아서 True의 개수를 리턴하는 함수\n",
    "def missing_count(x : pd.Series) -> int :\n",
    "    return missing_value(x).sum()\n",
    "\n",
    "#DataFrame을 받아서 총 NaN의 개수를 리턴하는 함수\n",
    "def total_number_missing(x : pd.DataFrame) -> int :\n",
    "    return missing_count(x).sum()"
   ]
  },
  {
   "cell_type": "code",
   "execution_count": 30,
   "id": "36df06d8",
   "metadata": {},
   "outputs": [
    {
     "name": "stdout",
     "output_type": "stream",
     "text": [
      "<class 'pandas.core.frame.DataFrame'>\n",
      "RangeIndex: 891 entries, 0 to 890\n",
      "Data columns (total 15 columns):\n",
      " #   Column       Non-Null Count  Dtype   \n",
      "---  ------       --------------  -----   \n",
      " 0   survived     891 non-null    int64   \n",
      " 1   pclass       891 non-null    int64   \n",
      " 2   sex          891 non-null    object  \n",
      " 3   age          714 non-null    float64 \n",
      " 4   sibsp        891 non-null    int64   \n",
      " 5   parch        891 non-null    int64   \n",
      " 6   fare         891 non-null    float64 \n",
      " 7   embarked     889 non-null    object  \n",
      " 8   class        891 non-null    category\n",
      " 9   who          891 non-null    object  \n",
      " 10  adult_male   891 non-null    bool    \n",
      " 11  deck         203 non-null    category\n",
      " 12  embark_town  889 non-null    object  \n",
      " 13  alive        891 non-null    object  \n",
      " 14  alone        891 non-null    bool    \n",
      "dtypes: bool(2), category(2), float64(2), int64(4), object(5)\n",
      "memory usage: 80.7+ KB\n",
      "None\n"
     ]
    }
   ],
   "source": [
    "print(titanic.info())"
   ]
  },
  {
   "cell_type": "code",
   "execution_count": 38,
   "id": "60f79c61",
   "metadata": {},
   "outputs": [
    {
     "name": "stdout",
     "output_type": "stream",
     "text": [
      "     age  embarked\n",
      "0  False     False\n",
      "1  False     False\n",
      "2  False     False\n",
      "3  False     False\n",
      "4  False     False\n"
     ]
    }
   ],
   "source": [
    "df = titanic[['age','embarked']]\n",
    "# print(df.info())\n",
    "\n",
    "#Series를 받아서 Series를 리턴하는 함수를 적용\n",
    "#DataFrame을 리턴\n",
    "print(df.pipe(missing_value).head())"
   ]
  },
  {
   "cell_type": "code",
   "execution_count": 36,
   "id": "fa4ee907",
   "metadata": {},
   "outputs": [
    {
     "name": "stdout",
     "output_type": "stream",
     "text": [
      "age         177\n",
      "embarked      2\n",
      "dtype: int64\n"
     ]
    }
   ],
   "source": [
    "#Series를 받아서 1개의 값(정수, 스칼라)를 리턴하는 함수를 적용\n",
    "#Series를 리턴 - 각 열의 결과\n",
    "print(df.pipe(missing_count))"
   ]
  },
  {
   "cell_type": "code",
   "execution_count": 37,
   "id": "a05080b4",
   "metadata": {},
   "outputs": [
    {
     "name": "stdout",
     "output_type": "stream",
     "text": [
      "179\n"
     ]
    }
   ],
   "source": [
    "#DataFramd을 받아서 집계를 한 후 하나의 값을 리턴함수를 적용\n",
    "#하나의 값을 리턴\n",
    "print(df.pipe(total_number_missing))"
   ]
  },
  {
   "cell_type": "markdown",
   "id": "1bec6c90",
   "metadata": {},
   "source": [
    "## 컬럼 재구성"
   ]
  },
  {
   "cell_type": "markdown",
   "id": "3ddb9513",
   "metadata": {},
   "source": [
    "### 열 재구성\n",
    "#### 열의 순서를 변경"
   ]
  },
  {
   "cell_type": "code",
   "execution_count": 41,
   "id": "5bbc24ab",
   "metadata": {},
   "outputs": [
    {
     "name": "stdout",
     "output_type": "stream",
     "text": [
      "['survived' 'pclass' 'sex' 'age' 'sibsp' 'parch' 'fare' 'embarked' 'class'\n",
      " 'who' 'adult_male' 'deck' 'embark_town' 'alive' 'alone']\n",
      "['survived', 'pclass', 'sex', 'age', 'sibsp', 'parch', 'fare', 'embarked', 'class', 'who', 'adult_male', 'deck', 'embark_town', 'alive', 'alone']\n"
     ]
    }
   ],
   "source": [
    "# 열 이름을 전부 가져오기\n",
    "columns = titanic.columns.values\n",
    "print(columns) # ndarray\n",
    "# print(type(columns))\n",
    "\n",
    "columns = list(titanic.columns.values)\n",
    "print(columns) # list"
   ]
  },
  {
   "cell_type": "code",
   "execution_count": 43,
   "id": "dbda1801",
   "metadata": {},
   "outputs": [
    {
     "name": "stdout",
     "output_type": "stream",
     "text": [
      "<class 'pandas.core.frame.DataFrame'>\n",
      "RangeIndex: 891 entries, 0 to 890\n",
      "Data columns (total 15 columns):\n",
      " #   Column       Non-Null Count  Dtype   \n",
      "---  ------       --------------  -----   \n",
      " 0   adult_male   891 non-null    bool    \n",
      " 1   age          714 non-null    float64 \n",
      " 2   alive        891 non-null    object  \n",
      " 3   alone        891 non-null    bool    \n",
      " 4   class        891 non-null    category\n",
      " 5   deck         203 non-null    category\n",
      " 6   embark_town  889 non-null    object  \n",
      " 7   embarked     889 non-null    object  \n",
      " 8   fare         891 non-null    float64 \n",
      " 9   parch        891 non-null    int64   \n",
      " 10  pclass       891 non-null    int64   \n",
      " 11  sex          891 non-null    object  \n",
      " 12  sibsp        891 non-null    int64   \n",
      " 13  survived     891 non-null    int64   \n",
      " 14  who          891 non-null    object  \n",
      "dtypes: bool(2), category(2), float64(2), int64(4), object(5)\n",
      "memory usage: 80.7+ KB\n"
     ]
    },
    {
     "ename": "AttributeError",
     "evalue": "'NoneType' object has no attribute 'head'",
     "output_type": "error",
     "traceback": [
      "\u001b[1;31m---------------------------------------------------------------------------\u001b[0m",
      "\u001b[1;31mAttributeError\u001b[0m                            Traceback (most recent call last)",
      "Cell \u001b[1;32mIn[43], line 3\u001b[0m\n\u001b[0;32m      1\u001b[0m \u001b[38;5;66;03m#컬럼 이름을 알파벳 순으로 정렬해서 재배치\u001b[39;00m\n\u001b[0;32m      2\u001b[0m df_sorted \u001b[38;5;241m=\u001b[39m titanic[\u001b[38;5;28msorted\u001b[39m(columns)]\n\u001b[1;32m----> 3\u001b[0m \u001b[38;5;28mprint\u001b[39m(df_sorted\u001b[38;5;241m.\u001b[39minfo()\u001b[38;5;241m.\u001b[39mhead())\n",
      "\u001b[1;31mAttributeError\u001b[0m: 'NoneType' object has no attribute 'head'"
     ]
    }
   ],
   "source": [
    "#컬럼 이름을 알파벳 순으로 정렬해서 재배치\n",
    "df_sorted = titanic[sorted(columns)]\n",
    "print(df_sorted.info())"
   ]
  },
  {
   "cell_type": "markdown",
   "id": "ca4490cb",
   "metadata": {},
   "source": [
    "## 날짜 컬럼을 분할"
   ]
  },
  {
   "cell_type": "code",
   "execution_count": 45,
   "id": "f8c57bce",
   "metadata": {},
   "outputs": [
    {
     "name": "stdout",
     "output_type": "stream",
     "text": [
      "['Hello', 'World']\n"
     ]
    }
   ],
   "source": [
    "## 참고\n",
    "message = \"Hello World\"\n",
    "#공백을 기준으로 분할 - list를 리턴\n",
    "ar = message.split(' ')\n",
    "print(ar)"
   ]
  },
  {
   "cell_type": "code",
   "execution_count": 44,
   "id": "2393e05a",
   "metadata": {},
   "outputs": [
    {
     "name": "stdout",
     "output_type": "stream",
     "text": [
      "<class 'pandas.core.frame.DataFrame'>\n",
      "RangeIndex: 20 entries, 0 to 19\n",
      "Data columns (total 7 columns):\n",
      " #   Column  Non-Null Count  Dtype         \n",
      "---  ------  --------------  -----         \n",
      " 0   연월일     20 non-null     datetime64[ns]\n",
      " 1   당일종가    20 non-null     int64         \n",
      " 2   전일종가    20 non-null     int64         \n",
      " 3   시가      20 non-null     int64         \n",
      " 4   고가      20 non-null     int64         \n",
      " 5   저가      20 non-null     int64         \n",
      " 6   거래량     20 non-null     int64         \n",
      "dtypes: datetime64[ns](1), int64(6)\n",
      "memory usage: 1.2 KB\n",
      "         연월일   당일종가  전일종가     시가     고가     저가     거래량\n",
      "0 2018-07-02  10100   600  10850  10900  10000  137977\n",
      "1 2018-06-29  10700   300  10550  10900   9990  170253\n",
      "2 2018-06-28  10400   500  10900  10950  10150  155769\n",
      "3 2018-06-27  10900   100  10800  11050  10500  133548\n",
      "4 2018-06-26  10800   350  10900  11000  10700   63039\n"
     ]
    }
   ],
   "source": [
    "#엑셀 데이터, 주가 데이터 불러오기\n",
    "df = pd.read_excel('./data/주가데이터.xlsx')\n",
    "# df.info()\n",
    "print(df.head())"
   ]
  },
  {
   "cell_type": "code",
   "execution_count": 49,
   "id": "6bf7b13b",
   "metadata": {},
   "outputs": [
    {
     "name": "stdout",
     "output_type": "stream",
     "text": [
      "          연월일   당일종가  전일종가     시가     고가     저가     거래량     연   월   일\n",
      "0  2018-07-02  10100   600  10850  10900  10000  137977  2018  07  02\n",
      "1  2018-06-29  10700   300  10550  10900   9990  170253  2018  06  29\n",
      "2  2018-06-28  10400   500  10900  10950  10150  155769  2018  06  28\n",
      "3  2018-06-27  10900   100  10800  11050  10500  133548  2018  06  27\n",
      "4  2018-06-26  10800   350  10900  11000  10700   63039  2018  06  26\n"
     ]
    }
   ],
   "source": [
    "# dates = df['연월일'].str.split(' ') # 문자열이 아니라 에러\n",
    "#날짜 컬럼을 문자열로 변환\n",
    "df['연월일'] = df['연월일'].astype('str')\n",
    "\n",
    "# -기준으로 분할\n",
    "dates = df['연월일'].str.split('-')\n",
    "# print(dates.head())\n",
    "df['연'] = dates.str.get(0)\n",
    "df['월'] = dates.str.get(1)\n",
    "df['일'] = dates.str.get(2)\n",
    "print(df.head())"
   ]
  },
  {
   "cell_type": "markdown",
   "id": "06d55705",
   "metadata": {},
   "source": [
    "## 필터링\n",
    "\n",
    "조건 = ? <br>\n",
    "결과 = titanic.loc[조건, :] <br>\n",
    "print(결과.head()) <br>\n",
    "print(결과['age'].unique()) <br>"
   ]
  },
  {
   "cell_type": "code",
   "execution_count": 50,
   "id": "af8e5bed",
   "metadata": {},
   "outputs": [
    {
     "name": "stdout",
     "output_type": "stream",
     "text": [
      "    survived  pclass     sex   age  sibsp  parch      fare embarked   class  \\\n",
      "9          1       2  female  14.0      1      0   30.0708        C  Second   \n",
      "14         0       3  female  14.0      0      0    7.8542        S   Third   \n",
      "22         1       3  female  15.0      0      0    8.0292        Q   Third   \n",
      "27         0       1    male  19.0      3      2  263.0000        S   First   \n",
      "38         0       3  female  18.0      2      0   18.0000        S   Third   \n",
      "\n",
      "      who  adult_male deck  embark_town alive  alone  \n",
      "9   child       False  NaN    Cherbourg   yes  False  \n",
      "14  child       False  NaN  Southampton    no   True  \n",
      "22  child       False  NaN   Queenstown   yes   True  \n",
      "27    man        True    C  Southampton    no  False  \n",
      "38  woman       False  NaN  Southampton    no  False  \n",
      "[14.  15.  19.  18.  11.  17.  16.  14.5 12.  10.  13. ]\n"
     ]
    }
   ],
   "source": [
    "titanic = sns.load_dataset('titanic')\n",
    "\n",
    "#age가 10 ~19인 데이터만 추출\n",
    "조건 = (titanic['age']>= 10) & (titanic['age']<= 19)\n",
    "결과 = titanic.loc[조건, :]\n",
    "print(결과.head())\n",
    "print(결과['age'].unique())"
   ]
  },
  {
   "cell_type": "code",
   "execution_count": 53,
   "id": "679d1575",
   "metadata": {},
   "outputs": [
    {
     "name": "stdout",
     "output_type": "stream",
     "text": [
      "     age     sex  alone\n",
      "10   4.0  female  False\n",
      "24   8.0  female  False\n",
      "43   3.0  female  False\n",
      "58   5.0  female  False\n",
      "119  2.0  female  False\n"
     ]
    }
   ],
   "source": [
    "# age가 10세 미만이고 sex 가 female인 데이터 중에서 age, sex,alone 컬럼만 추출\n",
    "con = (titanic['age']<10) & (titanic['sex'] == 'female')\n",
    "res = titanic.loc[con, ['age','sex','alone']]\n",
    "print(res.head())"
   ]
  },
  {
   "cell_type": "code",
   "execution_count": 56,
   "id": "9976ea30",
   "metadata": {},
   "outputs": [
    {
     "name": "stdout",
     "output_type": "stream",
     "text": [
      "    survived  pclass     sex   age  sibsp  parch      fare embarked  class  \\\n",
      "7          0       3    male   2.0      3      1   21.0750        S  Third   \n",
      "16         0       3    male   2.0      4      1   29.1250        Q  Third   \n",
      "24         0       3  female   8.0      3      1   21.0750        S  Third   \n",
      "27         0       1    male  19.0      3      2  263.0000        S  First   \n",
      "50         0       3    male   7.0      4      1   39.6875        S  Third   \n",
      "\n",
      "      who  adult_male deck  embark_town alive  alone  \n",
      "7   child       False  NaN  Southampton    no  False  \n",
      "16  child       False  NaN   Queenstown    no  False  \n",
      "24  child       False  NaN  Southampton    no  False  \n",
      "27    man        True    C  Southampton    no  False  \n",
      "50  child       False  NaN  Southampton    no  False  \n"
     ]
    }
   ],
   "source": [
    "#sibsp 가 3, 4, 5 인 데이터 추출\n",
    "con1 = (titanic['sibsp'].isin([3, 4, 5]))\n",
    "res1 = titanic.loc[con1, :]\n",
    "# print(res1['sibsp'].unique())\n",
    "print(res1.head())"
   ]
  },
  {
   "cell_type": "markdown",
   "id": "2b66f8d0",
   "metadata": {},
   "source": [
    "## 데이터 결합\n",
    "### concat"
   ]
  },
  {
   "cell_type": "code",
   "execution_count": 62,
   "id": "77d03ef1",
   "metadata": {},
   "outputs": [
    {
     "name": "stdout",
     "output_type": "stream",
     "text": [
      "    a   b   c\n",
      "0  a0  b0  c0\n",
      "1  a1  b1  c1\n",
      "2  a2  b2  c2\n",
      "3  a3  b3  c3\n",
      "    a   b   d\n",
      "2  a4  b4  d4\n",
      "3  a5  b5  d5\n",
      "4  a6  b6  d6\n",
      "5  a7  b7  d7\n"
     ]
    }
   ],
   "source": [
    "# df 준비\n",
    "df1 = pd.DataFrame({'a':['a0','a1','a2','a3'],\n",
    "                   'b':['b0','b1','b2','b3'],\n",
    "                   'c':['c0','c1','c2','c3']},\n",
    "                  index = [0, 1, 2, 3])\n",
    "df2 = pd.DataFrame({'a':['a4','a5','a6','a7'],\n",
    "                   'b':['b4','b5','b6','b7'],\n",
    "                   'd':['d4','d5','d6','d7']},\n",
    "                  index = [2, 3, 4, 5])\n",
    "print(df1)\n",
    "print(df2)"
   ]
  },
  {
   "cell_type": "code",
   "execution_count": 60,
   "id": "ed60635b",
   "metadata": {},
   "outputs": [
    {
     "name": "stdout",
     "output_type": "stream",
     "text": [
      "    a   b    c    d\n",
      "0  a0  b0   c0  NaN\n",
      "1  a1  b1   c1  NaN\n",
      "2  a2  b2   c2  NaN\n",
      "3  a3  b3   c3  NaN\n",
      "2  a4  b4  NaN   d4\n",
      "3  a5  b5  NaN   d5\n",
      "4  a6  b6  NaN   d6\n",
      "5  a7  b7  NaN   d7\n"
     ]
    }
   ],
   "source": [
    "#concat에 옵션이 없는 경우 : set 연산처럼 세로 방향으로 합쳐집니다.\n",
    "# 컬럼의 이름이 같은 경우는 바로 합쳐지지만, 다른 경우는 반대편에 NaN을 갖는 컬럼을 생성해서 합칩니다.\n",
    "print(pd.concat([df1, df2]))"
   ]
  },
  {
   "cell_type": "code",
   "execution_count": 61,
   "id": "fcb87385",
   "metadata": {},
   "outputs": [
    {
     "name": "stdout",
     "output_type": "stream",
     "text": [
      "     a    b    c    a    b    d\n",
      "0   a0   b0   c0  NaN  NaN  NaN\n",
      "1   a1   b1   c1  NaN  NaN  NaN\n",
      "2   a2   b2   c2   a4   b4   d4\n",
      "3   a3   b3   c3   a5   b5   d5\n",
      "4  NaN  NaN  NaN   a6   b6   d6\n",
      "5  NaN  NaN  NaN   a7   b7   d7\n"
     ]
    }
   ],
   "source": [
    "#좌우로 합치기 - axis = 1\n",
    "#다른 옵션이 없으면 index를 기준으로 합쳐집니다.\n",
    "#기본적으로 outer join 처럼 수행됩니다.\n",
    "print(pd.concat([df1, df2], axis = 1))"
   ]
  },
  {
   "cell_type": "code",
   "execution_count": 63,
   "id": "55ef71ed",
   "metadata": {},
   "outputs": [
    {
     "name": "stdout",
     "output_type": "stream",
     "text": [
      "    a   b   c   a   b   d\n",
      "2  a2  b2  c2  a4  b4  d4\n",
      "3  a3  b3  c3  a5  b5  d5\n"
     ]
    }
   ],
   "source": [
    "#inner join\n",
    "print(pd.concat([df1, df2], axis = 1, join='inner')) #공통으로 들어있는 것들만"
   ]
  },
  {
   "cell_type": "markdown",
   "id": "d7af9011",
   "metadata": {},
   "source": [
    "### append"
   ]
  },
  {
   "cell_type": "code",
   "execution_count": 71,
   "id": "baadd858",
   "metadata": {},
   "outputs": [
    {
     "name": "stdout",
     "output_type": "stream",
     "text": [
      "    a   b    c    d\n",
      "0  a0  b0   c0  NaN\n",
      "1  a1  b1   c1  NaN\n",
      "2  a2  b2   c2  NaN\n",
      "3  a3  b3   c3  NaN\n",
      "2  a4  b4  NaN   d4\n",
      "3  a5  b5  NaN   d5\n",
      "4  a6  b6  NaN   d6\n",
      "5  a7  b7  NaN   d7\n"
     ]
    }
   ],
   "source": [
    "# 최신버전에는 없어짐\n",
    "print(df1._append(df2))"
   ]
  },
  {
   "cell_type": "markdown",
   "id": "90e2a308",
   "metadata": {},
   "source": [
    "### combine_first"
   ]
  },
  {
   "cell_type": "code",
   "execution_count": 72,
   "id": "6a3bdc63",
   "metadata": {},
   "outputs": [
    {
     "name": "stdout",
     "output_type": "stream",
     "text": [
      "    a   b    c    d\n",
      "0  a0  b0   c0  NaN\n",
      "1  a1  b1   c1  NaN\n",
      "2  a2  b2   c2   d4\n",
      "3  a3  b3   c3   d5\n",
      "4  a6  b6  NaN   d6\n",
      "5  a7  b7  NaN   d7\n"
     ]
    }
   ],
   "source": [
    "print(df1.combine_first(df2))"
   ]
  },
  {
   "cell_type": "code",
   "execution_count": null,
   "id": "7a6c8732",
   "metadata": {},
   "outputs": [],
   "source": [
    "print(df1.combine_first(df2))"
   ]
  },
  {
   "cell_type": "code",
   "execution_count": null,
   "id": "866321e0",
   "metadata": {},
   "outputs": [],
   "source": []
  },
  {
   "cell_type": "code",
   "execution_count": 73,
   "id": "ade5b764",
   "metadata": {
    "scrolled": false
   },
   "outputs": [
    {
     "name": "stdout",
     "output_type": "stream",
     "text": [
      "       id stock_name          value   price\n",
      "0  128940       한미약품   59385.666667  421000\n",
      "1  130960     CJ E&M   58540.666667   98900\n",
      "2  138250      엔에스쇼핑   14558.666667   13200\n",
      "3  139480        이마트  239230.833333  254500\n",
      "4  142280     녹십자엠에스     468.833333   10200\n",
      "       id     name           eps     bps        per       pbr\n",
      "0  130960   CJ E&M   6301.333333   54068  15.695091  1.829178\n",
      "1  136480       하림    274.166667    3551  11.489362  0.887074\n",
      "2  138040  메리츠금융지주   2122.333333   14894   6.313806  0.899691\n",
      "3  139480      이마트  18268.166667  295780  13.931338  0.860437\n",
      "4  145990      삼양사   5741.000000  108090  14.283226  0.758627\n"
     ]
    }
   ],
   "source": [
    "price = pd.read_excel('./data/stock price.xlsx')\n",
    "valuation = pd.read_excel('./data/stock valuation.xlsx')\n",
    "print(price.head())\n",
    "print(valuation.head())"
   ]
  },
  {
   "cell_type": "code",
   "execution_count": 74,
   "id": "2356afac",
   "metadata": {},
   "outputs": [
    {
     "name": "stdout",
     "output_type": "stream",
     "text": [
      "       id stock_name          value   price    name           eps     bps  \\\n",
      "0  130960     CJ E&M   58540.666667   98900  CJ E&M   6301.333333   54068   \n",
      "1  139480        이마트  239230.833333  254500     이마트  18268.166667  295780   \n",
      "2  145990        삼양사   82750.000000   82000     삼양사   5741.000000  108090   \n",
      "3  185750        종근당   40293.666667  100500     종근당   3990.333333   40684   \n",
      "4  204210     모두투어리츠    3093.333333    3475  모두투어리츠     85.166667    5335   \n",
      "\n",
      "         per       pbr  \n",
      "0  15.695091  1.829178  \n",
      "1  13.931338  0.860437  \n",
      "2  14.283226  0.758627  \n",
      "3  25.185866  2.470259  \n",
      "4  40.802348  0.651359  \n"
     ]
    }
   ],
   "source": [
    "# 아무런 옵션이 없음 동일한 이름의 컬럼을 가지고  join \n",
    "# inner join을 수행\n",
    "print(pd.merge(price, valuation))"
   ]
  },
  {
   "cell_type": "code",
   "execution_count": 75,
   "id": "b26b50b2",
   "metadata": {},
   "outputs": [
    {
     "name": "stdout",
     "output_type": "stream",
     "text": [
      "        id stock_name          value     price       name           eps  \\\n",
      "0   128940       한미약품   59385.666667  421000.0        NaN           NaN   \n",
      "1   130960     CJ E&M   58540.666667   98900.0     CJ E&M   6301.333333   \n",
      "2   138250      엔에스쇼핑   14558.666667   13200.0        NaN           NaN   \n",
      "3   139480        이마트  239230.833333  254500.0        이마트  18268.166667   \n",
      "4   142280     녹십자엠에스     468.833333   10200.0        NaN           NaN   \n",
      "5   145990        삼양사   82750.000000   82000.0        삼양사   5741.000000   \n",
      "6   185750        종근당   40293.666667  100500.0        종근당   3990.333333   \n",
      "7   192400      쿠쿠홀딩스  179204.666667  177500.0        NaN           NaN   \n",
      "8   199800         툴젠   -2514.333333  115400.0        NaN           NaN   \n",
      "9   204210     모두투어리츠    3093.333333    3475.0     모두투어리츠     85.166667   \n",
      "10  136480        NaN            NaN       NaN         하림    274.166667   \n",
      "11  138040        NaN            NaN       NaN    메리츠금융지주   2122.333333   \n",
      "12  161390        NaN            NaN       NaN      한국타이어   5648.500000   \n",
      "13  181710        NaN            NaN       NaN  NHN엔터테인먼트   2110.166667   \n",
      "14  207940        NaN            NaN       NaN   삼성바이오로직스   4644.166667   \n",
      "\n",
      "         bps        per       pbr  \n",
      "0        NaN        NaN       NaN  \n",
      "1    54068.0  15.695091  1.829178  \n",
      "2        NaN        NaN       NaN  \n",
      "3   295780.0  13.931338  0.860437  \n",
      "4        NaN        NaN       NaN  \n",
      "5   108090.0  14.283226  0.758627  \n",
      "6    40684.0  25.185866  2.470259  \n",
      "7        NaN        NaN       NaN  \n",
      "8        NaN        NaN       NaN  \n",
      "9     5335.0  40.802348  0.651359  \n",
      "10    3551.0  11.489362  0.887074  \n",
      "11   14894.0   6.313806  0.899691  \n",
      "12   51341.0   7.453306  0.820007  \n",
      "13   78434.0  30.755864  0.827447  \n",
      "14   60099.0  89.790059  6.938551  \n"
     ]
    }
   ],
   "source": [
    "#full outer join\n",
    "print(pd.merge(price, valuation, how = 'outer', on = 'id'))"
   ]
  },
  {
   "cell_type": "code",
   "execution_count": null,
   "id": "6f1b6d32",
   "metadata": {},
   "outputs": [],
   "source": [
    "#join하는 컬럼의 이름이 다를 때\n",
    "print(pd.merge(price, valuation, how='right', left_on='stock_name', right_on ='name'))"
   ]
  },
  {
   "cell_type": "markdown",
   "id": "48b15965",
   "metadata": {},
   "source": [
    "## JOIN"
   ]
  },
  {
   "cell_type": "code",
   "execution_count": 78,
   "id": "bcce18a9",
   "metadata": {},
   "outputs": [
    {
     "name": "stdout",
     "output_type": "stream",
     "text": [
      "       stock_name          value   price    name           eps       bps  \\\n",
      "id                                                                         \n",
      "128940       한미약품   59385.666667  421000     NaN           NaN       NaN   \n",
      "130960     CJ E&M   58540.666667   98900  CJ E&M   6301.333333   54068.0   \n",
      "138250      엔에스쇼핑   14558.666667   13200     NaN           NaN       NaN   \n",
      "139480        이마트  239230.833333  254500     이마트  18268.166667  295780.0   \n",
      "142280     녹십자엠에스     468.833333   10200     NaN           NaN       NaN   \n",
      "145990        삼양사   82750.000000   82000     삼양사   5741.000000  108090.0   \n",
      "185750        종근당   40293.666667  100500     종근당   3990.333333   40684.0   \n",
      "192400      쿠쿠홀딩스  179204.666667  177500     NaN           NaN       NaN   \n",
      "199800         툴젠   -2514.333333  115400     NaN           NaN       NaN   \n",
      "204210     모두투어리츠    3093.333333    3475  모두투어리츠     85.166667    5335.0   \n",
      "\n",
      "              per       pbr  \n",
      "id                           \n",
      "128940        NaN       NaN  \n",
      "130960  15.695091  1.829178  \n",
      "138250        NaN       NaN  \n",
      "139480  13.931338  0.860437  \n",
      "142280        NaN       NaN  \n",
      "145990  14.283226  0.758627  \n",
      "185750  25.185866  2.470259  \n",
      "192400        NaN       NaN  \n",
      "199800        NaN       NaN  \n",
      "204210  40.802348  0.651359  \n"
     ]
    }
   ],
   "source": [
    "#join은 기본적으로 인덱스를 가지고 join 을 수행\n",
    "price.index = price['id']\n",
    "valuation.index = valuation['id']\n",
    "\n",
    "#동일한 컬럼 이름 제거\n",
    "price .drop(['id'], axis = 1, inplace = True)\n",
    "valuation.drop(['id'], axis=1, inplace = True)\n",
    "print(price.join(valuation) )"
   ]
  },
  {
   "cell_type": "markdown",
   "id": "30ef9aa2",
   "metadata": {},
   "source": [
    "## 그룹 연산"
   ]
  },
  {
   "cell_type": "markdown",
   "id": "603813b8",
   "metadata": {},
   "source": [
    "### group by"
   ]
  },
  {
   "cell_type": "code",
   "execution_count": 80,
   "id": "3f6c4aa5",
   "metadata": {},
   "outputs": [
    {
     "name": "stdout",
     "output_type": "stream",
     "text": [
      "    age     sex  class     fare  survived\n",
      "0  22.0    male  Third   7.2500         0\n",
      "1  38.0  female  First  71.2833         1\n",
      "2  26.0  female  Third   7.9250         1\n",
      "3  35.0  female  First  53.1000         1\n",
      "4  35.0    male  Third   8.0500         0\n"
     ]
    }
   ],
   "source": [
    "titanic = sns.load_dataset('titanic')\n",
    "#print(titanic.info())\n",
    "\n",
    "df = titanic[['age','sex','class','fare','survived']]\n",
    "print(df.head())"
   ]
  },
  {
   "cell_type": "code",
   "execution_count": 83,
   "id": "ae780b81",
   "metadata": {},
   "outputs": [
    {
     "name": "stdout",
     "output_type": "stream",
     "text": [
      "('First',) 216\n",
      "('Second',) 184\n",
      "('Third',) 491\n"
     ]
    }
   ],
   "source": [
    "#그룹화\n",
    "grouped = df.groupby(['class'])\n",
    "#그룹화 한 후 각 그룹의 데이터 개수 출력\n",
    "for key, group in grouped :\n",
    "    print(key, len(group))"
   ]
  },
  {
   "cell_type": "code",
   "execution_count": 85,
   "id": "c092fc9f",
   "metadata": {},
   "outputs": [
    {
     "name": "stdout",
     "output_type": "stream",
     "text": [
      "    age     sex  class     fare  survived\n",
      "0  22.0    male  Third   7.2500         0\n",
      "2  26.0  female  Third   7.9250         1\n",
      "4  35.0    male  Third   8.0500         0\n",
      "5   NaN    male  Third   8.4583         0\n",
      "7   2.0    male  Third  21.0750         0\n"
     ]
    }
   ],
   "source": [
    "#특정 그룹의 데이터를 선택\n",
    "group3 = grouped.get_group('Third')\n",
    "print(group3.head())"
   ]
  },
  {
   "cell_type": "code",
   "execution_count": 89,
   "id": "e0da5fb5",
   "metadata": {},
   "outputs": [
    {
     "name": "stdout",
     "output_type": "stream",
     "text": [
      "('First', 'female')\n",
      "('First', 'male')\n",
      "('Second', 'female')\n",
      "('Second', 'male')\n",
      "('Third', 'female')\n",
      "('Third', 'male')\n"
     ]
    }
   ],
   "source": [
    "#두개의 열로 그룹화 -key가 2개의 항목의 튜플로 만들어집니다.\n",
    "grouped = df.groupby(['class', 'sex'])\n",
    "for key, group in grouped :\n",
    "    print(key)"
   ]
  },
  {
   "cell_type": "code",
   "execution_count": 91,
   "id": "10bf834c",
   "metadata": {},
   "outputs": [
    {
     "name": "stdout",
     "output_type": "stream",
     "text": [
      "     age   sex  class     fare  survived\n",
      "0   22.0  male  Third   7.2500         0\n",
      "4   35.0  male  Third   8.0500         0\n",
      "5    NaN  male  Third   8.4583         0\n",
      "7    2.0  male  Third  21.0750         0\n",
      "12  20.0  male  Third   8.0500         0\n"
     ]
    }
   ],
   "source": [
    "#한개의 데이터를 가져올 때\n",
    "group3m = grouped.get_group(('Third', 'male'))\n",
    "print(group3m.head())"
   ]
  },
  {
   "cell_type": "markdown",
   "id": "04cebdb6",
   "metadata": {},
   "source": [
    "## 집계연산"
   ]
  },
  {
   "cell_type": "code",
   "execution_count": 92,
   "id": "76df529a",
   "metadata": {},
   "outputs": [
    {
     "name": "stdout",
     "output_type": "stream",
     "text": [
      "              age\n",
      "class            \n",
      "First   14.802856\n",
      "Second  14.001077\n",
      "Third   12.495398\n"
     ]
    }
   ],
   "source": [
    "#제공되는 집계 함수를 호출\n",
    "df = titanic[['class', 'age']]\n",
    "#class 별로 그룹화 해서 age의 표준편차 확인\n",
    "grouped = df.groupby(['class'])\n",
    "std_all = grouped.std()\n",
    "print(std_all)"
   ]
  },
  {
   "cell_type": "code",
   "execution_count": 93,
   "id": "82144fe7",
   "metadata": {},
   "outputs": [
    {
     "name": "stdout",
     "output_type": "stream",
     "text": [
      "          age\n",
      "class        \n",
      "First   79.08\n",
      "Second  69.33\n",
      "Third   73.58\n"
     ]
    }
   ],
   "source": [
    "#데이터 모임을 가지고 하나의 값을 리턴하는 함수\n",
    "def min_max(x) :\n",
    "     return x.max() - x.min()\n",
    "    \n",
    "# 사용자 정의 함수를 이용한 집계    \n",
    "result = grouped.agg(min_max)\n",
    "print(result)"
   ]
  },
  {
   "cell_type": "code",
   "execution_count": 97,
   "id": "e63d6a0b",
   "metadata": {},
   "outputs": [
    {
     "name": "stdout",
     "output_type": "stream",
     "text": [
      "          age\n",
      "886 -0.205529\n",
      "887 -1.299306\n",
      "888       NaN\n",
      "889 -0.826424\n",
      "890  0.548953\n"
     ]
    }
   ],
   "source": [
    "#age열의 값을 z-score로 변환\n",
    "# z-score : (값-평균)/ 표준편차\n",
    "\n",
    "#점수가 어느 정도에 위치하는지 알고자 할 때 이용\n",
    "\n",
    "#z_score 구해주는 함수\n",
    "def z_score(x) :\n",
    "    return (x - x.mean())/ x.std()\n",
    "\n",
    "age_zscore = grouped.transform(z_score)\n",
    "print(age_zscore.tail()) # NaN은 결측치가 포함된 경우"
   ]
  },
  {
   "cell_type": "markdown",
   "id": "4bb05bbc",
   "metadata": {},
   "source": [
    "## 멀티 인덱스"
   ]
  },
  {
   "cell_type": "code",
   "execution_count": 109,
   "id": "d23b566c",
   "metadata": {},
   "outputs": [
    {
     "name": "stdout",
     "output_type": "stream",
     "text": [
      "                     age\n",
      "class  sex              \n",
      "First  female  34.611765\n",
      "       male    41.281386\n",
      "Second female  28.722973\n",
      "       male    30.740707\n",
      "Third  female  21.750000\n",
      "       male    26.507589\n",
      "              age\n",
      "sex              \n",
      "female  34.611765\n",
      "male    41.281386\n",
      "              age\n",
      "class            \n",
      "First   41.281386\n",
      "Second  30.740707\n",
      "Third   26.507589\n",
      "age    34.611765\n",
      "Name: (First, female), dtype: float64\n"
     ]
    }
   ],
   "source": [
    "df = titanic[['class','sex','age']]\n",
    "#2개의 컬럼을 이용해서 그룹화\n",
    "grouped = df.groupby(['class','sex'])\n",
    "\n",
    "'''\n",
    "for key in grouped :\n",
    "    print(key)\n",
    "'''\n",
    "  \n",
    "#age의 평균 구하기\n",
    "gdf = grouped.mean()\n",
    "print(gdf)\n",
    "\n",
    "#특정 class 출력\n",
    "print(gdf.loc['First'])\n",
    "\n",
    "#특정 sex 출력\n",
    "print(gdf.xs('male',level = 'sex'))\n",
    "\n",
    "#특정 행 출력\n",
    "print(gdf.loc[('First', 'female')])"
   ]
  },
  {
   "cell_type": "code",
   "execution_count": 103,
   "id": "55862b86",
   "metadata": {},
   "outputs": [
    {
     "name": "stdout",
     "output_type": "stream",
     "text": [
      "               age\n",
      "class  sex        \n",
      "First  female   85\n",
      "       male    101\n",
      "Second female   74\n",
      "       male     99\n",
      "Third  female  102\n",
      "       male    253\n",
      "class   sex   \n",
      "First   female     94\n",
      "        male      122\n",
      "Second  female     76\n",
      "        male      108\n",
      "Third   female    144\n",
      "        male      347\n",
      "dtype: int64\n"
     ]
    }
   ],
   "source": [
    "#age의 평균 구하기\n",
    "gdf1 = grouped.count()\n",
    "gdf2 = grouped.size()\n",
    "\n",
    "print(gdf1)\n",
    "print(gdf2)"
   ]
  },
  {
   "cell_type": "markdown",
   "id": "9d1b9f53",
   "metadata": {},
   "source": [
    "## pivot_table"
   ]
  },
  {
   "cell_type": "code",
   "execution_count": 110,
   "id": "3d449edb",
   "metadata": {},
   "outputs": [
    {
     "name": "stdout",
     "output_type": "stream",
     "text": [
      "sex     female     male\n",
      "class                  \n",
      "First   2942.0  4169.42\n",
      "Second  2125.5  3043.33\n",
      "Third   2218.5  6706.42\n"
     ]
    }
   ],
   "source": [
    "df = titanic[['class','sex','age']]\n",
    "result = pd.pivot_table(df, index ='class', columns = 'sex',\n",
    "                        values = 'age', aggfunc ='sum') # 클래스 별로, sex의 age값들을 합해 라는 뜻\n",
    "print(result)"
   ]
  },
  {
   "cell_type": "markdown",
   "id": "beb42c54",
   "metadata": {},
   "source": [
    "# stack"
   ]
  },
  {
   "cell_type": "code",
   "execution_count": 114,
   "id": "2e585b77",
   "metadata": {},
   "outputs": [
    {
     "name": "stdout",
     "output_type": "stream",
     "text": [
      "             prd_1  prd_2  prd_3  prd_4\n",
      "cust_1 2015      0      1      2      3\n",
      "       2016      4      5      6      7\n",
      "cust_2 2015      8      9     10     11\n",
      "       2016     12     13     14     15\n"
     ]
    }
   ],
   "source": [
    "#stacked : 행을 열로 변경하는 작업- 넓게 펼처진 데이터를 깊게 만드느 작업\n",
    "mul_index = pd.MultiIndex.from_tuples([('cust_1', '2015'),('cust_1', '2016'),\n",
    "                                      ('cust_2', '2015'),('cust_2', '2016')])\n",
    "data = pd.DataFrame(data =np.arange(16).reshape(4, 4), index = mul_index,\n",
    "                   columns = ['prd_1','prd_2','prd_3','prd_4'], dtype = 'int')\n",
    "print(data)"
   ]
  },
  {
   "cell_type": "code",
   "execution_count": 115,
   "id": "8161645a",
   "metadata": {},
   "outputs": [
    {
     "name": "stdout",
     "output_type": "stream",
     "text": [
      "cust_1  2015  prd_1     0\n",
      "              prd_2     1\n",
      "              prd_3     2\n",
      "              prd_4     3\n",
      "        2016  prd_1     4\n",
      "              prd_2     5\n",
      "              prd_3     6\n",
      "              prd_4     7\n",
      "cust_2  2015  prd_1     8\n",
      "              prd_2     9\n",
      "              prd_3    10\n",
      "              prd_4    11\n",
      "        2016  prd_1    12\n",
      "              prd_2    13\n",
      "              prd_3    14\n",
      "              prd_4    15\n",
      "dtype: int32\n"
     ]
    }
   ],
   "source": [
    "stacked = data.stack()\n",
    "print(stacked)"
   ]
  },
  {
   "cell_type": "markdown",
   "id": "0c54e739",
   "metadata": {},
   "source": [
    "## unstacked"
   ]
  },
  {
   "cell_type": "code",
   "execution_count": 119,
   "id": "9149701f",
   "metadata": {},
   "outputs": [
    {
     "name": "stdout",
     "output_type": "stream",
     "text": [
      "            cust_1  cust_2\n",
      "2015 prd_1       0       8\n",
      "     prd_2       1       9\n",
      "     prd_3       2      10\n",
      "     prd_4       3      11\n",
      "2016 prd_1       4      12\n",
      "     prd_2       5      13\n",
      "     prd_3       6      14\n",
      "     prd_4       7      15\n",
      "     cust_1                   cust_2                  \n",
      "      prd_1 prd_2 prd_3 prd_4  prd_1 prd_2 prd_3 prd_4\n",
      "2015      0     1     2     3      8     9    10    11\n",
      "2016      4     5     6     7     12    13    14    15\n"
     ]
    }
   ],
   "source": [
    "#첫 레벨의 인덱스가 컬럼이 됩니다.\n",
    "unstacked = stacked.unstack(level = 0)\n",
    "print(unstacked)\n",
    "\n",
    "#다단으로 구성된 인덱스의 경우는 여러번 unstack이 가능!\n",
    "print(unstacked.unstack())"
   ]
  },
  {
   "cell_type": "markdown",
   "id": "6b533b25",
   "metadata": {},
   "source": [
    "## 단위 환산"
   ]
  },
  {
   "cell_type": "code",
   "execution_count": 122,
   "id": "d9691123",
   "metadata": {},
   "outputs": [
    {
     "name": "stdout",
     "output_type": "stream",
     "text": [
      "    mpg  cylinders  displacement horsepower  weight  acceleration  model year  \\\n",
      "0  18.0          8         307.0      130.0  3504.0          12.0          70   \n",
      "1  15.0          8         350.0      165.0  3693.0          11.5          70   \n",
      "2  18.0          8         318.0      150.0  3436.0          11.0          70   \n",
      "3  16.0          8         304.0      150.0  3433.0          12.0          70   \n",
      "4  17.0          8         302.0      140.0  3449.0          10.5          70   \n",
      "\n",
      "   origin                       name  \n",
      "0       1  chevrolet chevelle malibu  \n",
      "1       1          buick skylark 320  \n",
      "2       1         plymouth satellite  \n",
      "3       1              amc rebel sst  \n",
      "4       1                ford torino  \n"
     ]
    }
   ],
   "source": [
    "#mpg 데이터는 자동차에 대한 정보를 가지는 데이터입니다.\n",
    "#mpg 열이 연비인데 미국에서는 갤런당 마일을 사용하는데 우리나라는 리터당 킬로미터를 사용함\n",
    "#이런 경우는 단위 변환을 해주는 것이 데이터를 읽는데 편리합니다.\n",
    "#1마일은 1.60934km 이고 1갤런은 3.78541리터\n",
    "\n",
    "#데이터 불러오기\n",
    "mpg = pd.read_csv('./data/auto-mpg.csv', header= None)\n",
    "mpg.columns=['mpg','cylinders','displacement','horsepower','weight','acceleration',\n",
    "             'model year','origin','name']\n",
    "print(mpg.head())"
   ]
  },
  {
   "cell_type": "code",
   "execution_count": 123,
   "id": "5f448a71",
   "metadata": {},
   "outputs": [
    {
     "name": "stdout",
     "output_type": "stream",
     "text": [
      "    mpg  cylinders  displacement horsepower  weight  acceleration  model year  \\\n",
      "0  18.0          8         307.0      130.0  3504.0          12.0          70   \n",
      "1  15.0          8         350.0      165.0  3693.0          11.5          70   \n",
      "2  18.0          8         318.0      150.0  3436.0          11.0          70   \n",
      "3  16.0          8         304.0      150.0  3433.0          12.0          70   \n",
      "4  17.0          8         302.0      140.0  3449.0          10.5          70   \n",
      "\n",
      "   origin                       name       kpl  \n",
      "0       1  chevrolet chevelle malibu  7.652571  \n",
      "1       1          buick skylark 320  6.377143  \n",
      "2       1         plymouth satellite  7.652571  \n",
      "3       1              amc rebel sst  6.802286  \n",
      "4       1                ford torino  7.227428  \n"
     ]
    }
   ],
   "source": [
    "#갤런당 마일을 리터당 km로 변환할 수 있는 상수 구하기\n",
    "mpg_to_kpi = 1.60934 / 3.78541\n",
    "# 'kpl' 이라는 컬럼 생성 : 우리나라의 연비 의미\n",
    "mpg['kpl'] = mpg['mpg'] * mpg_to_kpi\n",
    "print(mpg.head())\n",
    "\n"
   ]
  },
  {
   "cell_type": "markdown",
   "id": "038bf423",
   "metadata": {},
   "source": [
    "### 자료형 변경"
   ]
  },
  {
   "cell_type": "code",
   "execution_count": 134,
   "id": "3099c1b1",
   "metadata": {},
   "outputs": [
    {
     "name": "stdout",
     "output_type": "stream",
     "text": [
      "mpg             float64\n",
      "cylinders         int64\n",
      "displacement    float64\n",
      "horsepower      float64\n",
      "weight          float64\n",
      "acceleration    float64\n",
      "model year        int64\n",
      "origin            int64\n",
      "name             object\n",
      "kpl             float64\n",
      "dtype: object\n"
     ]
    }
   ],
   "source": [
    "# print(mpg.dtypes)\n",
    "#horsepower은 마력을 나타내는 것이므로 숫자 자료형이어야 하는데 object임\n",
    "\n",
    "# ? 데이터가 존재해서 형 변환 실패 -.-\n",
    "# mpg['horsepower'] = mpg['horsepower'].astype('float')\n",
    "\n",
    "#데이터 확인\n",
    "#중복된 데이터를 제거하고 모든 데이터를 추출\n",
    "# print(mpg['horsepower'].unique())\n",
    "\n",
    "#?를 Nan으로 치환\n",
    "mpg['horsepower'].replace('?', np.nan, inplace = True)\n",
    "\n",
    "#NaN을 제거\n",
    "mpg.dropna(subset=['horsepower'],inplace = True)\n",
    "\n",
    "#실수 자료형으로 변경\n",
    "mpg['horsepower'] = mpg['horsepower'].astype('float')\n",
    "\n",
    "print(mpg.dtypes)"
   ]
  },
  {
   "cell_type": "code",
   "execution_count": null,
   "id": "6ac3543a",
   "metadata": {},
   "outputs": [],
   "source": []
  },
  {
   "cell_type": "code",
   "execution_count": null,
   "id": "cf325deb",
   "metadata": {},
   "outputs": [],
   "source": []
  },
  {
   "cell_type": "code",
   "execution_count": null,
   "id": "0c23ec4a",
   "metadata": {},
   "outputs": [],
   "source": []
  },
  {
   "cell_type": "code",
   "execution_count": null,
   "id": "b220ba97",
   "metadata": {},
   "outputs": [],
   "source": []
  },
  {
   "cell_type": "code",
   "execution_count": null,
   "id": "b238a008",
   "metadata": {},
   "outputs": [],
   "source": []
  },
  {
   "cell_type": "code",
   "execution_count": null,
   "id": "a8e2cc9b",
   "metadata": {},
   "outputs": [],
   "source": []
  },
  {
   "cell_type": "code",
   "execution_count": null,
   "id": "c8492eeb",
   "metadata": {},
   "outputs": [],
   "source": []
  },
  {
   "cell_type": "code",
   "execution_count": null,
   "id": "6d3e1e60",
   "metadata": {},
   "outputs": [],
   "source": []
  },
  {
   "cell_type": "code",
   "execution_count": null,
   "id": "9e98e14e",
   "metadata": {},
   "outputs": [],
   "source": []
  },
  {
   "cell_type": "code",
   "execution_count": null,
   "id": "326b724f",
   "metadata": {},
   "outputs": [],
   "source": []
  }
 ],
 "metadata": {
  "kernelspec": {
   "display_name": "Python 3 (ipykernel)",
   "language": "python",
   "name": "python3"
  },
  "language_info": {
   "codemirror_mode": {
    "name": "ipython",
    "version": 3
   },
   "file_extension": ".py",
   "mimetype": "text/x-python",
   "name": "python",
   "nbconvert_exporter": "python",
   "pygments_lexer": "ipython3",
   "version": "3.11.5"
  }
 },
 "nbformat": 4,
 "nbformat_minor": 5
}
